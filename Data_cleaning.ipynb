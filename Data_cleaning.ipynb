{
 "cells": [
  {
   "cell_type": "markdown",
   "metadata": {},
   "source": [
    "# Yacht Insurance Claims Data"
   ]
  },
  {
   "cell_type": "markdown",
   "metadata": {},
   "source": [
    "Modeling to eventually do- randomforest,\n",
    "<br>\n",
    "Oversample on only the training data to prevent data leakage/bleeding? https://beckernick.github.io/oversampling-modeling/"
   ]
  },
  {
   "cell_type": "markdown",
   "metadata": {},
   "source": [
    "**Problem Statement:** Using a regression model, our goal is to predict the probability that a yacht insurance policy holder is likley to have a loss within 5 years of signing up. Using this information we will aassign values to each characteristic of the boat and the customer themselves, in order to provide the ideal premium they should be charged."
   ]
  },
  {
   "cell_type": "markdown",
   "metadata": {},
   "source": [
    "**Audience:** President of Novamar Insurance Group "
   ]
  },
  {
   "cell_type": "code",
   "execution_count": 1,
   "metadata": {},
   "outputs": [],
   "source": [
    "import pandas as pd"
   ]
  },
  {
   "cell_type": "code",
   "execution_count": 2,
   "metadata": {},
   "outputs": [],
   "source": [
    "claims = pd.read_excel('Claims_report.xlsx')"
   ]
  },
  {
   "cell_type": "code",
   "execution_count": 3,
   "metadata": {},
   "outputs": [
    {
     "data": {
      "text/html": [
       "<div>\n",
       "<style scoped>\n",
       "    .dataframe tbody tr th:only-of-type {\n",
       "        vertical-align: middle;\n",
       "    }\n",
       "\n",
       "    .dataframe tbody tr th {\n",
       "        vertical-align: top;\n",
       "    }\n",
       "\n",
       "    .dataframe thead th {\n",
       "        text-align: right;\n",
       "    }\n",
       "</style>\n",
       "<table border=\"1\" class=\"dataframe\">\n",
       "  <thead>\n",
       "    <tr style=\"text-align: right;\">\n",
       "      <th></th>\n",
       "      <th>Claim No.</th>\n",
       "      <th>Status</th>\n",
       "      <th>Insured name</th>\n",
       "      <th>Policy No.</th>\n",
       "      <th>Policy Eff-Date</th>\n",
       "      <th>Date of Ocurrence</th>\n",
       "      <th>Year</th>\n",
       "      <th>Length</th>\n",
       "      <th>Hull Value</th>\n",
       "      <th>Horsepower</th>\n",
       "      <th>...</th>\n",
       "      <th>Mooring State</th>\n",
       "      <th>Mooring County</th>\n",
       "      <th>Construction</th>\n",
       "      <th>Navigation Limits</th>\n",
       "      <th>Loss</th>\n",
       "      <th>Expense</th>\n",
       "      <th>Loss.1</th>\n",
       "      <th>Expense.1</th>\n",
       "      <th>To Date</th>\n",
       "      <th>Total Incurred</th>\n",
       "    </tr>\n",
       "  </thead>\n",
       "  <tbody>\n",
       "    <tr>\n",
       "      <th>0</th>\n",
       "      <td>1.54715.MA.107</td>\n",
       "      <td>Open</td>\n",
       "      <td>Brent Cox</td>\n",
       "      <td>NYPCAF001878-2</td>\n",
       "      <td>2020-04-04</td>\n",
       "      <td>2020-11-03</td>\n",
       "      <td>1995.0</td>\n",
       "      <td>54.0</td>\n",
       "      <td>580000.0</td>\n",
       "      <td>1640.0</td>\n",
       "      <td>...</td>\n",
       "      <td>AL</td>\n",
       "      <td>BALDWIN</td>\n",
       "      <td>Fiberglass</td>\n",
       "      <td>(D) U.S. Atlantic and Gulf - 1</td>\n",
       "      <td>1000.00</td>\n",
       "      <td>500.0</td>\n",
       "      <td>0.00</td>\n",
       "      <td>0.00</td>\n",
       "      <td>0.0</td>\n",
       "      <td>1500.00</td>\n",
       "    </tr>\n",
       "    <tr>\n",
       "      <th>1</th>\n",
       "      <td>1.54181.107.MA</td>\n",
       "      <td>Closed</td>\n",
       "      <td>Brent Cox</td>\n",
       "      <td>NYPCAF001878-2</td>\n",
       "      <td>2020-04-04</td>\n",
       "      <td>2020-10-15</td>\n",
       "      <td>1995.0</td>\n",
       "      <td>54.0</td>\n",
       "      <td>580000.0</td>\n",
       "      <td>1640.0</td>\n",
       "      <td>...</td>\n",
       "      <td>AL</td>\n",
       "      <td>BALDWIN</td>\n",
       "      <td>Fiberglass</td>\n",
       "      <td>(D) U.S. Atlantic and Gulf - 1</td>\n",
       "      <td>618.84</td>\n",
       "      <td>500.0</td>\n",
       "      <td>0.00</td>\n",
       "      <td>0.00</td>\n",
       "      <td>0.0</td>\n",
       "      <td>1118.84</td>\n",
       "    </tr>\n",
       "    <tr>\n",
       "      <th>2</th>\n",
       "      <td>1.55475</td>\n",
       "      <td>Open</td>\n",
       "      <td>KEN &amp; HEATHER DEVRIES</td>\n",
       "      <td>NYPCAF001239-3</td>\n",
       "      <td>2020-06-17</td>\n",
       "      <td>2020-10-01</td>\n",
       "      <td>1985.0</td>\n",
       "      <td>44.0</td>\n",
       "      <td>125000.0</td>\n",
       "      <td>60.0</td>\n",
       "      <td>...</td>\n",
       "      <td>NAYARIT</td>\n",
       "      <td>MEXICO</td>\n",
       "      <td>Fiberglass</td>\n",
       "      <td>(A) Pacific - 2</td>\n",
       "      <td>NaN</td>\n",
       "      <td>NaN</td>\n",
       "      <td>NaN</td>\n",
       "      <td>NaN</td>\n",
       "      <td>NaN</td>\n",
       "      <td>NaN</td>\n",
       "    </tr>\n",
       "    <tr>\n",
       "      <th>3</th>\n",
       "      <td>1.52983.107MA</td>\n",
       "      <td>Open</td>\n",
       "      <td>STEPHEN &amp; BETH LEATHERS</td>\n",
       "      <td>NYPCAH001805-2</td>\n",
       "      <td>2020-03-05</td>\n",
       "      <td>2020-09-16</td>\n",
       "      <td>2004.0</td>\n",
       "      <td>42.0</td>\n",
       "      <td>300000.0</td>\n",
       "      <td>60.0</td>\n",
       "      <td>...</td>\n",
       "      <td>FL</td>\n",
       "      <td>ESCAMBIA</td>\n",
       "      <td>Fiberglass</td>\n",
       "      <td>(D) U.S. Atlantic and Gulf - 1</td>\n",
       "      <td>0.00</td>\n",
       "      <td>14000.0</td>\n",
       "      <td>310960.00</td>\n",
       "      <td>0.00</td>\n",
       "      <td>0.0</td>\n",
       "      <td>324960.00</td>\n",
       "    </tr>\n",
       "    <tr>\n",
       "      <th>4</th>\n",
       "      <td>1.53180.107.MA</td>\n",
       "      <td>Open</td>\n",
       "      <td>Ed Gassman</td>\n",
       "      <td>NYPCAF002704</td>\n",
       "      <td>2019-11-05</td>\n",
       "      <td>2020-08-22</td>\n",
       "      <td>2001.0</td>\n",
       "      <td>45.0</td>\n",
       "      <td>200000.0</td>\n",
       "      <td>900.0</td>\n",
       "      <td>...</td>\n",
       "      <td>FL</td>\n",
       "      <td>BROWARD</td>\n",
       "      <td>Fiberglass</td>\n",
       "      <td>(D) U.S. Atlantic and Gulf - 3</td>\n",
       "      <td>0.00</td>\n",
       "      <td>0.0</td>\n",
       "      <td>25481.25</td>\n",
       "      <td>25481.25</td>\n",
       "      <td>0.0</td>\n",
       "      <td>50962.50</td>\n",
       "    </tr>\n",
       "  </tbody>\n",
       "</table>\n",
       "<p>5 rows × 25 columns</p>\n",
       "</div>"
      ],
      "text/plain": [
       "        Claim No.  Status             Insured name      Policy No.  \\\n",
       "0  1.54715.MA.107    Open                Brent Cox  NYPCAF001878-2   \n",
       "1  1.54181.107.MA  Closed                Brent Cox  NYPCAF001878-2   \n",
       "2         1.55475    Open    KEN & HEATHER DEVRIES  NYPCAF001239-3   \n",
       "3   1.52983.107MA    Open  STEPHEN & BETH LEATHERS  NYPCAH001805-2   \n",
       "4  1.53180.107.MA    Open               Ed Gassman    NYPCAF002704   \n",
       "\n",
       "  Policy Eff-Date Date of Ocurrence    Year  Length  Hull Value  Horsepower  \\\n",
       "0      2020-04-04        2020-11-03  1995.0    54.0    580000.0      1640.0   \n",
       "1      2020-04-04        2020-10-15  1995.0    54.0    580000.0      1640.0   \n",
       "2      2020-06-17        2020-10-01  1985.0    44.0    125000.0        60.0   \n",
       "3      2020-03-05        2020-09-16  2004.0    42.0    300000.0        60.0   \n",
       "4      2019-11-05        2020-08-22  2001.0    45.0    200000.0       900.0   \n",
       "\n",
       "   ... Mooring State Mooring County Construction  \\\n",
       "0  ...            AL        BALDWIN   Fiberglass   \n",
       "1  ...            AL        BALDWIN   Fiberglass   \n",
       "2  ...       NAYARIT         MEXICO   Fiberglass   \n",
       "3  ...            FL       ESCAMBIA   Fiberglass   \n",
       "4  ...            FL        BROWARD   Fiberglass   \n",
       "\n",
       "                Navigation Limits     Loss  Expense     Loss.1 Expense.1  \\\n",
       "0  (D) U.S. Atlantic and Gulf - 1  1000.00    500.0       0.00      0.00   \n",
       "1  (D) U.S. Atlantic and Gulf - 1   618.84    500.0       0.00      0.00   \n",
       "2                 (A) Pacific - 2      NaN      NaN        NaN       NaN   \n",
       "3  (D) U.S. Atlantic and Gulf - 1     0.00  14000.0  310960.00      0.00   \n",
       "4  (D) U.S. Atlantic and Gulf - 3     0.00      0.0   25481.25  25481.25   \n",
       "\n",
       "  To Date  Total Incurred  \n",
       "0     0.0         1500.00  \n",
       "1     0.0         1118.84  \n",
       "2     NaN             NaN  \n",
       "3     0.0       324960.00  \n",
       "4     0.0        50962.50  \n",
       "\n",
       "[5 rows x 25 columns]"
      ]
     },
     "execution_count": 3,
     "metadata": {},
     "output_type": "execute_result"
    }
   ],
   "source": [
    "claims.head()"
   ]
  },
  {
   "cell_type": "code",
   "execution_count": 4,
   "metadata": {},
   "outputs": [
    {
     "data": {
      "text/plain": [
       "(410, 25)"
      ]
     },
     "execution_count": 4,
     "metadata": {},
     "output_type": "execute_result"
    }
   ],
   "source": [
    "claims.shape"
   ]
  },
  {
   "cell_type": "code",
   "execution_count": 5,
   "metadata": {},
   "outputs": [
    {
     "data": {
      "text/plain": [
       "374"
      ]
     },
     "execution_count": 5,
     "metadata": {},
     "output_type": "execute_result"
    }
   ],
   "source": [
    "claims['Policy No.'].nunique()"
   ]
  },
  {
   "cell_type": "code",
   "execution_count": 6,
   "metadata": {},
   "outputs": [
    {
     "data": {
      "text/plain": [
       "409"
      ]
     },
     "execution_count": 6,
     "metadata": {},
     "output_type": "execute_result"
    }
   ],
   "source": [
    "claims['Claim No.'].nunique()"
   ]
  },
  {
   "cell_type": "code",
   "execution_count": 7,
   "metadata": {},
   "outputs": [
    {
     "data": {
      "text/html": [
       "<div>\n",
       "<style scoped>\n",
       "    .dataframe tbody tr th:only-of-type {\n",
       "        vertical-align: middle;\n",
       "    }\n",
       "\n",
       "    .dataframe tbody tr th {\n",
       "        vertical-align: top;\n",
       "    }\n",
       "\n",
       "    .dataframe thead th {\n",
       "        text-align: right;\n",
       "    }\n",
       "</style>\n",
       "<table border=\"1\" class=\"dataframe\">\n",
       "  <thead>\n",
       "    <tr style=\"text-align: right;\">\n",
       "      <th></th>\n",
       "      <th>Policy Number</th>\n",
       "      <th>New/Renl/Endt/Canc/Flat</th>\n",
       "      <th>Insurance Broker</th>\n",
       "      <th>First Name</th>\n",
       "      <th>Last Name</th>\n",
       "      <th>Loss Paye</th>\n",
       "      <th>Date of Birth</th>\n",
       "      <th>Married yes/no</th>\n",
       "      <th>Years Exp.</th>\n",
       "      <th>Occupation</th>\n",
       "      <th>...</th>\n",
       "      <th>Hull Type</th>\n",
       "      <th>Hull Limit</th>\n",
       "      <th>Power Type</th>\n",
       "      <th># Engines</th>\n",
       "      <th>Mooring State</th>\n",
       "      <th>Mooring County</th>\n",
       "      <th>Mooring ZIP code</th>\n",
       "      <th>Credits</th>\n",
       "      <th>Debits</th>\n",
       "      <th>Windstorm Deductible</th>\n",
       "    </tr>\n",
       "  </thead>\n",
       "  <tbody>\n",
       "    <tr>\n",
       "      <th>0</th>\n",
       "      <td>NYPCAF000314</td>\n",
       "      <td>New</td>\n",
       "      <td>Novamar Insurance</td>\n",
       "      <td>Richard</td>\n",
       "      <td>Spindler</td>\n",
       "      <td>Named Insured</td>\n",
       "      <td>05/09/1948</td>\n",
       "      <td>No</td>\n",
       "      <td>2.0</td>\n",
       "      <td>PUBLISHER</td>\n",
       "      <td>...</td>\n",
       "      <td>Multihull Sail</td>\n",
       "      <td>$ 500,000.00</td>\n",
       "      <td>Inboard</td>\n",
       "      <td>2.0</td>\n",
       "      <td>Nayarit</td>\n",
       "      <td>Mexico</td>\n",
       "      <td>NaN</td>\n",
       "      <td>0%</td>\n",
       "      <td>35%</td>\n",
       "      <td>5%</td>\n",
       "    </tr>\n",
       "    <tr>\n",
       "      <th>1</th>\n",
       "      <td>NYPCAF000315</td>\n",
       "      <td>New</td>\n",
       "      <td>Novamar Insurance</td>\n",
       "      <td>Hoc</td>\n",
       "      <td>Tran</td>\n",
       "      <td>United Bank</td>\n",
       "      <td>10/08/1952</td>\n",
       "      <td>NaN</td>\n",
       "      <td>22.0</td>\n",
       "      <td>OWNS SCRAP METAL BUSINESS</td>\n",
       "      <td>...</td>\n",
       "      <td>Sportfisher</td>\n",
       "      <td>$ 1,275,000.00</td>\n",
       "      <td>Inboard</td>\n",
       "      <td>2.0</td>\n",
       "      <td>CA</td>\n",
       "      <td>Los Angeles</td>\n",
       "      <td>90803</td>\n",
       "      <td>0%</td>\n",
       "      <td>20%</td>\n",
       "      <td>2%</td>\n",
       "    </tr>\n",
       "    <tr>\n",
       "      <th>2</th>\n",
       "      <td>NYPCAF000316</td>\n",
       "      <td>Flat</td>\n",
       "      <td>Novamar Insurance</td>\n",
       "      <td>KARL</td>\n",
       "      <td>KRUG</td>\n",
       "      <td>NaN</td>\n",
       "      <td>06/25/1956</td>\n",
       "      <td>Yes</td>\n",
       "      <td>24.0</td>\n",
       "      <td>CEO</td>\n",
       "      <td>...</td>\n",
       "      <td>Trawler</td>\n",
       "      <td>$ 663,000.00</td>\n",
       "      <td>Inboard</td>\n",
       "      <td>2.0</td>\n",
       "      <td>WASHINGTON</td>\n",
       "      <td>King</td>\n",
       "      <td>98109</td>\n",
       "      <td>0%</td>\n",
       "      <td>0%</td>\n",
       "      <td>2%</td>\n",
       "    </tr>\n",
       "    <tr>\n",
       "      <th>3</th>\n",
       "      <td>NYPCAF000316</td>\n",
       "      <td>Flat</td>\n",
       "      <td>Novamar Insurance</td>\n",
       "      <td>KARL</td>\n",
       "      <td>KRUG</td>\n",
       "      <td>NaN</td>\n",
       "      <td>06/25/1956</td>\n",
       "      <td>Yes</td>\n",
       "      <td>24.0</td>\n",
       "      <td>CEO</td>\n",
       "      <td>...</td>\n",
       "      <td>Trawler</td>\n",
       "      <td>$ 663,000.00</td>\n",
       "      <td>Inboard</td>\n",
       "      <td>2.0</td>\n",
       "      <td>WASHINGTON</td>\n",
       "      <td>King</td>\n",
       "      <td>98109</td>\n",
       "      <td>0%</td>\n",
       "      <td>0%</td>\n",
       "      <td>2%</td>\n",
       "    </tr>\n",
       "    <tr>\n",
       "      <th>4</th>\n",
       "      <td>NYPCAF000318</td>\n",
       "      <td>New</td>\n",
       "      <td>Novamar Insurance</td>\n",
       "      <td>JERRY</td>\n",
       "      <td>BORISY</td>\n",
       "      <td>NAMED INSURED</td>\n",
       "      <td>09/30/1943</td>\n",
       "      <td>Yes</td>\n",
       "      <td>30.0</td>\n",
       "      <td>-</td>\n",
       "      <td>...</td>\n",
       "      <td>Motoryacht</td>\n",
       "      <td>$ 400,000.00</td>\n",
       "      <td>Inboard</td>\n",
       "      <td>2.0</td>\n",
       "      <td>CA</td>\n",
       "      <td>LOS ANGELES</td>\n",
       "      <td>90803</td>\n",
       "      <td>6%</td>\n",
       "      <td>0%</td>\n",
       "      <td>1%</td>\n",
       "    </tr>\n",
       "  </tbody>\n",
       "</table>\n",
       "<p>5 rows × 45 columns</p>\n",
       "</div>"
      ],
      "text/plain": [
       "  Policy Number New/Renl/Endt/Canc/Flat   Insurance Broker First Name  \\\n",
       "0  NYPCAF000314                     New  Novamar Insurance    Richard   \n",
       "1  NYPCAF000315                     New  Novamar Insurance        Hoc   \n",
       "2  NYPCAF000316                    Flat  Novamar Insurance       KARL   \n",
       "3  NYPCAF000316                    Flat  Novamar Insurance       KARL   \n",
       "4  NYPCAF000318                     New  Novamar Insurance      JERRY   \n",
       "\n",
       "  Last Name      Loss Paye Date of Birth Married yes/no  Years Exp.  \\\n",
       "0  Spindler  Named Insured    05/09/1948             No         2.0   \n",
       "1      Tran    United Bank    10/08/1952            NaN        22.0   \n",
       "2      KRUG            NaN    06/25/1956            Yes        24.0   \n",
       "3      KRUG            NaN    06/25/1956            Yes        24.0   \n",
       "4    BORISY  NAMED INSURED    09/30/1943            Yes        30.0   \n",
       "\n",
       "                  Occupation  ...       Hull Type        Hull Limit  \\\n",
       "0                  PUBLISHER  ...  Multihull Sail     $ 500,000.00    \n",
       "1  OWNS SCRAP METAL BUSINESS  ...     Sportfisher   $ 1,275,000.00    \n",
       "2                        CEO  ...         Trawler     $ 663,000.00    \n",
       "3                        CEO  ...         Trawler     $ 663,000.00    \n",
       "4                          -  ...      Motoryacht     $ 400,000.00    \n",
       "\n",
       "  Power Type # Engines Mooring State Mooring County Mooring ZIP code Credits  \\\n",
       "0    Inboard       2.0       Nayarit         Mexico              NaN      0%   \n",
       "1    Inboard       2.0            CA    Los Angeles            90803      0%   \n",
       "2    Inboard       2.0    WASHINGTON           King            98109      0%   \n",
       "3    Inboard       2.0    WASHINGTON           King            98109      0%   \n",
       "4    Inboard       2.0            CA    LOS ANGELES            90803      6%   \n",
       "\n",
       "  Debits Windstorm Deductible  \n",
       "0    35%                   5%  \n",
       "1    20%                   2%  \n",
       "2     0%                   2%  \n",
       "3     0%                   2%  \n",
       "4     0%                   1%  \n",
       "\n",
       "[5 rows x 45 columns]"
      ]
     },
     "execution_count": 7,
     "metadata": {},
     "output_type": "execute_result"
    }
   ],
   "source": [
    "master = pd.read_csv('NYP Bordereau Report - Total.xlsx - Bordereau Report.csv')\n",
    "master.head()"
   ]
  },
  {
   "cell_type": "code",
   "execution_count": 8,
   "metadata": {},
   "outputs": [
    {
     "data": {
      "text/plain": [
       "(7952, 45)"
      ]
     },
     "execution_count": 8,
     "metadata": {},
     "output_type": "execute_result"
    }
   ],
   "source": [
    "master.shape"
   ]
  },
  {
   "cell_type": "code",
   "execution_count": 9,
   "metadata": {},
   "outputs": [
    {
     "data": {
      "text/plain": [
       "5553"
      ]
     },
     "execution_count": 9,
     "metadata": {},
     "output_type": "execute_result"
    }
   ],
   "source": [
    "master['Policy Number'].nunique()"
   ]
  },
  {
   "cell_type": "code",
   "execution_count": 10,
   "metadata": {},
   "outputs": [
    {
     "data": {
      "text/plain": [
       "0.06735098145146767"
      ]
     },
     "execution_count": 10,
     "metadata": {},
     "output_type": "execute_result"
    }
   ],
   "source": [
    "claims['Policy No.'].nunique() / master['Policy Number'].nunique()"
   ]
  },
  {
   "cell_type": "markdown",
   "metadata": {},
   "source": [
    "### In 5 years, NovaMar could expect that 6.7% of all policies will have a claim based on historical data. Each year there are new policies and dropped policies, but overall you can expect there to be roughly 7% of all policies to have claims. Will need to oversample the target data for the model. "
   ]
  },
  {
   "cell_type": "code",
   "execution_count": 11,
   "metadata": {},
   "outputs": [
    {
     "data": {
      "text/plain": [
       "Index(['Policy Number', 'New/Renl/Endt/Canc/Flat', 'Insurance Broker',\n",
       "       'First Name', 'Last Name', 'Loss Paye', 'Date of Birth',\n",
       "       'Married yes/no', 'Years Exp.', 'Occupation', 'Mailing State',\n",
       "       'Policy Eff-Date', 'Endo Eff-Date', 'Policy/Endo Canc Eff-Date',\n",
       "       'Hull Prem', 'Primary Lia Prem', 'Excess Lia Prem', 'Primary Crew Prem',\n",
       "       'Excess Crew Prem', 'Pol Fee', 'Total Prem Incl Fee',\n",
       "       'Total Prem Less Fee', 'Collected Premium', 'Collected Fee',\n",
       "       'Date Paid', 'Collected Total', 'Unpaid Premium', 'Unpaid Fee',\n",
       "       'Unpaid Total', 'Net Prem Due RFIB', 'Vessel Name', 'Builder',\n",
       "       'Year Built', 'Construction', 'Length', 'Hull Type', 'Hull Limit',\n",
       "       'Power Type', '# Engines', 'Mooring State', 'Mooring County',\n",
       "       'Mooring ZIP code', 'Credits', 'Debits', 'Windstorm Deductible'],\n",
       "      dtype='object')"
      ]
     },
     "execution_count": 11,
     "metadata": {},
     "output_type": "execute_result"
    }
   ],
   "source": [
    "master.columns"
   ]
  },
  {
   "cell_type": "code",
   "execution_count": 12,
   "metadata": {},
   "outputs": [
    {
     "data": {
      "text/plain": [
       "Index(['Claim No.', 'Status', 'Insured name', 'Policy No.', 'Policy Eff-Date',\n",
       "       'Date of Ocurrence', 'Year', 'Length', 'Hull Value', 'Horsepower',\n",
       "       'Accident description', 'Manufacturer', 'Hull Type', 'Power Type',\n",
       "       'Fuel Type', 'Mooring State', 'Mooring County', 'Construction',\n",
       "       'Navigation Limits', 'Loss', 'Expense', 'Loss.1', 'Expense.1',\n",
       "       'To Date', 'Total Incurred'],\n",
       "      dtype='object')"
      ]
     },
     "execution_count": 12,
     "metadata": {},
     "output_type": "execute_result"
    }
   ],
   "source": [
    "claims.columns"
   ]
  },
  {
   "cell_type": "markdown",
   "metadata": {},
   "source": [
    "---"
   ]
  },
  {
   "cell_type": "markdown",
   "metadata": {},
   "source": [
    "# Data Cleaning"
   ]
  },
  {
   "cell_type": "markdown",
   "metadata": {},
   "source": [
    "**BELOW:** Check to see if columns to merge on (policy number) seem likely to match up."
   ]
  },
  {
   "cell_type": "code",
   "execution_count": 13,
   "metadata": {},
   "outputs": [
    {
     "data": {
      "text/plain": [
       "410"
      ]
     },
     "execution_count": 13,
     "metadata": {},
     "output_type": "execute_result"
    }
   ],
   "source": [
    "# Number of total policy numbers in the claims data\n",
    "len(claims['Policy No.'])"
   ]
  },
  {
   "cell_type": "code",
   "execution_count": 14,
   "metadata": {},
   "outputs": [
    {
     "data": {
      "text/plain": [
       "374"
      ]
     },
     "execution_count": 14,
     "metadata": {},
     "output_type": "execute_result"
    }
   ],
   "source": [
    "# Number of unique policy numbers in the claims data\n",
    "claims['Policy No.'].nunique()"
   ]
  },
  {
   "cell_type": "code",
   "execution_count": 15,
   "metadata": {},
   "outputs": [
    {
     "data": {
      "text/plain": [
       "36"
      ]
     },
     "execution_count": 15,
     "metadata": {},
     "output_type": "execute_result"
    }
   ],
   "source": [
    "# Number with repeat claims\n",
    "len(claims['Policy No.']) - claims['Policy No.'].nunique()"
   ]
  },
  {
   "cell_type": "code",
   "execution_count": 16,
   "metadata": {},
   "outputs": [
    {
     "data": {
      "text/plain": [
       "0    NYPCAF001878-2\n",
       "1    NYPCAF001878-2\n",
       "2    NYPCAF001239-3\n",
       "3    NYPCAH001805-2\n",
       "4      NYPCAF002704\n",
       "5    NYPCAF002449-1\n",
       "6    NYPCAF000448-3\n",
       "7      NYPCAF002767\n",
       "8      NYPCAF002689\n",
       "9    NYPCAF002337-1\n",
       "Name: Policy No., dtype: object"
      ]
     },
     "execution_count": 16,
     "metadata": {},
     "output_type": "execute_result"
    }
   ],
   "source": [
    "claims['Policy No.'].head(10)"
   ]
  },
  {
   "cell_type": "code",
   "execution_count": 17,
   "metadata": {},
   "outputs": [
    {
     "data": {
      "text/plain": [
       "7942    NYPCAF001953-2\n",
       "7943      NYPCAF002700\n",
       "7944    NYPCAH000986-3\n",
       "7945      NYPCAF002762\n",
       "7946    NYPCAF002391-1\n",
       "7947    NYPCAF002391-1\n",
       "7948    NYPCAH001020-3\n",
       "7949    NYPCAH001020-3\n",
       "7950    NYPCAF000564-2\n",
       "7951               NaN\n",
       "Name: Policy Number, dtype: object"
      ]
     },
     "execution_count": 17,
     "metadata": {},
     "output_type": "execute_result"
    }
   ],
   "source": [
    "master['Policy Number'].tail(10)"
   ]
  },
  {
   "cell_type": "code",
   "execution_count": 18,
   "metadata": {},
   "outputs": [
    {
     "name": "stdout",
     "output_type": "stream",
     "text": [
      "1\n",
      "1\n"
     ]
    }
   ],
   "source": [
    "print(claims['Policy No.'].isna().sum())\n",
    "print(master['Policy Number'].isna().sum())"
   ]
  },
  {
   "cell_type": "code",
   "execution_count": 19,
   "metadata": {},
   "outputs": [],
   "source": [
    "# Drop nulls in both datasets for policy numbers\n",
    "claims.dropna(subset = ['Policy No.'],inplace=True)\n",
    "master.dropna(subset = ['Policy Number'], inplace= True)"
   ]
  },
  {
   "cell_type": "code",
   "execution_count": 20,
   "metadata": {},
   "outputs": [
    {
     "name": "stdout",
     "output_type": "stream",
     "text": [
      "0\n",
      "0\n"
     ]
    }
   ],
   "source": [
    "print(claims['Policy No.'].isna().sum())\n",
    "print(master['Policy Number'].isna().sum())"
   ]
  },
  {
   "cell_type": "code",
   "execution_count": 21,
   "metadata": {},
   "outputs": [],
   "source": [
    "master_policy = master['Policy Number'].to_list()\n",
    "claims_policy = claims['Policy No.'].to_list()"
   ]
  },
  {
   "cell_type": "code",
   "execution_count": 22,
   "metadata": {},
   "outputs": [
    {
     "data": {
      "text/plain": [
       "490"
      ]
     },
     "execution_count": 22,
     "metadata": {},
     "output_type": "execute_result"
    }
   ],
   "source": [
    "common_policy = [value for value in master_policy if value in claims_policy]\n",
    "len(common_policy)"
   ]
  },
  {
   "cell_type": "markdown",
   "metadata": {},
   "source": [
    "**Below:** This means all of the claims with unique policy numbers from the claims database have matching policy numbers in the master database."
   ]
  },
  {
   "cell_type": "code",
   "execution_count": 23,
   "metadata": {},
   "outputs": [
    {
     "data": {
      "text/plain": [
       "374"
      ]
     },
     "execution_count": 23,
     "metadata": {},
     "output_type": "execute_result"
    }
   ],
   "source": [
    "len(set(common_policy))"
   ]
  },
  {
   "cell_type": "markdown",
   "metadata": {},
   "source": [
    "### Take a look at why there are repeat policies in the master dataframe."
   ]
  },
  {
   "cell_type": "code",
   "execution_count": 24,
   "metadata": {},
   "outputs": [
    {
     "data": {
      "text/plain": [
       "0         NYPCAF000314\n",
       "1         NYPCAF000315\n",
       "2         NYPCAF000316\n",
       "3         NYPCAF000316\n",
       "4         NYPCAF000318\n",
       "             ...      \n",
       "2005    NYPCAF000888-1\n",
       "2006    NYPCAF000856-1\n",
       "2007    NYPCAF001026-1\n",
       "2008    NYPCAF000933-1\n",
       "2009    NYPCAF000934-1\n",
       "Name: Policy Number, Length: 2010, dtype: object"
      ]
     },
     "execution_count": 24,
     "metadata": {},
     "output_type": "execute_result"
    }
   ],
   "source": [
    "master['Policy Number'][00:2010]"
   ]
  },
  {
   "cell_type": "code",
   "execution_count": 25,
   "metadata": {},
   "outputs": [
    {
     "name": "stdout",
     "output_type": "stream",
     "text": [
      "(7951, 45)\n",
      "5553\n"
     ]
    }
   ],
   "source": [
    "print(master.shape)\n",
    "print(master['Policy Number'].nunique())"
   ]
  },
  {
   "cell_type": "code",
   "execution_count": 26,
   "metadata": {},
   "outputs": [
    {
     "data": {
      "text/plain": [
       "Renl         2298\n",
       "New          2184\n",
       "Endt         1207\n",
       "Flat         1034\n",
       "Endt-Flat     598\n",
       "Canc          550\n",
       "Endt-Canc      80\n",
       "Name: New/Renl/Endt/Canc/Flat, dtype: int64"
      ]
     },
     "execution_count": 26,
     "metadata": {},
     "output_type": "execute_result"
    }
   ],
   "source": [
    "master['New/Renl/Endt/Canc/Flat'].value_counts()"
   ]
  },
  {
   "cell_type": "markdown",
   "metadata": {},
   "source": [
    "**BELOW:** Every entry labeled as \"Canc\" has the same number of Policy/Endo entries. Therefore, this is the length the policy lasted."
   ]
  },
  {
   "cell_type": "code",
   "execution_count": 27,
   "metadata": {},
   "outputs": [
    {
     "data": {
      "text/html": [
       "<div>\n",
       "<style scoped>\n",
       "    .dataframe tbody tr th:only-of-type {\n",
       "        vertical-align: middle;\n",
       "    }\n",
       "\n",
       "    .dataframe tbody tr th {\n",
       "        vertical-align: top;\n",
       "    }\n",
       "\n",
       "    .dataframe thead th {\n",
       "        text-align: right;\n",
       "    }\n",
       "</style>\n",
       "<table border=\"1\" class=\"dataframe\">\n",
       "  <thead>\n",
       "    <tr style=\"text-align: right;\">\n",
       "      <th></th>\n",
       "      <th>Policy Eff-Date</th>\n",
       "      <th>Policy/Endo Canc Eff-Date</th>\n",
       "      <th>Endo Eff-Date</th>\n",
       "    </tr>\n",
       "    <tr>\n",
       "      <th>New/Renl/Endt/Canc/Flat</th>\n",
       "      <th></th>\n",
       "      <th></th>\n",
       "      <th></th>\n",
       "    </tr>\n",
       "  </thead>\n",
       "  <tbody>\n",
       "    <tr>\n",
       "      <th>Canc</th>\n",
       "      <td>550</td>\n",
       "      <td>550</td>\n",
       "      <td>0</td>\n",
       "    </tr>\n",
       "    <tr>\n",
       "      <th>Endt</th>\n",
       "      <td>1207</td>\n",
       "      <td>14</td>\n",
       "      <td>1207</td>\n",
       "    </tr>\n",
       "    <tr>\n",
       "      <th>Endt-Canc</th>\n",
       "      <td>80</td>\n",
       "      <td>79</td>\n",
       "      <td>80</td>\n",
       "    </tr>\n",
       "    <tr>\n",
       "      <th>Endt-Flat</th>\n",
       "      <td>598</td>\n",
       "      <td>598</td>\n",
       "      <td>598</td>\n",
       "    </tr>\n",
       "    <tr>\n",
       "      <th>Flat</th>\n",
       "      <td>1034</td>\n",
       "      <td>1034</td>\n",
       "      <td>0</td>\n",
       "    </tr>\n",
       "    <tr>\n",
       "      <th>New</th>\n",
       "      <td>2184</td>\n",
       "      <td>16</td>\n",
       "      <td>0</td>\n",
       "    </tr>\n",
       "    <tr>\n",
       "      <th>Renl</th>\n",
       "      <td>2298</td>\n",
       "      <td>40</td>\n",
       "      <td>0</td>\n",
       "    </tr>\n",
       "  </tbody>\n",
       "</table>\n",
       "</div>"
      ],
      "text/plain": [
       "                         Policy Eff-Date  Policy/Endo Canc Eff-Date  \\\n",
       "New/Renl/Endt/Canc/Flat                                               \n",
       "Canc                                 550                        550   \n",
       "Endt                                1207                         14   \n",
       "Endt-Canc                             80                         79   \n",
       "Endt-Flat                            598                        598   \n",
       "Flat                                1034                       1034   \n",
       "New                                 2184                         16   \n",
       "Renl                                2298                         40   \n",
       "\n",
       "                         Endo Eff-Date  \n",
       "New/Renl/Endt/Canc/Flat                 \n",
       "Canc                                 0  \n",
       "Endt                              1207  \n",
       "Endt-Canc                           80  \n",
       "Endt-Flat                          598  \n",
       "Flat                                 0  \n",
       "New                                  0  \n",
       "Renl                                 0  "
      ]
     },
     "execution_count": 27,
     "metadata": {},
     "output_type": "execute_result"
    }
   ],
   "source": [
    "master.groupby('New/Renl/Endt/Canc/Flat')[['Policy Eff-Date','Policy/Endo Canc Eff-Date','Endo Eff-Date']].count()"
   ]
  },
  {
   "cell_type": "code",
   "execution_count": null,
   "metadata": {},
   "outputs": [],
   "source": []
  },
  {
   "cell_type": "code",
   "execution_count": 28,
   "metadata": {},
   "outputs": [
    {
     "data": {
      "text/html": [
       "<div>\n",
       "<style scoped>\n",
       "    .dataframe tbody tr th:only-of-type {\n",
       "        vertical-align: middle;\n",
       "    }\n",
       "\n",
       "    .dataframe tbody tr th {\n",
       "        vertical-align: top;\n",
       "    }\n",
       "\n",
       "    .dataframe thead th {\n",
       "        text-align: right;\n",
       "    }\n",
       "</style>\n",
       "<table border=\"1\" class=\"dataframe\">\n",
       "  <thead>\n",
       "    <tr style=\"text-align: right;\">\n",
       "      <th></th>\n",
       "      <th>Policy Number</th>\n",
       "      <th>New/Renl/Endt/Canc/Flat</th>\n",
       "      <th>Insurance Broker</th>\n",
       "      <th>First Name</th>\n",
       "      <th>Last Name</th>\n",
       "      <th>Loss Paye</th>\n",
       "      <th>Date of Birth</th>\n",
       "      <th>Married yes/no</th>\n",
       "      <th>Years Exp.</th>\n",
       "      <th>Occupation</th>\n",
       "      <th>...</th>\n",
       "      <th>Hull Type</th>\n",
       "      <th>Hull Limit</th>\n",
       "      <th>Power Type</th>\n",
       "      <th># Engines</th>\n",
       "      <th>Mooring State</th>\n",
       "      <th>Mooring County</th>\n",
       "      <th>Mooring ZIP code</th>\n",
       "      <th>Credits</th>\n",
       "      <th>Debits</th>\n",
       "      <th>Windstorm Deductible</th>\n",
       "    </tr>\n",
       "  </thead>\n",
       "  <tbody>\n",
       "    <tr>\n",
       "      <th>41</th>\n",
       "      <td>NYPCAF000355</td>\n",
       "      <td>Canc</td>\n",
       "      <td>Novamar Insurance</td>\n",
       "      <td>Gregory</td>\n",
       "      <td>Lynch</td>\n",
       "      <td>BANK OF AMERICA</td>\n",
       "      <td>01/04/1955</td>\n",
       "      <td>Yes</td>\n",
       "      <td>30.0</td>\n",
       "      <td>-</td>\n",
       "      <td>...</td>\n",
       "      <td>Motoryacht</td>\n",
       "      <td>$ 625,000.00</td>\n",
       "      <td>Inboard</td>\n",
       "      <td>2.0</td>\n",
       "      <td>California</td>\n",
       "      <td>Orange</td>\n",
       "      <td>92661</td>\n",
       "      <td>0%</td>\n",
       "      <td>0%</td>\n",
       "      <td>2%</td>\n",
       "    </tr>\n",
       "    <tr>\n",
       "      <th>53</th>\n",
       "      <td>NYPCAF000368</td>\n",
       "      <td>Canc</td>\n",
       "      <td>Novamar Insurance</td>\n",
       "      <td>ROBERT T</td>\n",
       "      <td>BRINKLEY II</td>\n",
       "      <td>NaN</td>\n",
       "      <td>07/08/1945</td>\n",
       "      <td>Yes</td>\n",
       "      <td>40.0</td>\n",
       "      <td>YACHT BROKER</td>\n",
       "      <td>...</td>\n",
       "      <td>Motoryacht</td>\n",
       "      <td>$ 135,000.00</td>\n",
       "      <td>Inboard</td>\n",
       "      <td>1.0</td>\n",
       "      <td>FL</td>\n",
       "      <td>Broward</td>\n",
       "      <td>33019</td>\n",
       "      <td>0%</td>\n",
       "      <td>6%</td>\n",
       "      <td>5%</td>\n",
       "    </tr>\n",
       "    <tr>\n",
       "      <th>60</th>\n",
       "      <td>NYPCAF000376</td>\n",
       "      <td>Canc</td>\n",
       "      <td>Novamar Insurance</td>\n",
       "      <td>Steve</td>\n",
       "      <td>Rowland</td>\n",
       "      <td>MB FINANCIAL BANK</td>\n",
       "      <td>08/22/1955</td>\n",
       "      <td>Yes</td>\n",
       "      <td>15.0</td>\n",
       "      <td>Retired</td>\n",
       "      <td>...</td>\n",
       "      <td>Motoryacht</td>\n",
       "      <td>$ 59,950.00</td>\n",
       "      <td>Inboard</td>\n",
       "      <td>2.0</td>\n",
       "      <td>FL</td>\n",
       "      <td>BAY</td>\n",
       "      <td>32411</td>\n",
       "      <td>2%</td>\n",
       "      <td>40%</td>\n",
       "      <td>5%</td>\n",
       "    </tr>\n",
       "    <tr>\n",
       "      <th>63</th>\n",
       "      <td>NYPCAF000379</td>\n",
       "      <td>Canc</td>\n",
       "      <td>Novamar Insurance</td>\n",
       "      <td>BRETT</td>\n",
       "      <td>BASHAW</td>\n",
       "      <td>NaN</td>\n",
       "      <td>04/02/1963</td>\n",
       "      <td>Yes</td>\n",
       "      <td>30.0</td>\n",
       "      <td>COMPANY OWNER</td>\n",
       "      <td>...</td>\n",
       "      <td>Express Cruiser</td>\n",
       "      <td>$ 700,000.00</td>\n",
       "      <td>Pod</td>\n",
       "      <td>2.0</td>\n",
       "      <td>CA</td>\n",
       "      <td>ORANGE</td>\n",
       "      <td>92661</td>\n",
       "      <td>4%</td>\n",
       "      <td>0%</td>\n",
       "      <td>1%</td>\n",
       "    </tr>\n",
       "    <tr>\n",
       "      <th>67</th>\n",
       "      <td>NYPCAF000383</td>\n",
       "      <td>Canc</td>\n",
       "      <td>Novamar Insurance</td>\n",
       "      <td>ARMAND</td>\n",
       "      <td>FAGGIONI</td>\n",
       "      <td>NaN</td>\n",
       "      <td>08/08/1958</td>\n",
       "      <td>Yes</td>\n",
       "      <td>25.0</td>\n",
       "      <td>RETIRED</td>\n",
       "      <td>...</td>\n",
       "      <td>Motoryacht</td>\n",
       "      <td>$ 330,000.00</td>\n",
       "      <td>Inboard</td>\n",
       "      <td>2.0</td>\n",
       "      <td>FL</td>\n",
       "      <td>MANATEE</td>\n",
       "      <td>34221</td>\n",
       "      <td>0%</td>\n",
       "      <td>25%</td>\n",
       "      <td>5%</td>\n",
       "    </tr>\n",
       "    <tr>\n",
       "      <th>...</th>\n",
       "      <td>...</td>\n",
       "      <td>...</td>\n",
       "      <td>...</td>\n",
       "      <td>...</td>\n",
       "      <td>...</td>\n",
       "      <td>...</td>\n",
       "      <td>...</td>\n",
       "      <td>...</td>\n",
       "      <td>...</td>\n",
       "      <td>...</td>\n",
       "      <td>...</td>\n",
       "      <td>...</td>\n",
       "      <td>...</td>\n",
       "      <td>...</td>\n",
       "      <td>...</td>\n",
       "      <td>...</td>\n",
       "      <td>...</td>\n",
       "      <td>...</td>\n",
       "      <td>...</td>\n",
       "      <td>...</td>\n",
       "      <td>...</td>\n",
       "    </tr>\n",
       "    <tr>\n",
       "      <th>6018</th>\n",
       "      <td>NYPCAF001964-2</td>\n",
       "      <td>Canc</td>\n",
       "      <td>Total Dollar Yacht Insurance - FL</td>\n",
       "      <td>Reinaldo</td>\n",
       "      <td>Chavez</td>\n",
       "      <td>SPACE COAST CREDIT UNION</td>\n",
       "      <td>08/22/1962</td>\n",
       "      <td>Yes</td>\n",
       "      <td>38.0</td>\n",
       "      <td>Business Owner</td>\n",
       "      <td>...</td>\n",
       "      <td>Sportfisher</td>\n",
       "      <td>$ 500,000.00</td>\n",
       "      <td>Inboard</td>\n",
       "      <td>2.0</td>\n",
       "      <td>FL</td>\n",
       "      <td>MIAMI-DADE</td>\n",
       "      <td>33141</td>\n",
       "      <td>0%</td>\n",
       "      <td>45%</td>\n",
       "      <td>5%</td>\n",
       "    </tr>\n",
       "    <tr>\n",
       "      <th>6023</th>\n",
       "      <td>NYPCAF001049-3</td>\n",
       "      <td>Canc</td>\n",
       "      <td>Novamar Insurance</td>\n",
       "      <td>Les</td>\n",
       "      <td>Bauer</td>\n",
       "      <td>BB&amp;T - Insurance Center</td>\n",
       "      <td>12/13/1942</td>\n",
       "      <td>Yes</td>\n",
       "      <td>20.0</td>\n",
       "      <td>Retired</td>\n",
       "      <td>...</td>\n",
       "      <td>Motoryacht</td>\n",
       "      <td>$ 1,450,000.00</td>\n",
       "      <td>Inboard</td>\n",
       "      <td>2.0</td>\n",
       "      <td>FL</td>\n",
       "      <td>PINELLAS</td>\n",
       "      <td>33701</td>\n",
       "      <td>0%</td>\n",
       "      <td>17%</td>\n",
       "      <td>5%</td>\n",
       "    </tr>\n",
       "    <tr>\n",
       "      <th>6038</th>\n",
       "      <td>NYPCAH001980-2</td>\n",
       "      <td>Canc</td>\n",
       "      <td>Novamar Insurance</td>\n",
       "      <td>Stephen</td>\n",
       "      <td>DePasquale</td>\n",
       "      <td>Pinnacle Bank</td>\n",
       "      <td>06/11/1965</td>\n",
       "      <td>Yes</td>\n",
       "      <td>10.0</td>\n",
       "      <td>Physician</td>\n",
       "      <td>...</td>\n",
       "      <td>Motoryacht</td>\n",
       "      <td>$ 1,600,000.00</td>\n",
       "      <td>Inboard</td>\n",
       "      <td>2.0</td>\n",
       "      <td>TN</td>\n",
       "      <td>HAMILTON</td>\n",
       "      <td>37416</td>\n",
       "      <td>0%</td>\n",
       "      <td>36%</td>\n",
       "      <td>5%</td>\n",
       "    </tr>\n",
       "    <tr>\n",
       "      <th>6044</th>\n",
       "      <td>NYPCAF002575-1</td>\n",
       "      <td>Canc</td>\n",
       "      <td>Total Dollar Yacht Insurance - FL</td>\n",
       "      <td>Eduardo O.</td>\n",
       "      <td>Portero</td>\n",
       "      <td>NaN</td>\n",
       "      <td>04/04/1943</td>\n",
       "      <td>No</td>\n",
       "      <td>49.0</td>\n",
       "      <td>President of Company</td>\n",
       "      <td>...</td>\n",
       "      <td>Motoryacht</td>\n",
       "      <td>$ 500,000.00</td>\n",
       "      <td>Inboard</td>\n",
       "      <td>2.0</td>\n",
       "      <td>FL</td>\n",
       "      <td>MIAMI DADE</td>\n",
       "      <td>33160</td>\n",
       "      <td>0%</td>\n",
       "      <td>50%</td>\n",
       "      <td>5%</td>\n",
       "    </tr>\n",
       "    <tr>\n",
       "      <th>6065</th>\n",
       "      <td>NYPCAF002577-1</td>\n",
       "      <td>Canc</td>\n",
       "      <td>Total Dollar Yacht Insurance - NY</td>\n",
       "      <td>Herbert</td>\n",
       "      <td>Radicke</td>\n",
       "      <td>NaN</td>\n",
       "      <td>05/05/1954</td>\n",
       "      <td>NaN</td>\n",
       "      <td>25.0</td>\n",
       "      <td>NaN</td>\n",
       "      <td>...</td>\n",
       "      <td>Outboard Power</td>\n",
       "      <td>$ 560,000.00</td>\n",
       "      <td>Outboard</td>\n",
       "      <td>4.0</td>\n",
       "      <td>TX</td>\n",
       "      <td>NUECES</td>\n",
       "      <td>78373</td>\n",
       "      <td>20%</td>\n",
       "      <td>130%</td>\n",
       "      <td>10%</td>\n",
       "    </tr>\n",
       "  </tbody>\n",
       "</table>\n",
       "<p>550 rows × 45 columns</p>\n",
       "</div>"
      ],
      "text/plain": [
       "       Policy Number New/Renl/Endt/Canc/Flat  \\\n",
       "41      NYPCAF000355                    Canc   \n",
       "53      NYPCAF000368                    Canc   \n",
       "60      NYPCAF000376                    Canc   \n",
       "63      NYPCAF000379                    Canc   \n",
       "67      NYPCAF000383                    Canc   \n",
       "...              ...                     ...   \n",
       "6018  NYPCAF001964-2                    Canc   \n",
       "6023  NYPCAF001049-3                    Canc   \n",
       "6038  NYPCAH001980-2                    Canc   \n",
       "6044  NYPCAF002575-1                    Canc   \n",
       "6065  NYPCAF002577-1                    Canc   \n",
       "\n",
       "                       Insurance Broker  First Name    Last Name  \\\n",
       "41                    Novamar Insurance     Gregory        Lynch   \n",
       "53                    Novamar Insurance    ROBERT T  BRINKLEY II   \n",
       "60                    Novamar Insurance       Steve      Rowland   \n",
       "63                    Novamar Insurance       BRETT       BASHAW   \n",
       "67                    Novamar Insurance      ARMAND     FAGGIONI   \n",
       "...                                 ...         ...          ...   \n",
       "6018  Total Dollar Yacht Insurance - FL   Reinaldo        Chavez   \n",
       "6023                  Novamar Insurance         Les        Bauer   \n",
       "6038                  Novamar Insurance     Stephen   DePasquale   \n",
       "6044  Total Dollar Yacht Insurance - FL  Eduardo O.      Portero   \n",
       "6065  Total Dollar Yacht Insurance - NY    Herbert       Radicke   \n",
       "\n",
       "                     Loss Paye Date of Birth Married yes/no  Years Exp.  \\\n",
       "41             BANK OF AMERICA    01/04/1955            Yes        30.0   \n",
       "53                         NaN    07/08/1945            Yes        40.0   \n",
       "60           MB FINANCIAL BANK    08/22/1955            Yes        15.0   \n",
       "63                         NaN    04/02/1963            Yes        30.0   \n",
       "67                         NaN    08/08/1958            Yes        25.0   \n",
       "...                        ...           ...            ...         ...   \n",
       "6018  SPACE COAST CREDIT UNION    08/22/1962            Yes        38.0   \n",
       "6023   BB&T - Insurance Center    12/13/1942            Yes        20.0   \n",
       "6038             Pinnacle Bank    06/11/1965            Yes        10.0   \n",
       "6044                       NaN    04/04/1943             No        49.0   \n",
       "6065                       NaN    05/05/1954            NaN        25.0   \n",
       "\n",
       "                Occupation  ...        Hull Type        Hull Limit Power Type  \\\n",
       "41                       -  ...       Motoryacht     $ 625,000.00     Inboard   \n",
       "53            YACHT BROKER  ...       Motoryacht     $ 135,000.00     Inboard   \n",
       "60                 Retired  ...       Motoryacht      $ 59,950.00     Inboard   \n",
       "63           COMPANY OWNER  ...  Express Cruiser     $ 700,000.00         Pod   \n",
       "67                 RETIRED  ...       Motoryacht     $ 330,000.00     Inboard   \n",
       "...                    ...  ...              ...               ...        ...   \n",
       "6018        Business Owner  ...      Sportfisher     $ 500,000.00     Inboard   \n",
       "6023               Retired  ...       Motoryacht   $ 1,450,000.00     Inboard   \n",
       "6038             Physician  ...       Motoryacht   $ 1,600,000.00     Inboard   \n",
       "6044  President of Company  ...       Motoryacht     $ 500,000.00     Inboard   \n",
       "6065                   NaN  ...   Outboard Power     $ 560,000.00    Outboard   \n",
       "\n",
       "     # Engines Mooring State Mooring County Mooring ZIP code Credits Debits  \\\n",
       "41         2.0    California         Orange            92661      0%     0%   \n",
       "53         1.0            FL        Broward            33019      0%     6%   \n",
       "60         2.0            FL            BAY            32411      2%    40%   \n",
       "63         2.0            CA         ORANGE            92661      4%     0%   \n",
       "67         2.0            FL        MANATEE            34221      0%    25%   \n",
       "...        ...           ...            ...              ...     ...    ...   \n",
       "6018       2.0            FL     MIAMI-DADE            33141      0%    45%   \n",
       "6023       2.0            FL       PINELLAS            33701      0%    17%   \n",
       "6038       2.0            TN       HAMILTON            37416      0%    36%   \n",
       "6044       2.0            FL     MIAMI DADE            33160      0%    50%   \n",
       "6065       4.0            TX         NUECES            78373     20%   130%   \n",
       "\n",
       "     Windstorm Deductible  \n",
       "41                     2%  \n",
       "53                     5%  \n",
       "60                     5%  \n",
       "63                     1%  \n",
       "67                     5%  \n",
       "...                   ...  \n",
       "6018                   5%  \n",
       "6023                   5%  \n",
       "6038                   5%  \n",
       "6044                   5%  \n",
       "6065                  10%  \n",
       "\n",
       "[550 rows x 45 columns]"
      ]
     },
     "execution_count": 28,
     "metadata": {},
     "output_type": "execute_result"
    }
   ],
   "source": [
    "master.loc[master['New/Renl/Endt/Canc/Flat'] == 'Canc']"
   ]
  },
  {
   "cell_type": "markdown",
   "metadata": {},
   "source": [
    "Keep only one row per unique policy number? Choose the one with the most recent date?"
   ]
  },
  {
   "cell_type": "code",
   "execution_count": 29,
   "metadata": {},
   "outputs": [
    {
     "data": {
      "text/plain": [
       "(7951, 45)"
      ]
     },
     "execution_count": 29,
     "metadata": {},
     "output_type": "execute_result"
    }
   ],
   "source": [
    "master.shape"
   ]
  },
  {
   "cell_type": "code",
   "execution_count": 30,
   "metadata": {},
   "outputs": [
    {
     "name": "stdout",
     "output_type": "stream",
     "text": [
      "7951\n",
      "1885\n",
      "2331\n"
     ]
    }
   ],
   "source": [
    "print(master['Policy Eff-Date'].count())\n",
    "print(master['Endo Eff-Date'].count())\n",
    "print(master['Policy/Endo Canc Eff-Date'].count())"
   ]
  },
  {
   "cell_type": "code",
   "execution_count": 31,
   "metadata": {},
   "outputs": [
    {
     "data": {
      "text/plain": [
       "Index(['Policy Number', 'New/Renl/Endt/Canc/Flat', 'Insurance Broker',\n",
       "       'First Name', 'Last Name', 'Loss Paye', 'Date of Birth',\n",
       "       'Married yes/no', 'Years Exp.', 'Occupation', 'Mailing State',\n",
       "       'Policy Eff-Date', 'Endo Eff-Date', 'Policy/Endo Canc Eff-Date',\n",
       "       'Hull Prem', 'Primary Lia Prem', 'Excess Lia Prem', 'Primary Crew Prem',\n",
       "       'Excess Crew Prem', 'Pol Fee', 'Total Prem Incl Fee',\n",
       "       'Total Prem Less Fee', 'Collected Premium', 'Collected Fee',\n",
       "       'Date Paid', 'Collected Total', 'Unpaid Premium', 'Unpaid Fee',\n",
       "       'Unpaid Total', 'Net Prem Due RFIB', 'Vessel Name', 'Builder',\n",
       "       'Year Built', 'Construction', 'Length', 'Hull Type', 'Hull Limit',\n",
       "       'Power Type', '# Engines', 'Mooring State', 'Mooring County',\n",
       "       'Mooring ZIP code', 'Credits', 'Debits', 'Windstorm Deductible'],\n",
       "      dtype='object')"
      ]
     },
     "execution_count": 31,
     "metadata": {},
     "output_type": "execute_result"
    }
   ],
   "source": [
    "master.columns"
   ]
  },
  {
   "cell_type": "code",
   "execution_count": 32,
   "metadata": {},
   "outputs": [
    {
     "name": "stdout",
     "output_type": "stream",
     "text": [
      "6066\n",
      "5620\n"
     ]
    }
   ],
   "source": [
    "print(master['Endo Eff-Date'].isna().sum())\n",
    "print(master['Policy/Endo Canc Eff-Date'].isna().sum())"
   ]
  },
  {
   "cell_type": "code",
   "execution_count": 33,
   "metadata": {},
   "outputs": [],
   "source": [
    "eed_no_na = (master['Endo Eff-Date'].dropna()).to_list()\n",
    "peced_no_na = (master['Policy/Endo Canc Eff-Date'].dropna()).to_list()"
   ]
  },
  {
   "cell_type": "code",
   "execution_count": 34,
   "metadata": {},
   "outputs": [
    {
     "data": {
      "text/plain": [
       "387"
      ]
     },
     "execution_count": 34,
     "metadata": {},
     "output_type": "execute_result"
    }
   ],
   "source": [
    "len([value for value in eed_no_na if value not in peced_no_na])"
   ]
  },
  {
   "cell_type": "code",
   "execution_count": 35,
   "metadata": {},
   "outputs": [
    {
     "data": {
      "text/plain": [
       "608"
      ]
     },
     "execution_count": 35,
     "metadata": {},
     "output_type": "execute_result"
    }
   ],
   "source": [
    "len(master[master['Endo Eff-Date'] == master['Policy/Endo Canc Eff-Date']])"
   ]
  },
  {
   "cell_type": "markdown",
   "metadata": {},
   "source": [
    "Trying to figure out which policy number to keep. Some have multiple rows and I want to keep only one them, the one with the most information (i.e. if it's been cancelled)."
   ]
  },
  {
   "cell_type": "code",
   "execution_count": 36,
   "metadata": {},
   "outputs": [
    {
     "data": {
      "text/html": [
       "<div>\n",
       "<style scoped>\n",
       "    .dataframe tbody tr th:only-of-type {\n",
       "        vertical-align: middle;\n",
       "    }\n",
       "\n",
       "    .dataframe tbody tr th {\n",
       "        vertical-align: top;\n",
       "    }\n",
       "\n",
       "    .dataframe thead th {\n",
       "        text-align: right;\n",
       "    }\n",
       "</style>\n",
       "<table border=\"1\" class=\"dataframe\">\n",
       "  <thead>\n",
       "    <tr style=\"text-align: right;\">\n",
       "      <th></th>\n",
       "      <th>Endo Eff-Date</th>\n",
       "      <th>Policy/Endo Canc Eff-Date</th>\n",
       "    </tr>\n",
       "  </thead>\n",
       "  <tbody>\n",
       "    <tr>\n",
       "      <th>0</th>\n",
       "      <td>NaN</td>\n",
       "      <td>NaN</td>\n",
       "    </tr>\n",
       "    <tr>\n",
       "      <th>1</th>\n",
       "      <td>NaN</td>\n",
       "      <td>NaN</td>\n",
       "    </tr>\n",
       "    <tr>\n",
       "      <th>2</th>\n",
       "      <td>NaN</td>\n",
       "      <td>03/22/2019</td>\n",
       "    </tr>\n",
       "    <tr>\n",
       "      <th>3</th>\n",
       "      <td>NaN</td>\n",
       "      <td>03/22/2019</td>\n",
       "    </tr>\n",
       "    <tr>\n",
       "      <th>4</th>\n",
       "      <td>NaN</td>\n",
       "      <td>NaN</td>\n",
       "    </tr>\n",
       "    <tr>\n",
       "      <th>...</th>\n",
       "      <td>...</td>\n",
       "      <td>...</td>\n",
       "    </tr>\n",
       "    <tr>\n",
       "      <th>7946</th>\n",
       "      <td>08/19/2020</td>\n",
       "      <td>09/17/2020</td>\n",
       "    </tr>\n",
       "    <tr>\n",
       "      <th>7947</th>\n",
       "      <td>08/31/2020</td>\n",
       "      <td>09/17/2020</td>\n",
       "    </tr>\n",
       "    <tr>\n",
       "      <th>7948</th>\n",
       "      <td>09/27/2020</td>\n",
       "      <td>09/27/2020</td>\n",
       "    </tr>\n",
       "    <tr>\n",
       "      <th>7949</th>\n",
       "      <td>10/29/2020</td>\n",
       "      <td>10/29/2020</td>\n",
       "    </tr>\n",
       "    <tr>\n",
       "      <th>7950</th>\n",
       "      <td>11/04/2020</td>\n",
       "      <td>11/04/2020</td>\n",
       "    </tr>\n",
       "  </tbody>\n",
       "</table>\n",
       "<p>7951 rows × 2 columns</p>\n",
       "</div>"
      ],
      "text/plain": [
       "     Endo Eff-Date Policy/Endo Canc Eff-Date\n",
       "0              NaN                       NaN\n",
       "1              NaN                       NaN\n",
       "2              NaN                03/22/2019\n",
       "3              NaN                03/22/2019\n",
       "4              NaN                       NaN\n",
       "...            ...                       ...\n",
       "7946    08/19/2020                09/17/2020\n",
       "7947    08/31/2020                09/17/2020\n",
       "7948    09/27/2020                09/27/2020\n",
       "7949    10/29/2020                10/29/2020\n",
       "7950    11/04/2020                11/04/2020\n",
       "\n",
       "[7951 rows x 2 columns]"
      ]
     },
     "execution_count": 36,
     "metadata": {},
     "output_type": "execute_result"
    }
   ],
   "source": [
    "master[['Endo Eff-Date','Policy/Endo Canc Eff-Date']]"
   ]
  },
  {
   "cell_type": "code",
   "execution_count": 37,
   "metadata": {},
   "outputs": [
    {
     "data": {
      "text/plain": [
       "Policy Number                 object\n",
       "New/Renl/Endt/Canc/Flat       object\n",
       "Insurance Broker              object\n",
       "First Name                    object\n",
       "Last Name                     object\n",
       "Loss Paye                     object\n",
       "Date of Birth                 object\n",
       "Married yes/no                object\n",
       "Years Exp.                   float64\n",
       "Occupation                    object\n",
       "Mailing State                 object\n",
       "Policy Eff-Date               object\n",
       "Endo Eff-Date                 object\n",
       "Policy/Endo Canc Eff-Date     object\n",
       "Hull Prem                     object\n",
       "Primary Lia Prem              object\n",
       "Excess Lia Prem               object\n",
       "Primary Crew Prem             object\n",
       "Excess Crew Prem              object\n",
       "Pol Fee                       object\n",
       "Total Prem Incl Fee           object\n",
       "Total Prem Less Fee           object\n",
       "Collected Premium            float64\n",
       "Collected Fee                float64\n",
       "Date Paid                    float64\n",
       "Collected Total              float64\n",
       "Unpaid Premium               float64\n",
       "Unpaid Fee                   float64\n",
       "Unpaid Total                 float64\n",
       "Net Prem Due RFIB             object\n",
       "Vessel Name                   object\n",
       "Builder                       object\n",
       "Year Built                   float64\n",
       "Construction                  object\n",
       "Length                       float64\n",
       "Hull Type                     object\n",
       "Hull Limit                    object\n",
       "Power Type                    object\n",
       "# Engines                    float64\n",
       "Mooring State                 object\n",
       "Mooring County                object\n",
       "Mooring ZIP code              object\n",
       "Credits                       object\n",
       "Debits                        object\n",
       "Windstorm Deductible          object\n",
       "dtype: object"
      ]
     },
     "execution_count": 37,
     "metadata": {},
     "output_type": "execute_result"
    }
   ],
   "source": [
    "master.dtypes"
   ]
  },
  {
   "cell_type": "markdown",
   "metadata": {},
   "source": [
    "What to do about the repeat claims with the same policy number when merging? Should we combine them somehow? Is one test whether someone had one claim already? Don't want to combine them."
   ]
  },
  {
   "cell_type": "markdown",
   "metadata": {},
   "source": [
    "Would maybe want to create a duplicate row. Like, if this matches a policy number create a row for it."
   ]
  },
  {
   "cell_type": "markdown",
   "metadata": {},
   "source": [
    "### Turn dates into date/time columns"
   ]
  },
  {
   "cell_type": "code",
   "execution_count": 38,
   "metadata": {},
   "outputs": [
    {
     "data": {
      "text/html": [
       "<div>\n",
       "<style scoped>\n",
       "    .dataframe tbody tr th:only-of-type {\n",
       "        vertical-align: middle;\n",
       "    }\n",
       "\n",
       "    .dataframe tbody tr th {\n",
       "        vertical-align: top;\n",
       "    }\n",
       "\n",
       "    .dataframe thead th {\n",
       "        text-align: right;\n",
       "    }\n",
       "</style>\n",
       "<table border=\"1\" class=\"dataframe\">\n",
       "  <thead>\n",
       "    <tr style=\"text-align: right;\">\n",
       "      <th></th>\n",
       "      <th>Policy Eff-Date</th>\n",
       "      <th>Endo Eff-Date</th>\n",
       "    </tr>\n",
       "  </thead>\n",
       "  <tbody>\n",
       "    <tr>\n",
       "      <th>0</th>\n",
       "      <td>2016-03-31</td>\n",
       "      <td>NaT</td>\n",
       "    </tr>\n",
       "    <tr>\n",
       "      <th>1</th>\n",
       "      <td>2016-03-18</td>\n",
       "      <td>NaT</td>\n",
       "    </tr>\n",
       "    <tr>\n",
       "      <th>2</th>\n",
       "      <td>2019-03-22</td>\n",
       "      <td>NaT</td>\n",
       "    </tr>\n",
       "    <tr>\n",
       "      <th>3</th>\n",
       "      <td>2019-03-22</td>\n",
       "      <td>NaT</td>\n",
       "    </tr>\n",
       "    <tr>\n",
       "      <th>4</th>\n",
       "      <td>2016-03-30</td>\n",
       "      <td>NaT</td>\n",
       "    </tr>\n",
       "    <tr>\n",
       "      <th>...</th>\n",
       "      <td>...</td>\n",
       "      <td>...</td>\n",
       "    </tr>\n",
       "    <tr>\n",
       "      <th>7946</th>\n",
       "      <td>2020-03-15</td>\n",
       "      <td>2020-08-19</td>\n",
       "    </tr>\n",
       "    <tr>\n",
       "      <th>7947</th>\n",
       "      <td>2020-03-15</td>\n",
       "      <td>2020-08-31</td>\n",
       "    </tr>\n",
       "    <tr>\n",
       "      <th>7948</th>\n",
       "      <td>2020-05-01</td>\n",
       "      <td>2020-09-27</td>\n",
       "    </tr>\n",
       "    <tr>\n",
       "      <th>7949</th>\n",
       "      <td>2020-05-01</td>\n",
       "      <td>2020-10-29</td>\n",
       "    </tr>\n",
       "    <tr>\n",
       "      <th>7950</th>\n",
       "      <td>2020-12-01</td>\n",
       "      <td>2020-11-04</td>\n",
       "    </tr>\n",
       "  </tbody>\n",
       "</table>\n",
       "<p>7951 rows × 2 columns</p>\n",
       "</div>"
      ],
      "text/plain": [
       "     Policy Eff-Date Endo Eff-Date\n",
       "0         2016-03-31           NaT\n",
       "1         2016-03-18           NaT\n",
       "2         2019-03-22           NaT\n",
       "3         2019-03-22           NaT\n",
       "4         2016-03-30           NaT\n",
       "...              ...           ...\n",
       "7946      2020-03-15    2020-08-19\n",
       "7947      2020-03-15    2020-08-31\n",
       "7948      2020-05-01    2020-09-27\n",
       "7949      2020-05-01    2020-10-29\n",
       "7950      2020-12-01    2020-11-04\n",
       "\n",
       "[7951 rows x 2 columns]"
      ]
     },
     "execution_count": 38,
     "metadata": {},
     "output_type": "execute_result"
    }
   ],
   "source": [
    "master[['Policy Eff-Date', 'Endo Eff-Date', ]].apply(pd.to_datetime)"
   ]
  },
  {
   "cell_type": "markdown",
   "metadata": {},
   "source": [
    "**Below:** There was an error converting to date time because one DOB was set to 9605. The policy associated with this DOB was not in the claims report so I decided to drop it."
   ]
  },
  {
   "cell_type": "code",
   "execution_count": 39,
   "metadata": {},
   "outputs": [
    {
     "data": {
      "text/plain": [
       "['1948', '1952', '1956', '1956', '1943']"
      ]
     },
     "execution_count": 39,
     "metadata": {},
     "output_type": "execute_result"
    }
   ],
   "source": [
    "# Create a list of all the DOB years\n",
    "year_list = []\n",
    "for n in master['Date of Birth']:\n",
    "    year_list.append(n[6:10])\n",
    "year_list[:5]"
   ]
  },
  {
   "cell_type": "code",
   "execution_count": 40,
   "metadata": {},
   "outputs": [
    {
     "data": {
      "text/plain": [
       "5030    9605\n",
       "3261    9605\n",
       "5734    9407\n",
       "4115    9407\n",
       "3406    2036\n",
       "        ... \n",
       "1769    1932\n",
       "5895    1931\n",
       "4351    1931\n",
       "2620    1931\n",
       "2251    1928\n",
       "Name: DOB_year, Length: 7951, dtype: object"
      ]
     },
     "execution_count": 40,
     "metadata": {},
     "output_type": "execute_result"
    }
   ],
   "source": [
    "# Create DOB year column\n",
    "master['DOB_year'] = year_list\n",
    "\n",
    "# Check the biggest years to see if they make sense\n",
    "master['DOB_year'].sort_values(ascending=False)"
   ]
  },
  {
   "cell_type": "code",
   "execution_count": 41,
   "metadata": {},
   "outputs": [],
   "source": [
    "master['DOB_year'] = pd.to_numeric(master['DOB_year'])"
   ]
  },
  {
   "cell_type": "code",
   "execution_count": 42,
   "metadata": {},
   "outputs": [
    {
     "name": "stdout",
     "output_type": "stream",
     "text": [
      "30\n"
     ]
    }
   ],
   "source": [
    "# How many incorrect birthdays?\n",
    "print(len(master[master['DOB_year'] > 2000]))\n",
    "\n",
    "# Create a dataframe to share these errors with the client\n",
    "wrong_bdays = master[master['DOB_year'] > 2000]\n",
    "\n",
    "# Export the dataframe to csv\n",
    "wrong_bdays.to_csv('wrong_bdays.csv')"
   ]
  },
  {
   "cell_type": "code",
   "execution_count": 43,
   "metadata": {},
   "outputs": [],
   "source": [
    "# Drop all rows where DOB year is greater than 2000\n",
    "master.drop(master.loc[master['DOB_year'] > 2000].index, inplace=True)"
   ]
  },
  {
   "cell_type": "code",
   "execution_count": 44,
   "metadata": {},
   "outputs": [
    {
     "data": {
      "text/html": [
       "<div>\n",
       "<style scoped>\n",
       "    .dataframe tbody tr th:only-of-type {\n",
       "        vertical-align: middle;\n",
       "    }\n",
       "\n",
       "    .dataframe tbody tr th {\n",
       "        vertical-align: top;\n",
       "    }\n",
       "\n",
       "    .dataframe thead th {\n",
       "        text-align: right;\n",
       "    }\n",
       "</style>\n",
       "<table border=\"1\" class=\"dataframe\">\n",
       "  <thead>\n",
       "    <tr style=\"text-align: right;\">\n",
       "      <th></th>\n",
       "      <th>Policy Number</th>\n",
       "      <th>New/Renl/Endt/Canc/Flat</th>\n",
       "      <th>Insurance Broker</th>\n",
       "      <th>First Name</th>\n",
       "      <th>Last Name</th>\n",
       "      <th>Loss Paye</th>\n",
       "      <th>Date of Birth</th>\n",
       "      <th>Married yes/no</th>\n",
       "      <th>Years Exp.</th>\n",
       "      <th>Occupation</th>\n",
       "      <th>...</th>\n",
       "      <th>Hull Limit</th>\n",
       "      <th>Power Type</th>\n",
       "      <th># Engines</th>\n",
       "      <th>Mooring State</th>\n",
       "      <th>Mooring County</th>\n",
       "      <th>Mooring ZIP code</th>\n",
       "      <th>Credits</th>\n",
       "      <th>Debits</th>\n",
       "      <th>Windstorm Deductible</th>\n",
       "      <th>DOB_year</th>\n",
       "    </tr>\n",
       "  </thead>\n",
       "  <tbody>\n",
       "  </tbody>\n",
       "</table>\n",
       "<p>0 rows × 46 columns</p>\n",
       "</div>"
      ],
      "text/plain": [
       "Empty DataFrame\n",
       "Columns: [Policy Number, New/Renl/Endt/Canc/Flat, Insurance Broker, First Name, Last Name, Loss Paye, Date of Birth, Married yes/no, Years Exp., Occupation, Mailing State, Policy Eff-Date, Endo Eff-Date, Policy/Endo Canc Eff-Date, Hull Prem, Primary Lia Prem, Excess Lia Prem, Primary Crew Prem, Excess Crew Prem, Pol Fee, Total Prem Incl Fee, Total Prem Less Fee, Collected Premium, Collected Fee, Date Paid, Collected Total, Unpaid Premium, Unpaid Fee, Unpaid Total, Net Prem Due RFIB, Vessel Name, Builder, Year Built, Construction, Length, Hull Type, Hull Limit, Power Type, # Engines, Mooring State, Mooring County, Mooring ZIP code, Credits, Debits, Windstorm Deductible, DOB_year]\n",
       "Index: []\n",
       "\n",
       "[0 rows x 46 columns]"
      ]
     },
     "execution_count": 44,
     "metadata": {},
     "output_type": "execute_result"
    }
   ],
   "source": [
    "master[master['DOB_year'] > 2000]"
   ]
  },
  {
   "cell_type": "code",
   "execution_count": 45,
   "metadata": {},
   "outputs": [
    {
     "data": {
      "text/plain": [
       "<bound method Series.sort_values of 0       72\n",
       "1       68\n",
       "2       64\n",
       "3       64\n",
       "4       77\n",
       "        ..\n",
       "7944    62\n",
       "7945    53\n",
       "7946    56\n",
       "7947    56\n",
       "7950    62\n",
       "Name: age, Length: 7921, dtype: int64>"
      ]
     },
     "execution_count": 45,
     "metadata": {},
     "output_type": "execute_result"
    }
   ],
   "source": [
    "# Create and age column\n",
    "master['age'] = 2020 - master['DOB_year']\n",
    "master['age'].sort_values"
   ]
  },
  {
   "cell_type": "code",
   "execution_count": 46,
   "metadata": {},
   "outputs": [],
   "source": [
    "master['Policy/Endo Canc Eff-Date'] = master['Policy/Endo Canc Eff-Date'].astype(str)"
   ]
  },
  {
   "cell_type": "code",
   "execution_count": 47,
   "metadata": {},
   "outputs": [
    {
     "data": {
      "text/plain": [
       "['', '', '2019', '2019', '', '', '', '', '', '']"
      ]
     },
     "execution_count": 47,
     "metadata": {},
     "output_type": "execute_result"
    }
   ],
   "source": [
    "# Create a list of all the Canc date years\n",
    "years_list = []\n",
    "for n in master['Policy/Endo Canc Eff-Date']:\n",
    "    years_list.append(n[6:10])\n",
    "years_list[:10]"
   ]
  },
  {
   "cell_type": "code",
   "execution_count": 48,
   "metadata": {},
   "outputs": [
    {
     "data": {
      "text/plain": [
       "['9999',\n",
       " '9999',\n",
       " '9999',\n",
       " '9999',\n",
       " '9000',\n",
       " '9000',\n",
       " '9000',\n",
       " '9000',\n",
       " '9000',\n",
       " '9000']"
      ]
     },
     "execution_count": 48,
     "metadata": {},
     "output_type": "execute_result"
    }
   ],
   "source": [
    "# Look at the dates to see where the error is\n",
    "sorted(years_list, reverse=True)[:10]"
   ]
  },
  {
   "cell_type": "code",
   "execution_count": 49,
   "metadata": {},
   "outputs": [
    {
     "data": {
      "text/plain": [
       "10"
      ]
     },
     "execution_count": 49,
     "metadata": {},
     "output_type": "execute_result"
    }
   ],
   "source": [
    "# Create column of year cancelled\n",
    "master['canc_year'] = years_list\n",
    "\n",
    "# Turn it into a nmeric column\n",
    "master['canc_year']  = pd.to_numeric(master['canc_year'])\n",
    "\n",
    "# Look at how many problems there are\n",
    "len(master[master['canc_year'] > 2020])"
   ]
  },
  {
   "cell_type": "code",
   "execution_count": 50,
   "metadata": {},
   "outputs": [],
   "source": [
    "# Drop rows with dates over 2020\n",
    "master.drop(master.loc[master['canc_year'] > 2020].index, inplace=True)"
   ]
  },
  {
   "cell_type": "code",
   "execution_count": 59,
   "metadata": {},
   "outputs": [
    {
     "data": {
      "text/plain": [
       "0             NaT\n",
       "1             NaT\n",
       "2      2019-03-22\n",
       "3      2019-03-22\n",
       "4             NaT\n",
       "          ...    \n",
       "7944   2020-04-17\n",
       "7945   2020-08-15\n",
       "7946   2020-09-17\n",
       "7947   2020-09-17\n",
       "7950   2020-11-04\n",
       "Name: Policy/Endo Canc Eff-Date, Length: 7911, dtype: datetime64[ns]"
      ]
     },
     "execution_count": 59,
     "metadata": {},
     "output_type": "execute_result"
    }
   ],
   "source": [
    "# Now turn endorsement/policy cancellation date into date/time object\n",
    "pd.to_datetime(master['Policy/Endo Canc Eff-Date'])"
   ]
  },
  {
   "cell_type": "code",
   "execution_count": 58,
   "metadata": {},
   "outputs": [
    {
     "data": {
      "text/plain": [
       "Policy Number                 object\n",
       "New/Renl/Endt/Canc/Flat       object\n",
       "Insurance Broker              object\n",
       "First Name                    object\n",
       "Last Name                     object\n",
       "Loss Paye                     object\n",
       "Date of Birth                 object\n",
       "Married yes/no                object\n",
       "Years Exp.                   float64\n",
       "Occupation                    object\n",
       "Mailing State                 object\n",
       "Policy Eff-Date               object\n",
       "Endo Eff-Date                 object\n",
       "Policy/Endo Canc Eff-Date     object\n",
       "Hull Prem                     object\n",
       "Primary Lia Prem              object\n",
       "Excess Lia Prem               object\n",
       "Primary Crew Prem             object\n",
       "Excess Crew Prem              object\n",
       "Pol Fee                       object\n",
       "Total Prem Incl Fee           object\n",
       "Total Prem Less Fee           object\n",
       "Collected Premium            float64\n",
       "Collected Fee                float64\n",
       "Date Paid                    float64\n",
       "Collected Total              float64\n",
       "Unpaid Premium               float64\n",
       "Unpaid Fee                   float64\n",
       "Unpaid Total                 float64\n",
       "Net Prem Due RFIB             object\n",
       "Vessel Name                   object\n",
       "Builder                       object\n",
       "Year Built                   float64\n",
       "Construction                  object\n",
       "Length                       float64\n",
       "Hull Type                     object\n",
       "Hull Limit                    object\n",
       "Power Type                    object\n",
       "# Engines                    float64\n",
       "Mooring State                 object\n",
       "Mooring County                object\n",
       "Mooring ZIP code              object\n",
       "Credits                       object\n",
       "Debits                        object\n",
       "Windstorm Deductible          object\n",
       "DOB_year                       int64\n",
       "age                            int64\n",
       "canc_year                    float64\n",
       "dtype: object"
      ]
     },
     "execution_count": 58,
     "metadata": {},
     "output_type": "execute_result"
    }
   ],
   "source": [
    "master.dtypes"
   ]
  },
  {
   "cell_type": "code",
   "execution_count": 88,
   "metadata": {},
   "outputs": [
    {
     "ename": "TypeError",
     "evalue": "cannot subtract DatetimeArray from ndarray",
     "output_type": "error",
     "traceback": [
      "\u001b[0;31m---------------------------------------------------------------------------\u001b[0m",
      "\u001b[0;31mTypeError\u001b[0m                                 Traceback (most recent call last)",
      "\u001b[0;32m<ipython-input-88-e702e19b9707>\u001b[0m in \u001b[0;36m<module>\u001b[0;34m\u001b[0m\n\u001b[1;32m      1\u001b[0m \u001b[0;31m# Create length of policy held column\u001b[0m\u001b[0;34m\u001b[0m\u001b[0;34m\u001b[0m\u001b[0;34m\u001b[0m\u001b[0m\n\u001b[0;32m----> 2\u001b[0;31m \u001b[0mmaster\u001b[0m\u001b[0;34m[\u001b[0m\u001b[0;34m'policy_length'\u001b[0m\u001b[0;34m]\u001b[0m \u001b[0;34m=\u001b[0m \u001b[0mmaster\u001b[0m\u001b[0;34m[\u001b[0m\u001b[0;34m'Policy/Endo Canc Eff-Date'\u001b[0m\u001b[0;34m]\u001b[0m \u001b[0;34m-\u001b[0m \u001b[0mmaster\u001b[0m\u001b[0;34m[\u001b[0m\u001b[0;34m'Policy Eff-Date'\u001b[0m\u001b[0;34m]\u001b[0m\u001b[0;34m\u001b[0m\u001b[0;34m\u001b[0m\u001b[0m\n\u001b[0m\u001b[1;32m      3\u001b[0m \u001b[0mmaster\u001b[0m\u001b[0;34m.\u001b[0m\u001b[0mgroupby\u001b[0m\u001b[0;34m(\u001b[0m\u001b[0;34m'New/Renl/Endt/Canc/Flat'\u001b[0m\u001b[0;34m)\u001b[0m\u001b[0;34m[\u001b[0m\u001b[0;34m'policy_length'\u001b[0m\u001b[0;34m]\u001b[0m\u001b[0;34m.\u001b[0m\u001b[0mmean\u001b[0m\u001b[0;34m(\u001b[0m\u001b[0;34m)\u001b[0m\u001b[0;34m\u001b[0m\u001b[0;34m\u001b[0m\u001b[0m\n",
      "\u001b[0;32m~/opt/anaconda3/envs/dsi/lib/python3.8/site-packages/pandas/core/ops/common.py\u001b[0m in \u001b[0;36mnew_method\u001b[0;34m(self, other)\u001b[0m\n\u001b[1;32m     63\u001b[0m         \u001b[0mother\u001b[0m \u001b[0;34m=\u001b[0m \u001b[0mitem_from_zerodim\u001b[0m\u001b[0;34m(\u001b[0m\u001b[0mother\u001b[0m\u001b[0;34m)\u001b[0m\u001b[0;34m\u001b[0m\u001b[0;34m\u001b[0m\u001b[0m\n\u001b[1;32m     64\u001b[0m \u001b[0;34m\u001b[0m\u001b[0m\n\u001b[0;32m---> 65\u001b[0;31m         \u001b[0;32mreturn\u001b[0m \u001b[0mmethod\u001b[0m\u001b[0;34m(\u001b[0m\u001b[0mself\u001b[0m\u001b[0;34m,\u001b[0m \u001b[0mother\u001b[0m\u001b[0;34m)\u001b[0m\u001b[0;34m\u001b[0m\u001b[0;34m\u001b[0m\u001b[0m\n\u001b[0m\u001b[1;32m     66\u001b[0m \u001b[0;34m\u001b[0m\u001b[0m\n\u001b[1;32m     67\u001b[0m     \u001b[0;32mreturn\u001b[0m \u001b[0mnew_method\u001b[0m\u001b[0;34m\u001b[0m\u001b[0;34m\u001b[0m\u001b[0m\n",
      "\u001b[0;32m~/opt/anaconda3/envs/dsi/lib/python3.8/site-packages/pandas/core/ops/__init__.py\u001b[0m in \u001b[0;36mwrapper\u001b[0;34m(left, right)\u001b[0m\n\u001b[1;32m    341\u001b[0m         \u001b[0mlvalues\u001b[0m \u001b[0;34m=\u001b[0m \u001b[0mextract_array\u001b[0m\u001b[0;34m(\u001b[0m\u001b[0mleft\u001b[0m\u001b[0;34m,\u001b[0m \u001b[0mextract_numpy\u001b[0m\u001b[0;34m=\u001b[0m\u001b[0;32mTrue\u001b[0m\u001b[0;34m)\u001b[0m\u001b[0;34m\u001b[0m\u001b[0;34m\u001b[0m\u001b[0m\n\u001b[1;32m    342\u001b[0m         \u001b[0mrvalues\u001b[0m \u001b[0;34m=\u001b[0m \u001b[0mextract_array\u001b[0m\u001b[0;34m(\u001b[0m\u001b[0mright\u001b[0m\u001b[0;34m,\u001b[0m \u001b[0mextract_numpy\u001b[0m\u001b[0;34m=\u001b[0m\u001b[0;32mTrue\u001b[0m\u001b[0;34m)\u001b[0m\u001b[0;34m\u001b[0m\u001b[0;34m\u001b[0m\u001b[0m\n\u001b[0;32m--> 343\u001b[0;31m         \u001b[0mresult\u001b[0m \u001b[0;34m=\u001b[0m \u001b[0marithmetic_op\u001b[0m\u001b[0;34m(\u001b[0m\u001b[0mlvalues\u001b[0m\u001b[0;34m,\u001b[0m \u001b[0mrvalues\u001b[0m\u001b[0;34m,\u001b[0m \u001b[0mop\u001b[0m\u001b[0;34m)\u001b[0m\u001b[0;34m\u001b[0m\u001b[0;34m\u001b[0m\u001b[0m\n\u001b[0m\u001b[1;32m    344\u001b[0m \u001b[0;34m\u001b[0m\u001b[0m\n\u001b[1;32m    345\u001b[0m         \u001b[0;32mreturn\u001b[0m \u001b[0mleft\u001b[0m\u001b[0;34m.\u001b[0m\u001b[0m_construct_result\u001b[0m\u001b[0;34m(\u001b[0m\u001b[0mresult\u001b[0m\u001b[0;34m,\u001b[0m \u001b[0mname\u001b[0m\u001b[0;34m=\u001b[0m\u001b[0mres_name\u001b[0m\u001b[0;34m)\u001b[0m\u001b[0;34m\u001b[0m\u001b[0;34m\u001b[0m\u001b[0m\n",
      "\u001b[0;32m~/opt/anaconda3/envs/dsi/lib/python3.8/site-packages/pandas/core/ops/array_ops.py\u001b[0m in \u001b[0;36marithmetic_op\u001b[0;34m(left, right, op)\u001b[0m\n\u001b[1;32m    184\u001b[0m     \u001b[0;32mif\u001b[0m \u001b[0mshould_extension_dispatch\u001b[0m\u001b[0;34m(\u001b[0m\u001b[0mlvalues\u001b[0m\u001b[0;34m,\u001b[0m \u001b[0mrvalues\u001b[0m\u001b[0;34m)\u001b[0m \u001b[0;32mor\u001b[0m \u001b[0misinstance\u001b[0m\u001b[0;34m(\u001b[0m\u001b[0mrvalues\u001b[0m\u001b[0;34m,\u001b[0m \u001b[0mTimedelta\u001b[0m\u001b[0;34m)\u001b[0m\u001b[0;34m:\u001b[0m\u001b[0;34m\u001b[0m\u001b[0;34m\u001b[0m\u001b[0m\n\u001b[1;32m    185\u001b[0m         \u001b[0;31m# Timedelta is included because numexpr will fail on it, see GH#31457\u001b[0m\u001b[0;34m\u001b[0m\u001b[0;34m\u001b[0m\u001b[0;34m\u001b[0m\u001b[0m\n\u001b[0;32m--> 186\u001b[0;31m         \u001b[0mres_values\u001b[0m \u001b[0;34m=\u001b[0m \u001b[0mop\u001b[0m\u001b[0;34m(\u001b[0m\u001b[0mlvalues\u001b[0m\u001b[0;34m,\u001b[0m \u001b[0mrvalues\u001b[0m\u001b[0;34m)\u001b[0m\u001b[0;34m\u001b[0m\u001b[0;34m\u001b[0m\u001b[0m\n\u001b[0m\u001b[1;32m    187\u001b[0m \u001b[0;34m\u001b[0m\u001b[0m\n\u001b[1;32m    188\u001b[0m     \u001b[0;32melse\u001b[0m\u001b[0;34m:\u001b[0m\u001b[0;34m\u001b[0m\u001b[0;34m\u001b[0m\u001b[0m\n",
      "\u001b[0;32m~/opt/anaconda3/envs/dsi/lib/python3.8/site-packages/pandas/core/arrays/datetimelike.py\u001b[0m in \u001b[0;36m__rsub__\u001b[0;34m(self, other)\u001b[0m\n\u001b[1;32m   1520\u001b[0m             \u001b[0;31m# GH#19959 datetime - datetime is well-defined as timedelta,\u001b[0m\u001b[0;34m\u001b[0m\u001b[0;34m\u001b[0m\u001b[0;34m\u001b[0m\u001b[0m\n\u001b[1;32m   1521\u001b[0m             \u001b[0;31m# but any other type - datetime is not well-defined.\u001b[0m\u001b[0;34m\u001b[0m\u001b[0;34m\u001b[0m\u001b[0;34m\u001b[0m\u001b[0m\n\u001b[0;32m-> 1522\u001b[0;31m             raise TypeError(\n\u001b[0m\u001b[1;32m   1523\u001b[0m                 \u001b[0;34mf\"cannot subtract {type(self).__name__} from {type(other).__name__}\"\u001b[0m\u001b[0;34m\u001b[0m\u001b[0;34m\u001b[0m\u001b[0m\n\u001b[1;32m   1524\u001b[0m             )\n",
      "\u001b[0;31mTypeError\u001b[0m: cannot subtract DatetimeArray from ndarray"
     ]
    }
   ],
   "source": [
    "# Create length of policy held column\n",
    "master['policy_length'] = master['Policy/Endo Canc Eff-Date'] - master['Policy Eff-Date']\n",
    "master.groupby('New/Renl/Endt/Canc/Flat')['policy_length'].mean()"
   ]
  },
  {
   "cell_type": "markdown",
   "metadata": {},
   "source": [
    "Questions:<br>\n",
    "- revisit up above  column, some values may not make sense\n",
    "- are all endt-flat repeat policies that exist in the other categories? should i just drop them all?\n",
    "- should i get rid of flat one all together?\n",
    "- why aren't these now converting to date/time objects?"
   ]
  },
  {
   "cell_type": "code",
   "execution_count": null,
   "metadata": {},
   "outputs": [],
   "source": []
  }
 ],
 "metadata": {
  "kernelspec": {
   "display_name": "Python 3",
   "language": "python",
   "name": "python3"
  },
  "language_info": {
   "codemirror_mode": {
    "name": "ipython",
    "version": 3
   },
   "file_extension": ".py",
   "mimetype": "text/x-python",
   "name": "python",
   "nbconvert_exporter": "python",
   "pygments_lexer": "ipython3",
   "version": "3.8.3"
  }
 },
 "nbformat": 4,
 "nbformat_minor": 4
}
