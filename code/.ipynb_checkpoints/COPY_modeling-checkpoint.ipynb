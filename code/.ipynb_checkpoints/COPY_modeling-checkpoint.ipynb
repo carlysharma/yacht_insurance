{
 "cells": [
  {
   "cell_type": "markdown",
   "metadata": {},
   "source": [
    "# Yacht Insurance Claims Data \n",
    "##### NOTEBOOK 3"
   ]
  },
  {
   "cell_type": "markdown",
   "metadata": {},
   "source": [
    "**Problem Statement:** What is the likelihood that a yacht insurance policy has at least 1 claim within five years?"
   ]
  },
  {
   "cell_type": "markdown",
   "metadata": {},
   "source": [
    "**Contents:**"
   ]
  },
  {
   "cell_type": "markdown",
   "metadata": {},
   "source": [
    "___\n",
    "## Import libraries and read in data"
   ]
  },
  {
   "cell_type": "code",
   "execution_count": 1,
   "metadata": {},
   "outputs": [],
   "source": [
    "import pandas as pd\n",
    "import seaborn as sns\n",
    "import numpy as np\n",
    "import matplotlib.pyplot as plt\n",
    "from sklearn.neighbors import KNeighborsClassifier\n",
    "from sklearn.model_selection import train_test_split, cross_val_score,GridSearchCV, RepeatedStratifiedKFold\n",
    "from sklearn.preprocessing import StandardScaler\n",
    "from sklearn.metrics import accuracy_score, classification_report, confusion_matrix, recall_score, f1_score \n",
    "from sklearn.ensemble import RandomForestClassifier, ExtraTreesClassifier\n",
    "from sklearn.tree import DecisionTreeClassifier\n",
    "from sklearn.pipeline import Pipeline\n",
    "from imblearn.over_sampling import SMOTE, RandomOverSampler\n",
    "from imblearn.under_sampling import RandomUnderSampler\n",
    "from imblearn.pipeline import Pipeline\n",
    "from collections import Counter\n",
    "from sklearn.linear_model import LogisticRegression, ElasticNetCV, LogisticRegressionCV\n",
    "from sklearn.inspection import permutation_importance\n",
    "from matplotlib import pyplot"
   ]
  },
  {
   "cell_type": "code",
   "execution_count": 2,
   "metadata": {},
   "outputs": [],
   "source": [
    "np.random.seed(42)"
   ]
  },
  {
   "cell_type": "code",
   "execution_count": 3,
   "metadata": {},
   "outputs": [
    {
     "data": {
      "text/html": [
       "<div>\n",
       "<style scoped>\n",
       "    .dataframe tbody tr th:only-of-type {\n",
       "        vertical-align: middle;\n",
       "    }\n",
       "\n",
       "    .dataframe tbody tr th {\n",
       "        vertical-align: top;\n",
       "    }\n",
       "\n",
       "    .dataframe thead th {\n",
       "        text-align: right;\n",
       "    }\n",
       "</style>\n",
       "<table border=\"1\" class=\"dataframe\">\n",
       "  <thead>\n",
       "    <tr style=\"text-align: right;\">\n",
       "      <th></th>\n",
       "      <th>Years Exp.</th>\n",
       "      <th>Year Built</th>\n",
       "      <th>Length</th>\n",
       "      <th>Hull Limit</th>\n",
       "      <th># Engines</th>\n",
       "      <th>num_claims</th>\n",
       "      <th>Age</th>\n",
       "      <th>policy_length</th>\n",
       "      <th>New/Renl/Endt/Canc/Flat_endt</th>\n",
       "      <th>New/Renl/Endt/Canc/Flat_endt-canc</th>\n",
       "      <th>...</th>\n",
       "      <th>Mooring County_sarasota</th>\n",
       "      <th>Mooring County_sinaloa</th>\n",
       "      <th>Mooring County_skagit</th>\n",
       "      <th>Mooring County_sonora</th>\n",
       "      <th>Mooring County_south pacific</th>\n",
       "      <th>Mooring County_st. johns</th>\n",
       "      <th>Mooring County_st. lucie</th>\n",
       "      <th>Mooring County_ventura</th>\n",
       "      <th>Mooring County_volusia</th>\n",
       "      <th>Mooring County_whatcom</th>\n",
       "    </tr>\n",
       "  </thead>\n",
       "  <tbody>\n",
       "    <tr>\n",
       "      <th>0</th>\n",
       "      <td>2.0</td>\n",
       "      <td>1997.0</td>\n",
       "      <td>63.0</td>\n",
       "      <td>500000.0</td>\n",
       "      <td>2.0</td>\n",
       "      <td>0.0</td>\n",
       "      <td>73</td>\n",
       "      <td>1759.0</td>\n",
       "      <td>0</td>\n",
       "      <td>0</td>\n",
       "      <td>...</td>\n",
       "      <td>0</td>\n",
       "      <td>0</td>\n",
       "      <td>0</td>\n",
       "      <td>0</td>\n",
       "      <td>0</td>\n",
       "      <td>0</td>\n",
       "      <td>0</td>\n",
       "      <td>0</td>\n",
       "      <td>0</td>\n",
       "      <td>0</td>\n",
       "    </tr>\n",
       "    <tr>\n",
       "      <th>1</th>\n",
       "      <td>22.0</td>\n",
       "      <td>2006.0</td>\n",
       "      <td>61.0</td>\n",
       "      <td>1275000.0</td>\n",
       "      <td>2.0</td>\n",
       "      <td>0.0</td>\n",
       "      <td>69</td>\n",
       "      <td>1772.0</td>\n",
       "      <td>0</td>\n",
       "      <td>0</td>\n",
       "      <td>...</td>\n",
       "      <td>0</td>\n",
       "      <td>0</td>\n",
       "      <td>0</td>\n",
       "      <td>0</td>\n",
       "      <td>0</td>\n",
       "      <td>0</td>\n",
       "      <td>0</td>\n",
       "      <td>0</td>\n",
       "      <td>0</td>\n",
       "      <td>0</td>\n",
       "    </tr>\n",
       "    <tr>\n",
       "      <th>2</th>\n",
       "      <td>30.0</td>\n",
       "      <td>2001.0</td>\n",
       "      <td>48.0</td>\n",
       "      <td>400000.0</td>\n",
       "      <td>2.0</td>\n",
       "      <td>0.0</td>\n",
       "      <td>78</td>\n",
       "      <td>1760.0</td>\n",
       "      <td>0</td>\n",
       "      <td>0</td>\n",
       "      <td>...</td>\n",
       "      <td>0</td>\n",
       "      <td>0</td>\n",
       "      <td>0</td>\n",
       "      <td>0</td>\n",
       "      <td>0</td>\n",
       "      <td>0</td>\n",
       "      <td>0</td>\n",
       "      <td>0</td>\n",
       "      <td>0</td>\n",
       "      <td>0</td>\n",
       "    </tr>\n",
       "    <tr>\n",
       "      <th>3</th>\n",
       "      <td>20.0</td>\n",
       "      <td>1973.0</td>\n",
       "      <td>32.0</td>\n",
       "      <td>35000.0</td>\n",
       "      <td>0.0</td>\n",
       "      <td>0.0</td>\n",
       "      <td>44</td>\n",
       "      <td>1760.0</td>\n",
       "      <td>0</td>\n",
       "      <td>0</td>\n",
       "      <td>...</td>\n",
       "      <td>0</td>\n",
       "      <td>0</td>\n",
       "      <td>0</td>\n",
       "      <td>0</td>\n",
       "      <td>0</td>\n",
       "      <td>0</td>\n",
       "      <td>0</td>\n",
       "      <td>0</td>\n",
       "      <td>0</td>\n",
       "      <td>0</td>\n",
       "    </tr>\n",
       "    <tr>\n",
       "      <th>4</th>\n",
       "      <td>30.0</td>\n",
       "      <td>1989.0</td>\n",
       "      <td>43.0</td>\n",
       "      <td>200000.0</td>\n",
       "      <td>1.0</td>\n",
       "      <td>0.0</td>\n",
       "      <td>70</td>\n",
       "      <td>1757.0</td>\n",
       "      <td>0</td>\n",
       "      <td>0</td>\n",
       "      <td>...</td>\n",
       "      <td>0</td>\n",
       "      <td>0</td>\n",
       "      <td>0</td>\n",
       "      <td>0</td>\n",
       "      <td>0</td>\n",
       "      <td>0</td>\n",
       "      <td>0</td>\n",
       "      <td>0</td>\n",
       "      <td>0</td>\n",
       "      <td>0</td>\n",
       "    </tr>\n",
       "  </tbody>\n",
       "</table>\n",
       "<p>5 rows × 118 columns</p>\n",
       "</div>"
      ],
      "text/plain": [
       "   Years Exp.  Year Built  Length  Hull Limit  # Engines  num_claims  Age  \\\n",
       "0         2.0      1997.0    63.0    500000.0        2.0         0.0   73   \n",
       "1        22.0      2006.0    61.0   1275000.0        2.0         0.0   69   \n",
       "2        30.0      2001.0    48.0    400000.0        2.0         0.0   78   \n",
       "3        20.0      1973.0    32.0     35000.0        0.0         0.0   44   \n",
       "4        30.0      1989.0    43.0    200000.0        1.0         0.0   70   \n",
       "\n",
       "   policy_length  New/Renl/Endt/Canc/Flat_endt  \\\n",
       "0         1759.0                             0   \n",
       "1         1772.0                             0   \n",
       "2         1760.0                             0   \n",
       "3         1760.0                             0   \n",
       "4         1757.0                             0   \n",
       "\n",
       "   New/Renl/Endt/Canc/Flat_endt-canc  ...  Mooring County_sarasota  \\\n",
       "0                                  0  ...                        0   \n",
       "1                                  0  ...                        0   \n",
       "2                                  0  ...                        0   \n",
       "3                                  0  ...                        0   \n",
       "4                                  0  ...                        0   \n",
       "\n",
       "   Mooring County_sinaloa  Mooring County_skagit  Mooring County_sonora  \\\n",
       "0                       0                      0                      0   \n",
       "1                       0                      0                      0   \n",
       "2                       0                      0                      0   \n",
       "3                       0                      0                      0   \n",
       "4                       0                      0                      0   \n",
       "\n",
       "   Mooring County_south pacific  Mooring County_st. johns  \\\n",
       "0                             0                         0   \n",
       "1                             0                         0   \n",
       "2                             0                         0   \n",
       "3                             0                         0   \n",
       "4                             0                         0   \n",
       "\n",
       "   Mooring County_st. lucie  Mooring County_ventura  Mooring County_volusia  \\\n",
       "0                         0                       0                       0   \n",
       "1                         0                       0                       0   \n",
       "2                         0                       0                       0   \n",
       "3                         0                       0                       0   \n",
       "4                         0                       0                       0   \n",
       "\n",
       "   Mooring County_whatcom  \n",
       "0                       0  \n",
       "1                       0  \n",
       "2                       0  \n",
       "3                       0  \n",
       "4                       0  \n",
       "\n",
       "[5 rows x 118 columns]"
      ]
     },
     "execution_count": 3,
     "metadata": {},
     "output_type": "execute_result"
    }
   ],
   "source": [
    "combined = pd.read_csv('../datasets/combined2.csv')\n",
    "\n",
    "combined.head()"
   ]
  },
  {
   "cell_type": "markdown",
   "metadata": {},
   "source": [
    "---"
   ]
  },
  {
   "cell_type": "markdown",
   "metadata": {},
   "source": [
    "# MODELING: Multiclass Classification"
   ]
  },
  {
   "cell_type": "markdown",
   "metadata": {},
   "source": [
    "**BELOW:** Initially we wanted to see if we could do a multiclass classification model to predict whether a boat might have 0, 1, 2, or 3 claims. Unfortunately, with so few examples for our models to train on for 2 or 3 claims, we decided to move forward with just binary (having 0 or at least 1 claim)."
   ]
  },
  {
   "cell_type": "markdown",
   "metadata": {},
   "source": [
    "#### Establish a baseline\n",
    "\n",
    "0 claims = 92%<br>\n",
    "1 claim = 6.6%<br>\n",
    "2 claims = 1%<br>\n",
    "3 claims = 0.2%<br>"
   ]
  },
  {
   "cell_type": "code",
   "execution_count": 4,
   "metadata": {},
   "outputs": [
    {
     "data": {
      "text/plain": [
       "0.0    5836\n",
       "1.0     421\n",
       "2.0      68\n",
       "3.0      15\n",
       "Name: num_claims, dtype: int64"
      ]
     },
     "execution_count": 4,
     "metadata": {},
     "output_type": "execute_result"
    }
   ],
   "source": [
    "combined['num_claims'].value_counts()"
   ]
  },
  {
   "cell_type": "code",
   "execution_count": 5,
   "metadata": {},
   "outputs": [
    {
     "data": {
      "text/plain": [
       "0.0    0.920505\n",
       "1.0    0.066404\n",
       "2.0    0.010726\n",
       "3.0    0.002366\n",
       "Name: num_claims, dtype: float64"
      ]
     },
     "execution_count": 5,
     "metadata": {},
     "output_type": "execute_result"
    }
   ],
   "source": [
    "combined['num_claims'].value_counts(normalize=True)"
   ]
  },
  {
   "cell_type": "code",
   "execution_count": 6,
   "metadata": {},
   "outputs": [
    {
     "data": {
      "text/plain": [
       "0       0\n",
       "1       0\n",
       "2       0\n",
       "3       0\n",
       "4       0\n",
       "       ..\n",
       "6335    0\n",
       "6336    0\n",
       "6337    0\n",
       "6338    0\n",
       "6339    0\n",
       "Name: num_claims, Length: 6340, dtype: int64"
      ]
     },
     "execution_count": 6,
     "metadata": {},
     "output_type": "execute_result"
    }
   ],
   "source": [
    "combined['num_claims'].astype(int)"
   ]
  },
  {
   "cell_type": "markdown",
   "metadata": {},
   "source": [
    "### Train/Test split"
   ]
  },
  {
   "cell_type": "code",
   "execution_count": 7,
   "metadata": {},
   "outputs": [],
   "source": [
    "X = combined.drop(columns=['num_claims'])\n",
    "y = combined['num_claims']\n",
    "X_train, X_test, y_train, y_test = train_test_split(X, y, test_size=.2, random_state=42, stratify=y)"
   ]
  },
  {
   "cell_type": "markdown",
   "metadata": {},
   "source": [
    "## 4 MODELS: KNN, Logistic Regression, Random Forest, Extra Trees\n",
    "---"
   ]
  },
  {
   "cell_type": "markdown",
   "metadata": {},
   "source": [
    "### StandardScaler"
   ]
  },
  {
   "cell_type": "code",
   "execution_count": 8,
   "metadata": {},
   "outputs": [],
   "source": [
    "ss = StandardScaler()\n",
    "X_train_sc = ss.fit_transform(X_train)\n",
    "X_test_sc = ss.transform(X_test)"
   ]
  },
  {
   "cell_type": "markdown",
   "metadata": {},
   "source": [
    "### Instantiate and fit 4 models"
   ]
  },
  {
   "cell_type": "code",
   "execution_count": 9,
   "metadata": {},
   "outputs": [],
   "source": [
    "knn = KNeighborsClassifier()\n",
    "knn.fit(X_train_sc, y_train)\n",
    "knn_pred = knn.predict(X_test_sc)\n",
    "\n",
    "lr = LogisticRegression(max_iter=500,random_state=42)\n",
    "lr.fit(X_train_sc, y_train)\n",
    "lr_pred = lr.predict(X_test_sc)\n",
    "\n",
    "rf = RandomForestClassifier(n_estimators=100,random_state=42)\n",
    "rf.fit(X_train_sc, y_train)\n",
    "rf_pred = rf.predict(X_test_sc)\n",
    "\n",
    "et = ExtraTreesClassifier(n_estimators=100,random_state=42)\n",
    "et.fit(X_train_sc, y_train)\n",
    "et_pred = et.predict(X_test_sc)"
   ]
  },
  {
   "cell_type": "markdown",
   "metadata": {},
   "source": [
    "### Get model results"
   ]
  },
  {
   "cell_type": "code",
   "execution_count": 10,
   "metadata": {},
   "outputs": [
    {
     "name": "stdout",
     "output_type": "stream",
     "text": [
      "              precision    recall  f1-score   support\n",
      "\n",
      "         0.0      0.927     0.988     0.956      1167\n",
      "         1.0      0.278     0.060     0.098        84\n",
      "         2.0      0.500     0.143     0.222        14\n",
      "         3.0      1.000     0.667     0.800         3\n",
      "\n",
      "    accuracy                          0.916      1268\n",
      "   macro avg      0.676     0.464     0.519      1268\n",
      "weighted avg      0.879     0.916     0.891      1268\n",
      "\n"
     ]
    }
   ],
   "source": [
    "print(classification_report(y_test, knn_pred, digits=3))"
   ]
  },
  {
   "cell_type": "code",
   "execution_count": 11,
   "metadata": {},
   "outputs": [
    {
     "name": "stdout",
     "output_type": "stream",
     "text": [
      "              precision    recall  f1-score   support\n",
      "\n",
      "         0.0      0.923     1.000     0.960      1167\n",
      "         1.0      0.000     0.000     0.000        84\n",
      "         2.0      0.000     0.000     0.000        14\n",
      "         3.0      1.000     1.000     1.000         3\n",
      "\n",
      "    accuracy                          0.923      1268\n",
      "   macro avg      0.481     0.500     0.490      1268\n",
      "weighted avg      0.852     0.923     0.886      1268\n",
      "\n"
     ]
    },
    {
     "name": "stderr",
     "output_type": "stream",
     "text": [
      "/Users/carlychamberlain/opt/anaconda3/envs/dsi/lib/python3.8/site-packages/sklearn/metrics/_classification.py:1221: UndefinedMetricWarning: Precision and F-score are ill-defined and being set to 0.0 in labels with no predicted samples. Use `zero_division` parameter to control this behavior.\n",
      "  _warn_prf(average, modifier, msg_start, len(result))\n"
     ]
    }
   ],
   "source": [
    "print(classification_report(y_test, lr_pred, digits=3))"
   ]
  },
  {
   "cell_type": "code",
   "execution_count": 12,
   "metadata": {},
   "outputs": [
    {
     "name": "stdout",
     "output_type": "stream",
     "text": [
      "              precision    recall  f1-score   support\n",
      "\n",
      "         0.0      0.939     0.996     0.967      1167\n",
      "         1.0      0.643     0.107     0.184        84\n",
      "         2.0      1.000     1.000     1.000        14\n",
      "         3.0      1.000     1.000     1.000         3\n",
      "\n",
      "    accuracy                          0.937      1268\n",
      "   macro avg      0.896     0.776     0.788      1268\n",
      "weighted avg      0.921     0.937     0.915      1268\n",
      "\n"
     ]
    }
   ],
   "source": [
    "print(classification_report(y_test, rf_pred, digits=3))"
   ]
  },
  {
   "cell_type": "code",
   "execution_count": 13,
   "metadata": {},
   "outputs": [
    {
     "name": "stdout",
     "output_type": "stream",
     "text": [
      "              precision    recall  f1-score   support\n",
      "\n",
      "         0.0      0.940     0.987     0.963      1167\n",
      "         1.0      0.440     0.131     0.202        84\n",
      "         2.0      0.933     1.000     0.966        14\n",
      "         3.0      1.000     1.000     1.000         3\n",
      "\n",
      "    accuracy                          0.931      1268\n",
      "   macro avg      0.828     0.780     0.783      1268\n",
      "weighted avg      0.907     0.931     0.913      1268\n",
      "\n"
     ]
    }
   ],
   "source": [
    "print(classification_report(y_test, et_pred, digits=3))"
   ]
  },
  {
   "cell_type": "markdown",
   "metadata": {},
   "source": [
    "**INTERPRETATION:** Looking at these scores we can tell that the model is overfitting to 2 and 3 claims. The models are very good at identifying these minority classes but that's because "
   ]
  },
  {
   "cell_type": "markdown",
   "metadata": {},
   "source": [
    "---\n",
    "# MODELING: Binary Classification"
   ]
  },
  {
   "cell_type": "markdown",
   "metadata": {},
   "source": [
    "**Set up for all models**<br>\n",
    "1. Create binary class column<br>\n",
    "2. Define X, y<br>\n",
    "3. Scale X, y<br>\n",
    "4. Train, test, split<br>\n",
    "\n",
    "**Normal Modeling**<br>\n",
    "1. Test models (KNN, Random Forest,  ExtraTrees, Logistic Regression, LinearSVM)<br>\n",
    "2. Get micro-f1 scores for each model and add to a table to compare<br>\n",
    "\n",
    "**With OverSampling**<br>\n",
    "1. Instantiate RandomOverSampler<br>\n",
    "2. Fit training data on oversampler<br>\n",
    "3. Test same models w/ same parameters<br>\n",
    "4. Get f1 scores and add to a table to compare<br>\n",
    "\n",
    "**With OverSampling and Undersampling**<br>\n",
    "1. Instantiate RandomOverSampler, fit.\n",
    "2. Instantiate UnderOverSampler, fit.\n",
    "3. Test same models w/ same parameters<br>\n",
    "4. Get f1 scores and add to a table to compare<br>\n",
    "\n",
    "**With SMOTE**<br>\n",
    "1. Instantiate SMOTE, fit.<br>\n",
    "2. Test same models w/ same parameters<br>\n",
    "3. Get f1 scores and add to a table to compare<br>"
   ]
  },
  {
   "cell_type": "markdown",
   "metadata": {},
   "source": [
    "#### Establish a baseline\n",
    "\n",
    "0 claims = 92%<br>\n",
    "At least 1 claim = 7.9%<br>"
   ]
  },
  {
   "cell_type": "code",
   "execution_count": 14,
   "metadata": {},
   "outputs": [
    {
     "data": {
      "text/plain": [
       "0    0.920505\n",
       "1    0.079495\n",
       "Name: binary, dtype: float64"
      ]
     },
     "execution_count": 14,
     "metadata": {},
     "output_type": "execute_result"
    }
   ],
   "source": [
    "# Create a column for binary classification\n",
    "combined['binary'] = [1 if x > 0 else 0 for x in combined['num_claims']]\n",
    "combined['binary'].value_counts(normalize=True)"
   ]
  },
  {
   "cell_type": "markdown",
   "metadata": {},
   "source": [
    "**BELOW:** We decided the most important metric to track would be recall. This is because we are interested in predicting claims, the minority class. We concluded we would rather wrongly predict a boat would have a claim and it not than wrongly predict a boat would not have a claim and it have one. In addition, we are tracking accuracy to keep an eye on the model's bias/variance, and f1 score (a combination of precision and recall)."
   ]
  },
  {
   "cell_type": "code",
   "execution_count": 15,
   "metadata": {},
   "outputs": [
    {
     "data": {
      "text/html": [
       "<div>\n",
       "<style scoped>\n",
       "    .dataframe tbody tr th:only-of-type {\n",
       "        vertical-align: middle;\n",
       "    }\n",
       "\n",
       "    .dataframe tbody tr th {\n",
       "        vertical-align: top;\n",
       "    }\n",
       "\n",
       "    .dataframe thead th {\n",
       "        text-align: right;\n",
       "    }\n",
       "</style>\n",
       "<table border=\"1\" class=\"dataframe\">\n",
       "  <thead>\n",
       "    <tr style=\"text-align: right;\">\n",
       "      <th></th>\n",
       "      <th>Accuracy</th>\n",
       "      <th>Recall</th>\n",
       "      <th>Weighted F1 Score</th>\n",
       "    </tr>\n",
       "  </thead>\n",
       "  <tbody>\n",
       "  </tbody>\n",
       "</table>\n",
       "</div>"
      ],
      "text/plain": [
       "Empty DataFrame\n",
       "Columns: [Accuracy, Recall, Weighted F1 Score]\n",
       "Index: []"
      ]
     },
     "execution_count": 15,
     "metadata": {},
     "output_type": "execute_result"
    }
   ],
   "source": [
    "# Create an empty df to input scores from models\n",
    "binary_scores = pd.DataFrame(columns=['Accuracy', 'Recall','Weighted F1 Score'])\n",
    "binary_scores"
   ]
  },
  {
   "cell_type": "markdown",
   "metadata": {},
   "source": [
    "### Prep the models for testing\n",
    "---"
   ]
  },
  {
   "cell_type": "markdown",
   "metadata": {},
   "source": [
    "### Train/test split"
   ]
  },
  {
   "cell_type": "code",
   "execution_count": 16,
   "metadata": {},
   "outputs": [],
   "source": [
    "X = combined.drop(columns=['num_claims','binary'])\n",
    "y = combined['binary']\n",
    "X_train, X_test, y_train, y_test = train_test_split(X, y, test_size=.2, random_state=42, stratify=y)"
   ]
  },
  {
   "cell_type": "markdown",
   "metadata": {},
   "source": [
    "### Scale the data"
   ]
  },
  {
   "cell_type": "code",
   "execution_count": 17,
   "metadata": {},
   "outputs": [],
   "source": [
    "ss = StandardScaler()\n",
    "X_train_sc = ss.fit_transform(X_train)\n",
    "X_test_sc = ss.transform(X_test)"
   ]
  },
  {
   "cell_type": "markdown",
   "metadata": {},
   "source": [
    "## 4 MODELS: KNN, Logistic Regression, Random Forest, Extra Trees\n",
    "---"
   ]
  },
  {
   "cell_type": "code",
   "execution_count": 18,
   "metadata": {},
   "outputs": [],
   "source": [
    "# Using the scaled data, instantiate, fit, and generate predictions for the 4 models\n",
    "\n",
    "knn = KNeighborsClassifier()\n",
    "knn.fit(X_train_sc, y_train)\n",
    "knn_pred = knn.predict(X_test_sc)\n",
    "\n",
    "lr = LogisticRegression(random_state=42)\n",
    "lr.fit(X_train_sc, y_train)\n",
    "lr_pred = lr.predict(X_test_sc)\n",
    "\n",
    "rf = RandomForestClassifier(n_estimators=100,random_state=42)\n",
    "rf.fit(X_train_sc, y_train)\n",
    "rf_pred = rf.predict(X_test_sc)\n",
    "\n",
    "et = ExtraTreesClassifier(n_estimators=100,random_state=42)\n",
    "et.fit(X_train_sc, y_train)\n",
    "et_pred = et.predict(X_test_sc)"
   ]
  },
  {
   "cell_type": "code",
   "execution_count": 19,
   "metadata": {},
   "outputs": [
    {
     "data": {
      "text/html": [
       "<div>\n",
       "<style scoped>\n",
       "    .dataframe tbody tr th:only-of-type {\n",
       "        vertical-align: middle;\n",
       "    }\n",
       "\n",
       "    .dataframe tbody tr th {\n",
       "        vertical-align: top;\n",
       "    }\n",
       "\n",
       "    .dataframe thead th {\n",
       "        text-align: right;\n",
       "    }\n",
       "</style>\n",
       "<table border=\"1\" class=\"dataframe\">\n",
       "  <thead>\n",
       "    <tr style=\"text-align: right;\">\n",
       "      <th></th>\n",
       "      <th>Accuracy</th>\n",
       "      <th>Recall</th>\n",
       "      <th>Weighted F1 Score</th>\n",
       "    </tr>\n",
       "  </thead>\n",
       "  <tbody>\n",
       "    <tr>\n",
       "      <th>KNN(plain)</th>\n",
       "      <td>0.913249</td>\n",
       "      <td>0.128713</td>\n",
       "      <td>0.893392</td>\n",
       "    </tr>\n",
       "    <tr>\n",
       "      <th>LR(plain)</th>\n",
       "      <td>0.919558</td>\n",
       "      <td>0.000000</td>\n",
       "      <td>0.881779</td>\n",
       "    </tr>\n",
       "    <tr>\n",
       "      <th>RF(plain)</th>\n",
       "      <td>0.936909</td>\n",
       "      <td>0.227723</td>\n",
       "      <td>0.918876</td>\n",
       "    </tr>\n",
       "    <tr>\n",
       "      <th>ET(plain)</th>\n",
       "      <td>0.925868</td>\n",
       "      <td>0.257426</td>\n",
       "      <td>0.912519</td>\n",
       "    </tr>\n",
       "  </tbody>\n",
       "</table>\n",
       "</div>"
      ],
      "text/plain": [
       "            Accuracy    Recall  Weighted F1 Score\n",
       "KNN(plain)  0.913249  0.128713           0.893392\n",
       "LR(plain)   0.919558  0.000000           0.881779\n",
       "RF(plain)   0.936909  0.227723           0.918876\n",
       "ET(plain)   0.925868  0.257426           0.912519"
      ]
     },
     "execution_count": 19,
     "metadata": {},
     "output_type": "execute_result"
    }
   ],
   "source": [
    "# Add the three scores we're tracking to the results data table\n",
    "\n",
    "regular_knn = pd.Series(data=[accuracy_score(y_test, knn_pred), recall_score(y_test, knn_pred),\n",
    "                              f1_score(y_test, knn_pred ,average='weighted')], index=binary_scores.columns, name = 'KNN(plain)')\n",
    "\n",
    "regular_lr = pd.Series(data=[accuracy_score(y_test, lr_pred), recall_score(y_test, lr_pred),\n",
    "                              f1_score(y_test, lr_pred ,average='weighted')], index=binary_scores.columns, name = 'LR(plain)')\n",
    "\n",
    "regular_rf = pd.Series(data=[accuracy_score(y_test, rf_pred), recall_score(y_test, rf_pred),\n",
    "                              f1_score(y_test, rf_pred ,average='weighted')], index=binary_scores.columns, name = 'RF(plain)')\n",
    "\n",
    "regular_et = pd.Series(data=[accuracy_score(y_test, et_pred), recall_score(y_test, et_pred),\n",
    "                              f1_score(y_test, et_pred ,average='weighted')], index=binary_scores.columns, name = 'ET(plain)')\n",
    "\n",
    "binary_scores = binary_scores.append([regular_knn, regular_lr, regular_rf, regular_et])\n",
    "\n",
    "binary_scores"
   ]
  },
  {
   "cell_type": "markdown",
   "metadata": {},
   "source": [
    "**INTERPRETATION:** While the accuracy score seems high this is misleading. Our majority class baseilne is 92% so essentially these models all predict the majority class but aren't great at predicting claims."
   ]
  },
  {
   "cell_type": "markdown",
   "metadata": {},
   "source": [
    "## WITH OVERSAMPLING"
   ]
  },
  {
   "cell_type": "markdown",
   "metadata": {},
   "source": [
    "**BELOW:** In order to combat the small proportion of minority class compared to majority class, we are testing out a few methods of over and undersampling. First, we will begin by oversampling the minority class only."
   ]
  },
  {
   "cell_type": "markdown",
   "metadata": {},
   "source": [
    "### Check the imbalance of the two classes"
   ]
  },
  {
   "cell_type": "code",
   "execution_count": 20,
   "metadata": {},
   "outputs": [
    {
     "data": {
      "text/plain": [
       "Counter({0: 4669, 1: 403})"
      ]
     },
     "execution_count": 20,
     "metadata": {},
     "output_type": "execute_result"
    }
   ],
   "source": [
    "counter = Counter(y_train)\n",
    "counter"
   ]
  },
  {
   "cell_type": "markdown",
   "metadata": {},
   "source": [
    "### Instantiate RandomOverSampler"
   ]
  },
  {
   "cell_type": "markdown",
   "metadata": {},
   "source": [
    "**BELOW:** The randomoversampler simply randomly chooses values from the training dataset to duplicate until you reach the chosen ratio. We chose to sample enough times to bring the minority class to 20% of the majority class."
   ]
  },
  {
   "cell_type": "code",
   "execution_count": 21,
   "metadata": {},
   "outputs": [],
   "source": [
    "# ref: https://beckernick.github.io/oversampling-modeling/\n",
    "\n",
    "over = RandomOverSampler(sampling_strategy=0.2, random_state=42)\n",
    "X_over, y_over = over.fit_resample(X_train_sc,y_train)"
   ]
  },
  {
   "cell_type": "code",
   "execution_count": 22,
   "metadata": {},
   "outputs": [
    {
     "data": {
      "text/plain": [
       "Counter({0: 4669, 1: 933})"
      ]
     },
     "execution_count": 22,
     "metadata": {},
     "output_type": "execute_result"
    }
   ],
   "source": [
    "over_counter = Counter(y_over)\n",
    "over_counter"
   ]
  },
  {
   "cell_type": "markdown",
   "metadata": {},
   "source": [
    "### Fit the models"
   ]
  },
  {
   "cell_type": "code",
   "execution_count": 23,
   "metadata": {},
   "outputs": [],
   "source": [
    "knn = KNeighborsClassifier()\n",
    "knn.fit(X_over, y_over)\n",
    "knn_pred = knn.predict(X_test_sc)\n",
    "\n",
    "lr = LogisticRegression(random_state=42)\n",
    "lr.fit(X_over, y_over)\n",
    "lr_pred = lr.predict(X_test_sc)\n",
    "\n",
    "rf = RandomForestClassifier(n_estimators=100,random_state=42)\n",
    "rf.fit(X_over, y_over)\n",
    "rf_pred = rf.predict(X_test_sc)\n",
    "\n",
    "et = ExtraTreesClassifier(n_estimators=100,random_state=42)\n",
    "et.fit(X_over, y_over)\n",
    "et_pred = et.predict(X_test_sc)"
   ]
  },
  {
   "cell_type": "markdown",
   "metadata": {},
   "source": [
    "### Add the results"
   ]
  },
  {
   "cell_type": "code",
   "execution_count": 24,
   "metadata": {},
   "outputs": [
    {
     "data": {
      "text/html": [
       "<div>\n",
       "<style scoped>\n",
       "    .dataframe tbody tr th:only-of-type {\n",
       "        vertical-align: middle;\n",
       "    }\n",
       "\n",
       "    .dataframe tbody tr th {\n",
       "        vertical-align: top;\n",
       "    }\n",
       "\n",
       "    .dataframe thead th {\n",
       "        text-align: right;\n",
       "    }\n",
       "</style>\n",
       "<table border=\"1\" class=\"dataframe\">\n",
       "  <thead>\n",
       "    <tr style=\"text-align: right;\">\n",
       "      <th></th>\n",
       "      <th>Accuracy</th>\n",
       "      <th>Recall</th>\n",
       "      <th>Weighted F1 Score</th>\n",
       "    </tr>\n",
       "  </thead>\n",
       "  <tbody>\n",
       "    <tr>\n",
       "      <th>KNN(plain)</th>\n",
       "      <td>0.913249</td>\n",
       "      <td>0.128713</td>\n",
       "      <td>0.893392</td>\n",
       "    </tr>\n",
       "    <tr>\n",
       "      <th>LR(plain)</th>\n",
       "      <td>0.919558</td>\n",
       "      <td>0.000000</td>\n",
       "      <td>0.881779</td>\n",
       "    </tr>\n",
       "    <tr>\n",
       "      <th>RF(plain)</th>\n",
       "      <td>0.936909</td>\n",
       "      <td>0.227723</td>\n",
       "      <td>0.918876</td>\n",
       "    </tr>\n",
       "    <tr>\n",
       "      <th>ET(plain)</th>\n",
       "      <td>0.925868</td>\n",
       "      <td>0.257426</td>\n",
       "      <td>0.912519</td>\n",
       "    </tr>\n",
       "    <tr>\n",
       "      <th>KNN(oversample)</th>\n",
       "      <td>0.867508</td>\n",
       "      <td>0.336634</td>\n",
       "      <td>0.876073</td>\n",
       "    </tr>\n",
       "    <tr>\n",
       "      <th>LR(oversample)</th>\n",
       "      <td>0.896688</td>\n",
       "      <td>0.059406</td>\n",
       "      <td>0.876649</td>\n",
       "    </tr>\n",
       "    <tr>\n",
       "      <th>RF(oversample)</th>\n",
       "      <td>0.932965</td>\n",
       "      <td>0.257426</td>\n",
       "      <td>0.917971</td>\n",
       "    </tr>\n",
       "    <tr>\n",
       "      <th>ET(oversample)</th>\n",
       "      <td>0.926656</td>\n",
       "      <td>0.237624</td>\n",
       "      <td>0.911725</td>\n",
       "    </tr>\n",
       "  </tbody>\n",
       "</table>\n",
       "</div>"
      ],
      "text/plain": [
       "                 Accuracy    Recall  Weighted F1 Score\n",
       "KNN(plain)       0.913249  0.128713           0.893392\n",
       "LR(plain)        0.919558  0.000000           0.881779\n",
       "RF(plain)        0.936909  0.227723           0.918876\n",
       "ET(plain)        0.925868  0.257426           0.912519\n",
       "KNN(oversample)  0.867508  0.336634           0.876073\n",
       "LR(oversample)   0.896688  0.059406           0.876649\n",
       "RF(oversample)   0.932965  0.257426           0.917971\n",
       "ET(oversample)   0.926656  0.237624           0.911725"
      ]
     },
     "execution_count": 24,
     "metadata": {},
     "output_type": "execute_result"
    }
   ],
   "source": [
    "over_knn = pd.Series(data=[accuracy_score(y_test, knn_pred), recall_score(y_test, knn_pred),\n",
    "                              f1_score(y_test, knn_pred ,average='weighted')], index=binary_scores.columns, name = 'KNN(oversample)')\n",
    "\n",
    "over_lr = pd.Series(data=[accuracy_score(y_test, lr_pred), recall_score(y_test, lr_pred),\n",
    "                              f1_score(y_test, lr_pred ,average='weighted')], index=binary_scores.columns, name = 'LR(oversample)')\n",
    "\n",
    "over_rf = pd.Series(data=[accuracy_score(y_test, rf_pred), recall_score(y_test, rf_pred),\n",
    "                              f1_score(y_test, rf_pred ,average='weighted')], index=binary_scores.columns, name = 'RF(oversample)')\n",
    "\n",
    "over_et = pd.Series(data=[accuracy_score(y_test, et_pred), recall_score(y_test, et_pred),\n",
    "                              f1_score(y_test, et_pred ,average='weighted')], index=binary_scores.columns, name = 'ET(oversample)')\n",
    "\n",
    "binary_scores = binary_scores.append([over_knn, over_lr, over_rf, over_et])\n",
    "\n",
    "binary_scores"
   ]
  },
  {
   "cell_type": "markdown",
   "metadata": {},
   "source": [
    "**INTERPRETATION:** This method seemed to improve the recall in our KNN, LR, and RF models, but we decided to test another method to increase them even more."
   ]
  },
  {
   "cell_type": "markdown",
   "metadata": {},
   "source": [
    "### WITH SMOTE OVERSAMPLING AND RANDOM OVER SAMPLING"
   ]
  },
  {
   "cell_type": "markdown",
   "metadata": {},
   "source": [
    "**BELOW:** For this method we decided to both over sample and undersample. First, we oversampled the minority class again, but we used SMOTE. Instead of simply duplicating randomly from the minority class like above, SMOTE creates fake observations for the minority class by using k-nearest-neighbors to find similar observations and then slightly tweaking them. We decided to increase the ratio to 10% for the minority class through oversampling. Then we used RandomUnderSampler to undersample the majority class and bring the ratio to 2:1 between majority and minority classes."
   ]
  },
  {
   "cell_type": "markdown",
   "metadata": {},
   "source": [
    "### Set up a pipeline with SMOTE and undersampling"
   ]
  },
  {
   "cell_type": "code",
   "execution_count": 25,
   "metadata": {},
   "outputs": [],
   "source": [
    "# Set up the pipeline\n",
    "# ref: https://pypi.org/project/imbalanced-learn/\n",
    "# ref: https://machinelearningmastery.com/random-oversampling-and-undersampling-for-imbalanced-classification/\n",
    "\n",
    "over = SMOTE(sampling_strategy=0.2,random_state=42)\n",
    "under = RandomUnderSampler(sampling_strategy=0.5,random_state=42)\n",
    "steps = [('o', over), ('u', under)]\n",
    "pipeline = Pipeline(steps=steps)"
   ]
  },
  {
   "cell_type": "code",
   "execution_count": 26,
   "metadata": {},
   "outputs": [],
   "source": [
    "# fit the pipeline\n",
    "X_sm_und, y_sm_und = pipeline.fit_resample(X_train_sc, y_train)"
   ]
  },
  {
   "cell_type": "code",
   "execution_count": 27,
   "metadata": {},
   "outputs": [
    {
     "data": {
      "text/plain": [
       "Counter({0: 1866, 1: 933})"
      ]
     },
     "execution_count": 27,
     "metadata": {},
     "output_type": "execute_result"
    }
   ],
   "source": [
    "# Find the ratio after over/undersampling\n",
    "counter_5 = Counter(y_sm_und)\n",
    "counter_5"
   ]
  },
  {
   "cell_type": "markdown",
   "metadata": {},
   "source": [
    "### Fit the models"
   ]
  },
  {
   "cell_type": "code",
   "execution_count": 28,
   "metadata": {},
   "outputs": [],
   "source": [
    "knn = KNeighborsClassifier()\n",
    "knn.fit(X_sm_und, y_sm_und)\n",
    "knn_pred = knn.predict(X_test_sc)\n",
    "\n",
    "lr = LogisticRegression(random_state=42)\n",
    "lr.fit(X_sm_und, y_sm_und)\n",
    "lr_pred = lr.predict(X_test_sc)\n",
    "\n",
    "rf = RandomForestClassifier(n_estimators=100,random_state=42)\n",
    "rf.fit(X_sm_und, y_sm_und)\n",
    "rf_pred = rf.predict(X_test_sc)\n",
    "\n",
    "et = ExtraTreesClassifier(n_estimators=100,random_state=42)\n",
    "et.fit(X_sm_und, y_sm_und)\n",
    "et_pred = et.predict(X_test_sc)"
   ]
  },
  {
   "cell_type": "markdown",
   "metadata": {},
   "source": [
    "### Add the results"
   ]
  },
  {
   "cell_type": "code",
   "execution_count": 29,
   "metadata": {},
   "outputs": [
    {
     "data": {
      "text/html": [
       "<div>\n",
       "<style scoped>\n",
       "    .dataframe tbody tr th:only-of-type {\n",
       "        vertical-align: middle;\n",
       "    }\n",
       "\n",
       "    .dataframe tbody tr th {\n",
       "        vertical-align: top;\n",
       "    }\n",
       "\n",
       "    .dataframe thead th {\n",
       "        text-align: right;\n",
       "    }\n",
       "</style>\n",
       "<table border=\"1\" class=\"dataframe\">\n",
       "  <thead>\n",
       "    <tr style=\"text-align: right;\">\n",
       "      <th></th>\n",
       "      <th>Accuracy</th>\n",
       "      <th>Recall</th>\n",
       "      <th>Weighted F1 Score</th>\n",
       "    </tr>\n",
       "  </thead>\n",
       "  <tbody>\n",
       "    <tr>\n",
       "      <th>KNN(plain)</th>\n",
       "      <td>0.913249</td>\n",
       "      <td>0.128713</td>\n",
       "      <td>0.893392</td>\n",
       "    </tr>\n",
       "    <tr>\n",
       "      <th>LR(plain)</th>\n",
       "      <td>0.919558</td>\n",
       "      <td>0.000000</td>\n",
       "      <td>0.881779</td>\n",
       "    </tr>\n",
       "    <tr>\n",
       "      <th>RF(plain)</th>\n",
       "      <td>0.936909</td>\n",
       "      <td>0.227723</td>\n",
       "      <td>0.918876</td>\n",
       "    </tr>\n",
       "    <tr>\n",
       "      <th>ET(plain)</th>\n",
       "      <td>0.925868</td>\n",
       "      <td>0.257426</td>\n",
       "      <td>0.912519</td>\n",
       "    </tr>\n",
       "    <tr>\n",
       "      <th>KNN(oversample)</th>\n",
       "      <td>0.867508</td>\n",
       "      <td>0.336634</td>\n",
       "      <td>0.876073</td>\n",
       "    </tr>\n",
       "    <tr>\n",
       "      <th>LR(oversample)</th>\n",
       "      <td>0.896688</td>\n",
       "      <td>0.059406</td>\n",
       "      <td>0.876649</td>\n",
       "    </tr>\n",
       "    <tr>\n",
       "      <th>RF(oversample)</th>\n",
       "      <td>0.932965</td>\n",
       "      <td>0.257426</td>\n",
       "      <td>0.917971</td>\n",
       "    </tr>\n",
       "    <tr>\n",
       "      <th>ET(oversample)</th>\n",
       "      <td>0.926656</td>\n",
       "      <td>0.237624</td>\n",
       "      <td>0.911725</td>\n",
       "    </tr>\n",
       "    <tr>\n",
       "      <th>KNN(SMOTE/Under)</th>\n",
       "      <td>0.742902</td>\n",
       "      <td>0.455446</td>\n",
       "      <td>0.796220</td>\n",
       "    </tr>\n",
       "    <tr>\n",
       "      <th>LR(SMOTE/Under)</th>\n",
       "      <td>0.809148</td>\n",
       "      <td>0.287129</td>\n",
       "      <td>0.836138</td>\n",
       "    </tr>\n",
       "    <tr>\n",
       "      <th>RF(LR(SMOTE/Under))</th>\n",
       "      <td>0.926656</td>\n",
       "      <td>0.277228</td>\n",
       "      <td>0.914426</td>\n",
       "    </tr>\n",
       "    <tr>\n",
       "      <th>ET(LR(SMOTE/Under))</th>\n",
       "      <td>0.908517</td>\n",
       "      <td>0.356436</td>\n",
       "      <td>0.905384</td>\n",
       "    </tr>\n",
       "  </tbody>\n",
       "</table>\n",
       "</div>"
      ],
      "text/plain": [
       "                     Accuracy    Recall  Weighted F1 Score\n",
       "KNN(plain)           0.913249  0.128713           0.893392\n",
       "LR(plain)            0.919558  0.000000           0.881779\n",
       "RF(plain)            0.936909  0.227723           0.918876\n",
       "ET(plain)            0.925868  0.257426           0.912519\n",
       "KNN(oversample)      0.867508  0.336634           0.876073\n",
       "LR(oversample)       0.896688  0.059406           0.876649\n",
       "RF(oversample)       0.932965  0.257426           0.917971\n",
       "ET(oversample)       0.926656  0.237624           0.911725\n",
       "KNN(SMOTE/Under)     0.742902  0.455446           0.796220\n",
       "LR(SMOTE/Under)      0.809148  0.287129           0.836138\n",
       "RF(LR(SMOTE/Under))  0.926656  0.277228           0.914426\n",
       "ET(LR(SMOTE/Under))  0.908517  0.356436           0.905384"
      ]
     },
     "execution_count": 29,
     "metadata": {},
     "output_type": "execute_result"
    }
   ],
   "source": [
    "smote_knn = pd.Series(data=[accuracy_score(y_test, knn_pred), recall_score(y_test, knn_pred),\n",
    "                              f1_score(y_test, knn_pred ,average='weighted')], index=binary_scores.columns, name = 'KNN(SMOTE/Under)')\n",
    "\n",
    "smote_lr = pd.Series(data=[accuracy_score(y_test, lr_pred), recall_score(y_test, lr_pred),\n",
    "                              f1_score(y_test, lr_pred ,average='weighted')], index=binary_scores.columns, name = 'LR(SMOTE/Under)')\n",
    "\n",
    "smote_rf = pd.Series(data=[accuracy_score(y_test, rf_pred), recall_score(y_test, rf_pred),\n",
    "                              f1_score(y_test, rf_pred ,average='weighted')], index=binary_scores.columns, name = 'RF(LR(SMOTE/Under))')\n",
    "\n",
    "smote_et = pd.Series(data=[accuracy_score(y_test, et_pred), recall_score(y_test, et_pred),\n",
    "                              f1_score(y_test, et_pred ,average='weighted')], index=binary_scores.columns, name = 'ET(LR(SMOTE/Under))')\n",
    "\n",
    "binary_scores = binary_scores.append([smote_knn, smote_lr, smote_rf, smote_et])\n",
    "\n",
    "binary_scores"
   ]
  },
  {
   "cell_type": "markdown",
   "metadata": {},
   "source": [
    "**INTERPRETATION:** It looks like my best models use a combination of oversampling using SMOTE and Random Under Sampling.<br>\n",
    "Specifically, Extra Trees and Random Forest performed best (highest recall score).<br>\n",
    "*Reminder Baseline:<br> \n",
    "0 claims = 92%<br>\n",
    "At least 1 claim = 7.9%<br>*"
   ]
  },
  {
   "cell_type": "markdown",
   "metadata": {},
   "source": [
    "---"
   ]
  },
  {
   "cell_type": "markdown",
   "metadata": {},
   "source": [
    "## Look at training/testing scores of models"
   ]
  },
  {
   "cell_type": "code",
   "execution_count": 30,
   "metadata": {},
   "outputs": [
    {
     "name": "stdout",
     "output_type": "stream",
     "text": [
      "KNN(SMOTE/UNDER) Training Results:\n",
      "0.8742408002858164\n",
      "0.9003215434083601\n",
      "\n",
      "RF(SMOTE/UNDER) Testing Results:\n",
      "0.7429022082018928\n",
      "0.45544554455445546\n"
     ]
    }
   ],
   "source": [
    "print('KNN(SMOTE/UNDER) Training Results:')\n",
    "print(knn.score(X_sm_und, y_sm_und))\n",
    "print(recall_score(y_sm_und, knn.predict(X_sm_und)))\n",
    "\n",
    "print('\\nRF(SMOTE/UNDER) Testing Results:')\n",
    "print(knn.score(X_test_sc, y_test))\n",
    "print(recall_score(y_test, knn.predict(X_test_sc)))"
   ]
  },
  {
   "cell_type": "code",
   "execution_count": 31,
   "metadata": {},
   "outputs": [
    {
     "name": "stdout",
     "output_type": "stream",
     "text": [
      "LR(SMOTE/UNDER) Training Results:\n",
      "0.7402643801357628\n",
      "0.4844587352625938\n",
      "\n",
      "LR(SMOTE/UNDER) Testing Results:\n",
      "0.8091482649842271\n",
      "0.2871287128712871\n"
     ]
    }
   ],
   "source": [
    "print('LR(SMOTE/UNDER) Training Results:')\n",
    "print(lr.score(X_sm_und, y_sm_und))\n",
    "print(recall_score(y_sm_und, lr.predict(X_sm_und)))\n",
    "\n",
    "print('\\nLR(SMOTE/UNDER) Testing Results:')\n",
    "print(lr.score(X_test_sc, y_test))\n",
    "print(recall_score(y_test, lr.predict(X_test_sc)))"
   ]
  },
  {
   "cell_type": "code",
   "execution_count": 32,
   "metadata": {},
   "outputs": [
    {
     "name": "stdout",
     "output_type": "stream",
     "text": [
      "RF(SMOTE/UNDER) Training Results:\n",
      "1.0\n",
      "1.0\n",
      "\n",
      "RF(SMOTE/UNDER) Testing Results:\n",
      "0.9266561514195584\n",
      "0.27722772277227725\n"
     ]
    }
   ],
   "source": [
    "print('RF(SMOTE/UNDER) Training Results:')\n",
    "print(rf.score(X_sm_und, y_sm_und))\n",
    "print(recall_score(y_sm_und, rf.predict(X_sm_und)))\n",
    "\n",
    "print('\\nRF(SMOTE/UNDER) Testing Results:')\n",
    "print(rf.score(X_test_sc, y_test))\n",
    "print(recall_score(y_test, rf.predict(X_test_sc)))"
   ]
  },
  {
   "cell_type": "code",
   "execution_count": 33,
   "metadata": {},
   "outputs": [
    {
     "name": "stdout",
     "output_type": "stream",
     "text": [
      "ET(SMOTE/UNDER) FIRST Training Results:\n",
      "1.0\n",
      "1.0\n",
      "\n",
      "ET(SMOTE/UNDER) FIRST Testing Results:\n",
      "0.9085173501577287\n",
      "0.3564356435643564\n"
     ]
    }
   ],
   "source": [
    "et1_training_score = et.score(X_sm_und, y_sm_und)\n",
    "et1_recall_training_score = recall_score(y_sm_und, et.predict(X_sm_und))\n",
    "\n",
    "et1_testing_score = et.score(X_test_sc, y_test)\n",
    "et1_recall_testing_score = recall_score(y_test, et.predict(X_test_sc)) \n",
    "\n",
    "print('ET(SMOTE/UNDER) FIRST Training Results:')\n",
    "print(et1_training_score)\n",
    "print(et1_recall_training_score)\n",
    "\n",
    "print('\\nET(SMOTE/UNDER) FIRST Testing Results:')\n",
    "print(et1_testing_score)\n",
    "print(et1_recall_testing_score)"
   ]
  },
  {
   "cell_type": "code",
   "execution_count": 34,
   "metadata": {},
   "outputs": [
    {
     "data": {
      "text/plain": [
       "array([0, 0, 0, 0, 0, 0, 0, 0, 0, 0, 0, 0, 0, 0, 0, 0, 0, 0, 0, 0, 0, 0,\n",
       "       0, 0, 1, 0, 0, 0, 0, 0, 0, 0, 1, 0, 0, 0, 0, 0, 0, 0, 0, 0, 0, 0,\n",
       "       0, 0, 0, 0, 0, 0])"
      ]
     },
     "execution_count": 34,
     "metadata": {},
     "output_type": "execute_result"
    }
   ],
   "source": [
    "et.predict(X_test_sc)[:50]"
   ]
  },
  {
   "cell_type": "code",
   "execution_count": 35,
   "metadata": {},
   "outputs": [
    {
     "data": {
      "text/plain": [
       "array([0, 0, 0, 0, 0, 0, 0, 0, 0, 0, 0, 0, 0, 0, 0, 0, 0, 0, 0, 0, 0, 0,\n",
       "       0, 0, 1, 0, 0, 0, 0, 0, 0, 0, 1, 0, 0, 0, 0, 0, 0, 0, 0, 0, 0, 0,\n",
       "       0, 0, 0, 0, 0, 0])"
      ]
     },
     "execution_count": 35,
     "metadata": {},
     "output_type": "execute_result"
    }
   ],
   "source": [
    "et.predict(X_test_sc)[:50]"
   ]
  },
  {
   "cell_type": "code",
   "execution_count": 36,
   "metadata": {},
   "outputs": [
    {
     "data": {
      "text/plain": [
       "array([[0.86, 0.14],\n",
       "       [0.63, 0.37],\n",
       "       [0.99, 0.01],\n",
       "       [1.  , 0.  ],\n",
       "       [0.99, 0.01],\n",
       "       [0.76, 0.24],\n",
       "       [1.  , 0.  ],\n",
       "       [0.95, 0.05],\n",
       "       [0.8 , 0.2 ],\n",
       "       [0.98, 0.02],\n",
       "       [0.96, 0.04],\n",
       "       [0.96, 0.04],\n",
       "       [0.77, 0.23],\n",
       "       [0.89, 0.11],\n",
       "       [0.84, 0.16],\n",
       "       [0.96, 0.04],\n",
       "       [0.52, 0.48],\n",
       "       [0.86, 0.14],\n",
       "       [0.94, 0.06],\n",
       "       [0.93, 0.07],\n",
       "       [0.79, 0.21],\n",
       "       [0.88, 0.12],\n",
       "       [0.73, 0.27],\n",
       "       [0.96, 0.04],\n",
       "       [0.09, 0.91],\n",
       "       [0.98, 0.02],\n",
       "       [0.98, 0.02],\n",
       "       [0.82, 0.18],\n",
       "       [0.82, 0.18],\n",
       "       [0.9 , 0.1 ],\n",
       "       [0.93, 0.07],\n",
       "       [1.  , 0.  ],\n",
       "       [0.  , 1.  ],\n",
       "       [0.82, 0.18],\n",
       "       [0.61, 0.39],\n",
       "       [0.97, 0.03],\n",
       "       [0.62, 0.38],\n",
       "       [0.68, 0.32],\n",
       "       [0.59, 0.41],\n",
       "       [0.93, 0.07],\n",
       "       [0.92, 0.08],\n",
       "       [0.86, 0.14],\n",
       "       [0.93, 0.07],\n",
       "       [0.98, 0.02],\n",
       "       [0.98, 0.02],\n",
       "       [0.97, 0.03],\n",
       "       [0.98, 0.02],\n",
       "       [0.8 , 0.2 ],\n",
       "       [0.93, 0.07],\n",
       "       [0.97, 0.03]])"
      ]
     },
     "execution_count": 36,
     "metadata": {},
     "output_type": "execute_result"
    }
   ],
   "source": [
    "et.predict_proba(X_test_sc)[:50]"
   ]
  },
  {
   "cell_type": "code",
   "execution_count": 37,
   "metadata": {},
   "outputs": [
    {
     "data": {
      "text/html": [
       "<div>\n",
       "<style scoped>\n",
       "    .dataframe tbody tr th:only-of-type {\n",
       "        vertical-align: middle;\n",
       "    }\n",
       "\n",
       "    .dataframe tbody tr th {\n",
       "        vertical-align: top;\n",
       "    }\n",
       "\n",
       "    .dataframe thead th {\n",
       "        text-align: right;\n",
       "    }\n",
       "</style>\n",
       "<table border=\"1\" class=\"dataframe\">\n",
       "  <thead>\n",
       "    <tr style=\"text-align: right;\">\n",
       "      <th></th>\n",
       "      <th>Accuracy</th>\n",
       "      <th>Recall</th>\n",
       "      <th>Weighted F1 Score</th>\n",
       "    </tr>\n",
       "  </thead>\n",
       "  <tbody>\n",
       "    <tr>\n",
       "      <th>KNN(plain)</th>\n",
       "      <td>0.913249</td>\n",
       "      <td>0.128713</td>\n",
       "      <td>0.893392</td>\n",
       "    </tr>\n",
       "    <tr>\n",
       "      <th>LR(plain)</th>\n",
       "      <td>0.919558</td>\n",
       "      <td>0.000000</td>\n",
       "      <td>0.881779</td>\n",
       "    </tr>\n",
       "    <tr>\n",
       "      <th>RF(plain)</th>\n",
       "      <td>0.936909</td>\n",
       "      <td>0.227723</td>\n",
       "      <td>0.918876</td>\n",
       "    </tr>\n",
       "    <tr>\n",
       "      <th>ET(plain)</th>\n",
       "      <td>0.925868</td>\n",
       "      <td>0.257426</td>\n",
       "      <td>0.912519</td>\n",
       "    </tr>\n",
       "    <tr>\n",
       "      <th>KNN(oversample)</th>\n",
       "      <td>0.867508</td>\n",
       "      <td>0.336634</td>\n",
       "      <td>0.876073</td>\n",
       "    </tr>\n",
       "    <tr>\n",
       "      <th>LR(oversample)</th>\n",
       "      <td>0.896688</td>\n",
       "      <td>0.059406</td>\n",
       "      <td>0.876649</td>\n",
       "    </tr>\n",
       "    <tr>\n",
       "      <th>RF(oversample)</th>\n",
       "      <td>0.932965</td>\n",
       "      <td>0.257426</td>\n",
       "      <td>0.917971</td>\n",
       "    </tr>\n",
       "    <tr>\n",
       "      <th>ET(oversample)</th>\n",
       "      <td>0.926656</td>\n",
       "      <td>0.237624</td>\n",
       "      <td>0.911725</td>\n",
       "    </tr>\n",
       "    <tr>\n",
       "      <th>KNN(SMOTE/Under)</th>\n",
       "      <td>0.742902</td>\n",
       "      <td>0.455446</td>\n",
       "      <td>0.796220</td>\n",
       "    </tr>\n",
       "    <tr>\n",
       "      <th>LR(SMOTE/Under)</th>\n",
       "      <td>0.809148</td>\n",
       "      <td>0.287129</td>\n",
       "      <td>0.836138</td>\n",
       "    </tr>\n",
       "    <tr>\n",
       "      <th>RF(LR(SMOTE/Under))</th>\n",
       "      <td>0.926656</td>\n",
       "      <td>0.277228</td>\n",
       "      <td>0.914426</td>\n",
       "    </tr>\n",
       "    <tr>\n",
       "      <th>ET(LR(SMOTE/Under))</th>\n",
       "      <td>0.908517</td>\n",
       "      <td>0.356436</td>\n",
       "      <td>0.905384</td>\n",
       "    </tr>\n",
       "  </tbody>\n",
       "</table>\n",
       "</div>"
      ],
      "text/plain": [
       "                     Accuracy    Recall  Weighted F1 Score\n",
       "KNN(plain)           0.913249  0.128713           0.893392\n",
       "LR(plain)            0.919558  0.000000           0.881779\n",
       "RF(plain)            0.936909  0.227723           0.918876\n",
       "ET(plain)            0.925868  0.257426           0.912519\n",
       "KNN(oversample)      0.867508  0.336634           0.876073\n",
       "LR(oversample)       0.896688  0.059406           0.876649\n",
       "RF(oversample)       0.932965  0.257426           0.917971\n",
       "ET(oversample)       0.926656  0.237624           0.911725\n",
       "KNN(SMOTE/Under)     0.742902  0.455446           0.796220\n",
       "LR(SMOTE/Under)      0.809148  0.287129           0.836138\n",
       "RF(LR(SMOTE/Under))  0.926656  0.277228           0.914426\n",
       "ET(LR(SMOTE/Under))  0.908517  0.356436           0.905384"
      ]
     },
     "execution_count": 37,
     "metadata": {},
     "output_type": "execute_result"
    }
   ],
   "source": [
    "binary_scores"
   ]
  },
  {
   "cell_type": "markdown",
   "metadata": {},
   "source": [
    "## Logistic Regression with Regularization and SMOTE/Undersampling"
   ]
  },
  {
   "cell_type": "markdown",
   "metadata": {},
   "source": [
    "*I hadn't included any regularization in my logistic regression model and wanted to see how it did.*"
   ]
  },
  {
   "cell_type": "code",
   "execution_count": 38,
   "metadata": {},
   "outputs": [
    {
     "name": "stdout",
     "output_type": "stream",
     "text": [
      "LRCV(SMOTE/UNDER) Training Results:\n",
      "0.7424080028581637\n",
      "0.48017148981779206\n",
      "\n",
      "LRCV(SMOTE/UNDER) Testing Results:\n",
      "0.8201892744479495\n",
      "0.297029702970297\n"
     ]
    }
   ],
   "source": [
    "logreg_cv = LogisticRegressionCV(Cs=10, cv=5, penalty=\"l1\", solver=\"liblinear\", random_state=42)\n",
    "logreg_cv.fit(X_sm_und, y_sm_und)\n",
    "logreg_cv_pred = logreg_cv.predict(X_test_sc)\n",
    "\n",
    "print('LRCV(SMOTE/UNDER) Training Results:')\n",
    "print(logreg_cv.score(X_sm_und, y_sm_und))\n",
    "print(recall_score(y_sm_und, logreg_cv.predict(X_sm_und)))\n",
    "\n",
    "print('\\nLRCV(SMOTE/UNDER) Testing Results:')\n",
    "print(logreg_cv.score(X_test_sc, y_test))\n",
    "print(recall_score(y_test, logreg_cv.predict(X_test_sc)))"
   ]
  },
  {
   "cell_type": "code",
   "execution_count": 39,
   "metadata": {},
   "outputs": [
    {
     "data": {
      "text/html": [
       "<div>\n",
       "<style scoped>\n",
       "    .dataframe tbody tr th:only-of-type {\n",
       "        vertical-align: middle;\n",
       "    }\n",
       "\n",
       "    .dataframe tbody tr th {\n",
       "        vertical-align: top;\n",
       "    }\n",
       "\n",
       "    .dataframe thead th {\n",
       "        text-align: right;\n",
       "    }\n",
       "</style>\n",
       "<table border=\"1\" class=\"dataframe\">\n",
       "  <thead>\n",
       "    <tr style=\"text-align: right;\">\n",
       "      <th></th>\n",
       "      <th>Accuracy</th>\n",
       "      <th>Recall</th>\n",
       "      <th>Weighted F1 Score</th>\n",
       "    </tr>\n",
       "  </thead>\n",
       "  <tbody>\n",
       "    <tr>\n",
       "      <th>KNN(plain)</th>\n",
       "      <td>0.913249</td>\n",
       "      <td>0.128713</td>\n",
       "      <td>0.893392</td>\n",
       "    </tr>\n",
       "    <tr>\n",
       "      <th>LR(plain)</th>\n",
       "      <td>0.919558</td>\n",
       "      <td>0.000000</td>\n",
       "      <td>0.881779</td>\n",
       "    </tr>\n",
       "    <tr>\n",
       "      <th>RF(plain)</th>\n",
       "      <td>0.936909</td>\n",
       "      <td>0.227723</td>\n",
       "      <td>0.918876</td>\n",
       "    </tr>\n",
       "    <tr>\n",
       "      <th>ET(plain)</th>\n",
       "      <td>0.925868</td>\n",
       "      <td>0.257426</td>\n",
       "      <td>0.912519</td>\n",
       "    </tr>\n",
       "    <tr>\n",
       "      <th>KNN(oversample)</th>\n",
       "      <td>0.867508</td>\n",
       "      <td>0.336634</td>\n",
       "      <td>0.876073</td>\n",
       "    </tr>\n",
       "    <tr>\n",
       "      <th>LR(oversample)</th>\n",
       "      <td>0.896688</td>\n",
       "      <td>0.059406</td>\n",
       "      <td>0.876649</td>\n",
       "    </tr>\n",
       "    <tr>\n",
       "      <th>RF(oversample)</th>\n",
       "      <td>0.932965</td>\n",
       "      <td>0.257426</td>\n",
       "      <td>0.917971</td>\n",
       "    </tr>\n",
       "    <tr>\n",
       "      <th>ET(oversample)</th>\n",
       "      <td>0.926656</td>\n",
       "      <td>0.237624</td>\n",
       "      <td>0.911725</td>\n",
       "    </tr>\n",
       "    <tr>\n",
       "      <th>KNN(SMOTE/Under)</th>\n",
       "      <td>0.742902</td>\n",
       "      <td>0.455446</td>\n",
       "      <td>0.796220</td>\n",
       "    </tr>\n",
       "    <tr>\n",
       "      <th>LR(SMOTE/Under)</th>\n",
       "      <td>0.809148</td>\n",
       "      <td>0.287129</td>\n",
       "      <td>0.836138</td>\n",
       "    </tr>\n",
       "    <tr>\n",
       "      <th>RF(LR(SMOTE/Under))</th>\n",
       "      <td>0.926656</td>\n",
       "      <td>0.277228</td>\n",
       "      <td>0.914426</td>\n",
       "    </tr>\n",
       "    <tr>\n",
       "      <th>ET(LR(SMOTE/Under))</th>\n",
       "      <td>0.908517</td>\n",
       "      <td>0.356436</td>\n",
       "      <td>0.905384</td>\n",
       "    </tr>\n",
       "    <tr>\n",
       "      <th>LRCV(SMOTE/Under)</th>\n",
       "      <td>0.820189</td>\n",
       "      <td>0.297030</td>\n",
       "      <td>0.843597</td>\n",
       "    </tr>\n",
       "  </tbody>\n",
       "</table>\n",
       "</div>"
      ],
      "text/plain": [
       "                     Accuracy    Recall  Weighted F1 Score\n",
       "KNN(plain)           0.913249  0.128713           0.893392\n",
       "LR(plain)            0.919558  0.000000           0.881779\n",
       "RF(plain)            0.936909  0.227723           0.918876\n",
       "ET(plain)            0.925868  0.257426           0.912519\n",
       "KNN(oversample)      0.867508  0.336634           0.876073\n",
       "LR(oversample)       0.896688  0.059406           0.876649\n",
       "RF(oversample)       0.932965  0.257426           0.917971\n",
       "ET(oversample)       0.926656  0.237624           0.911725\n",
       "KNN(SMOTE/Under)     0.742902  0.455446           0.796220\n",
       "LR(SMOTE/Under)      0.809148  0.287129           0.836138\n",
       "RF(LR(SMOTE/Under))  0.926656  0.277228           0.914426\n",
       "ET(LR(SMOTE/Under))  0.908517  0.356436           0.905384\n",
       "LRCV(SMOTE/Under)    0.820189  0.297030           0.843597"
      ]
     },
     "execution_count": 39,
     "metadata": {},
     "output_type": "execute_result"
    }
   ],
   "source": [
    "# Adding results to the results table\n",
    "logregcv_et = pd.Series(data=[accuracy_score(y_test, logreg_cv_pred), recall_score(y_test, logreg_cv_pred),\n",
    "                              f1_score(y_test, logreg_cv_pred ,average='weighted')], index=binary_scores.columns, name = 'LRCV(SMOTE/Under)')\n",
    "\n",
    "binary_scores = binary_scores.append([logregcv_et])\n",
    "\n",
    "binary_scores"
   ]
  },
  {
   "cell_type": "markdown",
   "metadata": {},
   "source": [
    "**INTERPRETATION:** It didn't perform well so we won't be using it moving forward."
   ]
  },
  {
   "cell_type": "markdown",
   "metadata": {},
   "source": [
    "## Look at feature importance from best models"
   ]
  },
  {
   "cell_type": "code",
   "execution_count": 40,
   "metadata": {},
   "outputs": [],
   "source": [
    "# # Ref: https://towardsdatascience.com/interpreting-random-forest-and-other-black-box-models-like-xgboost-80f9cc4a3c38\n",
    "\n",
    "# knn_smote_under_feature_imp = pd.DataFrame({'Variable':X.columns,\n",
    "#               'Importance':et.feature_importances_}).sort_values('Importance', ascending=False)\n",
    "\n",
    "# knn_smote_under_feature_imp[:30]"
   ]
  },
  {
   "cell_type": "code",
   "execution_count": 41,
   "metadata": {},
   "outputs": [
    {
     "data": {
      "text/html": [
       "<div>\n",
       "<style scoped>\n",
       "    .dataframe tbody tr th:only-of-type {\n",
       "        vertical-align: middle;\n",
       "    }\n",
       "\n",
       "    .dataframe tbody tr th {\n",
       "        vertical-align: top;\n",
       "    }\n",
       "\n",
       "    .dataframe thead th {\n",
       "        text-align: right;\n",
       "    }\n",
       "</style>\n",
       "<table border=\"1\" class=\"dataframe\">\n",
       "  <thead>\n",
       "    <tr style=\"text-align: right;\">\n",
       "      <th></th>\n",
       "      <th>Variable</th>\n",
       "      <th>Importance</th>\n",
       "    </tr>\n",
       "  </thead>\n",
       "  <tbody>\n",
       "    <tr>\n",
       "      <th>6</th>\n",
       "      <td>policy_length</td>\n",
       "      <td>0.077404</td>\n",
       "    </tr>\n",
       "    <tr>\n",
       "      <th>9</th>\n",
       "      <td>New/Renl/Endt/Canc/Flat_new</td>\n",
       "      <td>0.065364</td>\n",
       "    </tr>\n",
       "    <tr>\n",
       "      <th>10</th>\n",
       "      <td>New/Renl/Endt/Canc/Flat_renl</td>\n",
       "      <td>0.041816</td>\n",
       "    </tr>\n",
       "    <tr>\n",
       "      <th>1</th>\n",
       "      <td>Year Built</td>\n",
       "      <td>0.041571</td>\n",
       "    </tr>\n",
       "    <tr>\n",
       "      <th>5</th>\n",
       "      <td>Age</td>\n",
       "      <td>0.041542</td>\n",
       "    </tr>\n",
       "    <tr>\n",
       "      <th>2</th>\n",
       "      <td>Length</td>\n",
       "      <td>0.041432</td>\n",
       "    </tr>\n",
       "    <tr>\n",
       "      <th>3</th>\n",
       "      <td>Hull Limit</td>\n",
       "      <td>0.040715</td>\n",
       "    </tr>\n",
       "    <tr>\n",
       "      <th>0</th>\n",
       "      <td>Years Exp.</td>\n",
       "      <td>0.036133</td>\n",
       "    </tr>\n",
       "    <tr>\n",
       "      <th>24</th>\n",
       "      <td>Occupation_other</td>\n",
       "      <td>0.031040</td>\n",
       "    </tr>\n",
       "    <tr>\n",
       "      <th>29</th>\n",
       "      <td>Occupation_retired</td>\n",
       "      <td>0.023524</td>\n",
       "    </tr>\n",
       "    <tr>\n",
       "      <th>12</th>\n",
       "      <td>Married yes/no_yes</td>\n",
       "      <td>0.023360</td>\n",
       "    </tr>\n",
       "    <tr>\n",
       "      <th>23</th>\n",
       "      <td>Occupation_not reported</td>\n",
       "      <td>0.022306</td>\n",
       "    </tr>\n",
       "    <tr>\n",
       "      <th>99</th>\n",
       "      <td>Mooring County_other</td>\n",
       "      <td>0.021514</td>\n",
       "    </tr>\n",
       "    <tr>\n",
       "      <th>58</th>\n",
       "      <td>Hull Type_monohull sail</td>\n",
       "      <td>0.021133</td>\n",
       "    </tr>\n",
       "    <tr>\n",
       "      <th>11</th>\n",
       "      <td>Married yes/no_not reported</td>\n",
       "      <td>0.020923</td>\n",
       "    </tr>\n",
       "    <tr>\n",
       "      <th>46</th>\n",
       "      <td>Builder_other</td>\n",
       "      <td>0.019625</td>\n",
       "    </tr>\n",
       "    <tr>\n",
       "      <th>59</th>\n",
       "      <td>Hull Type_motoryacht</td>\n",
       "      <td>0.019578</td>\n",
       "    </tr>\n",
       "    <tr>\n",
       "      <th>4</th>\n",
       "      <td># Engines</td>\n",
       "      <td>0.019482</td>\n",
       "    </tr>\n",
       "    <tr>\n",
       "      <th>7</th>\n",
       "      <td>New/Renl/Endt/Canc/Flat_endt</td>\n",
       "      <td>0.018740</td>\n",
       "    </tr>\n",
       "    <tr>\n",
       "      <th>61</th>\n",
       "      <td>Hull Type_multihull sail</td>\n",
       "      <td>0.016796</td>\n",
       "    </tr>\n",
       "    <tr>\n",
       "      <th>94</th>\n",
       "      <td>Mooring County_monroe</td>\n",
       "      <td>0.016475</td>\n",
       "    </tr>\n",
       "    <tr>\n",
       "      <th>63</th>\n",
       "      <td>Hull Type_sportfisher</td>\n",
       "      <td>0.011422</td>\n",
       "    </tr>\n",
       "    <tr>\n",
       "      <th>93</th>\n",
       "      <td>Mooring County_miami-dade</td>\n",
       "      <td>0.011260</td>\n",
       "    </tr>\n",
       "    <tr>\n",
       "      <th>102</th>\n",
       "      <td>Mooring County_pinellas</td>\n",
       "      <td>0.010969</td>\n",
       "    </tr>\n",
       "    <tr>\n",
       "      <th>72</th>\n",
       "      <td>Mooring County_broward</td>\n",
       "      <td>0.010125</td>\n",
       "    </tr>\n",
       "    <tr>\n",
       "      <th>64</th>\n",
       "      <td>Hull Type_trawler</td>\n",
       "      <td>0.009729</td>\n",
       "    </tr>\n",
       "    <tr>\n",
       "      <th>74</th>\n",
       "      <td>Mooring County_caribbean</td>\n",
       "      <td>0.009710</td>\n",
       "    </tr>\n",
       "    <tr>\n",
       "      <th>103</th>\n",
       "      <td>Mooring County_san diego</td>\n",
       "      <td>0.009609</td>\n",
       "    </tr>\n",
       "    <tr>\n",
       "      <th>70</th>\n",
       "      <td>Mooring County_bcs</td>\n",
       "      <td>0.009489</td>\n",
       "    </tr>\n",
       "    <tr>\n",
       "      <th>13</th>\n",
       "      <td>Occupation_business owner</td>\n",
       "      <td>0.008219</td>\n",
       "    </tr>\n",
       "  </tbody>\n",
       "</table>\n",
       "</div>"
      ],
      "text/plain": [
       "                         Variable  Importance\n",
       "6                   policy_length    0.077404\n",
       "9     New/Renl/Endt/Canc/Flat_new    0.065364\n",
       "10   New/Renl/Endt/Canc/Flat_renl    0.041816\n",
       "1                      Year Built    0.041571\n",
       "5                             Age    0.041542\n",
       "2                          Length    0.041432\n",
       "3                      Hull Limit    0.040715\n",
       "0                      Years Exp.    0.036133\n",
       "24               Occupation_other    0.031040\n",
       "29             Occupation_retired    0.023524\n",
       "12             Married yes/no_yes    0.023360\n",
       "23        Occupation_not reported    0.022306\n",
       "99           Mooring County_other    0.021514\n",
       "58        Hull Type_monohull sail    0.021133\n",
       "11    Married yes/no_not reported    0.020923\n",
       "46                  Builder_other    0.019625\n",
       "59           Hull Type_motoryacht    0.019578\n",
       "4                       # Engines    0.019482\n",
       "7    New/Renl/Endt/Canc/Flat_endt    0.018740\n",
       "61       Hull Type_multihull sail    0.016796\n",
       "94          Mooring County_monroe    0.016475\n",
       "63          Hull Type_sportfisher    0.011422\n",
       "93      Mooring County_miami-dade    0.011260\n",
       "102       Mooring County_pinellas    0.010969\n",
       "72         Mooring County_broward    0.010125\n",
       "64              Hull Type_trawler    0.009729\n",
       "74       Mooring County_caribbean    0.009710\n",
       "103      Mooring County_san diego    0.009609\n",
       "70             Mooring County_bcs    0.009489\n",
       "13      Occupation_business owner    0.008219"
      ]
     },
     "execution_count": 41,
     "metadata": {},
     "output_type": "execute_result"
    }
   ],
   "source": [
    "# Ref: https://towardsdatascience.com/interpreting-random-forest-and-other-black-box-models-like-xgboost-80f9cc4a3c38\n",
    "\n",
    "et_smote_under_feature_imp = pd.DataFrame({'Variable':X.columns,\n",
    "              'Importance':et.feature_importances_}).sort_values('Importance', ascending=False)\n",
    "\n",
    "et_smote_under_feature_imp[:30]\n",
    "\n"
   ]
  },
  {
   "cell_type": "code",
   "execution_count": 42,
   "metadata": {},
   "outputs": [],
   "source": [
    "# Compare to feature importance of second best model\n",
    "\n",
    "rf_smote_under_feature_imp = pd.DataFrame({'Variable':X.columns,\n",
    "              'Importance':rf.feature_importances_}).sort_values('Importance', ascending=False)\n",
    "\n",
    "top_30 = rf_smote_under_feature_imp[:30]"
   ]
  },
  {
   "cell_type": "code",
   "execution_count": 43,
   "metadata": {},
   "outputs": [],
   "source": [
    "# Get only top 30 important features to use in an updated model \n",
    "post_rf_model_features = [x for x in top_30['Variable']]"
   ]
  },
  {
   "cell_type": "markdown",
   "metadata": {},
   "source": [
    "## Redo models again using only top 30 features"
   ]
  },
  {
   "cell_type": "code",
   "execution_count": 44,
   "metadata": {},
   "outputs": [
    {
     "data": {
      "text/html": [
       "<div>\n",
       "<style scoped>\n",
       "    .dataframe tbody tr th:only-of-type {\n",
       "        vertical-align: middle;\n",
       "    }\n",
       "\n",
       "    .dataframe tbody tr th {\n",
       "        vertical-align: top;\n",
       "    }\n",
       "\n",
       "    .dataframe thead th {\n",
       "        text-align: right;\n",
       "    }\n",
       "</style>\n",
       "<table border=\"1\" class=\"dataframe\">\n",
       "  <thead>\n",
       "    <tr style=\"text-align: right;\">\n",
       "      <th></th>\n",
       "      <th>Accuracy</th>\n",
       "      <th>Recall</th>\n",
       "      <th>Weighted F1 Score</th>\n",
       "    </tr>\n",
       "  </thead>\n",
       "  <tbody>\n",
       "  </tbody>\n",
       "</table>\n",
       "</div>"
      ],
      "text/plain": [
       "Empty DataFrame\n",
       "Columns: [Accuracy, Recall, Weighted F1 Score]\n",
       "Index: []"
      ]
     },
     "execution_count": 44,
     "metadata": {},
     "output_type": "execute_result"
    }
   ],
   "source": [
    "binary_scores2 = pd.DataFrame(columns=['Accuracy', 'Recall','Weighted F1 Score'])\n",
    "binary_scores2"
   ]
  },
  {
   "cell_type": "code",
   "execution_count": 45,
   "metadata": {},
   "outputs": [],
   "source": [
    "X = combined[post_rf_model_features]\n",
    "y = combined['binary']\n",
    "X_train, X_test, y_train, y_test = train_test_split(X, y, test_size=.2, random_state=42, stratify=y)"
   ]
  },
  {
   "cell_type": "code",
   "execution_count": 46,
   "metadata": {},
   "outputs": [],
   "source": [
    "ss = StandardScaler()\n",
    "X_train_sc = ss.fit_transform(X_train)\n",
    "X_test_sc = ss.transform(X_test)"
   ]
  },
  {
   "cell_type": "code",
   "execution_count": 47,
   "metadata": {},
   "outputs": [],
   "source": [
    "over = SMOTE(sampling_strategy=0.2, random_state=42)\n",
    "under = RandomUnderSampler(sampling_strategy=0.5, random_state=42)\n",
    "steps = [('o', over), ('u', under)]\n",
    "pipeline = Pipeline(steps=steps)\n",
    "\n",
    "X_sm_und, y_sm_und = pipeline.fit_resample(X_train_sc,y_train)"
   ]
  },
  {
   "cell_type": "code",
   "execution_count": 48,
   "metadata": {},
   "outputs": [],
   "source": [
    "knn = KNeighborsClassifier()\n",
    "knn.fit(X_sm_und, y_sm_und)\n",
    "knn_pred = knn.predict(X_test_sc)\n",
    "\n",
    "lr = LogisticRegression(random_state=42)\n",
    "lr.fit(X_sm_und, y_sm_und)\n",
    "lr_pred = lr.predict(X_test_sc)\n",
    "\n",
    "rf = RandomForestClassifier(n_estimators=100,random_state=42)\n",
    "rf.fit(X_sm_und, y_sm_und)\n",
    "rf_pred = rf.predict(X_test_sc)\n",
    "\n",
    "et = ExtraTreesClassifier(n_estimators=100,random_state=42)\n",
    "et.fit(X_sm_und, y_sm_und)\n",
    "et_pred = et.predict(X_test_sc)\n",
    "\n",
    "logreg_cv = LogisticRegressionCV(Cs=10, cv=5, penalty=\"l1\", solver=\"liblinear\", random_state=42)\n",
    "logreg_cv.fit(X_sm_und, y_sm_und)\n",
    "logreg_cv_pred = logreg_cv.predict(X_test_sc)"
   ]
  },
  {
   "cell_type": "code",
   "execution_count": 49,
   "metadata": {},
   "outputs": [
    {
     "name": "stdout",
     "output_type": "stream",
     "text": [
      "New_Scores\n"
     ]
    },
    {
     "data": {
      "text/html": [
       "<div>\n",
       "<style scoped>\n",
       "    .dataframe tbody tr th:only-of-type {\n",
       "        vertical-align: middle;\n",
       "    }\n",
       "\n",
       "    .dataframe tbody tr th {\n",
       "        vertical-align: top;\n",
       "    }\n",
       "\n",
       "    .dataframe thead th {\n",
       "        text-align: right;\n",
       "    }\n",
       "</style>\n",
       "<table border=\"1\" class=\"dataframe\">\n",
       "  <thead>\n",
       "    <tr style=\"text-align: right;\">\n",
       "      <th></th>\n",
       "      <th>Accuracy</th>\n",
       "      <th>Recall</th>\n",
       "      <th>Weighted F1 Score</th>\n",
       "    </tr>\n",
       "  </thead>\n",
       "  <tbody>\n",
       "    <tr>\n",
       "      <th>KNN(SMOTE/Under)</th>\n",
       "      <td>0.731861</td>\n",
       "      <td>0.524752</td>\n",
       "      <td>0.789556</td>\n",
       "    </tr>\n",
       "    <tr>\n",
       "      <th>LR(SMOTE/Under)</th>\n",
       "      <td>0.876183</td>\n",
       "      <td>0.287129</td>\n",
       "      <td>0.879580</td>\n",
       "    </tr>\n",
       "    <tr>\n",
       "      <th>RF(SMOTE/Under))</th>\n",
       "      <td>0.929022</td>\n",
       "      <td>0.297030</td>\n",
       "      <td>0.917493</td>\n",
       "    </tr>\n",
       "    <tr>\n",
       "      <th>ET(SMOTE/Under))</th>\n",
       "      <td>0.908517</td>\n",
       "      <td>0.316832</td>\n",
       "      <td>0.903354</td>\n",
       "    </tr>\n",
       "    <tr>\n",
       "      <th>LOGREG(SMOTE/Under))</th>\n",
       "      <td>0.894322</td>\n",
       "      <td>0.217822</td>\n",
       "      <td>0.887735</td>\n",
       "    </tr>\n",
       "  </tbody>\n",
       "</table>\n",
       "</div>"
      ],
      "text/plain": [
       "                      Accuracy    Recall  Weighted F1 Score\n",
       "KNN(SMOTE/Under)      0.731861  0.524752           0.789556\n",
       "LR(SMOTE/Under)       0.876183  0.287129           0.879580\n",
       "RF(SMOTE/Under))      0.929022  0.297030           0.917493\n",
       "ET(SMOTE/Under))      0.908517  0.316832           0.903354\n",
       "LOGREG(SMOTE/Under))  0.894322  0.217822           0.887735"
      ]
     },
     "execution_count": 49,
     "metadata": {},
     "output_type": "execute_result"
    }
   ],
   "source": [
    "smote_knn = pd.Series(data=[accuracy_score(y_test, knn_pred), recall_score(y_test, knn_pred),\n",
    "                              f1_score(y_test, knn_pred ,average='weighted')], index=binary_scores2.columns, name = 'KNN(SMOTE/Under)')\n",
    "\n",
    "smote_lr = pd.Series(data=[accuracy_score(y_test, lr_pred), recall_score(y_test, lr_pred),\n",
    "                              f1_score(y_test, lr_pred ,average='weighted')], index=binary_scores2.columns, name = 'LR(SMOTE/Under)')\n",
    "\n",
    "smote_rf = pd.Series(data=[accuracy_score(y_test, rf_pred), recall_score(y_test, rf_pred),\n",
    "                              f1_score(y_test, rf_pred ,average='weighted')], index=binary_scores2.columns, name = 'RF(SMOTE/Under))')\n",
    "\n",
    "smote_et = pd.Series(data=[accuracy_score(y_test, et_pred), recall_score(y_test, et_pred),\n",
    "                              f1_score(y_test, et_pred ,average='weighted')], index=binary_scores2.columns, name = 'ET(SMOTE/Under))')\n",
    "\n",
    "smote_logreg_cv = pd.Series(data=[accuracy_score(y_test, logreg_cv_pred), recall_score(y_test, logreg_cv_pred),\n",
    "                              f1_score(y_test, logreg_cv_pred ,average='weighted')], index=binary_scores2.columns, name = 'LOGREG(SMOTE/Under))')\n",
    "\n",
    "binary_scores2 = binary_scores2.append([smote_knn, smote_lr, smote_rf, smote_et, smote_logreg_cv])\n",
    "\n",
    "print('New_Scores')\n",
    "binary_scores2"
   ]
  },
  {
   "cell_type": "code",
   "execution_count": 50,
   "metadata": {},
   "outputs": [
    {
     "name": "stdout",
     "output_type": "stream",
     "text": [
      "Old_Scores\n"
     ]
    },
    {
     "data": {
      "text/html": [
       "<div>\n",
       "<style scoped>\n",
       "    .dataframe tbody tr th:only-of-type {\n",
       "        vertical-align: middle;\n",
       "    }\n",
       "\n",
       "    .dataframe tbody tr th {\n",
       "        vertical-align: top;\n",
       "    }\n",
       "\n",
       "    .dataframe thead th {\n",
       "        text-align: right;\n",
       "    }\n",
       "</style>\n",
       "<table border=\"1\" class=\"dataframe\">\n",
       "  <thead>\n",
       "    <tr style=\"text-align: right;\">\n",
       "      <th></th>\n",
       "      <th>Accuracy</th>\n",
       "      <th>Recall</th>\n",
       "      <th>Weighted F1 Score</th>\n",
       "    </tr>\n",
       "  </thead>\n",
       "  <tbody>\n",
       "    <tr>\n",
       "      <th>KNN(SMOTE/Under)</th>\n",
       "      <td>0.742902</td>\n",
       "      <td>0.455446</td>\n",
       "      <td>0.796220</td>\n",
       "    </tr>\n",
       "    <tr>\n",
       "      <th>LR(SMOTE/Under)</th>\n",
       "      <td>0.809148</td>\n",
       "      <td>0.287129</td>\n",
       "      <td>0.836138</td>\n",
       "    </tr>\n",
       "    <tr>\n",
       "      <th>RF(LR(SMOTE/Under))</th>\n",
       "      <td>0.926656</td>\n",
       "      <td>0.277228</td>\n",
       "      <td>0.914426</td>\n",
       "    </tr>\n",
       "    <tr>\n",
       "      <th>ET(LR(SMOTE/Under))</th>\n",
       "      <td>0.908517</td>\n",
       "      <td>0.356436</td>\n",
       "      <td>0.905384</td>\n",
       "    </tr>\n",
       "    <tr>\n",
       "      <th>LRCV(SMOTE/Under)</th>\n",
       "      <td>0.820189</td>\n",
       "      <td>0.297030</td>\n",
       "      <td>0.843597</td>\n",
       "    </tr>\n",
       "  </tbody>\n",
       "</table>\n",
       "</div>"
      ],
      "text/plain": [
       "                     Accuracy    Recall  Weighted F1 Score\n",
       "KNN(SMOTE/Under)     0.742902  0.455446           0.796220\n",
       "LR(SMOTE/Under)      0.809148  0.287129           0.836138\n",
       "RF(LR(SMOTE/Under))  0.926656  0.277228           0.914426\n",
       "ET(LR(SMOTE/Under))  0.908517  0.356436           0.905384\n",
       "LRCV(SMOTE/Under)    0.820189  0.297030           0.843597"
      ]
     },
     "execution_count": 50,
     "metadata": {},
     "output_type": "execute_result"
    }
   ],
   "source": [
    "print('Old_Scores')\n",
    "binary_scores[-5:]"
   ]
  },
  {
   "cell_type": "markdown",
   "metadata": {},
   "source": [
    "**INTERPRETATION:** Scores improved after using only the top 30 most important features from the Random Forest model."
   ]
  },
  {
   "cell_type": "code",
   "execution_count": 51,
   "metadata": {},
   "outputs": [
    {
     "name": "stdout",
     "output_type": "stream",
     "text": [
      "KNN(SMOTE/UNDER) SECOND Training Results:\n",
      "0.8567345480528761\n",
      "0.9035369774919614\n",
      "\n",
      "RF(SMOTE/UNDER) SECOND Testing Results:\n",
      "0.7318611987381703\n",
      "0.5247524752475248\n"
     ]
    }
   ],
   "source": [
    "print('KNN(SMOTE/UNDER) SECOND Training Results:')\n",
    "print(knn.score(X_sm_und, y_sm_und))\n",
    "print(recall_score(y_sm_und, knn.predict(X_sm_und)))\n",
    "\n",
    "print('\\nRF(SMOTE/UNDER) SECOND Testing Results:')\n",
    "print(knn.score(X_test_sc, y_test))\n",
    "print(recall_score(y_test, knn.predict(X_test_sc)))"
   ]
  },
  {
   "cell_type": "code",
   "execution_count": 52,
   "metadata": {},
   "outputs": [
    {
     "name": "stdout",
     "output_type": "stream",
     "text": [
      "LR(SMOTE/UNDER) SECOND Training Results:\n",
      "0.684172918899607\n",
      "0.2347266881028939\n",
      "\n",
      "LR(SMOTE/UNDER) SECOND Testing Results:\n",
      "0.8761829652996845\n",
      "0.2871287128712871\n"
     ]
    }
   ],
   "source": [
    "print('LR(SMOTE/UNDER) SECOND Training Results:')\n",
    "print(lr.score(X_sm_und, y_sm_und))\n",
    "print(recall_score(y_sm_und, lr.predict(X_sm_und)))\n",
    "\n",
    "print('\\nLR(SMOTE/UNDER) SECOND Testing Results:')\n",
    "print(lr.score(X_test_sc, y_test))\n",
    "print(recall_score(y_test, lr.predict(X_test_sc)))"
   ]
  },
  {
   "cell_type": "code",
   "execution_count": 53,
   "metadata": {},
   "outputs": [
    {
     "name": "stdout",
     "output_type": "stream",
     "text": [
      "RF(SMOTE/UNDER) SECOND Training Results:\n",
      "1.0\n",
      "1.0\n",
      "\n",
      "RF(SMOTE/UNDER) SECOND Testing Results:\n",
      "0.9290220820189274\n",
      "0.297029702970297\n"
     ]
    }
   ],
   "source": [
    "print('RF(SMOTE/UNDER) SECOND Training Results:')\n",
    "print(rf.score(X_sm_und, y_sm_und))\n",
    "print(recall_score(y_sm_und, rf.predict(X_sm_und)))\n",
    "\n",
    "print('\\nRF(SMOTE/UNDER) SECOND Testing Results:')\n",
    "print(rf.score(X_test_sc, y_test))\n",
    "print(recall_score(y_test, rf.predict(X_test_sc)))"
   ]
  },
  {
   "cell_type": "code",
   "execution_count": 54,
   "metadata": {},
   "outputs": [
    {
     "name": "stdout",
     "output_type": "stream",
     "text": [
      "ET(SMOTE/UNDER) SECOND Training Results:\n",
      "1.0\n",
      "1.0\n",
      "\n",
      "ET(SMOTE/UNDER) SECOND Testing Results:\n",
      "0.9085173501577287\n",
      "0.31683168316831684\n"
     ]
    }
   ],
   "source": [
    "print('ET(SMOTE/UNDER) SECOND Training Results:')\n",
    "print(et.score(X_sm_und, y_sm_und))\n",
    "print(recall_score(y_sm_und, et.predict(X_sm_und)))\n",
    "\n",
    "print('\\nET(SMOTE/UNDER) SECOND Testing Results:')\n",
    "print(et.score(X_test_sc, y_test))\n",
    "print(recall_score(y_test, et.predict(X_test_sc)))"
   ]
  },
  {
   "cell_type": "code",
   "execution_count": null,
   "metadata": {},
   "outputs": [],
   "source": []
  },
  {
   "cell_type": "markdown",
   "metadata": {},
   "source": [
    "---\n",
    "## Gridsearch over KNN to fine tune model"
   ]
  },
  {
   "cell_type": "code",
   "execution_count": 55,
   "metadata": {},
   "outputs": [],
   "source": [
    "# Ref for gridsearching for recall score: https://stackoverflow.com/questions/49035011/get-precison-model-through-gridsearchcv-for-recall-optimization\n",
    "knn_params = {\n",
    "    'n_neighbors':range(2, 5),\n",
    "    'metric': ['euclidean', 'manhattan']\n",
    "}\n",
    "\n",
    "knn_gridsearch = GridSearchCV(KNeighborsClassifier(), knn_params, cv=5, \n",
    "                              verbose=1, scoring='recall')"
   ]
  },
  {
   "cell_type": "code",
   "execution_count": 56,
   "metadata": {},
   "outputs": [
    {
     "name": "stdout",
     "output_type": "stream",
     "text": [
      "Fitting 5 folds for each of 6 candidates, totalling 30 fits\n"
     ]
    },
    {
     "name": "stderr",
     "output_type": "stream",
     "text": [
      "[Parallel(n_jobs=1)]: Using backend SequentialBackend with 1 concurrent workers.\n",
      "[Parallel(n_jobs=1)]: Done  30 out of  30 | elapsed:    2.7s finished\n"
     ]
    }
   ],
   "source": [
    "knn_gridsearch.fit(X_sm_und, y_sm_und);"
   ]
  },
  {
   "cell_type": "code",
   "execution_count": 57,
   "metadata": {},
   "outputs": [
    {
     "name": "stdout",
     "output_type": "stream",
     "text": [
      "0.8199470990742338\n",
      "{'metric': 'euclidean', 'n_neighbors': 3}\n"
     ]
    }
   ],
   "source": [
    "print(knn_gridsearch.best_score_)\n",
    "print(knn_gridsearch.best_params_)"
   ]
  },
  {
   "cell_type": "code",
   "execution_count": 58,
   "metadata": {},
   "outputs": [
    {
     "name": "stdout",
     "output_type": "stream",
     "text": [
      "KNN Gridsearch Training Results:\n",
      "0.9046087888531619\n",
      "0.9506966773847803\n",
      "\n",
      "KNN Gridsearch Testing Results:\n",
      "0.7413249211356467\n",
      "0.48514851485148514\n"
     ]
    }
   ],
   "source": [
    "print('KNN Gridsearch Training Results:')\n",
    "print(accuracy_score(y_sm_und, knn_gridsearch.predict(X_sm_und)))\n",
    "print(knn_gridsearch.score(X_sm_und, y_sm_und))\n",
    "\n",
    "print('\\nKNN Gridsearch Testing Results:')\n",
    "print(accuracy_score(y_test, knn_gridsearch.predict(X_test_sc)))\n",
    "print(knn_gridsearch.score(X_test_sc, y_test))\n"
   ]
  },
  {
   "cell_type": "code",
   "execution_count": 59,
   "metadata": {},
   "outputs": [],
   "source": [
    "# Save the best model\n",
    "knn_model = knn_gridsearch"
   ]
  },
  {
   "cell_type": "markdown",
   "metadata": {},
   "source": [
    "## Gridsearch over RF to fine tune model"
   ]
  },
  {
   "cell_type": "code",
   "execution_count": 60,
   "metadata": {},
   "outputs": [
    {
     "name": "stdout",
     "output_type": "stream",
     "text": [
      "Fitting 5 folds for each of 18 candidates, totalling 90 fits\n"
     ]
    },
    {
     "name": "stderr",
     "output_type": "stream",
     "text": [
      "[Parallel(n_jobs=1)]: Using backend SequentialBackend with 1 concurrent workers.\n",
      "[Parallel(n_jobs=1)]: Done  90 out of  90 | elapsed:   18.2s finished\n"
     ]
    },
    {
     "name": "stdout",
     "output_type": "stream",
     "text": [
      "0.6633201081018918\n"
     ]
    },
    {
     "data": {
      "text/plain": [
       "{'max_depth': None, 'n_estimators': 50}"
      ]
     },
     "execution_count": 60,
     "metadata": {},
     "output_type": "execute_result"
    }
   ],
   "source": [
    "rf_params = {\n",
    "    'n_estimators': [50,75,100],\n",
    "    'max_depth': [None, 1, 2, 3, 4, 5],\n",
    "}\n",
    "rf_gs = GridSearchCV(RandomForestClassifier(), param_grid=rf_params, cv=5, \n",
    "                     verbose= 1, scoring= 'recall')\n",
    "rf_gs.fit(X_sm_und, y_sm_und)\n",
    "print(rf_gs.best_score_)\n",
    "rf_gs.best_params_"
   ]
  },
  {
   "cell_type": "code",
   "execution_count": 61,
   "metadata": {},
   "outputs": [
    {
     "name": "stdout",
     "output_type": "stream",
     "text": [
      "RF Gridsearch Training Results:\n",
      "0.9996427295462665\n",
      "0.9989281886387996\n",
      "\n",
      "RF Gridsearch Testing Results:\n",
      "0.9203470031545742\n",
      "0.2871287128712871\n"
     ]
    }
   ],
   "source": [
    "print('RF Gridsearch Training Results:')\n",
    "print(accuracy_score(y_sm_und, rf_gs.predict(X_sm_und)))\n",
    "print(rf_gs.score(X_sm_und, y_sm_und))\n",
    "\n",
    "\n",
    "print('\\nRF Gridsearch Testing Results:')\n",
    "print(accuracy_score(y_test, rf_gs.predict(X_test_sc)))\n",
    "print(rf_gs.score(X_test_sc, y_test))\n"
   ]
  },
  {
   "cell_type": "code",
   "execution_count": null,
   "metadata": {},
   "outputs": [],
   "source": []
  },
  {
   "cell_type": "markdown",
   "metadata": {},
   "source": [
    "## Gridsearch over ET to fine tune model"
   ]
  },
  {
   "cell_type": "code",
   "execution_count": 62,
   "metadata": {},
   "outputs": [
    {
     "name": "stdout",
     "output_type": "stream",
     "text": [
      "Fitting 5 folds for each of 18 candidates, totalling 90 fits\n"
     ]
    },
    {
     "name": "stderr",
     "output_type": "stream",
     "text": [
      "[Parallel(n_jobs=1)]: Using backend SequentialBackend with 1 concurrent workers.\n",
      "[Parallel(n_jobs=1)]: Done  90 out of  90 | elapsed:   33.4s finished\n"
     ]
    },
    {
     "name": "stdout",
     "output_type": "stream",
     "text": [
      "0.7652003910068427\n"
     ]
    },
    {
     "data": {
      "text/plain": [
       "{'max_depth': None, 'n_estimators': 150}"
      ]
     },
     "execution_count": 62,
     "metadata": {},
     "output_type": "execute_result"
    }
   ],
   "source": [
    "et_params = {\n",
    "    'n_estimators': [100, 150, 200],\n",
    "    'max_depth': [None, 1, 2, 3, 4, 5],\n",
    "}\n",
    "et_gs = GridSearchCV(ExtraTreesClassifier(), param_grid=et_params, cv=5, \n",
    "                     verbose= 1, scoring= 'recall')\n",
    "et_gs.fit(X_sm_und, y_sm_und)\n",
    "print(et_gs.best_score_)\n",
    "et_gs.best_params_"
   ]
  },
  {
   "cell_type": "code",
   "execution_count": 63,
   "metadata": {},
   "outputs": [
    {
     "name": "stdout",
     "output_type": "stream",
     "text": [
      "ET Gridsearch Training Results:\n",
      "1.0\n",
      "1.0\n",
      "\n",
      "ET Gridsearch Testing Results:\n",
      "0.9006309148264984\n",
      "0.3069306930693069\n"
     ]
    }
   ],
   "source": [
    "print('ET Gridsearch Training Results:')\n",
    "print(accuracy_score(y_sm_und, et_gs.predict(X_sm_und)))\n",
    "print(et_gs.score(X_sm_und, y_sm_und))\n",
    "\n",
    "\n",
    "print('\\nET Gridsearch Testing Results:')\n",
    "print(accuracy_score(y_test, et_gs.predict(X_test_sc)))\n",
    "print(et_gs.score(X_test_sc, y_test))\n"
   ]
  },
  {
   "cell_type": "markdown",
   "metadata": {},
   "source": [
    "**INTERPRETATION:** While KNN had the best scores, it is a less interpretable model than Random Forest with the second best scores.  It was important for the client to be able to see the featre importance. In other words, he wanted to know which values of a boat or owner are most influential when predicting the likelihood of a claim."
   ]
  },
  {
   "cell_type": "markdown",
   "metadata": {},
   "source": [
    "\n",
    "\n",
    "---"
   ]
  },
  {
   "cell_type": "code",
   "execution_count": 64,
   "metadata": {},
   "outputs": [],
   "source": [
    "# # https://machinelearningmastery.com/calculate-feature-importance-with-python/\n",
    "\n",
    "# results = permutation_importance(knn_gridsearch, X_sm_und, y_sm_und, scoring='recall')\n",
    "# # get importance\n",
    "# importance = results.importances_mean\n",
    "# # summarize feature importance\n",
    "# for i,v in enumerate(importance):\n",
    "#     print('Feature: %0d, Score: %.5f' % (i,v))\n",
    "# # # plot feature importance\n",
    "# # pyplot.bar([x for x in range(len(importance))], importance)\n",
    "# # pyplot.show()"
   ]
  },
  {
   "cell_type": "code",
   "execution_count": 65,
   "metadata": {},
   "outputs": [],
   "source": [
    "# # Reminder of best params for RF\n",
    "# rf_gs.best_params_\n",
    "\n",
    "# # Instantiate model w/ best params in order to pull the feature importances\n",
    "# new_rf = RandomForestClassifier(max_depth=None, n_estimators=75,random_state=42)\n",
    "# new_rf.fit(X_sm_und, y_sm_und)\n",
    "# new_rf_pred = new_rf.predict(X_test_sc)\n",
    "\n",
    "# new_rf_feature_imp = pd.DataFrame({'Variable':X.columns,\n",
    "#               'Importance':new_rf.feature_importances_}).sort_values('Importance', ascending=False)\n",
    "\n",
    "# new_rf_feature_imp"
   ]
  },
  {
   "cell_type": "markdown",
   "metadata": {},
   "source": [
    "---\n",
    "## Fine tuning best model: Random Forest"
   ]
  },
  {
   "cell_type": "code",
   "execution_count": 66,
   "metadata": {},
   "outputs": [],
   "source": [
    "# Create a table to input results of best model once I start playing around with it again\n",
    "final_results_table = pd.DataFrame(columns=['Accuracy', 'Recall'])"
   ]
  },
  {
   "cell_type": "code",
   "execution_count": 67,
   "metadata": {},
   "outputs": [
    {
     "data": {
      "text/plain": [
       "{'max_depth': None, 'n_estimators': 50}"
      ]
     },
     "execution_count": 67,
     "metadata": {},
     "output_type": "execute_result"
    }
   ],
   "source": [
    "# Reminder of best params for RF\n",
    "rf_gs.best_params_"
   ]
  },
  {
   "cell_type": "code",
   "execution_count": 68,
   "metadata": {},
   "outputs": [],
   "source": [
    "best_model_rf = RandomForestClassifier(max_depth=None, n_estimators=75,random_state=42)\n",
    "best_model_rf.fit(X_sm_und, y_sm_und)\n",
    "bm_rf_pred = best_model_rf.predict(X_test_sc)"
   ]
  },
  {
   "cell_type": "code",
   "execution_count": 69,
   "metadata": {},
   "outputs": [
    {
     "data": {
      "text/html": [
       "<div>\n",
       "<style scoped>\n",
       "    .dataframe tbody tr th:only-of-type {\n",
       "        vertical-align: middle;\n",
       "    }\n",
       "\n",
       "    .dataframe tbody tr th {\n",
       "        vertical-align: top;\n",
       "    }\n",
       "\n",
       "    .dataframe thead th {\n",
       "        text-align: right;\n",
       "    }\n",
       "</style>\n",
       "<table border=\"1\" class=\"dataframe\">\n",
       "  <thead>\n",
       "    <tr style=\"text-align: right;\">\n",
       "      <th></th>\n",
       "      <th>Accuracy</th>\n",
       "      <th>Recall</th>\n",
       "    </tr>\n",
       "  </thead>\n",
       "  <tbody>\n",
       "    <tr>\n",
       "      <th>RF(Training)</th>\n",
       "      <td>1.000000</td>\n",
       "      <td>1.000000</td>\n",
       "    </tr>\n",
       "    <tr>\n",
       "      <th>RF(Testing)</th>\n",
       "      <td>0.928233</td>\n",
       "      <td>0.306931</td>\n",
       "    </tr>\n",
       "  </tbody>\n",
       "</table>\n",
       "</div>"
      ],
      "text/plain": [
       "              Accuracy    Recall\n",
       "RF(Training)  1.000000  1.000000\n",
       "RF(Testing)   0.928233  0.306931"
      ]
     },
     "execution_count": 69,
     "metadata": {},
     "output_type": "execute_result"
    }
   ],
   "source": [
    "rf_first_train = pd.Series(data=[best_model_rf.score(X_sm_und, y_sm_und), recall_score(y_sm_und, best_model_rf.predict(X_sm_und))],\n",
    "                                 index=final_results_table.columns, name = 'RF(Training)')\n",
    "                                 \n",
    "rf_first_test = pd.Series(data=[best_model_rf.score(X_test_sc, y_test), recall_score(y_test, best_model_rf.predict(X_test_sc))],\n",
    "                               index=final_results_table.columns, name = 'RF(Testing)')\n",
    "\n",
    "final_results_table = final_results_table.append([rf_first_train, rf_first_test])\n",
    "\n",
    "final_results_table"
   ]
  },
  {
   "cell_type": "markdown",
   "metadata": {},
   "source": [
    "**INTERPRETATION:** Model is overfit, I will try to play around with the feature selection below."
   ]
  },
  {
   "cell_type": "code",
   "execution_count": 70,
   "metadata": {},
   "outputs": [
    {
     "data": {
      "text/html": [
       "<div>\n",
       "<style scoped>\n",
       "    .dataframe tbody tr th:only-of-type {\n",
       "        vertical-align: middle;\n",
       "    }\n",
       "\n",
       "    .dataframe tbody tr th {\n",
       "        vertical-align: top;\n",
       "    }\n",
       "\n",
       "    .dataframe thead th {\n",
       "        text-align: right;\n",
       "    }\n",
       "</style>\n",
       "<table border=\"1\" class=\"dataframe\">\n",
       "  <thead>\n",
       "    <tr style=\"text-align: right;\">\n",
       "      <th></th>\n",
       "      <th>Variable</th>\n",
       "      <th>Importance</th>\n",
       "    </tr>\n",
       "  </thead>\n",
       "  <tbody>\n",
       "    <tr>\n",
       "      <th>0</th>\n",
       "      <td>policy_length</td>\n",
       "      <td>0.142156</td>\n",
       "    </tr>\n",
       "    <tr>\n",
       "      <th>2</th>\n",
       "      <td>Age</td>\n",
       "      <td>0.095411</td>\n",
       "    </tr>\n",
       "    <tr>\n",
       "      <th>1</th>\n",
       "      <td>Hull Limit</td>\n",
       "      <td>0.093279</td>\n",
       "    </tr>\n",
       "    <tr>\n",
       "      <th>3</th>\n",
       "      <td>Length</td>\n",
       "      <td>0.093120</td>\n",
       "    </tr>\n",
       "    <tr>\n",
       "      <th>4</th>\n",
       "      <td>Year Built</td>\n",
       "      <td>0.089054</td>\n",
       "    </tr>\n",
       "    <tr>\n",
       "      <th>6</th>\n",
       "      <td>Years Exp.</td>\n",
       "      <td>0.074954</td>\n",
       "    </tr>\n",
       "    <tr>\n",
       "      <th>5</th>\n",
       "      <td>New/Renl/Endt/Canc/Flat_new</td>\n",
       "      <td>0.045659</td>\n",
       "    </tr>\n",
       "    <tr>\n",
       "      <th>7</th>\n",
       "      <td>New/Renl/Endt/Canc/Flat_renl</td>\n",
       "      <td>0.033095</td>\n",
       "    </tr>\n",
       "    <tr>\n",
       "      <th>8</th>\n",
       "      <td># Engines</td>\n",
       "      <td>0.032026</td>\n",
       "    </tr>\n",
       "    <tr>\n",
       "      <th>17</th>\n",
       "      <td>Builder_other</td>\n",
       "      <td>0.028039</td>\n",
       "    </tr>\n",
       "    <tr>\n",
       "      <th>9</th>\n",
       "      <td>Occupation_other</td>\n",
       "      <td>0.027327</td>\n",
       "    </tr>\n",
       "    <tr>\n",
       "      <th>18</th>\n",
       "      <td>Mooring County_other</td>\n",
       "      <td>0.022678</td>\n",
       "    </tr>\n",
       "    <tr>\n",
       "      <th>10</th>\n",
       "      <td>Married yes/no_yes</td>\n",
       "      <td>0.020897</td>\n",
       "    </tr>\n",
       "    <tr>\n",
       "      <th>12</th>\n",
       "      <td>Occupation_not reported</td>\n",
       "      <td>0.020056</td>\n",
       "    </tr>\n",
       "    <tr>\n",
       "      <th>15</th>\n",
       "      <td>Married yes/no_not reported</td>\n",
       "      <td>0.018831</td>\n",
       "    </tr>\n",
       "    <tr>\n",
       "      <th>11</th>\n",
       "      <td>New/Renl/Endt/Canc/Flat_endt</td>\n",
       "      <td>0.017695</td>\n",
       "    </tr>\n",
       "    <tr>\n",
       "      <th>14</th>\n",
       "      <td>Hull Type_motoryacht</td>\n",
       "      <td>0.016573</td>\n",
       "    </tr>\n",
       "    <tr>\n",
       "      <th>13</th>\n",
       "      <td>Occupation_retired</td>\n",
       "      <td>0.015681</td>\n",
       "    </tr>\n",
       "    <tr>\n",
       "      <th>16</th>\n",
       "      <td>Hull Type_monohull sail</td>\n",
       "      <td>0.015617</td>\n",
       "    </tr>\n",
       "    <tr>\n",
       "      <th>19</th>\n",
       "      <td>Hull Type_multihull sail</td>\n",
       "      <td>0.014137</td>\n",
       "    </tr>\n",
       "    <tr>\n",
       "      <th>20</th>\n",
       "      <td>Mooring County_monroe</td>\n",
       "      <td>0.011767</td>\n",
       "    </tr>\n",
       "    <tr>\n",
       "      <th>21</th>\n",
       "      <td>Hull Type_sportfisher</td>\n",
       "      <td>0.009254</td>\n",
       "    </tr>\n",
       "    <tr>\n",
       "      <th>27</th>\n",
       "      <td>Mooring County_caribbean</td>\n",
       "      <td>0.008826</td>\n",
       "    </tr>\n",
       "    <tr>\n",
       "      <th>26</th>\n",
       "      <td>Mooring County_bcs</td>\n",
       "      <td>0.008740</td>\n",
       "    </tr>\n",
       "    <tr>\n",
       "      <th>22</th>\n",
       "      <td>Mooring County_miami-dade</td>\n",
       "      <td>0.008323</td>\n",
       "    </tr>\n",
       "    <tr>\n",
       "      <th>23</th>\n",
       "      <td>Mooring County_broward</td>\n",
       "      <td>0.008110</td>\n",
       "    </tr>\n",
       "    <tr>\n",
       "      <th>25</th>\n",
       "      <td>Mooring County_pinellas</td>\n",
       "      <td>0.007589</td>\n",
       "    </tr>\n",
       "    <tr>\n",
       "      <th>24</th>\n",
       "      <td>Hull Type_trawler</td>\n",
       "      <td>0.007569</td>\n",
       "    </tr>\n",
       "    <tr>\n",
       "      <th>28</th>\n",
       "      <td>Mooring County_san diego</td>\n",
       "      <td>0.006955</td>\n",
       "    </tr>\n",
       "    <tr>\n",
       "      <th>29</th>\n",
       "      <td>Occupation_business owner</td>\n",
       "      <td>0.006580</td>\n",
       "    </tr>\n",
       "  </tbody>\n",
       "</table>\n",
       "</div>"
      ],
      "text/plain": [
       "                        Variable  Importance\n",
       "0                  policy_length    0.142156\n",
       "2                            Age    0.095411\n",
       "1                     Hull Limit    0.093279\n",
       "3                         Length    0.093120\n",
       "4                     Year Built    0.089054\n",
       "6                     Years Exp.    0.074954\n",
       "5    New/Renl/Endt/Canc/Flat_new    0.045659\n",
       "7   New/Renl/Endt/Canc/Flat_renl    0.033095\n",
       "8                      # Engines    0.032026\n",
       "17                 Builder_other    0.028039\n",
       "9               Occupation_other    0.027327\n",
       "18          Mooring County_other    0.022678\n",
       "10            Married yes/no_yes    0.020897\n",
       "12       Occupation_not reported    0.020056\n",
       "15   Married yes/no_not reported    0.018831\n",
       "11  New/Renl/Endt/Canc/Flat_endt    0.017695\n",
       "14          Hull Type_motoryacht    0.016573\n",
       "13            Occupation_retired    0.015681\n",
       "16       Hull Type_monohull sail    0.015617\n",
       "19      Hull Type_multihull sail    0.014137\n",
       "20         Mooring County_monroe    0.011767\n",
       "21         Hull Type_sportfisher    0.009254\n",
       "27      Mooring County_caribbean    0.008826\n",
       "26            Mooring County_bcs    0.008740\n",
       "22     Mooring County_miami-dade    0.008323\n",
       "23        Mooring County_broward    0.008110\n",
       "25       Mooring County_pinellas    0.007589\n",
       "24             Hull Type_trawler    0.007569\n",
       "28      Mooring County_san diego    0.006955\n",
       "29     Occupation_business owner    0.006580"
      ]
     },
     "execution_count": 70,
     "metadata": {},
     "output_type": "execute_result"
    }
   ],
   "source": [
    "best_rf_feature_imp = pd.DataFrame({'Variable':X.columns,\n",
    "              'Importance':best_model_rf.feature_importances_}).sort_values('Importance', ascending=False)\n",
    "\n",
    "best_rf_feature_imp"
   ]
  },
  {
   "cell_type": "markdown",
   "metadata": {},
   "source": [
    "## Test best model with 'Policy Length' and 'New/Renl/Endt/Canc/Flat' removed"
   ]
  },
  {
   "cell_type": "code",
   "execution_count": 71,
   "metadata": {},
   "outputs": [
    {
     "data": {
      "text/plain": [
       "['New/Renl/Endt/Canc/Flat_endt',\n",
       " 'New/Renl/Endt/Canc/Flat_endt-canc',\n",
       " 'New/Renl/Endt/Canc/Flat_new',\n",
       " 'New/Renl/Endt/Canc/Flat_renl',\n",
       " 'policy_length',\n",
       " 'num_claims',\n",
       " 'binary']"
      ]
     },
     "execution_count": 71,
     "metadata": {},
     "output_type": "execute_result"
    }
   ],
   "source": [
    "removals = [col for col in combined if col.startswith('New/Renl/Endt/Canc/Flat')]\n",
    "removals.append('policy_length')\n",
    "removals.append('num_claims')\n",
    "removals.append('binary')\n",
    "removals"
   ]
  },
  {
   "cell_type": "code",
   "execution_count": 72,
   "metadata": {},
   "outputs": [],
   "source": [
    "X = combined.drop(columns=removals)\n",
    "y = combined['binary']\n",
    "X_train, X_test, y_train, y_test = train_test_split(X, y, test_size=.2, random_state=42, stratify=y)\n",
    "\n",
    "ss = StandardScaler()\n",
    "X_train_sc = ss.fit_transform(X_train)\n",
    "X_test_sc = ss.transform(X_test)\n",
    "\n",
    "over = SMOTE(sampling_strategy=0.2,random_state=42)\n",
    "under = RandomUnderSampler(sampling_strategy=0.5,random_state=42)\n",
    "steps = [('o', over), ('u', under)]\n",
    "pipeline = Pipeline(steps=steps)\n",
    "\n",
    "X_sm_und, y_sm_und = pipeline.fit_resample(X_train_sc, y_train)\n",
    "\n",
    "rf = RandomForestClassifier(max_depth=None, n_estimators=75,random_state=42)\n",
    "rf.fit(X_sm_und, y_sm_und)\n",
    "rf_pred = rf.predict(X_test_sc)"
   ]
  },
  {
   "cell_type": "code",
   "execution_count": 73,
   "metadata": {},
   "outputs": [
    {
     "data": {
      "text/html": [
       "<div>\n",
       "<style scoped>\n",
       "    .dataframe tbody tr th:only-of-type {\n",
       "        vertical-align: middle;\n",
       "    }\n",
       "\n",
       "    .dataframe tbody tr th {\n",
       "        vertical-align: top;\n",
       "    }\n",
       "\n",
       "    .dataframe thead th {\n",
       "        text-align: right;\n",
       "    }\n",
       "</style>\n",
       "<table border=\"1\" class=\"dataframe\">\n",
       "  <thead>\n",
       "    <tr style=\"text-align: right;\">\n",
       "      <th></th>\n",
       "      <th>Accuracy</th>\n",
       "      <th>Recall</th>\n",
       "    </tr>\n",
       "  </thead>\n",
       "  <tbody>\n",
       "    <tr>\n",
       "      <th>RF(Training)</th>\n",
       "      <td>1.000000</td>\n",
       "      <td>1.000000</td>\n",
       "    </tr>\n",
       "    <tr>\n",
       "      <th>RF(Testing)</th>\n",
       "      <td>0.928233</td>\n",
       "      <td>0.306931</td>\n",
       "    </tr>\n",
       "    <tr>\n",
       "      <th>RF_Feature_Drop(Training)</th>\n",
       "      <td>0.968203</td>\n",
       "      <td>0.943194</td>\n",
       "    </tr>\n",
       "    <tr>\n",
       "      <th>RF_Feature_Drop(Testing)</th>\n",
       "      <td>0.888801</td>\n",
       "      <td>0.376238</td>\n",
       "    </tr>\n",
       "  </tbody>\n",
       "</table>\n",
       "</div>"
      ],
      "text/plain": [
       "                           Accuracy    Recall\n",
       "RF(Training)               1.000000  1.000000\n",
       "RF(Testing)                0.928233  0.306931\n",
       "RF_Feature_Drop(Training)  0.968203  0.943194\n",
       "RF_Feature_Drop(Testing)   0.888801  0.376238"
      ]
     },
     "execution_count": 73,
     "metadata": {},
     "output_type": "execute_result"
    }
   ],
   "source": [
    "rf_second_train = pd.Series(data=[rf.score(X_sm_und, y_sm_und), recall_score(y_sm_und, rf.predict(X_sm_und))],\n",
    "                                 index=final_results_table.columns, name = 'RF_Feature_Drop(Training)')\n",
    "                                 \n",
    "rf_second_test = pd.Series(data=[rf.score(X_test_sc, y_test), recall_score(y_test, rf.predict(X_test_sc))],\n",
    "                               index=final_results_table.columns, name = 'RF_Feature_Drop(Testing)')\n",
    "\n",
    "final_results_table = final_results_table.append([rf_second_train, rf_second_test])\n",
    "\n",
    "final_results_table"
   ]
  },
  {
   "cell_type": "code",
   "execution_count": 74,
   "metadata": {},
   "outputs": [
    {
     "data": {
      "text/html": [
       "<div>\n",
       "<style scoped>\n",
       "    .dataframe tbody tr th:only-of-type {\n",
       "        vertical-align: middle;\n",
       "    }\n",
       "\n",
       "    .dataframe tbody tr th {\n",
       "        vertical-align: top;\n",
       "    }\n",
       "\n",
       "    .dataframe thead th {\n",
       "        text-align: right;\n",
       "    }\n",
       "</style>\n",
       "<table border=\"1\" class=\"dataframe\">\n",
       "  <thead>\n",
       "    <tr style=\"text-align: right;\">\n",
       "      <th></th>\n",
       "      <th>Variable</th>\n",
       "      <th>Importance</th>\n",
       "    </tr>\n",
       "  </thead>\n",
       "  <tbody>\n",
       "    <tr>\n",
       "      <th>3</th>\n",
       "      <td>Hull Limit</td>\n",
       "      <td>0.085680</td>\n",
       "    </tr>\n",
       "    <tr>\n",
       "      <th>2</th>\n",
       "      <td>Length</td>\n",
       "      <td>0.081108</td>\n",
       "    </tr>\n",
       "    <tr>\n",
       "      <th>5</th>\n",
       "      <td>Age</td>\n",
       "      <td>0.080706</td>\n",
       "    </tr>\n",
       "    <tr>\n",
       "      <th>1</th>\n",
       "      <td>Year Built</td>\n",
       "      <td>0.075903</td>\n",
       "    </tr>\n",
       "    <tr>\n",
       "      <th>0</th>\n",
       "      <td>Years Exp.</td>\n",
       "      <td>0.073682</td>\n",
       "    </tr>\n",
       "    <tr>\n",
       "      <th>...</th>\n",
       "      <td>...</td>\n",
       "      <td>...</td>\n",
       "    </tr>\n",
       "    <tr>\n",
       "      <th>84</th>\n",
       "      <td>Mooring County_marin</td>\n",
       "      <td>0.000363</td>\n",
       "    </tr>\n",
       "    <tr>\n",
       "      <th>17</th>\n",
       "      <td>Occupation_manager</td>\n",
       "      <td>0.000345</td>\n",
       "    </tr>\n",
       "    <tr>\n",
       "      <th>111</th>\n",
       "      <td>Mooring County_whatcom</td>\n",
       "      <td>0.000240</td>\n",
       "    </tr>\n",
       "    <tr>\n",
       "      <th>27</th>\n",
       "      <td>Occupation_software developer</td>\n",
       "      <td>0.000216</td>\n",
       "    </tr>\n",
       "    <tr>\n",
       "      <th>40</th>\n",
       "      <td>Builder_offshore</td>\n",
       "      <td>0.000131</td>\n",
       "    </tr>\n",
       "  </tbody>\n",
       "</table>\n",
       "<p>112 rows × 2 columns</p>\n",
       "</div>"
      ],
      "text/plain": [
       "                          Variable  Importance\n",
       "3                       Hull Limit    0.085680\n",
       "2                           Length    0.081108\n",
       "5                              Age    0.080706\n",
       "1                       Year Built    0.075903\n",
       "0                       Years Exp.    0.073682\n",
       "..                             ...         ...\n",
       "84            Mooring County_marin    0.000363\n",
       "17              Occupation_manager    0.000345\n",
       "111         Mooring County_whatcom    0.000240\n",
       "27   Occupation_software developer    0.000216\n",
       "40                Builder_offshore    0.000131\n",
       "\n",
       "[112 rows x 2 columns]"
      ]
     },
     "execution_count": 74,
     "metadata": {},
     "output_type": "execute_result"
    }
   ],
   "source": [
    "rf_feature_imp = pd.DataFrame({'Variable':X.columns,\n",
    "              'Importance':rf.feature_importances_}).sort_values('Importance', ascending=False)\n",
    "\n",
    "rf_feature_imp"
   ]
  },
  {
   "cell_type": "markdown",
   "metadata": {},
   "source": [
    "## Try it after keeping only the top 30 features from above"
   ]
  },
  {
   "cell_type": "code",
   "execution_count": 75,
   "metadata": {},
   "outputs": [
    {
     "data": {
      "text/plain": [
       "['Hull Limit',\n",
       " 'Length',\n",
       " 'Age',\n",
       " 'Year Built',\n",
       " 'Years Exp.',\n",
       " 'Occupation_other',\n",
       " 'Occupation_not reported',\n",
       " '# Engines',\n",
       " 'Occupation_retired',\n",
       " 'Hull Type_monohull sail',\n",
       " 'Married yes/no_not reported',\n",
       " 'Married yes/no_yes',\n",
       " 'Hull Type_motoryacht',\n",
       " 'Builder_other',\n",
       " 'Mooring County_other',\n",
       " 'Hull Type_multihull sail',\n",
       " 'Mooring County_monroe',\n",
       " 'Hull Type_trawler',\n",
       " 'Mooring County_pinellas',\n",
       " 'Mooring County_caribbean',\n",
       " 'Mooring County_miami-dade',\n",
       " 'Mooring County_bcs',\n",
       " 'Mooring County_broward',\n",
       " 'Mooring County_san diego',\n",
       " 'Hull Type_sportfisher',\n",
       " 'Power Type_inboard',\n",
       " 'Mooring County_los angeles',\n",
       " 'Mooring County_palm beach',\n",
       " 'Occupation_business owner',\n",
       " 'Occupation_executive']"
      ]
     },
     "execution_count": 75,
     "metadata": {},
     "output_type": "execute_result"
    }
   ],
   "source": [
    "# Get the first 30 rows of the important features\n",
    "new_top_30 = rf_feature_imp[:30]\n",
    "\n",
    "# Make a list of the column names of the top 30\n",
    "new_top_30_features = [x for x in new_top_30['Variable']]\n",
    "\n",
    "new_top_30_features"
   ]
  },
  {
   "cell_type": "code",
   "execution_count": 76,
   "metadata": {},
   "outputs": [],
   "source": [
    "X = combined[new_top_30_features]\n",
    "y = combined['binary']\n",
    "X_train, X_test, y_train, y_test = train_test_split(X, y, test_size=.2, random_state=42, stratify=y)\n",
    "\n",
    "ss = StandardScaler()\n",
    "X_train_sc = ss.fit_transform(X_train)\n",
    "X_test_sc = ss.transform(X_test)\n",
    "\n",
    "over = SMOTE(sampling_strategy=0.2,random_state=42)\n",
    "under = RandomUnderSampler(sampling_strategy=0.5,random_state=42)\n",
    "steps = [('o', over), ('u', under)]\n",
    "pipeline = Pipeline(steps=steps)\n",
    "\n",
    "X_sm_und, y_sm_und = pipeline.fit_resample(X_train_sc, y_train)\n",
    "\n",
    "rf = RandomForestClassifier(max_depth=None, n_estimators=75,random_state=42)\n",
    "rf.fit(X_sm_und, y_sm_und)\n",
    "rf_pred = rf.predict(X_test_sc)"
   ]
  },
  {
   "cell_type": "code",
   "execution_count": 77,
   "metadata": {},
   "outputs": [
    {
     "data": {
      "text/html": [
       "<div>\n",
       "<style scoped>\n",
       "    .dataframe tbody tr th:only-of-type {\n",
       "        vertical-align: middle;\n",
       "    }\n",
       "\n",
       "    .dataframe tbody tr th {\n",
       "        vertical-align: top;\n",
       "    }\n",
       "\n",
       "    .dataframe thead th {\n",
       "        text-align: right;\n",
       "    }\n",
       "</style>\n",
       "<table border=\"1\" class=\"dataframe\">\n",
       "  <thead>\n",
       "    <tr style=\"text-align: right;\">\n",
       "      <th></th>\n",
       "      <th>Accuracy</th>\n",
       "      <th>Recall</th>\n",
       "    </tr>\n",
       "  </thead>\n",
       "  <tbody>\n",
       "    <tr>\n",
       "      <th>RF(Training)</th>\n",
       "      <td>1.000000</td>\n",
       "      <td>1.000000</td>\n",
       "    </tr>\n",
       "    <tr>\n",
       "      <th>RF(Testing)</th>\n",
       "      <td>0.928233</td>\n",
       "      <td>0.306931</td>\n",
       "    </tr>\n",
       "    <tr>\n",
       "      <th>RF_Feature_Drop(Training)</th>\n",
       "      <td>0.968203</td>\n",
       "      <td>0.943194</td>\n",
       "    </tr>\n",
       "    <tr>\n",
       "      <th>RF_Feature_Drop(Testing)</th>\n",
       "      <td>0.888801</td>\n",
       "      <td>0.376238</td>\n",
       "    </tr>\n",
       "    <tr>\n",
       "      <th>RF_Top_30(Training)</th>\n",
       "      <td>0.966059</td>\n",
       "      <td>0.944266</td>\n",
       "    </tr>\n",
       "    <tr>\n",
       "      <th>RF_Top_30(Testing)</th>\n",
       "      <td>0.891956</td>\n",
       "      <td>0.415842</td>\n",
       "    </tr>\n",
       "  </tbody>\n",
       "</table>\n",
       "</div>"
      ],
      "text/plain": [
       "                           Accuracy    Recall\n",
       "RF(Training)               1.000000  1.000000\n",
       "RF(Testing)                0.928233  0.306931\n",
       "RF_Feature_Drop(Training)  0.968203  0.943194\n",
       "RF_Feature_Drop(Testing)   0.888801  0.376238\n",
       "RF_Top_30(Training)        0.966059  0.944266\n",
       "RF_Top_30(Testing)         0.891956  0.415842"
      ]
     },
     "execution_count": 77,
     "metadata": {},
     "output_type": "execute_result"
    }
   ],
   "source": [
    "rf_third_train = pd.Series(data=[rf.score(X_sm_und, y_sm_und), recall_score(y_sm_und, rf.predict(X_sm_und))],\n",
    "                                 index=final_results_table.columns, name = 'RF_Top_30(Training)')\n",
    "                                 \n",
    "rf_third_test = pd.Series(data=[rf.score(X_test_sc, y_test), recall_score(y_test, rf.predict(X_test_sc))],\n",
    "                               index=final_results_table.columns, name = 'RF_Top_30(Testing)')\n",
    "\n",
    "final_results_table = final_results_table.append([rf_third_train, rf_third_test])\n",
    "\n",
    "final_results_table"
   ]
  },
  {
   "cell_type": "markdown",
   "metadata": {},
   "source": [
    "---\n",
    "## Try gridsearch again with top 30 features"
   ]
  },
  {
   "cell_type": "code",
   "execution_count": 78,
   "metadata": {},
   "outputs": [
    {
     "name": "stdout",
     "output_type": "stream",
     "text": [
      "Fitting 5 folds for each of 18 candidates, totalling 90 fits\n"
     ]
    },
    {
     "name": "stderr",
     "output_type": "stream",
     "text": [
      "[Parallel(n_jobs=1)]: Using backend SequentialBackend with 1 concurrent workers.\n",
      "[Parallel(n_jobs=1)]: Done  90 out of  90 | elapsed:   21.8s finished\n"
     ]
    },
    {
     "name": "stdout",
     "output_type": "stream",
     "text": [
      "0.6559024782933702\n"
     ]
    },
    {
     "data": {
      "text/plain": [
       "{'max_depth': None, 'n_estimators': 50}"
      ]
     },
     "execution_count": 78,
     "metadata": {},
     "output_type": "execute_result"
    }
   ],
   "source": [
    "rf_params = {\n",
    "    'n_estimators': [50,75,100],\n",
    "    'max_depth': [None, 1, 2, 3, 4, 5],\n",
    "}\n",
    "rf_gs = GridSearchCV(RandomForestClassifier(), param_grid=rf_params, cv=5, \n",
    "                     verbose= 1, scoring= 'recall')\n",
    "rf_gs.fit(X_sm_und, y_sm_und)\n",
    "print(rf_gs.best_score_)\n",
    "rf_gs.best_params_"
   ]
  },
  {
   "cell_type": "markdown",
   "metadata": {},
   "source": [
    "**INTERPRETATION:** We got the same best parameters ({'max_depth': None, 'n_estimators': 75}) so we don't need to run the model again."
   ]
  },
  {
   "cell_type": "code",
   "execution_count": 79,
   "metadata": {},
   "outputs": [
    {
     "data": {
      "text/html": [
       "<div>\n",
       "<style scoped>\n",
       "    .dataframe tbody tr th:only-of-type {\n",
       "        vertical-align: middle;\n",
       "    }\n",
       "\n",
       "    .dataframe tbody tr th {\n",
       "        vertical-align: top;\n",
       "    }\n",
       "\n",
       "    .dataframe thead th {\n",
       "        text-align: right;\n",
       "    }\n",
       "</style>\n",
       "<table border=\"1\" class=\"dataframe\">\n",
       "  <thead>\n",
       "    <tr style=\"text-align: right;\">\n",
       "      <th></th>\n",
       "      <th>Accuracy</th>\n",
       "      <th>Recall</th>\n",
       "    </tr>\n",
       "  </thead>\n",
       "  <tbody>\n",
       "    <tr>\n",
       "      <th>RF(Training)</th>\n",
       "      <td>1.000000</td>\n",
       "      <td>1.000000</td>\n",
       "    </tr>\n",
       "    <tr>\n",
       "      <th>RF(Testing)</th>\n",
       "      <td>0.928233</td>\n",
       "      <td>0.306931</td>\n",
       "    </tr>\n",
       "    <tr>\n",
       "      <th>RF_Feature_Drop(Training)</th>\n",
       "      <td>0.968203</td>\n",
       "      <td>0.943194</td>\n",
       "    </tr>\n",
       "    <tr>\n",
       "      <th>RF_Feature_Drop(Testing)</th>\n",
       "      <td>0.888801</td>\n",
       "      <td>0.376238</td>\n",
       "    </tr>\n",
       "    <tr>\n",
       "      <th>RF_Top_30(Training)</th>\n",
       "      <td>0.966059</td>\n",
       "      <td>0.944266</td>\n",
       "    </tr>\n",
       "    <tr>\n",
       "      <th>RF_Top_30(Testing)</th>\n",
       "      <td>0.891956</td>\n",
       "      <td>0.415842</td>\n",
       "    </tr>\n",
       "  </tbody>\n",
       "</table>\n",
       "</div>"
      ],
      "text/plain": [
       "                           Accuracy    Recall\n",
       "RF(Training)               1.000000  1.000000\n",
       "RF(Testing)                0.928233  0.306931\n",
       "RF_Feature_Drop(Training)  0.968203  0.943194\n",
       "RF_Feature_Drop(Testing)   0.888801  0.376238\n",
       "RF_Top_30(Training)        0.966059  0.944266\n",
       "RF_Top_30(Testing)         0.891956  0.415842"
      ]
     },
     "execution_count": 79,
     "metadata": {},
     "output_type": "execute_result"
    }
   ],
   "source": [
    "# Look at the final results again\n",
    "final_results_table"
   ]
  },
  {
   "cell_type": "code",
   "execution_count": 80,
   "metadata": {},
   "outputs": [
    {
     "data": {
      "text/html": [
       "<div>\n",
       "<style scoped>\n",
       "    .dataframe tbody tr th:only-of-type {\n",
       "        vertical-align: middle;\n",
       "    }\n",
       "\n",
       "    .dataframe tbody tr th {\n",
       "        vertical-align: top;\n",
       "    }\n",
       "\n",
       "    .dataframe thead th {\n",
       "        text-align: right;\n",
       "    }\n",
       "</style>\n",
       "<table border=\"1\" class=\"dataframe\">\n",
       "  <thead>\n",
       "    <tr style=\"text-align: right;\">\n",
       "      <th></th>\n",
       "      <th>Variable</th>\n",
       "      <th>Importance</th>\n",
       "    </tr>\n",
       "  </thead>\n",
       "  <tbody>\n",
       "    <tr>\n",
       "      <th>2</th>\n",
       "      <td>Age</td>\n",
       "      <td>0.123628</td>\n",
       "    </tr>\n",
       "    <tr>\n",
       "      <th>0</th>\n",
       "      <td>Hull Limit</td>\n",
       "      <td>0.121111</td>\n",
       "    </tr>\n",
       "    <tr>\n",
       "      <th>1</th>\n",
       "      <td>Length</td>\n",
       "      <td>0.118789</td>\n",
       "    </tr>\n",
       "    <tr>\n",
       "      <th>3</th>\n",
       "      <td>Year Built</td>\n",
       "      <td>0.112728</td>\n",
       "    </tr>\n",
       "    <tr>\n",
       "      <th>4</th>\n",
       "      <td>Years Exp.</td>\n",
       "      <td>0.104244</td>\n",
       "    </tr>\n",
       "    <tr>\n",
       "      <th>13</th>\n",
       "      <td>Builder_other</td>\n",
       "      <td>0.038598</td>\n",
       "    </tr>\n",
       "    <tr>\n",
       "      <th>7</th>\n",
       "      <td># Engines</td>\n",
       "      <td>0.035358</td>\n",
       "    </tr>\n",
       "    <tr>\n",
       "      <th>5</th>\n",
       "      <td>Occupation_other</td>\n",
       "      <td>0.032266</td>\n",
       "    </tr>\n",
       "    <tr>\n",
       "      <th>11</th>\n",
       "      <td>Married yes/no_yes</td>\n",
       "      <td>0.029602</td>\n",
       "    </tr>\n",
       "    <tr>\n",
       "      <th>14</th>\n",
       "      <td>Mooring County_other</td>\n",
       "      <td>0.027427</td>\n",
       "    </tr>\n",
       "    <tr>\n",
       "      <th>10</th>\n",
       "      <td>Married yes/no_not reported</td>\n",
       "      <td>0.025565</td>\n",
       "    </tr>\n",
       "    <tr>\n",
       "      <th>6</th>\n",
       "      <td>Occupation_not reported</td>\n",
       "      <td>0.024282</td>\n",
       "    </tr>\n",
       "    <tr>\n",
       "      <th>8</th>\n",
       "      <td>Occupation_retired</td>\n",
       "      <td>0.019548</td>\n",
       "    </tr>\n",
       "    <tr>\n",
       "      <th>12</th>\n",
       "      <td>Hull Type_motoryacht</td>\n",
       "      <td>0.018951</td>\n",
       "    </tr>\n",
       "    <tr>\n",
       "      <th>16</th>\n",
       "      <td>Mooring County_monroe</td>\n",
       "      <td>0.016428</td>\n",
       "    </tr>\n",
       "    <tr>\n",
       "      <th>9</th>\n",
       "      <td>Hull Type_monohull sail</td>\n",
       "      <td>0.013820</td>\n",
       "    </tr>\n",
       "    <tr>\n",
       "      <th>19</th>\n",
       "      <td>Mooring County_caribbean</td>\n",
       "      <td>0.012855</td>\n",
       "    </tr>\n",
       "    <tr>\n",
       "      <th>15</th>\n",
       "      <td>Hull Type_multihull sail</td>\n",
       "      <td>0.012642</td>\n",
       "    </tr>\n",
       "    <tr>\n",
       "      <th>21</th>\n",
       "      <td>Mooring County_bcs</td>\n",
       "      <td>0.012321</td>\n",
       "    </tr>\n",
       "    <tr>\n",
       "      <th>25</th>\n",
       "      <td>Power Type_inboard</td>\n",
       "      <td>0.011535</td>\n",
       "    </tr>\n",
       "    <tr>\n",
       "      <th>18</th>\n",
       "      <td>Mooring County_pinellas</td>\n",
       "      <td>0.011311</td>\n",
       "    </tr>\n",
       "    <tr>\n",
       "      <th>17</th>\n",
       "      <td>Hull Type_trawler</td>\n",
       "      <td>0.010786</td>\n",
       "    </tr>\n",
       "    <tr>\n",
       "      <th>22</th>\n",
       "      <td>Mooring County_broward</td>\n",
       "      <td>0.010646</td>\n",
       "    </tr>\n",
       "    <tr>\n",
       "      <th>20</th>\n",
       "      <td>Mooring County_miami-dade</td>\n",
       "      <td>0.009889</td>\n",
       "    </tr>\n",
       "    <tr>\n",
       "      <th>23</th>\n",
       "      <td>Mooring County_san diego</td>\n",
       "      <td>0.009546</td>\n",
       "    </tr>\n",
       "    <tr>\n",
       "      <th>24</th>\n",
       "      <td>Hull Type_sportfisher</td>\n",
       "      <td>0.008585</td>\n",
       "    </tr>\n",
       "    <tr>\n",
       "      <th>26</th>\n",
       "      <td>Mooring County_los angeles</td>\n",
       "      <td>0.008528</td>\n",
       "    </tr>\n",
       "    <tr>\n",
       "      <th>28</th>\n",
       "      <td>Occupation_business owner</td>\n",
       "      <td>0.007539</td>\n",
       "    </tr>\n",
       "    <tr>\n",
       "      <th>29</th>\n",
       "      <td>Occupation_executive</td>\n",
       "      <td>0.005741</td>\n",
       "    </tr>\n",
       "    <tr>\n",
       "      <th>27</th>\n",
       "      <td>Mooring County_palm beach</td>\n",
       "      <td>0.005732</td>\n",
       "    </tr>\n",
       "  </tbody>\n",
       "</table>\n",
       "</div>"
      ],
      "text/plain": [
       "                       Variable  Importance\n",
       "2                           Age    0.123628\n",
       "0                    Hull Limit    0.121111\n",
       "1                        Length    0.118789\n",
       "3                    Year Built    0.112728\n",
       "4                    Years Exp.    0.104244\n",
       "13                Builder_other    0.038598\n",
       "7                     # Engines    0.035358\n",
       "5              Occupation_other    0.032266\n",
       "11           Married yes/no_yes    0.029602\n",
       "14         Mooring County_other    0.027427\n",
       "10  Married yes/no_not reported    0.025565\n",
       "6       Occupation_not reported    0.024282\n",
       "8            Occupation_retired    0.019548\n",
       "12         Hull Type_motoryacht    0.018951\n",
       "16        Mooring County_monroe    0.016428\n",
       "9       Hull Type_monohull sail    0.013820\n",
       "19     Mooring County_caribbean    0.012855\n",
       "15     Hull Type_multihull sail    0.012642\n",
       "21           Mooring County_bcs    0.012321\n",
       "25           Power Type_inboard    0.011535\n",
       "18      Mooring County_pinellas    0.011311\n",
       "17            Hull Type_trawler    0.010786\n",
       "22       Mooring County_broward    0.010646\n",
       "20    Mooring County_miami-dade    0.009889\n",
       "23     Mooring County_san diego    0.009546\n",
       "24        Hull Type_sportfisher    0.008585\n",
       "26   Mooring County_los angeles    0.008528\n",
       "28    Occupation_business owner    0.007539\n",
       "29         Occupation_executive    0.005741\n",
       "27    Mooring County_palm beach    0.005732"
      ]
     },
     "execution_count": 80,
     "metadata": {},
     "output_type": "execute_result"
    }
   ],
   "source": [
    "final_rf_feature_imp = pd.DataFrame({'Variable':X.columns,\n",
    "              'Importance':rf.feature_importances_}).sort_values('Importance', ascending=False)\n",
    "\n",
    "final_rf_feature_imp"
   ]
  },
  {
   "cell_type": "markdown",
   "metadata": {},
   "source": [
    "**INTERPRETATION:** "
   ]
  },
  {
   "cell_type": "markdown",
   "metadata": {},
   "source": [
    "---\n",
    "## Conclusion:"
   ]
  },
  {
   "cell_type": "markdown",
   "metadata": {},
   "source": [
    "In this notebook we..."
   ]
  },
  {
   "cell_type": "code",
   "execution_count": null,
   "metadata": {},
   "outputs": [],
   "source": []
  }
 ],
 "metadata": {
  "kernelspec": {
   "display_name": "Python 3",
   "language": "python",
   "name": "python3"
  },
  "language_info": {
   "codemirror_mode": {
    "name": "ipython",
    "version": 3
   },
   "file_extension": ".py",
   "mimetype": "text/x-python",
   "name": "python",
   "nbconvert_exporter": "python",
   "pygments_lexer": "ipython3",
   "version": "3.8.3"
  }
 },
 "nbformat": 4,
 "nbformat_minor": 4
}
