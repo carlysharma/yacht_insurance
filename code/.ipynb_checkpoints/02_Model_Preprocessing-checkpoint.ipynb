{
 "cells": [
  {
   "cell_type": "markdown",
   "metadata": {},
   "source": [
    "# Yacht Insurance Claims Data \n",
    "##### NOTEBOOK 2\n"
   ]
  },
  {
   "cell_type": "markdown",
   "metadata": {},
   "source": [
    "**Problem Statement:** What is the likelihood that a yacht insurance policy has at least 1 claim within five years?"
   ]
  },
  {
   "cell_type": "markdown",
   "metadata": {},
   "source": [
    "**Contents:** \n",
    "\n",
    "1. Additional cleaning\n",
    "2. Feature engineering\n",
    "3. Datatype transformation\n",
    "4. Exploratory data analysis\n",
    "5. Dummifying categorical variables\n",
    "6. Feature selection\n",
    "\n",
    "**Important to note:** The point of this notebook was to clean and explore the data to ensure we had a dataset best prepared for modeling. Because we knew we would be predicting the number of claims a policy would have, we made sure to create columns and clean the data in a way to give our models the best chance at prediction. When expertise was needed to make a decision, the client was consulted for clarity."
   ]
  },
  {
   "cell_type": "markdown",
   "metadata": {},
   "source": [
    "___\n",
    "## Import libraries and read in data"
   ]
  },
  {
   "cell_type": "code",
   "execution_count": 1,
   "metadata": {},
   "outputs": [],
   "source": [
    "import pandas as pd\n",
    "import seaborn as sns\n",
    "import numpy as np\n",
    "from datetime import datetime\n",
    "import matplotlib.pyplot as plt"
   ]
  },
  {
   "cell_type": "code",
   "execution_count": 2,
   "metadata": {},
   "outputs": [
    {
     "data": {
      "text/html": [
       "<div>\n",
       "<style scoped>\n",
       "    .dataframe tbody tr th:only-of-type {\n",
       "        vertical-align: middle;\n",
       "    }\n",
       "\n",
       "    .dataframe tbody tr th {\n",
       "        vertical-align: top;\n",
       "    }\n",
       "\n",
       "    .dataframe thead th {\n",
       "        text-align: right;\n",
       "    }\n",
       "</style>\n",
       "<table border=\"1\" class=\"dataframe\">\n",
       "  <thead>\n",
       "    <tr style=\"text-align: right;\">\n",
       "      <th></th>\n",
       "      <th>Policy Number</th>\n",
       "      <th>New/Renl/Endt/Canc/Flat</th>\n",
       "      <th>Date of Birth</th>\n",
       "      <th>Married yes/no</th>\n",
       "      <th>Years Exp.</th>\n",
       "      <th>Occupation</th>\n",
       "      <th>Mailing State</th>\n",
       "      <th>Policy Eff-Date</th>\n",
       "      <th>Endo Eff-Date</th>\n",
       "      <th>Policy/Endo Canc Eff-Date</th>\n",
       "      <th>...</th>\n",
       "      <th>Length</th>\n",
       "      <th>Hull Type</th>\n",
       "      <th>Hull Limit</th>\n",
       "      <th>Power Type</th>\n",
       "      <th># Engines</th>\n",
       "      <th>Mooring State</th>\n",
       "      <th>Mooring County</th>\n",
       "      <th>Mooring ZIP code</th>\n",
       "      <th>DOB_year</th>\n",
       "      <th>num_claims</th>\n",
       "    </tr>\n",
       "  </thead>\n",
       "  <tbody>\n",
       "    <tr>\n",
       "      <th>0</th>\n",
       "      <td>nypcaf000314</td>\n",
       "      <td>new</td>\n",
       "      <td>1948-05-09</td>\n",
       "      <td>no</td>\n",
       "      <td>2.0</td>\n",
       "      <td>other</td>\n",
       "      <td>california</td>\n",
       "      <td>03/31/2016</td>\n",
       "      <td>NaN</td>\n",
       "      <td>NaN</td>\n",
       "      <td>...</td>\n",
       "      <td>63.0</td>\n",
       "      <td>multihull sail</td>\n",
       "      <td>$ 500,000.00</td>\n",
       "      <td>inboard</td>\n",
       "      <td>2.0</td>\n",
       "      <td>mexico</td>\n",
       "      <td>nayarit</td>\n",
       "      <td>NaN</td>\n",
       "      <td>1948</td>\n",
       "      <td>NaN</td>\n",
       "    </tr>\n",
       "    <tr>\n",
       "      <th>1</th>\n",
       "      <td>nypcaf000315</td>\n",
       "      <td>new</td>\n",
       "      <td>1952-10-08</td>\n",
       "      <td>not reported</td>\n",
       "      <td>22.0</td>\n",
       "      <td>other</td>\n",
       "      <td>california</td>\n",
       "      <td>03/18/2016</td>\n",
       "      <td>NaN</td>\n",
       "      <td>NaN</td>\n",
       "      <td>...</td>\n",
       "      <td>61.0</td>\n",
       "      <td>sportfisher</td>\n",
       "      <td>$ 1,275,000.00</td>\n",
       "      <td>inboard</td>\n",
       "      <td>2.0</td>\n",
       "      <td>ca</td>\n",
       "      <td>los angeles</td>\n",
       "      <td>90803</td>\n",
       "      <td>1952</td>\n",
       "      <td>NaN</td>\n",
       "    </tr>\n",
       "    <tr>\n",
       "      <th>2</th>\n",
       "      <td>nypcaf000318</td>\n",
       "      <td>new</td>\n",
       "      <td>1943-09-30</td>\n",
       "      <td>yes</td>\n",
       "      <td>30.0</td>\n",
       "      <td>not reported</td>\n",
       "      <td>california</td>\n",
       "      <td>03/30/2016</td>\n",
       "      <td>NaN</td>\n",
       "      <td>NaN</td>\n",
       "      <td>...</td>\n",
       "      <td>48.0</td>\n",
       "      <td>motoryacht</td>\n",
       "      <td>$ 400,000.00</td>\n",
       "      <td>inboard</td>\n",
       "      <td>2.0</td>\n",
       "      <td>ca</td>\n",
       "      <td>los angeles</td>\n",
       "      <td>90803</td>\n",
       "      <td>1943</td>\n",
       "      <td>NaN</td>\n",
       "    </tr>\n",
       "    <tr>\n",
       "      <th>3</th>\n",
       "      <td>nypcaf000319</td>\n",
       "      <td>new</td>\n",
       "      <td>1977-04-25</td>\n",
       "      <td>not reported</td>\n",
       "      <td>20.0</td>\n",
       "      <td>not reported</td>\n",
       "      <td>california</td>\n",
       "      <td>03/30/2016</td>\n",
       "      <td>NaN</td>\n",
       "      <td>NaN</td>\n",
       "      <td>...</td>\n",
       "      <td>32.0</td>\n",
       "      <td>motoryacht</td>\n",
       "      <td>$ 35,000.00</td>\n",
       "      <td>inboard</td>\n",
       "      <td>0.0</td>\n",
       "      <td>ca</td>\n",
       "      <td>los angeles</td>\n",
       "      <td>90802</td>\n",
       "      <td>1977</td>\n",
       "      <td>NaN</td>\n",
       "    </tr>\n",
       "    <tr>\n",
       "      <th>4</th>\n",
       "      <td>nypcaf000320</td>\n",
       "      <td>new</td>\n",
       "      <td>1951-06-28</td>\n",
       "      <td>no</td>\n",
       "      <td>30.0</td>\n",
       "      <td>not reported</td>\n",
       "      <td>california</td>\n",
       "      <td>04/02/2016</td>\n",
       "      <td>NaN</td>\n",
       "      <td>NaN</td>\n",
       "      <td>...</td>\n",
       "      <td>43.0</td>\n",
       "      <td>monohull sail</td>\n",
       "      <td>$ 200,000.00</td>\n",
       "      <td>inboard</td>\n",
       "      <td>1.0</td>\n",
       "      <td>ca</td>\n",
       "      <td>los angeles</td>\n",
       "      <td>90803</td>\n",
       "      <td>1951</td>\n",
       "      <td>NaN</td>\n",
       "    </tr>\n",
       "  </tbody>\n",
       "</table>\n",
       "<p>5 rows × 23 columns</p>\n",
       "</div>"
      ],
      "text/plain": [
       "  Policy Number New/Renl/Endt/Canc/Flat Date of Birth Married yes/no  \\\n",
       "0  nypcaf000314                     new    1948-05-09             no   \n",
       "1  nypcaf000315                     new    1952-10-08   not reported   \n",
       "2  nypcaf000318                     new    1943-09-30            yes   \n",
       "3  nypcaf000319                     new    1977-04-25   not reported   \n",
       "4  nypcaf000320                     new    1951-06-28             no   \n",
       "\n",
       "   Years Exp.    Occupation Mailing State Policy Eff-Date Endo Eff-Date  \\\n",
       "0         2.0         other    california      03/31/2016           NaN   \n",
       "1        22.0         other    california      03/18/2016           NaN   \n",
       "2        30.0  not reported    california      03/30/2016           NaN   \n",
       "3        20.0  not reported    california      03/30/2016           NaN   \n",
       "4        30.0  not reported    california      04/02/2016           NaN   \n",
       "\n",
       "  Policy/Endo Canc Eff-Date  ... Length       Hull Type        Hull Limit  \\\n",
       "0                       NaN  ...   63.0  multihull sail     $ 500,000.00    \n",
       "1                       NaN  ...   61.0     sportfisher   $ 1,275,000.00    \n",
       "2                       NaN  ...   48.0      motoryacht     $ 400,000.00    \n",
       "3                       NaN  ...   32.0      motoryacht      $ 35,000.00    \n",
       "4                       NaN  ...   43.0   monohull sail     $ 200,000.00    \n",
       "\n",
       "   Power Type # Engines Mooring State Mooring County  Mooring ZIP code  \\\n",
       "0     inboard       2.0        mexico        nayarit               NaN   \n",
       "1     inboard       2.0            ca    los angeles             90803   \n",
       "2     inboard       2.0            ca    los angeles             90803   \n",
       "3     inboard       0.0            ca    los angeles             90802   \n",
       "4     inboard       1.0            ca    los angeles             90803   \n",
       "\n",
       "  DOB_year num_claims  \n",
       "0     1948        NaN  \n",
       "1     1952        NaN  \n",
       "2     1943        NaN  \n",
       "3     1977        NaN  \n",
       "4     1951        NaN  \n",
       "\n",
       "[5 rows x 23 columns]"
      ]
     },
     "execution_count": 2,
     "metadata": {},
     "output_type": "execute_result"
    }
   ],
   "source": [
    "combined = pd.read_csv('../datasets/combined.csv')\n",
    "\n",
    "combined.head()"
   ]
  },
  {
   "cell_type": "code",
   "execution_count": 3,
   "metadata": {},
   "outputs": [
    {
     "data": {
      "text/plain": [
       "(6350, 23)"
      ]
     },
     "execution_count": 3,
     "metadata": {},
     "output_type": "execute_result"
    }
   ],
   "source": [
    "combined.shape"
   ]
  },
  {
   "cell_type": "markdown",
   "metadata": {},
   "source": [
    "---\n",
    "## Additional cleaning for combined dataframe"
   ]
  },
  {
   "cell_type": "markdown",
   "metadata": {},
   "source": [
    "**BELOW:** After merging, the goal was to impute or fill any null rows if we could. Construction had some missing values so we filled the in with 'not reported'."
   ]
  },
  {
   "cell_type": "code",
   "execution_count": 4,
   "metadata": {},
   "outputs": [
    {
     "data": {
      "text/plain": [
       "Policy Number                   0\n",
       "New/Renl/Endt/Canc/Flat         0\n",
       "Date of Birth                   0\n",
       "Married yes/no                  0\n",
       "Years Exp.                      0\n",
       "Occupation                      0\n",
       "Mailing State                   0\n",
       "Policy Eff-Date                 0\n",
       "Endo Eff-Date                5056\n",
       "Policy/Endo Canc Eff-Date    5652\n",
       "Builder                         0\n",
       "Year Built                      0\n",
       "Construction                   68\n",
       "Length                          0\n",
       "Hull Type                       0\n",
       "Hull Limit                      0\n",
       "Power Type                      0\n",
       "# Engines                       0\n",
       "Mooring State                 110\n",
       "Mooring County                  0\n",
       "Mooring ZIP code             1454\n",
       "DOB_year                        0\n",
       "num_claims                   5846\n",
       "dtype: int64"
      ]
     },
     "execution_count": 4,
     "metadata": {},
     "output_type": "execute_result"
    }
   ],
   "source": [
    "combined.isna().sum()"
   ]
  },
  {
   "cell_type": "code",
   "execution_count": 5,
   "metadata": {},
   "outputs": [
    {
     "data": {
      "text/plain": [
       "Policy Number                   0\n",
       "New/Renl/Endt/Canc/Flat         0\n",
       "Date of Birth                   0\n",
       "Married yes/no                  0\n",
       "Years Exp.                      0\n",
       "Occupation                      0\n",
       "Mailing State                   0\n",
       "Policy Eff-Date                 0\n",
       "Endo Eff-Date                5056\n",
       "Policy/Endo Canc Eff-Date    5652\n",
       "Builder                         0\n",
       "Year Built                      0\n",
       "Construction                    0\n",
       "Length                          0\n",
       "Hull Type                       0\n",
       "Hull Limit                      0\n",
       "Power Type                      0\n",
       "# Engines                       0\n",
       "Mooring State                 110\n",
       "Mooring County                  0\n",
       "Mooring ZIP code             1454\n",
       "DOB_year                        0\n",
       "num_claims                   5846\n",
       "dtype: int64"
      ]
     },
     "execution_count": 5,
     "metadata": {},
     "output_type": "execute_result"
    }
   ],
   "source": [
    "# Fill all missing values for construction with 'not reported'\n",
    "combined['Construction'] = combined['Construction'].fillna('not reported')\n",
    "combined.isna().sum()"
   ]
  },
  {
   "cell_type": "markdown",
   "metadata": {},
   "source": [
    "---\n",
    "## Engineer new columns (Age, Policy Length, Number of Claims)"
   ]
  },
  {
   "cell_type": "markdown",
   "metadata": {},
   "source": [
    "### AGE"
   ]
  },
  {
   "cell_type": "markdown",
   "metadata": {},
   "source": [
    "*We thought age would be more interpretable than just having a birthday date.*"
   ]
  },
  {
   "cell_type": "code",
   "execution_count": 6,
   "metadata": {},
   "outputs": [
    {
     "data": {
      "text/plain": [
       "Policy Number                 object\n",
       "New/Renl/Endt/Canc/Flat       object\n",
       "Date of Birth                 object\n",
       "Married yes/no                object\n",
       "Years Exp.                   float64\n",
       "Occupation                    object\n",
       "Mailing State                 object\n",
       "Policy Eff-Date               object\n",
       "Endo Eff-Date                 object\n",
       "Policy/Endo Canc Eff-Date     object\n",
       "Builder                       object\n",
       "Year Built                   float64\n",
       "Construction                  object\n",
       "Length                       float64\n",
       "Hull Type                     object\n",
       "Hull Limit                    object\n",
       "Power Type                    object\n",
       "# Engines                    float64\n",
       "Mooring State                 object\n",
       "Mooring County                object\n",
       "Mooring ZIP code              object\n",
       "DOB_year                       int64\n",
       "num_claims                   float64\n",
       "dtype: object"
      ]
     },
     "execution_count": 6,
     "metadata": {},
     "output_type": "execute_result"
    }
   ],
   "source": [
    "# First, check the DOB column is still datetime object.\n",
    "combined.dtypes"
   ]
  },
  {
   "cell_type": "code",
   "execution_count": 7,
   "metadata": {},
   "outputs": [
    {
     "data": {
      "text/plain": [
       "Policy Number                        object\n",
       "New/Renl/Endt/Canc/Flat              object\n",
       "Date of Birth                datetime64[ns]\n",
       "Married yes/no                       object\n",
       "Years Exp.                          float64\n",
       "Occupation                           object\n",
       "Mailing State                        object\n",
       "Policy Eff-Date                      object\n",
       "Endo Eff-Date                        object\n",
       "Policy/Endo Canc Eff-Date            object\n",
       "Builder                              object\n",
       "Year Built                          float64\n",
       "Construction                         object\n",
       "Length                              float64\n",
       "Hull Type                            object\n",
       "Hull Limit                           object\n",
       "Power Type                           object\n",
       "# Engines                           float64\n",
       "Mooring State                        object\n",
       "Mooring County                       object\n",
       "Mooring ZIP code                     object\n",
       "DOB_year                              int64\n",
       "num_claims                          float64\n",
       "dtype: object"
      ]
     },
     "execution_count": 7,
     "metadata": {},
     "output_type": "execute_result"
    }
   ],
   "source": [
    "# Turn DOB back into datetime object\n",
    "combined['Date of Birth'] = pd.to_datetime(combined['Date of Birth'])\n",
    "\n",
    "#Double check\n",
    "combined.dtypes"
   ]
  },
  {
   "cell_type": "code",
   "execution_count": 8,
   "metadata": {},
   "outputs": [
    {
     "data": {
      "text/plain": [
       "0       73\n",
       "1       69\n",
       "2       78\n",
       "3       44\n",
       "4       70\n",
       "        ..\n",
       "6345    82\n",
       "6346    78\n",
       "6347    34\n",
       "6348    57\n",
       "6349    57\n",
       "Name: Age, Length: 6350, dtype: int64"
      ]
     },
     "execution_count": 8,
     "metadata": {},
     "output_type": "execute_result"
    }
   ],
   "source": [
    "# Create an age column\n",
    "date_today = datetime.today().year # take the year from today's date\n",
    "combined['Age'] = combined['Date of Birth'].map(lambda x: date_today - x.year) # subtract the year from the DOB\n",
    "combined['Age']"
   ]
  },
  {
   "cell_type": "markdown",
   "metadata": {},
   "source": [
    "#### POLICY LENGTH"
   ]
  },
  {
   "cell_type": "markdown",
   "metadata": {},
   "source": [
    "**BELOW:** We wanted to know how long the policy was held. We subtracted 'Policy/Endo Canc Eff-Date' from 'Policy Eff-Date' in order to do this. In the case where a policy had not been cancelled, we imputed the value by using today's date."
   ]
  },
  {
   "cell_type": "code",
   "execution_count": 9,
   "metadata": {},
   "outputs": [
    {
     "data": {
      "text/html": [
       "<div>\n",
       "<style scoped>\n",
       "    .dataframe tbody tr th:only-of-type {\n",
       "        vertical-align: middle;\n",
       "    }\n",
       "\n",
       "    .dataframe tbody tr th {\n",
       "        vertical-align: top;\n",
       "    }\n",
       "\n",
       "    .dataframe thead th {\n",
       "        text-align: right;\n",
       "    }\n",
       "</style>\n",
       "<table border=\"1\" class=\"dataframe\">\n",
       "  <thead>\n",
       "    <tr style=\"text-align: right;\">\n",
       "      <th></th>\n",
       "      <th>Policy Number</th>\n",
       "      <th>New/Renl/Endt/Canc/Flat</th>\n",
       "      <th>Date of Birth</th>\n",
       "      <th>Married yes/no</th>\n",
       "      <th>Years Exp.</th>\n",
       "      <th>Occupation</th>\n",
       "      <th>Mailing State</th>\n",
       "      <th>Policy Eff-Date</th>\n",
       "      <th>Endo Eff-Date</th>\n",
       "      <th>Policy/Endo Canc Eff-Date</th>\n",
       "      <th>...</th>\n",
       "      <th>Hull Type</th>\n",
       "      <th>Hull Limit</th>\n",
       "      <th>Power Type</th>\n",
       "      <th># Engines</th>\n",
       "      <th>Mooring State</th>\n",
       "      <th>Mooring County</th>\n",
       "      <th>Mooring ZIP code</th>\n",
       "      <th>DOB_year</th>\n",
       "      <th>num_claims</th>\n",
       "      <th>Age</th>\n",
       "    </tr>\n",
       "  </thead>\n",
       "  <tbody>\n",
       "    <tr>\n",
       "      <th>38</th>\n",
       "      <td>nypcaf000355</td>\n",
       "      <td>canc</td>\n",
       "      <td>1955-01-04</td>\n",
       "      <td>yes</td>\n",
       "      <td>30.0</td>\n",
       "      <td>not reported</td>\n",
       "      <td>california</td>\n",
       "      <td>07/02/2016</td>\n",
       "      <td>NaN</td>\n",
       "      <td>12/23/2016</td>\n",
       "      <td>...</td>\n",
       "      <td>motoryacht</td>\n",
       "      <td>$ 625,000.00</td>\n",
       "      <td>inboard</td>\n",
       "      <td>2.0</td>\n",
       "      <td>california</td>\n",
       "      <td>orange</td>\n",
       "      <td>92661</td>\n",
       "      <td>1955</td>\n",
       "      <td>NaN</td>\n",
       "      <td>66</td>\n",
       "    </tr>\n",
       "    <tr>\n",
       "      <th>50</th>\n",
       "      <td>nypcaf000368</td>\n",
       "      <td>canc</td>\n",
       "      <td>1945-07-08</td>\n",
       "      <td>yes</td>\n",
       "      <td>40.0</td>\n",
       "      <td>other</td>\n",
       "      <td>florida</td>\n",
       "      <td>05/06/2016</td>\n",
       "      <td>NaN</td>\n",
       "      <td>04/01/2017</td>\n",
       "      <td>...</td>\n",
       "      <td>motoryacht</td>\n",
       "      <td>$ 135,000.00</td>\n",
       "      <td>inboard</td>\n",
       "      <td>1.0</td>\n",
       "      <td>fl</td>\n",
       "      <td>broward</td>\n",
       "      <td>33019</td>\n",
       "      <td>1945</td>\n",
       "      <td>NaN</td>\n",
       "      <td>76</td>\n",
       "    </tr>\n",
       "    <tr>\n",
       "      <th>57</th>\n",
       "      <td>nypcaf000376</td>\n",
       "      <td>canc</td>\n",
       "      <td>1955-08-22</td>\n",
       "      <td>yes</td>\n",
       "      <td>15.0</td>\n",
       "      <td>retired</td>\n",
       "      <td>florida</td>\n",
       "      <td>05/24/2016</td>\n",
       "      <td>NaN</td>\n",
       "      <td>03/07/2017</td>\n",
       "      <td>...</td>\n",
       "      <td>motoryacht</td>\n",
       "      <td>$ 59,950.00</td>\n",
       "      <td>inboard</td>\n",
       "      <td>2.0</td>\n",
       "      <td>fl</td>\n",
       "      <td>bay</td>\n",
       "      <td>32411</td>\n",
       "      <td>1955</td>\n",
       "      <td>NaN</td>\n",
       "      <td>66</td>\n",
       "    </tr>\n",
       "    <tr>\n",
       "      <th>60</th>\n",
       "      <td>nypcaf000379</td>\n",
       "      <td>canc</td>\n",
       "      <td>1963-04-02</td>\n",
       "      <td>yes</td>\n",
       "      <td>30.0</td>\n",
       "      <td>other</td>\n",
       "      <td>california</td>\n",
       "      <td>06/01/2016</td>\n",
       "      <td>NaN</td>\n",
       "      <td>02/02/2017</td>\n",
       "      <td>...</td>\n",
       "      <td>express cruiser</td>\n",
       "      <td>$ 700,000.00</td>\n",
       "      <td>pod</td>\n",
       "      <td>2.0</td>\n",
       "      <td>ca</td>\n",
       "      <td>orange</td>\n",
       "      <td>92661</td>\n",
       "      <td>1963</td>\n",
       "      <td>NaN</td>\n",
       "      <td>58</td>\n",
       "    </tr>\n",
       "    <tr>\n",
       "      <th>64</th>\n",
       "      <td>nypcaf000383</td>\n",
       "      <td>canc</td>\n",
       "      <td>1958-08-08</td>\n",
       "      <td>yes</td>\n",
       "      <td>25.0</td>\n",
       "      <td>retired</td>\n",
       "      <td>florida</td>\n",
       "      <td>05/27/2016</td>\n",
       "      <td>NaN</td>\n",
       "      <td>12/05/2016</td>\n",
       "      <td>...</td>\n",
       "      <td>motoryacht</td>\n",
       "      <td>$ 330,000.00</td>\n",
       "      <td>inboard</td>\n",
       "      <td>2.0</td>\n",
       "      <td>fl</td>\n",
       "      <td>manatee</td>\n",
       "      <td>34221</td>\n",
       "      <td>1958</td>\n",
       "      <td>NaN</td>\n",
       "      <td>63</td>\n",
       "    </tr>\n",
       "    <tr>\n",
       "      <th>...</th>\n",
       "      <td>...</td>\n",
       "      <td>...</td>\n",
       "      <td>...</td>\n",
       "      <td>...</td>\n",
       "      <td>...</td>\n",
       "      <td>...</td>\n",
       "      <td>...</td>\n",
       "      <td>...</td>\n",
       "      <td>...</td>\n",
       "      <td>...</td>\n",
       "      <td>...</td>\n",
       "      <td>...</td>\n",
       "      <td>...</td>\n",
       "      <td>...</td>\n",
       "      <td>...</td>\n",
       "      <td>...</td>\n",
       "      <td>...</td>\n",
       "      <td>...</td>\n",
       "      <td>...</td>\n",
       "      <td>...</td>\n",
       "      <td>...</td>\n",
       "    </tr>\n",
       "    <tr>\n",
       "      <th>6345</th>\n",
       "      <td>nypcaf001768-2</td>\n",
       "      <td>endt-canc</td>\n",
       "      <td>1939-12-27</td>\n",
       "      <td>not reported</td>\n",
       "      <td>30.0</td>\n",
       "      <td>retired</td>\n",
       "      <td>oregon</td>\n",
       "      <td>02/22/2020</td>\n",
       "      <td>02/22/2020</td>\n",
       "      <td>12/04/2020</td>\n",
       "      <td>...</td>\n",
       "      <td>motoryacht</td>\n",
       "      <td>$ 505,000.00</td>\n",
       "      <td>inboard</td>\n",
       "      <td>2.0</td>\n",
       "      <td>mexico</td>\n",
       "      <td>bcs</td>\n",
       "      <td>cp2300</td>\n",
       "      <td>1939</td>\n",
       "      <td>NaN</td>\n",
       "      <td>82</td>\n",
       "    </tr>\n",
       "    <tr>\n",
       "      <th>6346</th>\n",
       "      <td>nypcaf002441</td>\n",
       "      <td>endt</td>\n",
       "      <td>1943-10-13</td>\n",
       "      <td>yes</td>\n",
       "      <td>40.0</td>\n",
       "      <td>not reported</td>\n",
       "      <td>california</td>\n",
       "      <td>04/05/2019</td>\n",
       "      <td>01/29/2020</td>\n",
       "      <td>01/29/2020</td>\n",
       "      <td>...</td>\n",
       "      <td>monohull sail</td>\n",
       "      <td>$ 1,500,000.00</td>\n",
       "      <td>inboard</td>\n",
       "      <td>1.0</td>\n",
       "      <td>ca</td>\n",
       "      <td>santa cruz</td>\n",
       "      <td>95062</td>\n",
       "      <td>1943</td>\n",
       "      <td>NaN</td>\n",
       "      <td>78</td>\n",
       "    </tr>\n",
       "    <tr>\n",
       "      <th>6347</th>\n",
       "      <td>nypcaf001800-2</td>\n",
       "      <td>endt</td>\n",
       "      <td>1987-11-30</td>\n",
       "      <td>not reported</td>\n",
       "      <td>30.0</td>\n",
       "      <td>other</td>\n",
       "      <td>california</td>\n",
       "      <td>03/01/2020</td>\n",
       "      <td>04/28/2020</td>\n",
       "      <td>04/28/2020</td>\n",
       "      <td>...</td>\n",
       "      <td>monohull sail</td>\n",
       "      <td>$ 225,000.00</td>\n",
       "      <td>inboard</td>\n",
       "      <td>1.0</td>\n",
       "      <td>ca</td>\n",
       "      <td>alameda</td>\n",
       "      <td>94710</td>\n",
       "      <td>1987</td>\n",
       "      <td>NaN</td>\n",
       "      <td>34</td>\n",
       "    </tr>\n",
       "    <tr>\n",
       "      <th>6348</th>\n",
       "      <td>nypcaf002391-1</td>\n",
       "      <td>endt-canc</td>\n",
       "      <td>1964-07-02</td>\n",
       "      <td>not reported</td>\n",
       "      <td>5.0</td>\n",
       "      <td>business owner</td>\n",
       "      <td>california</td>\n",
       "      <td>03/15/2020</td>\n",
       "      <td>08/19/2020</td>\n",
       "      <td>09/17/2020</td>\n",
       "      <td>...</td>\n",
       "      <td>express cruiser</td>\n",
       "      <td>$ 325,000.00</td>\n",
       "      <td>inboard</td>\n",
       "      <td>2.0</td>\n",
       "      <td>ca</td>\n",
       "      <td>orange</td>\n",
       "      <td>92663</td>\n",
       "      <td>1964</td>\n",
       "      <td>NaN</td>\n",
       "      <td>57</td>\n",
       "    </tr>\n",
       "    <tr>\n",
       "      <th>6349</th>\n",
       "      <td>nypcaf002391-1</td>\n",
       "      <td>endt-canc</td>\n",
       "      <td>1964-07-02</td>\n",
       "      <td>not reported</td>\n",
       "      <td>5.0</td>\n",
       "      <td>business owner</td>\n",
       "      <td>california</td>\n",
       "      <td>03/15/2020</td>\n",
       "      <td>08/31/2020</td>\n",
       "      <td>09/17/2020</td>\n",
       "      <td>...</td>\n",
       "      <td>express cruiser</td>\n",
       "      <td>$ 325,000.00</td>\n",
       "      <td>inboard</td>\n",
       "      <td>2.0</td>\n",
       "      <td>ca</td>\n",
       "      <td>orange</td>\n",
       "      <td>92663</td>\n",
       "      <td>1964</td>\n",
       "      <td>NaN</td>\n",
       "      <td>57</td>\n",
       "    </tr>\n",
       "  </tbody>\n",
       "</table>\n",
       "<p>698 rows × 24 columns</p>\n",
       "</div>"
      ],
      "text/plain": [
       "       Policy Number New/Renl/Endt/Canc/Flat Date of Birth Married yes/no  \\\n",
       "38      nypcaf000355                    canc    1955-01-04            yes   \n",
       "50      nypcaf000368                    canc    1945-07-08            yes   \n",
       "57      nypcaf000376                    canc    1955-08-22            yes   \n",
       "60      nypcaf000379                    canc    1963-04-02            yes   \n",
       "64      nypcaf000383                    canc    1958-08-08            yes   \n",
       "...              ...                     ...           ...            ...   \n",
       "6345  nypcaf001768-2               endt-canc    1939-12-27   not reported   \n",
       "6346    nypcaf002441                    endt    1943-10-13            yes   \n",
       "6347  nypcaf001800-2                    endt    1987-11-30   not reported   \n",
       "6348  nypcaf002391-1               endt-canc    1964-07-02   not reported   \n",
       "6349  nypcaf002391-1               endt-canc    1964-07-02   not reported   \n",
       "\n",
       "      Years Exp.      Occupation Mailing State Policy Eff-Date Endo Eff-Date  \\\n",
       "38          30.0    not reported    california      07/02/2016           NaN   \n",
       "50          40.0           other       florida      05/06/2016           NaN   \n",
       "57          15.0         retired       florida      05/24/2016           NaN   \n",
       "60          30.0           other    california      06/01/2016           NaN   \n",
       "64          25.0         retired       florida      05/27/2016           NaN   \n",
       "...          ...             ...           ...             ...           ...   \n",
       "6345        30.0         retired        oregon      02/22/2020    02/22/2020   \n",
       "6346        40.0    not reported    california      04/05/2019    01/29/2020   \n",
       "6347        30.0           other    california      03/01/2020    04/28/2020   \n",
       "6348         5.0  business owner    california      03/15/2020    08/19/2020   \n",
       "6349         5.0  business owner    california      03/15/2020    08/31/2020   \n",
       "\n",
       "     Policy/Endo Canc Eff-Date  ...        Hull Type        Hull Limit  \\\n",
       "38                  12/23/2016  ...       motoryacht     $ 625,000.00    \n",
       "50                  04/01/2017  ...       motoryacht     $ 135,000.00    \n",
       "57                  03/07/2017  ...       motoryacht      $ 59,950.00    \n",
       "60                  02/02/2017  ...  express cruiser     $ 700,000.00    \n",
       "64                  12/05/2016  ...       motoryacht     $ 330,000.00    \n",
       "...                        ...  ...              ...               ...   \n",
       "6345                12/04/2020  ...       motoryacht     $ 505,000.00    \n",
       "6346                01/29/2020  ...    monohull sail   $ 1,500,000.00    \n",
       "6347                04/28/2020  ...    monohull sail     $ 225,000.00    \n",
       "6348                09/17/2020  ...  express cruiser     $ 325,000.00    \n",
       "6349                09/17/2020  ...  express cruiser     $ 325,000.00    \n",
       "\n",
       "     Power Type  # Engines Mooring State Mooring County Mooring ZIP code  \\\n",
       "38      inboard        2.0    california         orange            92661   \n",
       "50      inboard        1.0            fl        broward            33019   \n",
       "57      inboard        2.0            fl            bay            32411   \n",
       "60          pod        2.0            ca         orange            92661   \n",
       "64      inboard        2.0            fl        manatee            34221   \n",
       "...         ...        ...           ...            ...              ...   \n",
       "6345    inboard        2.0        mexico            bcs           cp2300   \n",
       "6346    inboard        1.0            ca     santa cruz            95062   \n",
       "6347    inboard        1.0            ca        alameda            94710   \n",
       "6348    inboard        2.0            ca         orange            92663   \n",
       "6349    inboard        2.0            ca         orange            92663   \n",
       "\n",
       "      DOB_year num_claims Age  \n",
       "38        1955        NaN  66  \n",
       "50        1945        NaN  76  \n",
       "57        1955        NaN  66  \n",
       "60        1963        NaN  58  \n",
       "64        1958        NaN  63  \n",
       "...        ...        ...  ..  \n",
       "6345      1939        NaN  82  \n",
       "6346      1943        NaN  78  \n",
       "6347      1987        NaN  34  \n",
       "6348      1964        NaN  57  \n",
       "6349      1964        NaN  57  \n",
       "\n",
       "[698 rows x 24 columns]"
      ]
     },
     "execution_count": 9,
     "metadata": {},
     "output_type": "execute_result"
    }
   ],
   "source": [
    "combined[combined['Policy/Endo Canc Eff-Date'].notna()]"
   ]
  },
  {
   "cell_type": "code",
   "execution_count": 10,
   "metadata": {},
   "outputs": [
    {
     "data": {
      "text/plain": [
       "10"
      ]
     },
     "execution_count": 10,
     "metadata": {},
     "output_type": "execute_result"
    }
   ],
   "source": [
    "# Change the column into a string\n",
    "combined['Policy/Endo Canc Eff-Date'] = combined['Policy/Endo Canc Eff-Date'].astype(str)\n",
    "\n",
    "# Create a list of all the Canc date years\n",
    "years_list = []\n",
    "for n in combined['Policy/Endo Canc Eff-Date']:\n",
    "    years_list.append(n[6:10])\n",
    "\n",
    "# Create column of year cancelled\n",
    "combined['canc_year'] = years_list\n",
    "\n",
    "# Turn it into a numeric column\n",
    "combined['canc_year']  = pd.to_numeric(combined['canc_year'])\n",
    "\n",
    "# Look at how many problems there are\n",
    "len(combined[combined['canc_year'] > 2020])"
   ]
  },
  {
   "cell_type": "code",
   "execution_count": 11,
   "metadata": {},
   "outputs": [],
   "source": [
    "# Drop rows with dates over 2020\n",
    "combined.drop(combined.loc[combined['canc_year'] > 2020].index, inplace=True)"
   ]
  },
  {
   "cell_type": "code",
   "execution_count": 12,
   "metadata": {},
   "outputs": [
    {
     "data": {
      "text/plain": [
       "0         NaN\n",
       "1         NaN\n",
       "2         NaN\n",
       "3         NaN\n",
       "4         NaN\n",
       "        ...  \n",
       "6345    286.0\n",
       "6346    299.0\n",
       "6347     58.0\n",
       "6348    186.0\n",
       "6349    186.0\n",
       "Name: policy_length, Length: 6340, dtype: float64"
      ]
     },
     "execution_count": 12,
     "metadata": {},
     "output_type": "execute_result"
    }
   ],
   "source": [
    "# Turn policy eff date into date/time object\n",
    "combined['Policy Eff-Date'] = pd.to_datetime(combined['Policy Eff-Date'])\n",
    "\n",
    "# Turn endorsement/policy cancellation date into date/time object\n",
    "combined['Policy/Endo Canc Eff-Date'] = pd.to_datetime(combined['Policy/Endo Canc Eff-Date'])\n",
    "\n",
    "# Turn endorsement effective date into date/time object\n",
    "combined['Endo Eff-Date'] = pd.to_datetime(combined['Endo Eff-Date'])\n",
    "\n",
    "# Create a policy length column\n",
    "combined['policy_length'] = (combined['Policy/Endo Canc Eff-Date'] - combined['Policy Eff-Date']).dt.days\n",
    "combined['policy_length']"
   ]
  },
  {
   "cell_type": "code",
   "execution_count": 13,
   "metadata": {},
   "outputs": [
    {
     "data": {
      "text/plain": [
       "0.0       35\n",
       "966.0     31\n",
       "813.0     28\n",
       "632.0     28\n",
       "693.0     25\n",
       "          ..\n",
       "579.0      1\n",
       "1631.0     1\n",
       "1139.0     1\n",
       "1747.0     1\n",
       "1105.0     1\n",
       "Name: policy_length, Length: 1532, dtype: int64"
      ]
     },
     "execution_count": 13,
     "metadata": {},
     "output_type": "execute_result"
    }
   ],
   "source": [
    "# Impute null policy lengths using today's date\n",
    "combined['policy_length'] = combined['policy_length'].fillna((datetime.today() - combined['Policy Eff-Date']).dt.days)\n",
    "combined['policy_length'].value_counts()# Impute null policy lengths using today's date\n",
    "combined['policy_length'] = combined['policy_length'].fillna((datetime.today() - combined['Policy Eff-Date']).dt.days)\n",
    "combined['policy_length'].value_counts()"
   ]
  },
  {
   "cell_type": "markdown",
   "metadata": {},
   "source": [
    "#### NUMBER OF CLAIMS"
   ]
  },
  {
   "cell_type": "markdown",
   "metadata": {},
   "source": [
    "*This column was already created, but when we merged we had a lot of null values. Need to replace them with 0.*"
   ]
  },
  {
   "cell_type": "code",
   "execution_count": 14,
   "metadata": {},
   "outputs": [
    {
     "data": {
      "text/plain": [
       "0.0    5836\n",
       "1.0     421\n",
       "2.0      68\n",
       "3.0      15\n",
       "Name: num_claims, dtype: int64"
      ]
     },
     "execution_count": 14,
     "metadata": {},
     "output_type": "execute_result"
    }
   ],
   "source": [
    "# Fill na columns with 1 for having only 1 claim\n",
    "combined['num_claims'] = combined['num_claims'].fillna(0)\n",
    "\n",
    "combined['num_claims'].value_counts()"
   ]
  },
  {
   "cell_type": "markdown",
   "metadata": {},
   "source": [
    "---\n",
    "##  Drop columns we won't be needing for modeling "
   ]
  },
  {
   "cell_type": "code",
   "execution_count": 15,
   "metadata": {},
   "outputs": [
    {
     "data": {
      "text/plain": [
       "Index(['Policy Number', 'New/Renl/Endt/Canc/Flat', 'Date of Birth',\n",
       "       'Married yes/no', 'Years Exp.', 'Occupation', 'Mailing State',\n",
       "       'Policy Eff-Date', 'Endo Eff-Date', 'Policy/Endo Canc Eff-Date',\n",
       "       'Builder', 'Year Built', 'Construction', 'Length', 'Hull Type',\n",
       "       'Hull Limit', 'Power Type', '# Engines', 'Mooring State',\n",
       "       'Mooring County', 'Mooring ZIP code', 'DOB_year', 'num_claims', 'Age',\n",
       "       'canc_year', 'policy_length'],\n",
       "      dtype='object')"
      ]
     },
     "execution_count": 15,
     "metadata": {},
     "output_type": "execute_result"
    }
   ],
   "source": [
    "combined.columns"
   ]
  },
  {
   "cell_type": "code",
   "execution_count": 16,
   "metadata": {},
   "outputs": [
    {
     "data": {
      "text/html": [
       "<div>\n",
       "<style scoped>\n",
       "    .dataframe tbody tr th:only-of-type {\n",
       "        vertical-align: middle;\n",
       "    }\n",
       "\n",
       "    .dataframe tbody tr th {\n",
       "        vertical-align: top;\n",
       "    }\n",
       "\n",
       "    .dataframe thead th {\n",
       "        text-align: right;\n",
       "    }\n",
       "</style>\n",
       "<table border=\"1\" class=\"dataframe\">\n",
       "  <thead>\n",
       "    <tr style=\"text-align: right;\">\n",
       "      <th></th>\n",
       "      <th>New/Renl/Endt/Canc/Flat</th>\n",
       "      <th>Married yes/no</th>\n",
       "      <th>Years Exp.</th>\n",
       "      <th>Occupation</th>\n",
       "      <th>Builder</th>\n",
       "      <th>Year Built</th>\n",
       "      <th>Construction</th>\n",
       "      <th>Length</th>\n",
       "      <th>Hull Type</th>\n",
       "      <th>Hull Limit</th>\n",
       "      <th>Power Type</th>\n",
       "      <th># Engines</th>\n",
       "      <th>Mooring County</th>\n",
       "      <th>num_claims</th>\n",
       "      <th>Age</th>\n",
       "      <th>policy_length</th>\n",
       "    </tr>\n",
       "  </thead>\n",
       "  <tbody>\n",
       "    <tr>\n",
       "      <th>0</th>\n",
       "      <td>new</td>\n",
       "      <td>no</td>\n",
       "      <td>2.0</td>\n",
       "      <td>other</td>\n",
       "      <td>other</td>\n",
       "      <td>1997.0</td>\n",
       "      <td>fiberglass</td>\n",
       "      <td>63.0</td>\n",
       "      <td>multihull sail</td>\n",
       "      <td>$ 500,000.00</td>\n",
       "      <td>inboard</td>\n",
       "      <td>2.0</td>\n",
       "      <td>nayarit</td>\n",
       "      <td>0.0</td>\n",
       "      <td>73</td>\n",
       "      <td>1758.0</td>\n",
       "    </tr>\n",
       "    <tr>\n",
       "      <th>1</th>\n",
       "      <td>new</td>\n",
       "      <td>not reported</td>\n",
       "      <td>22.0</td>\n",
       "      <td>other</td>\n",
       "      <td>viking</td>\n",
       "      <td>2006.0</td>\n",
       "      <td>fiberglass</td>\n",
       "      <td>61.0</td>\n",
       "      <td>sportfisher</td>\n",
       "      <td>$ 1,275,000.00</td>\n",
       "      <td>inboard</td>\n",
       "      <td>2.0</td>\n",
       "      <td>los angeles</td>\n",
       "      <td>0.0</td>\n",
       "      <td>69</td>\n",
       "      <td>1771.0</td>\n",
       "    </tr>\n",
       "    <tr>\n",
       "      <th>2</th>\n",
       "      <td>new</td>\n",
       "      <td>yes</td>\n",
       "      <td>30.0</td>\n",
       "      <td>not reported</td>\n",
       "      <td>offshore</td>\n",
       "      <td>2001.0</td>\n",
       "      <td>fiberglass</td>\n",
       "      <td>48.0</td>\n",
       "      <td>motoryacht</td>\n",
       "      <td>$ 400,000.00</td>\n",
       "      <td>inboard</td>\n",
       "      <td>2.0</td>\n",
       "      <td>los angeles</td>\n",
       "      <td>0.0</td>\n",
       "      <td>78</td>\n",
       "      <td>1759.0</td>\n",
       "    </tr>\n",
       "    <tr>\n",
       "      <th>3</th>\n",
       "      <td>new</td>\n",
       "      <td>not reported</td>\n",
       "      <td>20.0</td>\n",
       "      <td>not reported</td>\n",
       "      <td>other</td>\n",
       "      <td>1973.0</td>\n",
       "      <td>fiberglass</td>\n",
       "      <td>32.0</td>\n",
       "      <td>motoryacht</td>\n",
       "      <td>$ 35,000.00</td>\n",
       "      <td>inboard</td>\n",
       "      <td>0.0</td>\n",
       "      <td>los angeles</td>\n",
       "      <td>0.0</td>\n",
       "      <td>44</td>\n",
       "      <td>1759.0</td>\n",
       "    </tr>\n",
       "    <tr>\n",
       "      <th>4</th>\n",
       "      <td>new</td>\n",
       "      <td>no</td>\n",
       "      <td>30.0</td>\n",
       "      <td>not reported</td>\n",
       "      <td>other</td>\n",
       "      <td>1989.0</td>\n",
       "      <td>fiberglass</td>\n",
       "      <td>43.0</td>\n",
       "      <td>monohull sail</td>\n",
       "      <td>$ 200,000.00</td>\n",
       "      <td>inboard</td>\n",
       "      <td>1.0</td>\n",
       "      <td>los angeles</td>\n",
       "      <td>0.0</td>\n",
       "      <td>70</td>\n",
       "      <td>1756.0</td>\n",
       "    </tr>\n",
       "  </tbody>\n",
       "</table>\n",
       "</div>"
      ],
      "text/plain": [
       "  New/Renl/Endt/Canc/Flat Married yes/no  Years Exp.    Occupation   Builder  \\\n",
       "0                     new             no         2.0         other     other   \n",
       "1                     new   not reported        22.0         other    viking   \n",
       "2                     new            yes        30.0  not reported  offshore   \n",
       "3                     new   not reported        20.0  not reported     other   \n",
       "4                     new             no        30.0  not reported     other   \n",
       "\n",
       "   Year Built Construction  Length       Hull Type        Hull Limit  \\\n",
       "0      1997.0   fiberglass    63.0  multihull sail     $ 500,000.00    \n",
       "1      2006.0   fiberglass    61.0     sportfisher   $ 1,275,000.00    \n",
       "2      2001.0   fiberglass    48.0      motoryacht     $ 400,000.00    \n",
       "3      1973.0   fiberglass    32.0      motoryacht      $ 35,000.00    \n",
       "4      1989.0   fiberglass    43.0   monohull sail     $ 200,000.00    \n",
       "\n",
       "  Power Type  # Engines Mooring County  num_claims  Age  policy_length  \n",
       "0    inboard        2.0        nayarit         0.0   73         1758.0  \n",
       "1    inboard        2.0    los angeles         0.0   69         1771.0  \n",
       "2    inboard        2.0    los angeles         0.0   78         1759.0  \n",
       "3    inboard        0.0    los angeles         0.0   44         1759.0  \n",
       "4    inboard        1.0    los angeles         0.0   70         1756.0  "
      ]
     },
     "execution_count": 16,
     "metadata": {},
     "output_type": "execute_result"
    }
   ],
   "source": [
    "# Only keeping the columns I need for modeling\n",
    "combined = combined[['New/Renl/Endt/Canc/Flat', 'Married yes/no', 'Years Exp.', 'Occupation',\n",
    "                   'Builder', 'Year Built', 'Construction', 'Length', 'Hull Type','Hull Limit',\n",
    "                    'Power Type', '# Engines', 'Mooring County','num_claims', 'Age', 'policy_length']]\n",
    "\n",
    "combined.head()"
   ]
  },
  {
   "cell_type": "markdown",
   "metadata": {},
   "source": [
    "---\n",
    "## Deal with large number of values for Mooring County column"
   ]
  },
  {
   "cell_type": "markdown",
   "metadata": {},
   "source": [
    "**BELOW:** We knew that there were a lot of values for this column. Additionally, we knew some locations were entered in differently. Since we were unable to search for all these instances, we decided to keep only counties that had at least 25 instances (top 49 counties)."
   ]
  },
  {
   "cell_type": "code",
   "execution_count": 17,
   "metadata": {},
   "outputs": [
    {
     "data": {
      "text/plain": [
       "broward          397\n",
       "bcs              374\n",
       "los angeles      353\n",
       "orange           339\n",
       "san diego        337\n",
       "nayarit          227\n",
       "miami-dade       221\n",
       "sarasota         218\n",
       "pinellas         201\n",
       "manatee          172\n",
       "south pacific    141\n",
       "sonora           128\n",
       "palm beach       122\n",
       "panama           119\n",
       "grenada          116\n",
       "king             113\n",
       "lee              107\n",
       "caribbean         91\n",
       "jalisco           87\n",
       "martin            87\n",
       "monroe            86\n",
       "med               74\n",
       "alameda           74\n",
       "charlotte         68\n",
       "sinaloa           63\n",
       "honolulu          62\n",
       "bcn               59\n",
       "santa cruz        56\n",
       "contra costa      53\n",
       "galveston         51\n",
       "canada            47\n",
       "costa rica        47\n",
       "new zealand       47\n",
       "san mateo         45\n",
       "san francisco     44\n",
       "miami dade        44\n",
       "ventura           43\n",
       "collier           40\n",
       "nueces            39\n",
       "marin             38\n",
       "hillsborough      37\n",
       "volusia           36\n",
       "brevard           36\n",
       "skagit            33\n",
       "anne arundel      30\n",
       "escambia          29\n",
       "st. lucie         27\n",
       "st. johns         26\n",
       "whatcom           26\n",
       "aransas           24\n",
       "Name: Mooring County, dtype: int64"
      ]
     },
     "execution_count": 17,
     "metadata": {},
     "output_type": "execute_result"
    }
   ],
   "source": [
    "combined['Mooring County'].value_counts()[:50]"
   ]
  },
  {
   "cell_type": "code",
   "execution_count": 18,
   "metadata": {},
   "outputs": [
    {
     "data": {
      "text/plain": [
       "other            1030\n",
       "broward           397\n",
       "bcs               374\n",
       "los angeles       353\n",
       "orange            339\n",
       "san diego         337\n",
       "nayarit           227\n",
       "miami-dade        221\n",
       "sarasota          218\n",
       "pinellas          201\n",
       "manatee           172\n",
       "south pacific     141\n",
       "sonora            128\n",
       "palm beach        122\n",
       "panama            119\n",
       "grenada           116\n",
       "king              113\n",
       "lee               107\n",
       "caribbean          91\n",
       "jalisco            87\n",
       "martin             87\n",
       "monroe             86\n",
       "alameda            74\n",
       "med                74\n",
       "charlotte          68\n",
       "sinaloa            63\n",
       "honolulu           62\n",
       "bcn                59\n",
       "santa cruz         56\n",
       "contra costa       53\n",
       "galveston          51\n",
       "new zealand        47\n",
       "canada             47\n",
       "costa rica         47\n",
       "san mateo          45\n",
       "miami dade         44\n",
       "san francisco      44\n",
       "ventura            43\n",
       "collier            40\n",
       "nueces             39\n",
       "marin              38\n",
       "hillsborough       37\n",
       "brevard            36\n",
       "volusia            36\n",
       "skagit             33\n",
       "anne arundel       30\n",
       "escambia           29\n",
       "st. lucie          27\n",
       "st. johns          26\n",
       "whatcom            26\n",
       "Name: Mooring County, dtype: int64"
      ]
     },
     "execution_count": 18,
     "metadata": {},
     "output_type": "execute_result"
    }
   ],
   "source": [
    "# Create a list of the top 49 most common counties \n",
    "top_49_county = combined['Mooring County'].value_counts()[:49].index.to_list()\n",
    "\n",
    "# Replace all the other types with 'other'\n",
    "combined['Mooring County'] = combined['Mooring County'].apply(lambda x: 'other' if x not in top_49_county else x)\n",
    "combined['Mooring County'].value_counts()"
   ]
  },
  {
   "cell_type": "markdown",
   "metadata": {},
   "source": [
    "## Check the data types of each column"
   ]
  },
  {
   "cell_type": "markdown",
   "metadata": {},
   "source": [
    "*We wanted to make sure no numerical columns are incorrectly object columns. We found 'Hull Limit' was an instance of this.*"
   ]
  },
  {
   "cell_type": "code",
   "execution_count": 19,
   "metadata": {},
   "outputs": [
    {
     "data": {
      "text/plain": [
       "New/Renl/Endt/Canc/Flat     object\n",
       "Married yes/no              object\n",
       "Years Exp.                 float64\n",
       "Occupation                  object\n",
       "Builder                     object\n",
       "Year Built                 float64\n",
       "Construction                object\n",
       "Length                     float64\n",
       "Hull Type                   object\n",
       "Hull Limit                  object\n",
       "Power Type                  object\n",
       "# Engines                  float64\n",
       "Mooring County              object\n",
       "num_claims                 float64\n",
       "Age                          int64\n",
       "policy_length              float64\n",
       "dtype: object"
      ]
     },
     "execution_count": 19,
     "metadata": {},
     "output_type": "execute_result"
    }
   ],
   "source": [
    "combined.dtypes"
   ]
  },
  {
   "cell_type": "code",
   "execution_count": 20,
   "metadata": {},
   "outputs": [
    {
     "data": {
      "text/plain": [
       "0          $ 500,000.00 \n",
       "1        $ 1,275,000.00 \n",
       "2          $ 400,000.00 \n",
       "3           $ 35,000.00 \n",
       "4          $ 200,000.00 \n",
       "              ...       \n",
       "6345       $ 505,000.00 \n",
       "6346     $ 1,500,000.00 \n",
       "6347       $ 225,000.00 \n",
       "6348       $ 325,000.00 \n",
       "6349       $ 325,000.00 \n",
       "Name: Hull Limit, Length: 6340, dtype: object"
      ]
     },
     "execution_count": 20,
     "metadata": {},
     "output_type": "execute_result"
    }
   ],
   "source": [
    "# Check what column looks like\n",
    "combined['Hull Limit']"
   ]
  },
  {
   "cell_type": "markdown",
   "metadata": {},
   "source": [
    "**BELOW:** Turn 'Hull Limit' into a numerical column."
   ]
  },
  {
   "cell_type": "code",
   "execution_count": 21,
   "metadata": {},
   "outputs": [
    {
     "data": {
      "text/plain": [
       "0        500000.0\n",
       "1       1275000.0\n",
       "2        400000.0\n",
       "3         35000.0\n",
       "4        200000.0\n",
       "          ...    \n",
       "6345     505000.0\n",
       "6346    1500000.0\n",
       "6347     225000.0\n",
       "6348     325000.0\n",
       "6349     325000.0\n",
       "Name: Hull Limit, Length: 6340, dtype: float64"
      ]
     },
     "execution_count": 21,
     "metadata": {},
     "output_type": "execute_result"
    }
   ],
   "source": [
    "# Get rid of characters\n",
    "combined['Hull Limit'] = combined['Hull Limit'].str.replace(',', '')\n",
    "combined['Hull Limit'] = combined['Hull Limit'].str.replace('$', '')\n",
    "\n",
    "# Remove whitespace\n",
    "combined['Hull Limit'] = combined['Hull Limit'].str.strip()\n",
    "\n",
    "# Change to a float\n",
    "combined['Hull Limit'] = combined['Hull Limit'].astype(float)\n",
    "\n",
    "# Show new values for column\n",
    "combined['Hull Limit']"
   ]
  },
  {
   "cell_type": "markdown",
   "metadata": {},
   "source": [
    "## Look at correlation of numerical values"
   ]
  },
  {
   "cell_type": "code",
   "execution_count": 22,
   "metadata": {},
   "outputs": [
    {
     "data": {
      "image/png": "[encoded data removed]",
      "text/plain": [
       "<Figure size 432x288 with 2 Axes>"
      ]
     },
     "metadata": {
      "needs_background": "light"
     },
     "output_type": "display_data"
    }
   ],
   "source": [
    "sns.heatmap(combined.corr(), cmap='RdBu',center=0);"
   ]
  },
  {
   "cell_type": "markdown",
   "metadata": {},
   "source": [
    "**Interpretation:** While hull limit (price of the boat) is fairly highly correlated with length of the boat and # of engines, I decided to keep all of these features for modeling. The client said that they charge higher premiums for the number of engines because they've been told they are targets of theft. Additionally, the length of the boat could affect its navigation, anchoring, or storm survival ability."
   ]
  },
  {
   "cell_type": "markdown",
   "metadata": {},
   "source": [
    "### Look at outliers"
   ]
  },
  {
   "cell_type": "code",
   "execution_count": 23,
   "metadata": {},
   "outputs": [
    {
     "data": {
      "image/png": "[encoded data removed]",
      "text/plain": [
       "<Figure size 432x288 with 1 Axes>"
      ]
     },
     "metadata": {
      "needs_background": "light"
     },
     "output_type": "display_data"
    }
   ],
   "source": [
    "sns.boxplot(x=combined['Hull Limit']);"
   ]
  },
  {
   "cell_type": "code",
   "execution_count": 24,
   "metadata": {},
   "outputs": [
    {
     "data": {
      "image/png": "[encoded data removed]",
      "text/plain": [
       "<Figure size 432x288 with 1 Axes>"
      ]
     },
     "metadata": {
      "needs_background": "light"
     },
     "output_type": "display_data"
    }
   ],
   "source": [
    "sns.boxplot(x=combined['Age']);"
   ]
  },
  {
   "cell_type": "markdown",
   "metadata": {},
   "source": [
    "## Dummify categorical columns"
   ]
  },
  {
   "cell_type": "code",
   "execution_count": 25,
   "metadata": {},
   "outputs": [
    {
     "data": {
      "text/plain": [
       "(6340, 16)"
      ]
     },
     "execution_count": 25,
     "metadata": {},
     "output_type": "execute_result"
    }
   ],
   "source": [
    "# Starting with 16 columns\n",
    "combined.shape"
   ]
  },
  {
   "cell_type": "code",
   "execution_count": 26,
   "metadata": {},
   "outputs": [
    {
     "data": {
      "text/html": [
       "<div>\n",
       "<style scoped>\n",
       "    .dataframe tbody tr th:only-of-type {\n",
       "        vertical-align: middle;\n",
       "    }\n",
       "\n",
       "    .dataframe tbody tr th {\n",
       "        vertical-align: top;\n",
       "    }\n",
       "\n",
       "    .dataframe thead th {\n",
       "        text-align: right;\n",
       "    }\n",
       "</style>\n",
       "<table border=\"1\" class=\"dataframe\">\n",
       "  <thead>\n",
       "    <tr style=\"text-align: right;\">\n",
       "      <th></th>\n",
       "      <th>New/Renl/Endt/Canc/Flat</th>\n",
       "      <th>Married yes/no</th>\n",
       "      <th>Occupation</th>\n",
       "      <th>Builder</th>\n",
       "      <th>Construction</th>\n",
       "      <th>Hull Type</th>\n",
       "      <th>Power Type</th>\n",
       "      <th>Mooring County</th>\n",
       "    </tr>\n",
       "  </thead>\n",
       "  <tbody>\n",
       "    <tr>\n",
       "      <th>0</th>\n",
       "      <td>new</td>\n",
       "      <td>no</td>\n",
       "      <td>other</td>\n",
       "      <td>other</td>\n",
       "      <td>fiberglass</td>\n",
       "      <td>multihull sail</td>\n",
       "      <td>inboard</td>\n",
       "      <td>nayarit</td>\n",
       "    </tr>\n",
       "    <tr>\n",
       "      <th>1</th>\n",
       "      <td>new</td>\n",
       "      <td>not reported</td>\n",
       "      <td>other</td>\n",
       "      <td>viking</td>\n",
       "      <td>fiberglass</td>\n",
       "      <td>sportfisher</td>\n",
       "      <td>inboard</td>\n",
       "      <td>los angeles</td>\n",
       "    </tr>\n",
       "    <tr>\n",
       "      <th>2</th>\n",
       "      <td>new</td>\n",
       "      <td>yes</td>\n",
       "      <td>not reported</td>\n",
       "      <td>offshore</td>\n",
       "      <td>fiberglass</td>\n",
       "      <td>motoryacht</td>\n",
       "      <td>inboard</td>\n",
       "      <td>los angeles</td>\n",
       "    </tr>\n",
       "    <tr>\n",
       "      <th>3</th>\n",
       "      <td>new</td>\n",
       "      <td>not reported</td>\n",
       "      <td>not reported</td>\n",
       "      <td>other</td>\n",
       "      <td>fiberglass</td>\n",
       "      <td>motoryacht</td>\n",
       "      <td>inboard</td>\n",
       "      <td>los angeles</td>\n",
       "    </tr>\n",
       "    <tr>\n",
       "      <th>4</th>\n",
       "      <td>new</td>\n",
       "      <td>no</td>\n",
       "      <td>not reported</td>\n",
       "      <td>other</td>\n",
       "      <td>fiberglass</td>\n",
       "      <td>monohull sail</td>\n",
       "      <td>inboard</td>\n",
       "      <td>los angeles</td>\n",
       "    </tr>\n",
       "    <tr>\n",
       "      <th>...</th>\n",
       "      <td>...</td>\n",
       "      <td>...</td>\n",
       "      <td>...</td>\n",
       "      <td>...</td>\n",
       "      <td>...</td>\n",
       "      <td>...</td>\n",
       "      <td>...</td>\n",
       "      <td>...</td>\n",
       "    </tr>\n",
       "    <tr>\n",
       "      <th>6345</th>\n",
       "      <td>endt-canc</td>\n",
       "      <td>not reported</td>\n",
       "      <td>retired</td>\n",
       "      <td>other</td>\n",
       "      <td>fiberglass</td>\n",
       "      <td>motoryacht</td>\n",
       "      <td>inboard</td>\n",
       "      <td>bcs</td>\n",
       "    </tr>\n",
       "    <tr>\n",
       "      <th>6346</th>\n",
       "      <td>endt</td>\n",
       "      <td>yes</td>\n",
       "      <td>not reported</td>\n",
       "      <td>other</td>\n",
       "      <td>fiberglass</td>\n",
       "      <td>monohull sail</td>\n",
       "      <td>inboard</td>\n",
       "      <td>santa cruz</td>\n",
       "    </tr>\n",
       "    <tr>\n",
       "      <th>6347</th>\n",
       "      <td>endt</td>\n",
       "      <td>not reported</td>\n",
       "      <td>other</td>\n",
       "      <td>other</td>\n",
       "      <td>fiberglass</td>\n",
       "      <td>monohull sail</td>\n",
       "      <td>inboard</td>\n",
       "      <td>alameda</td>\n",
       "    </tr>\n",
       "    <tr>\n",
       "      <th>6348</th>\n",
       "      <td>endt-canc</td>\n",
       "      <td>not reported</td>\n",
       "      <td>business owner</td>\n",
       "      <td>other</td>\n",
       "      <td>fiberglass</td>\n",
       "      <td>express cruiser</td>\n",
       "      <td>inboard</td>\n",
       "      <td>orange</td>\n",
       "    </tr>\n",
       "    <tr>\n",
       "      <th>6349</th>\n",
       "      <td>endt-canc</td>\n",
       "      <td>not reported</td>\n",
       "      <td>business owner</td>\n",
       "      <td>other</td>\n",
       "      <td>fiberglass</td>\n",
       "      <td>express cruiser</td>\n",
       "      <td>inboard</td>\n",
       "      <td>orange</td>\n",
       "    </tr>\n",
       "  </tbody>\n",
       "</table>\n",
       "<p>6340 rows × 8 columns</p>\n",
       "</div>"
      ],
      "text/plain": [
       "     New/Renl/Endt/Canc/Flat Married yes/no      Occupation   Builder  \\\n",
       "0                        new             no           other     other   \n",
       "1                        new   not reported           other    viking   \n",
       "2                        new            yes    not reported  offshore   \n",
       "3                        new   not reported    not reported     other   \n",
       "4                        new             no    not reported     other   \n",
       "...                      ...            ...             ...       ...   \n",
       "6345               endt-canc   not reported         retired     other   \n",
       "6346                    endt            yes    not reported     other   \n",
       "6347                    endt   not reported           other     other   \n",
       "6348               endt-canc   not reported  business owner     other   \n",
       "6349               endt-canc   not reported  business owner     other   \n",
       "\n",
       "     Construction        Hull Type Power Type Mooring County  \n",
       "0      fiberglass   multihull sail    inboard        nayarit  \n",
       "1      fiberglass      sportfisher    inboard    los angeles  \n",
       "2      fiberglass       motoryacht    inboard    los angeles  \n",
       "3      fiberglass       motoryacht    inboard    los angeles  \n",
       "4      fiberglass    monohull sail    inboard    los angeles  \n",
       "...           ...              ...        ...            ...  \n",
       "6345   fiberglass       motoryacht    inboard            bcs  \n",
       "6346   fiberglass    monohull sail    inboard     santa cruz  \n",
       "6347   fiberglass    monohull sail    inboard        alameda  \n",
       "6348   fiberglass  express cruiser    inboard         orange  \n",
       "6349   fiberglass  express cruiser    inboard         orange  \n",
       "\n",
       "[6340 rows x 8 columns]"
      ]
     },
     "execution_count": 26,
     "metadata": {},
     "output_type": "execute_result"
    }
   ],
   "source": [
    "# Find categorical columns\n",
    "cat_features = combined.select_dtypes(include='object')\n",
    "cat_features"
   ]
  },
  {
   "cell_type": "code",
   "execution_count": 27,
   "metadata": {},
   "outputs": [],
   "source": [
    "cat_features = ['New/Renl/Endt/Canc/Flat','Married yes/no','Occupation','Builder',\n",
    "                 'Construction','Hull Type','Power Type','Mooring County']"
   ]
  },
  {
   "cell_type": "code",
   "execution_count": 28,
   "metadata": {},
   "outputs": [
    {
     "data": {
      "text/plain": [
       "Index(['New/Renl/Endt/Canc/Flat', 'Married yes/no', 'Years Exp.', 'Occupation',\n",
       "       'Builder', 'Year Built', 'Construction', 'Length', 'Hull Type',\n",
       "       'Hull Limit', 'Power Type', '# Engines', 'Mooring County', 'num_claims',\n",
       "       'Age', 'policy_length'],\n",
       "      dtype='object')"
      ]
     },
     "execution_count": 28,
     "metadata": {},
     "output_type": "execute_result"
    }
   ],
   "source": [
    "combined.columns"
   ]
  },
  {
   "cell_type": "code",
   "execution_count": 29,
   "metadata": {},
   "outputs": [
    {
     "data": {
      "text/plain": [
       "(6340, 118)"
      ]
     },
     "execution_count": 29,
     "metadata": {},
     "output_type": "execute_result"
    }
   ],
   "source": [
    "# Dummify categorical features we will use for the model\n",
    "combined = pd.get_dummies(combined, columns = cat_features, drop_first= True)\n",
    "combined.shape"
   ]
  },
  {
   "cell_type": "markdown",
   "metadata": {},
   "source": [
    "**ABOVE:** We went from having 16 columns to 118 after dummifying the categorical variables."
   ]
  },
  {
   "cell_type": "markdown",
   "metadata": {},
   "source": [
    "### Save new df to use for modeling"
   ]
  },
  {
   "cell_type": "code",
   "execution_count": 30,
   "metadata": {},
   "outputs": [],
   "source": [
    "combined.to_csv('../datasets/combined2.csv', index= False)"
   ]
  },
  {
   "cell_type": "markdown",
   "metadata": {},
   "source": [
    "---\n",
    "## Conclusion"
   ]
  },
  {
   "cell_type": "markdown",
   "metadata": {},
   "source": [
    "In this notebook we did some additional data cleaning, feature, engineering, and dummifying columns to get our dataset ready for modeling. When we began our dataframe had 6350 rows and 23 columns. We ended with a dataframe of 6340 rows and 118 columns. This is great that we were able to fill/impute missing values and only drop 10 rows from our dataframe. "
   ]
  },
  {
   "cell_type": "markdown",
   "metadata": {},
   "source": [
    "## Next Notebook:"
   ]
  },
  {
   "cell_type": "markdown",
   "metadata": {},
   "source": [
    "In the following notebook, *03_Modeling_and_Results*, we will test 4 main models for our binary classification problem: KNN, Logistic Regression, Random Forest, and Extra Trees. We will test out different methods of over and undersampling in order to reduce the delta between percent of majority class (no claims) with the minority class (at least one claim)."
   ]
  }
 ],
 "metadata": {
  "kernelspec": {
   "display_name": "Python 3",
   "language": "python",
   "name": "python3"
  },
  "language_info": {
   "codemirror_mode": {
    "name": "ipython",
    "version": 3
   },
   "file_extension": ".py",
   "mimetype": "text/x-python",
   "name": "python",
   "nbconvert_exporter": "python",
   "pygments_lexer": "ipython3",
   "version": "3.8.3"
  }
 },
 "nbformat": 4,
 "nbformat_minor": 4
}
