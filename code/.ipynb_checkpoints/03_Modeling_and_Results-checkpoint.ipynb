{
 "cells": [
  {
   "cell_type": "markdown",
   "metadata": {},
   "source": [
    "# Yacht Insurance Claims Data \n",
    "##### NOTEBOOK 3"
   ]
  },
  {
   "cell_type": "markdown",
   "metadata": {},
   "source": [
    "**Problem Statement:** What is the likelihood that a yacht insurance policy has at least 1 claim within five years?"
   ]
  },
  {
   "cell_type": "markdown",
   "metadata": {},
   "source": [
    "**Contents:**"
   ]
  },
  {
   "cell_type": "markdown",
   "metadata": {},
   "source": [
    "___\n",
    "## Import libraries and read in data"
   ]
  },
  {
   "cell_type": "code",
   "execution_count": 1,
   "metadata": {},
   "outputs": [],
   "source": [
    "import pandas as pd\n",
    "import seaborn as sns\n",
    "import numpy as np\n",
    "import matplotlib.pyplot as plt\n",
    "from sklearn.neighbors import KNeighborsClassifier\n",
    "from sklearn.model_selection import train_test_split, cross_val_score,GridSearchCV, RepeatedStratifiedKFold\n",
    "from sklearn.preprocessing import StandardScaler\n",
    "from sklearn.metrics import accuracy_score, classification_report, confusion_matrix, recall_score, f1_score \n",
    "from sklearn.ensemble import RandomForestClassifier, ExtraTreesClassifier\n",
    "from sklearn.tree import DecisionTreeClassifier\n",
    "from sklearn.pipeline import Pipeline\n",
    "from imblearn.over_sampling import SMOTE, RandomOverSampler\n",
    "from imblearn.under_sampling import RandomUnderSampler\n",
    "from imblearn.pipeline import Pipeline\n",
    "from collections import Counter\n",
    "from sklearn.linear_model import LogisticRegression, ElasticNetCV, LogisticRegressionCV\n",
    "from sklearn.inspection import permutation_importance\n",
    "from matplotlib import pyplot"
   ]
  },
  {
   "cell_type": "code",
   "execution_count": 2,
   "metadata": {},
   "outputs": [],
   "source": [
    "np.random.seed(42)"
   ]
  },
  {
   "cell_type": "code",
   "execution_count": 3,
   "metadata": {},
   "outputs": [
    {
     "data": {
      "text/html": [
       "<div>\n",
       "<style scoped>\n",
       "    .dataframe tbody tr th:only-of-type {\n",
       "        vertical-align: middle;\n",
       "    }\n",
       "\n",
       "    .dataframe tbody tr th {\n",
       "        vertical-align: top;\n",
       "    }\n",
       "\n",
       "    .dataframe thead th {\n",
       "        text-align: right;\n",
       "    }\n",
       "</style>\n",
       "<table border=\"1\" class=\"dataframe\">\n",
       "  <thead>\n",
       "    <tr style=\"text-align: right;\">\n",
       "      <th></th>\n",
       "      <th>Years Exp.</th>\n",
       "      <th>Year Built</th>\n",
       "      <th>Length</th>\n",
       "      <th>Hull Limit</th>\n",
       "      <th># Engines</th>\n",
       "      <th>num_claims</th>\n",
       "      <th>Age</th>\n",
       "      <th>policy_length</th>\n",
       "      <th>New/Renl/Endt/Canc/Flat_endt</th>\n",
       "      <th>New/Renl/Endt/Canc/Flat_endt-canc</th>\n",
       "      <th>...</th>\n",
       "      <th>Mooring County_sarasota</th>\n",
       "      <th>Mooring County_sinaloa</th>\n",
       "      <th>Mooring County_skagit</th>\n",
       "      <th>Mooring County_sonora</th>\n",
       "      <th>Mooring County_south pacific</th>\n",
       "      <th>Mooring County_st. johns</th>\n",
       "      <th>Mooring County_st. lucie</th>\n",
       "      <th>Mooring County_ventura</th>\n",
       "      <th>Mooring County_volusia</th>\n",
       "      <th>Mooring County_whatcom</th>\n",
       "    </tr>\n",
       "  </thead>\n",
       "  <tbody>\n",
       "    <tr>\n",
       "      <th>0</th>\n",
       "      <td>2.0</td>\n",
       "      <td>1997.0</td>\n",
       "      <td>63.0</td>\n",
       "      <td>500000.0</td>\n",
       "      <td>2.0</td>\n",
       "      <td>0.0</td>\n",
       "      <td>73</td>\n",
       "      <td>1759.0</td>\n",
       "      <td>0</td>\n",
       "      <td>0</td>\n",
       "      <td>...</td>\n",
       "      <td>0</td>\n",
       "      <td>0</td>\n",
       "      <td>0</td>\n",
       "      <td>0</td>\n",
       "      <td>0</td>\n",
       "      <td>0</td>\n",
       "      <td>0</td>\n",
       "      <td>0</td>\n",
       "      <td>0</td>\n",
       "      <td>0</td>\n",
       "    </tr>\n",
       "    <tr>\n",
       "      <th>1</th>\n",
       "      <td>22.0</td>\n",
       "      <td>2006.0</td>\n",
       "      <td>61.0</td>\n",
       "      <td>1275000.0</td>\n",
       "      <td>2.0</td>\n",
       "      <td>0.0</td>\n",
       "      <td>69</td>\n",
       "      <td>1772.0</td>\n",
       "      <td>0</td>\n",
       "      <td>0</td>\n",
       "      <td>...</td>\n",
       "      <td>0</td>\n",
       "      <td>0</td>\n",
       "      <td>0</td>\n",
       "      <td>0</td>\n",
       "      <td>0</td>\n",
       "      <td>0</td>\n",
       "      <td>0</td>\n",
       "      <td>0</td>\n",
       "      <td>0</td>\n",
       "      <td>0</td>\n",
       "    </tr>\n",
       "    <tr>\n",
       "      <th>2</th>\n",
       "      <td>30.0</td>\n",
       "      <td>2001.0</td>\n",
       "      <td>48.0</td>\n",
       "      <td>400000.0</td>\n",
       "      <td>2.0</td>\n",
       "      <td>0.0</td>\n",
       "      <td>78</td>\n",
       "      <td>1760.0</td>\n",
       "      <td>0</td>\n",
       "      <td>0</td>\n",
       "      <td>...</td>\n",
       "      <td>0</td>\n",
       "      <td>0</td>\n",
       "      <td>0</td>\n",
       "      <td>0</td>\n",
       "      <td>0</td>\n",
       "      <td>0</td>\n",
       "      <td>0</td>\n",
       "      <td>0</td>\n",
       "      <td>0</td>\n",
       "      <td>0</td>\n",
       "    </tr>\n",
       "    <tr>\n",
       "      <th>3</th>\n",
       "      <td>20.0</td>\n",
       "      <td>1973.0</td>\n",
       "      <td>32.0</td>\n",
       "      <td>35000.0</td>\n",
       "      <td>0.0</td>\n",
       "      <td>0.0</td>\n",
       "      <td>44</td>\n",
       "      <td>1760.0</td>\n",
       "      <td>0</td>\n",
       "      <td>0</td>\n",
       "      <td>...</td>\n",
       "      <td>0</td>\n",
       "      <td>0</td>\n",
       "      <td>0</td>\n",
       "      <td>0</td>\n",
       "      <td>0</td>\n",
       "      <td>0</td>\n",
       "      <td>0</td>\n",
       "      <td>0</td>\n",
       "      <td>0</td>\n",
       "      <td>0</td>\n",
       "    </tr>\n",
       "    <tr>\n",
       "      <th>4</th>\n",
       "      <td>30.0</td>\n",
       "      <td>1989.0</td>\n",
       "      <td>43.0</td>\n",
       "      <td>200000.0</td>\n",
       "      <td>1.0</td>\n",
       "      <td>0.0</td>\n",
       "      <td>70</td>\n",
       "      <td>1757.0</td>\n",
       "      <td>0</td>\n",
       "      <td>0</td>\n",
       "      <td>...</td>\n",
       "      <td>0</td>\n",
       "      <td>0</td>\n",
       "      <td>0</td>\n",
       "      <td>0</td>\n",
       "      <td>0</td>\n",
       "      <td>0</td>\n",
       "      <td>0</td>\n",
       "      <td>0</td>\n",
       "      <td>0</td>\n",
       "      <td>0</td>\n",
       "    </tr>\n",
       "  </tbody>\n",
       "</table>\n",
       "<p>5 rows × 118 columns</p>\n",
       "</div>"
      ],
      "text/plain": [
       "   Years Exp.  Year Built  Length  Hull Limit  # Engines  num_claims  Age  \\\n",
       "0         2.0      1997.0    63.0    500000.0        2.0         0.0   73   \n",
       "1        22.0      2006.0    61.0   1275000.0        2.0         0.0   69   \n",
       "2        30.0      2001.0    48.0    400000.0        2.0         0.0   78   \n",
       "3        20.0      1973.0    32.0     35000.0        0.0         0.0   44   \n",
       "4        30.0      1989.0    43.0    200000.0        1.0         0.0   70   \n",
       "\n",
       "   policy_length  New/Renl/Endt/Canc/Flat_endt  \\\n",
       "0         1759.0                             0   \n",
       "1         1772.0                             0   \n",
       "2         1760.0                             0   \n",
       "3         1760.0                             0   \n",
       "4         1757.0                             0   \n",
       "\n",
       "   New/Renl/Endt/Canc/Flat_endt-canc  ...  Mooring County_sarasota  \\\n",
       "0                                  0  ...                        0   \n",
       "1                                  0  ...                        0   \n",
       "2                                  0  ...                        0   \n",
       "3                                  0  ...                        0   \n",
       "4                                  0  ...                        0   \n",
       "\n",
       "   Mooring County_sinaloa  Mooring County_skagit  Mooring County_sonora  \\\n",
       "0                       0                      0                      0   \n",
       "1                       0                      0                      0   \n",
       "2                       0                      0                      0   \n",
       "3                       0                      0                      0   \n",
       "4                       0                      0                      0   \n",
       "\n",
       "   Mooring County_south pacific  Mooring County_st. johns  \\\n",
       "0                             0                         0   \n",
       "1                             0                         0   \n",
       "2                             0                         0   \n",
       "3                             0                         0   \n",
       "4                             0                         0   \n",
       "\n",
       "   Mooring County_st. lucie  Mooring County_ventura  Mooring County_volusia  \\\n",
       "0                         0                       0                       0   \n",
       "1                         0                       0                       0   \n",
       "2                         0                       0                       0   \n",
       "3                         0                       0                       0   \n",
       "4                         0                       0                       0   \n",
       "\n",
       "   Mooring County_whatcom  \n",
       "0                       0  \n",
       "1                       0  \n",
       "2                       0  \n",
       "3                       0  \n",
       "4                       0  \n",
       "\n",
       "[5 rows x 118 columns]"
      ]
     },
     "execution_count": 3,
     "metadata": {},
     "output_type": "execute_result"
    }
   ],
   "source": [
    "combined = pd.read_csv('../datasets/combined2.csv')\n",
    "\n",
    "combined.head()"
   ]
  },
  {
   "cell_type": "markdown",
   "metadata": {},
   "source": [
    "---"
   ]
  },
  {
   "cell_type": "markdown",
   "metadata": {},
   "source": [
    "# MODELING: Multiclass Classification"
   ]
  },
  {
   "cell_type": "markdown",
   "metadata": {},
   "source": [
    "**BELOW:** Initially we wanted to see if we could do a multiclass classification model to predict whether a boat might have 0, 1, 2, or 3 claims. Unfortunately, with so few examples for our models to train on for 2 or 3 claims, we decided to move forward with just binary (having 0 or at least 1 claim)."
   ]
  },
  {
   "cell_type": "markdown",
   "metadata": {},
   "source": [
    "#### Establish a baseline\n",
    "\n",
    "0 claims = 92%<br>\n",
    "1 claim = 6.6%<br>\n",
    "2 claims = 1%<br>\n",
    "3 claims = 0.2%<br>"
   ]
  },
  {
   "cell_type": "code",
   "execution_count": 4,
   "metadata": {},
   "outputs": [
    {
     "data": {
      "text/plain": [
       "0.0    5836\n",
       "1.0     421\n",
       "2.0      68\n",
       "3.0      15\n",
       "Name: num_claims, dtype: int64"
      ]
     },
     "execution_count": 4,
     "metadata": {},
     "output_type": "execute_result"
    }
   ],
   "source": [
    "combined['num_claims'].value_counts()"
   ]
  },
  {
   "cell_type": "code",
   "execution_count": 5,
   "metadata": {},
   "outputs": [
    {
     "data": {
      "text/plain": [
       "0.0    0.920505\n",
       "1.0    0.066404\n",
       "2.0    0.010726\n",
       "3.0    0.002366\n",
       "Name: num_claims, dtype: float64"
      ]
     },
     "execution_count": 5,
     "metadata": {},
     "output_type": "execute_result"
    }
   ],
   "source": [
    "combined['num_claims'].value_counts(normalize=True)"
   ]
  },
  {
   "cell_type": "code",
   "execution_count": 6,
   "metadata": {},
   "outputs": [
    {
     "data": {
      "text/plain": [
       "0       0\n",
       "1       0\n",
       "2       0\n",
       "3       0\n",
       "4       0\n",
       "       ..\n",
       "6335    0\n",
       "6336    0\n",
       "6337    0\n",
       "6338    0\n",
       "6339    0\n",
       "Name: num_claims, Length: 6340, dtype: int64"
      ]
     },
     "execution_count": 6,
     "metadata": {},
     "output_type": "execute_result"
    }
   ],
   "source": [
    "combined['num_claims'].astype(int)"
   ]
  },
  {
   "cell_type": "markdown",
   "metadata": {},
   "source": [
    "### Train/Test split"
   ]
  },
  {
   "cell_type": "code",
   "execution_count": 7,
   "metadata": {},
   "outputs": [],
   "source": [
    "X = combined.drop(columns=['num_claims'])\n",
    "y = combined['num_claims']\n",
    "X_train, X_test, y_train, y_test = train_test_split(X, y, test_size=.2, random_state=42, stratify=y)"
   ]
  },
  {
   "cell_type": "markdown",
   "metadata": {},
   "source": [
    "## 4 MODELS: KNN, Logistic Regression, Random Forest, Extra Trees\n",
    "---"
   ]
  },
  {
   "cell_type": "markdown",
   "metadata": {},
   "source": [
    "### StandardScaler"
   ]
  },
  {
   "cell_type": "code",
   "execution_count": 8,
   "metadata": {},
   "outputs": [],
   "source": [
    "ss = StandardScaler()\n",
    "X_train_sc = ss.fit_transform(X_train)\n",
    "X_test_sc = ss.transform(X_test)"
   ]
  },
  {
   "cell_type": "markdown",
   "metadata": {},
   "source": [
    "### Instantiate and fit 4 models"
   ]
  },
  {
   "cell_type": "code",
   "execution_count": 9,
   "metadata": {},
   "outputs": [],
   "source": [
    "knn = KNeighborsClassifier()\n",
    "knn.fit(X_train_sc, y_train)\n",
    "knn_pred = knn.predict(X_test_sc)\n",
    "\n",
    "lr = LogisticRegression(max_iter=500,random_state=42)\n",
    "lr.fit(X_train_sc, y_train)\n",
    "lr_pred = lr.predict(X_test_sc)\n",
    "\n",
    "rf = RandomForestClassifier(n_estimators=100,random_state=42)\n",
    "rf.fit(X_train_sc, y_train)\n",
    "rf_pred = rf.predict(X_test_sc)\n",
    "\n",
    "et = ExtraTreesClassifier(n_estimators=100,random_state=42)\n",
    "et.fit(X_train_sc, y_train)\n",
    "et_pred = et.predict(X_test_sc)"
   ]
  },
  {
   "cell_type": "markdown",
   "metadata": {},
   "source": [
    "### Get model results"
   ]
  },
  {
   "cell_type": "code",
   "execution_count": 10,
   "metadata": {},
   "outputs": [
    {
     "name": "stdout",
     "output_type": "stream",
     "text": [
      "              precision    recall  f1-score   support\n",
      "\n",
      "         0.0      0.928     0.989     0.957      1167\n",
      "         1.0      0.294     0.060     0.099        84\n",
      "         2.0      0.600     0.214     0.316        14\n",
      "         3.0      1.000     0.667     0.800         3\n",
      "\n",
      "    accuracy                          0.918      1268\n",
      "   macro avg      0.705     0.482     0.543      1268\n",
      "weighted avg      0.882     0.918     0.893      1268\n",
      "\n"
     ]
    }
   ],
   "source": [
    "print(classification_report(y_test, knn_pred, digits=3))"
   ]
  },
  {
   "cell_type": "code",
   "execution_count": 11,
   "metadata": {},
   "outputs": [
    {
     "name": "stdout",
     "output_type": "stream",
     "text": [
      "              precision    recall  f1-score   support\n",
      "\n",
      "         0.0      0.923     0.999     0.960      1167\n",
      "         1.0      0.000     0.000     0.000        84\n",
      "         2.0      0.000     0.000     0.000        14\n",
      "         3.0      1.000     1.000     1.000         3\n",
      "\n",
      "    accuracy                          0.922      1268\n",
      "   macro avg      0.481     0.500     0.490      1268\n",
      "weighted avg      0.852     0.922     0.886      1268\n",
      "\n"
     ]
    }
   ],
   "source": [
    "print(classification_report(y_test, lr_pred, digits=3))"
   ]
  },
  {
   "cell_type": "code",
   "execution_count": 12,
   "metadata": {},
   "outputs": [
    {
     "name": "stdout",
     "output_type": "stream",
     "text": [
      "              precision    recall  f1-score   support\n",
      "\n",
      "         0.0      0.940     0.996     0.967      1167\n",
      "         1.0      0.667     0.119     0.202        84\n",
      "         2.0      1.000     1.000     1.000        14\n",
      "         3.0      1.000     1.000     1.000         3\n",
      "\n",
      "    accuracy                          0.938      1268\n",
      "   macro avg      0.902     0.779     0.792      1268\n",
      "weighted avg      0.923     0.938     0.917      1268\n",
      "\n"
     ]
    }
   ],
   "source": [
    "print(classification_report(y_test, rf_pred, digits=3))"
   ]
  },
  {
   "cell_type": "code",
   "execution_count": 13,
   "metadata": {},
   "outputs": [
    {
     "name": "stdout",
     "output_type": "stream",
     "text": [
      "              precision    recall  f1-score   support\n",
      "\n",
      "         0.0      0.940     0.986     0.963      1167\n",
      "         1.0      0.400     0.119     0.183        84\n",
      "         2.0      0.875     1.000     0.933        14\n",
      "         3.0      1.000     1.000     1.000         3\n",
      "\n",
      "    accuracy                          0.929      1268\n",
      "   macro avg      0.804     0.776     0.770      1268\n",
      "weighted avg      0.904     0.929     0.911      1268\n",
      "\n"
     ]
    }
   ],
   "source": [
    "print(classification_report(y_test, et_pred, digits=3))"
   ]
  },
  {
   "cell_type": "markdown",
   "metadata": {},
   "source": [
    "**INTERPRETATION:** Looking at these scores we can tell that the model is overfitting to 2 and 3 claims. The models are very good at identifying these minority classes but that's because "
   ]
  },
  {
   "cell_type": "markdown",
   "metadata": {},
   "source": [
    "---\n",
    "# MODELING: Binary Classification"
   ]
  },
  {
   "cell_type": "markdown",
   "metadata": {},
   "source": [
    "**Set up for all models**<br>\n",
    "1. Create binary class column<br>\n",
    "2. Define X, y<br>\n",
    "3. Scale X, y<br>\n",
    "4. Train, test, split<br>\n",
    "\n",
    "**Normal Modeling**<br>\n",
    "1. Test models (KNN, Random Forest,  ExtraTrees, Logistic Regression, LinearSVM)<br>\n",
    "2. Get micro-f1 scores for each model and add to a table to compare<br>\n",
    "\n",
    "**With OverSampling**<br>\n",
    "1. Instantiate RandomOverSampler<br>\n",
    "2. Fit training data on oversampler<br>\n",
    "3. Test same models w/ same parameters<br>\n",
    "4. Get f1 scores and add to a table to compare<br>\n",
    "\n",
    "**With OverSampling and Undersampling**<br>\n",
    "1. Instantiate RandomOverSampler, fit.\n",
    "2. Instantiate UnderOverSampler, fit.\n",
    "3. Test same models w/ same parameters<br>\n",
    "4. Get f1 scores and add to a table to compare<br>\n",
    "\n",
    "**With SMOTE**<br>\n",
    "1. Instantiate SMOTE, fit.<br>\n",
    "2. Test same models w/ same parameters<br>\n",
    "3. Get f1 scores and add to a table to compare<br>"
   ]
  },
  {
   "cell_type": "markdown",
   "metadata": {},
   "source": [
    "#### Establish a baseline\n",
    "\n",
    "0 claims = 92%<br>\n",
    "At least 1 claim = 7.9%<br>"
   ]
  },
  {
   "cell_type": "code",
   "execution_count": 14,
   "metadata": {},
   "outputs": [
    {
     "data": {
      "text/plain": [
       "0    0.920505\n",
       "1    0.079495\n",
       "Name: binary, dtype: float64"
      ]
     },
     "execution_count": 14,
     "metadata": {},
     "output_type": "execute_result"
    }
   ],
   "source": [
    "# Create a column for binary classification\n",
    "combined['binary'] = [1 if x > 0 else 0 for x in combined['num_claims']]\n",
    "combined['binary'].value_counts(normalize=True)"
   ]
  },
  {
   "cell_type": "code",
   "execution_count": 15,
   "metadata": {},
   "outputs": [
    {
     "data": {
      "text/plain": [
       "0    5836\n",
       "1     504\n",
       "Name: binary, dtype: int64"
      ]
     },
     "execution_count": 15,
     "metadata": {},
     "output_type": "execute_result"
    }
   ],
   "source": [
    "combined['binary'].value_counts()"
   ]
  },
  {
   "cell_type": "markdown",
   "metadata": {},
   "source": [
    "**BELOW:** We decided the most important metric to track would be recall. This is because we are interested in predicting claims, the minority class. We concluded we would rather wrongly predict a boat would have a claim and it not than wrongly predict a boat would not have a claim and it have one. In addition, we are tracking accuracy to keep an eye on the model's bias/variance, and f1 score (a combination of precision and recall)."
   ]
  },
  {
   "cell_type": "code",
   "execution_count": 16,
   "metadata": {},
   "outputs": [
    {
     "data": {
      "text/html": [
       "<div>\n",
       "<style scoped>\n",
       "    .dataframe tbody tr th:only-of-type {\n",
       "        vertical-align: middle;\n",
       "    }\n",
       "\n",
       "    .dataframe tbody tr th {\n",
       "        vertical-align: top;\n",
       "    }\n",
       "\n",
       "    .dataframe thead th {\n",
       "        text-align: right;\n",
       "    }\n",
       "</style>\n",
       "<table border=\"1\" class=\"dataframe\">\n",
       "  <thead>\n",
       "    <tr style=\"text-align: right;\">\n",
       "      <th></th>\n",
       "      <th>Accuracy</th>\n",
       "      <th>Recall</th>\n",
       "      <th>Weighted F1 Score</th>\n",
       "    </tr>\n",
       "  </thead>\n",
       "  <tbody>\n",
       "  </tbody>\n",
       "</table>\n",
       "</div>"
      ],
      "text/plain": [
       "Empty DataFrame\n",
       "Columns: [Accuracy, Recall, Weighted F1 Score]\n",
       "Index: []"
      ]
     },
     "execution_count": 16,
     "metadata": {},
     "output_type": "execute_result"
    }
   ],
   "source": [
    "# Create an empty df to input scores from models\n",
    "binary_scores = pd.DataFrame(columns=['Accuracy', 'Recall','Weighted F1 Score'])\n",
    "binary_scores"
   ]
  },
  {
   "cell_type": "markdown",
   "metadata": {},
   "source": [
    "### Prep the models for testing\n",
    "---"
   ]
  },
  {
   "cell_type": "markdown",
   "metadata": {},
   "source": [
    "### Train/test split"
   ]
  },
  {
   "cell_type": "code",
   "execution_count": 17,
   "metadata": {},
   "outputs": [],
   "source": [
    "X = combined.drop(columns=['num_claims','binary'])\n",
    "y = combined['binary']\n",
    "X_train, X_test, y_train, y_test = train_test_split(X, y, test_size=.2, random_state=42, stratify=y)"
   ]
  },
  {
   "cell_type": "markdown",
   "metadata": {},
   "source": [
    "### Scale the data"
   ]
  },
  {
   "cell_type": "code",
   "execution_count": 18,
   "metadata": {},
   "outputs": [],
   "source": [
    "ss = StandardScaler()\n",
    "X_train_sc = ss.fit_transform(X_train)\n",
    "X_test_sc = ss.transform(X_test)"
   ]
  },
  {
   "cell_type": "markdown",
   "metadata": {},
   "source": [
    "## 4 MODELS: KNN, Logistic Regression, Random Forest, Extra Trees\n",
    "---"
   ]
  },
  {
   "cell_type": "code",
   "execution_count": 19,
   "metadata": {},
   "outputs": [],
   "source": [
    "# Using the scaled data, instantiate, fit, and generate predictions for the 4 models\n",
    "\n",
    "knn = KNeighborsClassifier()\n",
    "knn.fit(X_train_sc, y_train)\n",
    "knn_pred = knn.predict(X_test_sc)\n",
    "\n",
    "lr = LogisticRegression(random_state=42)\n",
    "lr.fit(X_train_sc, y_train)\n",
    "lr_pred = lr.predict(X_test_sc)\n",
    "\n",
    "rf = RandomForestClassifier(n_estimators=100,random_state=42)\n",
    "rf.fit(X_train_sc, y_train)\n",
    "rf_pred = rf.predict(X_test_sc)\n",
    "\n",
    "et = ExtraTreesClassifier(n_estimators=100,random_state=42)\n",
    "et.fit(X_train_sc, y_train)\n",
    "et_pred = et.predict(X_test_sc)"
   ]
  },
  {
   "cell_type": "code",
   "execution_count": 20,
   "metadata": {},
   "outputs": [
    {
     "data": {
      "text/html": [
       "<div>\n",
       "<style scoped>\n",
       "    .dataframe tbody tr th:only-of-type {\n",
       "        vertical-align: middle;\n",
       "    }\n",
       "\n",
       "    .dataframe tbody tr th {\n",
       "        vertical-align: top;\n",
       "    }\n",
       "\n",
       "    .dataframe thead th {\n",
       "        text-align: right;\n",
       "    }\n",
       "</style>\n",
       "<table border=\"1\" class=\"dataframe\">\n",
       "  <thead>\n",
       "    <tr style=\"text-align: right;\">\n",
       "      <th></th>\n",
       "      <th>Accuracy</th>\n",
       "      <th>Recall</th>\n",
       "      <th>Weighted F1 Score</th>\n",
       "    </tr>\n",
       "  </thead>\n",
       "  <tbody>\n",
       "    <tr>\n",
       "      <th>KNN(plain)</th>\n",
       "      <td>0.912461</td>\n",
       "      <td>0.128713</td>\n",
       "      <td>0.892880</td>\n",
       "    </tr>\n",
       "    <tr>\n",
       "      <th>LR(plain)</th>\n",
       "      <td>0.918770</td>\n",
       "      <td>0.000000</td>\n",
       "      <td>0.881385</td>\n",
       "    </tr>\n",
       "    <tr>\n",
       "      <th>RF(plain)</th>\n",
       "      <td>0.936120</td>\n",
       "      <td>0.227723</td>\n",
       "      <td>0.918252</td>\n",
       "    </tr>\n",
       "    <tr>\n",
       "      <th>ET(plain)</th>\n",
       "      <td>0.925868</td>\n",
       "      <td>0.247525</td>\n",
       "      <td>0.911837</td>\n",
       "    </tr>\n",
       "  </tbody>\n",
       "</table>\n",
       "</div>"
      ],
      "text/plain": [
       "            Accuracy    Recall  Weighted F1 Score\n",
       "KNN(plain)  0.912461  0.128713           0.892880\n",
       "LR(plain)   0.918770  0.000000           0.881385\n",
       "RF(plain)   0.936120  0.227723           0.918252\n",
       "ET(plain)   0.925868  0.247525           0.911837"
      ]
     },
     "execution_count": 20,
     "metadata": {},
     "output_type": "execute_result"
    }
   ],
   "source": [
    "# Add the three scores we're tracking to the results data table\n",
    "\n",
    "regular_knn = pd.Series(data=[accuracy_score(y_test, knn_pred), recall_score(y_test, knn_pred),\n",
    "                              f1_score(y_test, knn_pred ,average='weighted')], index=binary_scores.columns, name = 'KNN(plain)')\n",
    "\n",
    "regular_lr = pd.Series(data=[accuracy_score(y_test, lr_pred), recall_score(y_test, lr_pred),\n",
    "                              f1_score(y_test, lr_pred ,average='weighted')], index=binary_scores.columns, name = 'LR(plain)')\n",
    "\n",
    "regular_rf = pd.Series(data=[accuracy_score(y_test, rf_pred), recall_score(y_test, rf_pred),\n",
    "                              f1_score(y_test, rf_pred ,average='weighted')], index=binary_scores.columns, name = 'RF(plain)')\n",
    "\n",
    "regular_et = pd.Series(data=[accuracy_score(y_test, et_pred), recall_score(y_test, et_pred),\n",
    "                              f1_score(y_test, et_pred ,average='weighted')], index=binary_scores.columns, name = 'ET(plain)')\n",
    "\n",
    "binary_scores = binary_scores.append([regular_knn, regular_lr, regular_rf, regular_et])\n",
    "\n",
    "binary_scores"
   ]
  },
  {
   "cell_type": "markdown",
   "metadata": {},
   "source": [
    "**INTERPRETATION:** While the accuracy score seems high this is misleading. Our majority class baseilne is 92% so essentially these models all predict the majority class but aren't great at predicting claims."
   ]
  },
  {
   "cell_type": "markdown",
   "metadata": {},
   "source": [
    "## WITH OVERSAMPLING"
   ]
  },
  {
   "cell_type": "markdown",
   "metadata": {},
   "source": [
    "**BELOW:** In order to combat the small proportion of minority class compared to majority class, we are testing out a few methods of over and undersampling. First, we will begin by oversampling the minority class only."
   ]
  },
  {
   "cell_type": "markdown",
   "metadata": {},
   "source": [
    "### Check the imbalance of the two classes"
   ]
  },
  {
   "cell_type": "code",
   "execution_count": 21,
   "metadata": {},
   "outputs": [
    {
     "data": {
      "text/plain": [
       "Counter({0: 4669, 1: 403})"
      ]
     },
     "execution_count": 21,
     "metadata": {},
     "output_type": "execute_result"
    }
   ],
   "source": [
    "counter = Counter(y_train)\n",
    "counter"
   ]
  },
  {
   "cell_type": "markdown",
   "metadata": {},
   "source": [
    "### Instantiate RandomOverSampler"
   ]
  },
  {
   "cell_type": "markdown",
   "metadata": {},
   "source": [
    "**BELOW:** The randomoversampler simply randomly chooses values from the training dataset to duplicate until you reach the chosen ratio. We chose to sample enough times to bring the minority class to 20% of the majority class."
   ]
  },
  {
   "cell_type": "code",
   "execution_count": 22,
   "metadata": {},
   "outputs": [],
   "source": [
    "# ref: https://beckernick.github.io/oversampling-modeling/\n",
    "\n",
    "over = RandomOverSampler(sampling_strategy=0.2, random_state=42)\n",
    "X_over, y_over = over.fit_resample(X_train_sc,y_train)"
   ]
  },
  {
   "cell_type": "code",
   "execution_count": 23,
   "metadata": {},
   "outputs": [
    {
     "data": {
      "text/plain": [
       "Counter({0: 4669, 1: 933})"
      ]
     },
     "execution_count": 23,
     "metadata": {},
     "output_type": "execute_result"
    }
   ],
   "source": [
    "over_counter = Counter(y_over)\n",
    "over_counter"
   ]
  },
  {
   "cell_type": "markdown",
   "metadata": {},
   "source": [
    "### Fit the models"
   ]
  },
  {
   "cell_type": "code",
   "execution_count": 24,
   "metadata": {},
   "outputs": [],
   "source": [
    "knn = KNeighborsClassifier()\n",
    "knn.fit(X_over, y_over)\n",
    "knn_pred = knn.predict(X_test_sc)\n",
    "\n",
    "lr = LogisticRegression(random_state=42)\n",
    "lr.fit(X_over, y_over)\n",
    "lr_pred = lr.predict(X_test_sc)\n",
    "\n",
    "rf = RandomForestClassifier(n_estimators=100,random_state=42)\n",
    "rf.fit(X_over, y_over)\n",
    "rf_pred = rf.predict(X_test_sc)\n",
    "\n",
    "et = ExtraTreesClassifier(n_estimators=100,random_state=42)\n",
    "et.fit(X_over, y_over)\n",
    "et_pred = et.predict(X_test_sc)"
   ]
  },
  {
   "cell_type": "markdown",
   "metadata": {},
   "source": [
    "### Add the results"
   ]
  },
  {
   "cell_type": "code",
   "execution_count": 25,
   "metadata": {},
   "outputs": [
    {
     "data": {
      "text/html": [
       "<div>\n",
       "<style scoped>\n",
       "    .dataframe tbody tr th:only-of-type {\n",
       "        vertical-align: middle;\n",
       "    }\n",
       "\n",
       "    .dataframe tbody tr th {\n",
       "        vertical-align: top;\n",
       "    }\n",
       "\n",
       "    .dataframe thead th {\n",
       "        text-align: right;\n",
       "    }\n",
       "</style>\n",
       "<table border=\"1\" class=\"dataframe\">\n",
       "  <thead>\n",
       "    <tr style=\"text-align: right;\">\n",
       "      <th></th>\n",
       "      <th>Accuracy</th>\n",
       "      <th>Recall</th>\n",
       "      <th>Weighted F1 Score</th>\n",
       "    </tr>\n",
       "  </thead>\n",
       "  <tbody>\n",
       "    <tr>\n",
       "      <th>KNN(plain)</th>\n",
       "      <td>0.912461</td>\n",
       "      <td>0.128713</td>\n",
       "      <td>0.892880</td>\n",
       "    </tr>\n",
       "    <tr>\n",
       "      <th>LR(plain)</th>\n",
       "      <td>0.918770</td>\n",
       "      <td>0.000000</td>\n",
       "      <td>0.881385</td>\n",
       "    </tr>\n",
       "    <tr>\n",
       "      <th>RF(plain)</th>\n",
       "      <td>0.936120</td>\n",
       "      <td>0.227723</td>\n",
       "      <td>0.918252</td>\n",
       "    </tr>\n",
       "    <tr>\n",
       "      <th>ET(plain)</th>\n",
       "      <td>0.925868</td>\n",
       "      <td>0.247525</td>\n",
       "      <td>0.911837</td>\n",
       "    </tr>\n",
       "    <tr>\n",
       "      <th>KNN(oversample)</th>\n",
       "      <td>0.864353</td>\n",
       "      <td>0.336634</td>\n",
       "      <td>0.873969</td>\n",
       "    </tr>\n",
       "    <tr>\n",
       "      <th>LR(oversample)</th>\n",
       "      <td>0.896688</td>\n",
       "      <td>0.059406</td>\n",
       "      <td>0.876649</td>\n",
       "    </tr>\n",
       "    <tr>\n",
       "      <th>RF(oversample)</th>\n",
       "      <td>0.931388</td>\n",
       "      <td>0.247525</td>\n",
       "      <td>0.916041</td>\n",
       "    </tr>\n",
       "    <tr>\n",
       "      <th>ET(oversample)</th>\n",
       "      <td>0.923502</td>\n",
       "      <td>0.247525</td>\n",
       "      <td>0.910071</td>\n",
       "    </tr>\n",
       "  </tbody>\n",
       "</table>\n",
       "</div>"
      ],
      "text/plain": [
       "                 Accuracy    Recall  Weighted F1 Score\n",
       "KNN(plain)       0.912461  0.128713           0.892880\n",
       "LR(plain)        0.918770  0.000000           0.881385\n",
       "RF(plain)        0.936120  0.227723           0.918252\n",
       "ET(plain)        0.925868  0.247525           0.911837\n",
       "KNN(oversample)  0.864353  0.336634           0.873969\n",
       "LR(oversample)   0.896688  0.059406           0.876649\n",
       "RF(oversample)   0.931388  0.247525           0.916041\n",
       "ET(oversample)   0.923502  0.247525           0.910071"
      ]
     },
     "execution_count": 25,
     "metadata": {},
     "output_type": "execute_result"
    }
   ],
   "source": [
    "over_knn = pd.Series(data=[accuracy_score(y_test, knn_pred), recall_score(y_test, knn_pred),\n",
    "                              f1_score(y_test, knn_pred ,average='weighted')], index=binary_scores.columns, name = 'KNN(oversample)')\n",
    "\n",
    "over_lr = pd.Series(data=[accuracy_score(y_test, lr_pred), recall_score(y_test, lr_pred),\n",
    "                              f1_score(y_test, lr_pred ,average='weighted')], index=binary_scores.columns, name = 'LR(oversample)')\n",
    "\n",
    "over_rf = pd.Series(data=[accuracy_score(y_test, rf_pred), recall_score(y_test, rf_pred),\n",
    "                              f1_score(y_test, rf_pred ,average='weighted')], index=binary_scores.columns, name = 'RF(oversample)')\n",
    "\n",
    "over_et = pd.Series(data=[accuracy_score(y_test, et_pred), recall_score(y_test, et_pred),\n",
    "                              f1_score(y_test, et_pred ,average='weighted')], index=binary_scores.columns, name = 'ET(oversample)')\n",
    "\n",
    "binary_scores = binary_scores.append([over_knn, over_lr, over_rf, over_et])\n",
    "\n",
    "binary_scores"
   ]
  },
  {
   "cell_type": "markdown",
   "metadata": {},
   "source": [
    "**INTERPRETATION:** This method seemed to improve the recall in our KNN, LR, and RF models, but we decided to test another method to increase them even more."
   ]
  },
  {
   "cell_type": "markdown",
   "metadata": {},
   "source": [
    "### WITH SMOTE OVERSAMPLING AND RANDOM UNDER SAMPLING"
   ]
  },
  {
   "cell_type": "markdown",
   "metadata": {},
   "source": [
    "**BELOW:** For this method we decided to both oversample and undersample. First, we oversampled the minority class again, but we used SMOTE. Instead of simply duplicating randomly from the minority class like above, SMOTE generates fake observations for the minority class by using k-nearest-neighbors to find similar observations and then slightly tweaks them. We decided to increase the ratio to 10% for the minority class through oversampling. Then we used RandomUnderSampler to undersample the majority class and bring the ratio to 2:1 between majority and minority classes."
   ]
  },
  {
   "cell_type": "markdown",
   "metadata": {},
   "source": [
    "### Set up a pipeline with SMOTE and undersampling"
   ]
  },
  {
   "cell_type": "code",
   "execution_count": 26,
   "metadata": {},
   "outputs": [],
   "source": [
    "# Set up the pipeline\n",
    "# ref: https://pypi.org/project/imbalanced-learn/\n",
    "# ref: https://machinelearningmastery.com/random-oversampling-and-undersampling-for-imbalanced-classification/\n",
    "\n",
    "over = SMOTE(sampling_strategy=0.1,random_state=42)\n",
    "under = RandomUnderSampler(sampling_strategy=0.5,random_state=42)\n",
    "steps = [('o', over), ('u', under)]\n",
    "pipeline = Pipeline(steps=steps)"
   ]
  },
  {
   "cell_type": "code",
   "execution_count": 27,
   "metadata": {},
   "outputs": [],
   "source": [
    "# fit the pipeline\n",
    "X_sm_und, y_sm_und = pipeline.fit_resample(X_train_sc, y_train)"
   ]
  },
  {
   "cell_type": "code",
   "execution_count": 28,
   "metadata": {},
   "outputs": [
    {
     "data": {
      "text/plain": [
       "Counter({0: 932, 1: 466})"
      ]
     },
     "execution_count": 28,
     "metadata": {},
     "output_type": "execute_result"
    }
   ],
   "source": [
    "# Find the ratio after over/undersampling\n",
    "counter_5 = Counter(y_sm_und)\n",
    "counter_5"
   ]
  },
  {
   "cell_type": "markdown",
   "metadata": {},
   "source": [
    "### Fit the models"
   ]
  },
  {
   "cell_type": "code",
   "execution_count": 29,
   "metadata": {},
   "outputs": [],
   "source": [
    "knn = KNeighborsClassifier()\n",
    "knn.fit(X_sm_und, y_sm_und)\n",
    "knn_pred = knn.predict(X_test_sc)\n",
    "\n",
    "lr = LogisticRegression(random_state=42)\n",
    "lr.fit(X_sm_und, y_sm_und)\n",
    "lr_pred = lr.predict(X_test_sc)\n",
    "\n",
    "rf = RandomForestClassifier(n_estimators=100,random_state=42)\n",
    "rf.fit(X_sm_und, y_sm_und)\n",
    "rf_pred = rf.predict(X_test_sc)\n",
    "\n",
    "et = ExtraTreesClassifier(n_estimators=100,random_state=42)\n",
    "et.fit(X_sm_und, y_sm_und)\n",
    "et_pred = et.predict(X_test_sc)"
   ]
  },
  {
   "cell_type": "markdown",
   "metadata": {},
   "source": [
    "### Add the results"
   ]
  },
  {
   "cell_type": "code",
   "execution_count": 30,
   "metadata": {},
   "outputs": [
    {
     "data": {
      "text/html": [
       "<div>\n",
       "<style scoped>\n",
       "    .dataframe tbody tr th:only-of-type {\n",
       "        vertical-align: middle;\n",
       "    }\n",
       "\n",
       "    .dataframe tbody tr th {\n",
       "        vertical-align: top;\n",
       "    }\n",
       "\n",
       "    .dataframe thead th {\n",
       "        text-align: right;\n",
       "    }\n",
       "</style>\n",
       "<table border=\"1\" class=\"dataframe\">\n",
       "  <thead>\n",
       "    <tr style=\"text-align: right;\">\n",
       "      <th></th>\n",
       "      <th>Accuracy</th>\n",
       "      <th>Recall</th>\n",
       "      <th>Weighted F1 Score</th>\n",
       "    </tr>\n",
       "  </thead>\n",
       "  <tbody>\n",
       "    <tr>\n",
       "      <th>KNN(plain)</th>\n",
       "      <td>0.912461</td>\n",
       "      <td>0.128713</td>\n",
       "      <td>0.892880</td>\n",
       "    </tr>\n",
       "    <tr>\n",
       "      <th>LR(plain)</th>\n",
       "      <td>0.918770</td>\n",
       "      <td>0.000000</td>\n",
       "      <td>0.881385</td>\n",
       "    </tr>\n",
       "    <tr>\n",
       "      <th>RF(plain)</th>\n",
       "      <td>0.936120</td>\n",
       "      <td>0.227723</td>\n",
       "      <td>0.918252</td>\n",
       "    </tr>\n",
       "    <tr>\n",
       "      <th>ET(plain)</th>\n",
       "      <td>0.925868</td>\n",
       "      <td>0.247525</td>\n",
       "      <td>0.911837</td>\n",
       "    </tr>\n",
       "    <tr>\n",
       "      <th>KNN(oversample)</th>\n",
       "      <td>0.864353</td>\n",
       "      <td>0.336634</td>\n",
       "      <td>0.873969</td>\n",
       "    </tr>\n",
       "    <tr>\n",
       "      <th>LR(oversample)</th>\n",
       "      <td>0.896688</td>\n",
       "      <td>0.059406</td>\n",
       "      <td>0.876649</td>\n",
       "    </tr>\n",
       "    <tr>\n",
       "      <th>RF(oversample)</th>\n",
       "      <td>0.931388</td>\n",
       "      <td>0.247525</td>\n",
       "      <td>0.916041</td>\n",
       "    </tr>\n",
       "    <tr>\n",
       "      <th>ET(oversample)</th>\n",
       "      <td>0.923502</td>\n",
       "      <td>0.247525</td>\n",
       "      <td>0.910071</td>\n",
       "    </tr>\n",
       "    <tr>\n",
       "      <th>KNN(SMOTE/Under)</th>\n",
       "      <td>0.759464</td>\n",
       "      <td>0.326733</td>\n",
       "      <td>0.804861</td>\n",
       "    </tr>\n",
       "    <tr>\n",
       "      <th>LR(SMOTE/Under)</th>\n",
       "      <td>0.810726</td>\n",
       "      <td>0.287129</td>\n",
       "      <td>0.837153</td>\n",
       "    </tr>\n",
       "    <tr>\n",
       "      <th>RF(LR(SMOTE/Under))</th>\n",
       "      <td>0.898265</td>\n",
       "      <td>0.366337</td>\n",
       "      <td>0.898494</td>\n",
       "    </tr>\n",
       "    <tr>\n",
       "      <th>ET(LR(SMOTE/Under))</th>\n",
       "      <td>0.869874</td>\n",
       "      <td>0.396040</td>\n",
       "      <td>0.880072</td>\n",
       "    </tr>\n",
       "  </tbody>\n",
       "</table>\n",
       "</div>"
      ],
      "text/plain": [
       "                     Accuracy    Recall  Weighted F1 Score\n",
       "KNN(plain)           0.912461  0.128713           0.892880\n",
       "LR(plain)            0.918770  0.000000           0.881385\n",
       "RF(plain)            0.936120  0.227723           0.918252\n",
       "ET(plain)            0.925868  0.247525           0.911837\n",
       "KNN(oversample)      0.864353  0.336634           0.873969\n",
       "LR(oversample)       0.896688  0.059406           0.876649\n",
       "RF(oversample)       0.931388  0.247525           0.916041\n",
       "ET(oversample)       0.923502  0.247525           0.910071\n",
       "KNN(SMOTE/Under)     0.759464  0.326733           0.804861\n",
       "LR(SMOTE/Under)      0.810726  0.287129           0.837153\n",
       "RF(LR(SMOTE/Under))  0.898265  0.366337           0.898494\n",
       "ET(LR(SMOTE/Under))  0.869874  0.396040           0.880072"
      ]
     },
     "execution_count": 30,
     "metadata": {},
     "output_type": "execute_result"
    }
   ],
   "source": [
    "smote_knn = pd.Series(data=[accuracy_score(y_test, knn_pred), recall_score(y_test, knn_pred),\n",
    "                              f1_score(y_test, knn_pred ,average='weighted')], index=binary_scores.columns, name = 'KNN(SMOTE/Under)')\n",
    "\n",
    "smote_lr = pd.Series(data=[accuracy_score(y_test, lr_pred), recall_score(y_test, lr_pred),\n",
    "                              f1_score(y_test, lr_pred ,average='weighted')], index=binary_scores.columns, name = 'LR(SMOTE/Under)')\n",
    "\n",
    "smote_rf = pd.Series(data=[accuracy_score(y_test, rf_pred), recall_score(y_test, rf_pred),\n",
    "                              f1_score(y_test, rf_pred ,average='weighted')], index=binary_scores.columns, name = 'RF(LR(SMOTE/Under))')\n",
    "\n",
    "smote_et = pd.Series(data=[accuracy_score(y_test, et_pred), recall_score(y_test, et_pred),\n",
    "                              f1_score(y_test, et_pred ,average='weighted')], index=binary_scores.columns, name = 'ET(LR(SMOTE/Under))')\n",
    "\n",
    "binary_scores = binary_scores.append([smote_knn, smote_lr, smote_rf, smote_et])\n",
    "\n",
    "binary_scores"
   ]
  },
  {
   "cell_type": "markdown",
   "metadata": {},
   "source": [
    "**INTERPRETATION:** It looks like my best models use a combination of oversampling using SMOTE and Random Under Sampling.<br>\n",
    "Specifically, Extra Trees and Random Forest performed best (highest recall score).<br>\n",
    "*Reminder Baseline:<br> \n",
    "0 claims = 92%<br>\n",
    "At least 1 claim = 7.9%<br>*"
   ]
  },
  {
   "cell_type": "markdown",
   "metadata": {},
   "source": [
    "---"
   ]
  },
  {
   "cell_type": "markdown",
   "metadata": {},
   "source": [
    "## Look at training/testing scores of models"
   ]
  },
  {
   "cell_type": "code",
   "execution_count": 31,
   "metadata": {},
   "outputs": [
    {
     "name": "stdout",
     "output_type": "stream",
     "text": [
      "KNN(SMOTE/UNDER) Training Results:\n",
      "0.804005722460658\n",
      "0.6738197424892703\n",
      "\n",
      "RF(SMOTE/UNDER) Testing Results:\n",
      "0.7594637223974764\n",
      "0.32673267326732675\n"
     ]
    }
   ],
   "source": [
    "print('KNN(SMOTE/UNDER) Training Results:')\n",
    "print(knn.score(X_sm_und, y_sm_und))\n",
    "print(recall_score(y_sm_und, knn.predict(X_sm_und)))\n",
    "\n",
    "print('\\nRF(SMOTE/UNDER) Testing Results:')\n",
    "print(knn.score(X_test_sc, y_test))\n",
    "print(recall_score(y_test, knn.predict(X_test_sc)))"
   ]
  },
  {
   "cell_type": "code",
   "execution_count": 32,
   "metadata": {},
   "outputs": [
    {
     "name": "stdout",
     "output_type": "stream",
     "text": [
      "LR(SMOTE/UNDER) Training Results:\n",
      "0.7489270386266095\n",
      "0.48068669527896996\n",
      "\n",
      "LR(SMOTE/UNDER) Testing Results:\n",
      "0.8107255520504731\n",
      "0.2871287128712871\n"
     ]
    }
   ],
   "source": [
    "print('LR(SMOTE/UNDER) Training Results:')\n",
    "print(lr.score(X_sm_und, y_sm_und))\n",
    "print(recall_score(y_sm_und, lr.predict(X_sm_und)))\n",
    "\n",
    "print('\\nLR(SMOTE/UNDER) Testing Results:')\n",
    "print(lr.score(X_test_sc, y_test))\n",
    "print(recall_score(y_test, lr.predict(X_test_sc)))"
   ]
  },
  {
   "cell_type": "code",
   "execution_count": 33,
   "metadata": {},
   "outputs": [
    {
     "name": "stdout",
     "output_type": "stream",
     "text": [
      "RF(SMOTE/UNDER) Training Results:\n",
      "1.0\n",
      "1.0\n",
      "\n",
      "RF(SMOTE/UNDER) Testing Results:\n",
      "0.8982649842271293\n",
      "0.36633663366336633\n"
     ]
    }
   ],
   "source": [
    "print('RF(SMOTE/UNDER) Training Results:')\n",
    "print(rf.score(X_sm_und, y_sm_und))\n",
    "print(recall_score(y_sm_und, rf.predict(X_sm_und)))\n",
    "\n",
    "print('\\nRF(SMOTE/UNDER) Testing Results:')\n",
    "print(rf.score(X_test_sc, y_test))\n",
    "print(recall_score(y_test, rf.predict(X_test_sc)))"
   ]
  },
  {
   "cell_type": "code",
   "execution_count": 34,
   "metadata": {},
   "outputs": [
    {
     "name": "stdout",
     "output_type": "stream",
     "text": [
      "ET(SMOTE/UNDER) FIRST Training Results:\n",
      "1.0\n",
      "1.0\n",
      "\n",
      "ET(SMOTE/UNDER) FIRST Testing Results:\n",
      "0.8698738170347003\n",
      "0.39603960396039606\n"
     ]
    }
   ],
   "source": [
    "et1_training_score = et.score(X_sm_und, y_sm_und)\n",
    "et1_recall_training_score = recall_score(y_sm_und, et.predict(X_sm_und))\n",
    "\n",
    "et1_testing_score = et.score(X_test_sc, y_test)\n",
    "et1_recall_testing_score = recall_score(y_test, et.predict(X_test_sc)) \n",
    "\n",
    "print('ET(SMOTE/UNDER) FIRST Training Results:')\n",
    "print(et1_training_score)\n",
    "print(et1_recall_training_score)\n",
    "\n",
    "print('\\nET(SMOTE/UNDER) FIRST Testing Results:')\n",
    "print(et1_testing_score)\n",
    "print(et1_recall_testing_score)"
   ]
  },
  {
   "cell_type": "code",
   "execution_count": 35,
   "metadata": {},
   "outputs": [
    {
     "data": {
      "text/plain": [
       "array([0, 0, 0, 0, 0, 0, 0, 0, 0, 0, 0, 0, 0, 0, 0, 0, 1, 0, 0, 0, 0, 0,\n",
       "       0, 0, 1, 0, 0, 0, 0, 0, 0, 0, 1, 0, 1, 0, 0, 0, 0, 0, 0, 0, 0, 0,\n",
       "       0, 0, 0, 0, 0, 0])"
      ]
     },
     "execution_count": 35,
     "metadata": {},
     "output_type": "execute_result"
    }
   ],
   "source": [
    "et.predict(X_test_sc)[:50]"
   ]
  },
  {
   "cell_type": "code",
   "execution_count": 36,
   "metadata": {},
   "outputs": [
    {
     "data": {
      "text/plain": [
       "array([0, 0, 0, 0, 0, 0, 0, 0, 0, 0, 0, 0, 0, 0, 0, 0, 1, 0, 0, 0, 0, 0,\n",
       "       0, 0, 1, 0, 0, 0, 0, 0, 0, 0, 1, 0, 1, 0, 0, 0, 0, 0, 0, 0, 0, 0,\n",
       "       0, 0, 0, 0, 0, 0])"
      ]
     },
     "execution_count": 36,
     "metadata": {},
     "output_type": "execute_result"
    }
   ],
   "source": [
    "et.predict(X_test_sc)[:50]"
   ]
  },
  {
   "cell_type": "code",
   "execution_count": 37,
   "metadata": {},
   "outputs": [
    {
     "data": {
      "text/plain": [
       "array([[0.69, 0.31],\n",
       "       [0.64, 0.36],\n",
       "       [0.97, 0.03],\n",
       "       [1.  , 0.  ],\n",
       "       [0.93, 0.07],\n",
       "       [0.81, 0.19],\n",
       "       [1.  , 0.  ],\n",
       "       [0.81, 0.19],\n",
       "       [0.82, 0.18],\n",
       "       [0.95, 0.05],\n",
       "       [0.92, 0.08],\n",
       "       [0.98, 0.02],\n",
       "       [0.73, 0.27],\n",
       "       [0.86, 0.14],\n",
       "       [0.76, 0.24],\n",
       "       [0.93, 0.07],\n",
       "       [0.4 , 0.6 ],\n",
       "       [0.73, 0.27],\n",
       "       [0.91, 0.09],\n",
       "       [0.71, 0.29],\n",
       "       [0.85, 0.15],\n",
       "       [0.79, 0.21],\n",
       "       [0.69, 0.31],\n",
       "       [0.92, 0.08],\n",
       "       [0.05, 0.95],\n",
       "       [0.87, 0.13],\n",
       "       [0.96, 0.04],\n",
       "       [0.72, 0.28],\n",
       "       [0.61, 0.39],\n",
       "       [0.96, 0.04],\n",
       "       [0.92, 0.08],\n",
       "       [1.  , 0.  ],\n",
       "       [0.  , 1.  ],\n",
       "       [0.63, 0.37],\n",
       "       [0.48, 0.52],\n",
       "       [0.87, 0.13],\n",
       "       [0.59, 0.41],\n",
       "       [0.64, 0.36],\n",
       "       [0.6 , 0.4 ],\n",
       "       [0.53, 0.47],\n",
       "       [0.91, 0.09],\n",
       "       [0.77, 0.23],\n",
       "       [0.91, 0.09],\n",
       "       [0.88, 0.12],\n",
       "       [0.93, 0.07],\n",
       "       [0.96, 0.04],\n",
       "       [0.93, 0.07],\n",
       "       [0.69, 0.31],\n",
       "       [0.85, 0.15],\n",
       "       [0.93, 0.07]])"
      ]
     },
     "execution_count": 37,
     "metadata": {},
     "output_type": "execute_result"
    }
   ],
   "source": [
    "et.predict_proba(X_test_sc)[:50]"
   ]
  },
  {
   "cell_type": "code",
   "execution_count": 38,
   "metadata": {},
   "outputs": [
    {
     "data": {
      "text/html": [
       "<div>\n",
       "<style scoped>\n",
       "    .dataframe tbody tr th:only-of-type {\n",
       "        vertical-align: middle;\n",
       "    }\n",
       "\n",
       "    .dataframe tbody tr th {\n",
       "        vertical-align: top;\n",
       "    }\n",
       "\n",
       "    .dataframe thead th {\n",
       "        text-align: right;\n",
       "    }\n",
       "</style>\n",
       "<table border=\"1\" class=\"dataframe\">\n",
       "  <thead>\n",
       "    <tr style=\"text-align: right;\">\n",
       "      <th></th>\n",
       "      <th>Accuracy</th>\n",
       "      <th>Recall</th>\n",
       "      <th>Weighted F1 Score</th>\n",
       "    </tr>\n",
       "  </thead>\n",
       "  <tbody>\n",
       "    <tr>\n",
       "      <th>KNN(plain)</th>\n",
       "      <td>0.912461</td>\n",
       "      <td>0.128713</td>\n",
       "      <td>0.892880</td>\n",
       "    </tr>\n",
       "    <tr>\n",
       "      <th>LR(plain)</th>\n",
       "      <td>0.918770</td>\n",
       "      <td>0.000000</td>\n",
       "      <td>0.881385</td>\n",
       "    </tr>\n",
       "    <tr>\n",
       "      <th>RF(plain)</th>\n",
       "      <td>0.936120</td>\n",
       "      <td>0.227723</td>\n",
       "      <td>0.918252</td>\n",
       "    </tr>\n",
       "    <tr>\n",
       "      <th>ET(plain)</th>\n",
       "      <td>0.925868</td>\n",
       "      <td>0.247525</td>\n",
       "      <td>0.911837</td>\n",
       "    </tr>\n",
       "    <tr>\n",
       "      <th>KNN(oversample)</th>\n",
       "      <td>0.864353</td>\n",
       "      <td>0.336634</td>\n",
       "      <td>0.873969</td>\n",
       "    </tr>\n",
       "    <tr>\n",
       "      <th>LR(oversample)</th>\n",
       "      <td>0.896688</td>\n",
       "      <td>0.059406</td>\n",
       "      <td>0.876649</td>\n",
       "    </tr>\n",
       "    <tr>\n",
       "      <th>RF(oversample)</th>\n",
       "      <td>0.931388</td>\n",
       "      <td>0.247525</td>\n",
       "      <td>0.916041</td>\n",
       "    </tr>\n",
       "    <tr>\n",
       "      <th>ET(oversample)</th>\n",
       "      <td>0.923502</td>\n",
       "      <td>0.247525</td>\n",
       "      <td>0.910071</td>\n",
       "    </tr>\n",
       "    <tr>\n",
       "      <th>KNN(SMOTE/Under)</th>\n",
       "      <td>0.759464</td>\n",
       "      <td>0.326733</td>\n",
       "      <td>0.804861</td>\n",
       "    </tr>\n",
       "    <tr>\n",
       "      <th>LR(SMOTE/Under)</th>\n",
       "      <td>0.810726</td>\n",
       "      <td>0.287129</td>\n",
       "      <td>0.837153</td>\n",
       "    </tr>\n",
       "    <tr>\n",
       "      <th>RF(LR(SMOTE/Under))</th>\n",
       "      <td>0.898265</td>\n",
       "      <td>0.366337</td>\n",
       "      <td>0.898494</td>\n",
       "    </tr>\n",
       "    <tr>\n",
       "      <th>ET(LR(SMOTE/Under))</th>\n",
       "      <td>0.869874</td>\n",
       "      <td>0.396040</td>\n",
       "      <td>0.880072</td>\n",
       "    </tr>\n",
       "  </tbody>\n",
       "</table>\n",
       "</div>"
      ],
      "text/plain": [
       "                     Accuracy    Recall  Weighted F1 Score\n",
       "KNN(plain)           0.912461  0.128713           0.892880\n",
       "LR(plain)            0.918770  0.000000           0.881385\n",
       "RF(plain)            0.936120  0.227723           0.918252\n",
       "ET(plain)            0.925868  0.247525           0.911837\n",
       "KNN(oversample)      0.864353  0.336634           0.873969\n",
       "LR(oversample)       0.896688  0.059406           0.876649\n",
       "RF(oversample)       0.931388  0.247525           0.916041\n",
       "ET(oversample)       0.923502  0.247525           0.910071\n",
       "KNN(SMOTE/Under)     0.759464  0.326733           0.804861\n",
       "LR(SMOTE/Under)      0.810726  0.287129           0.837153\n",
       "RF(LR(SMOTE/Under))  0.898265  0.366337           0.898494\n",
       "ET(LR(SMOTE/Under))  0.869874  0.396040           0.880072"
      ]
     },
     "execution_count": 38,
     "metadata": {},
     "output_type": "execute_result"
    }
   ],
   "source": [
    "binary_scores"
   ]
  },
  {
   "cell_type": "markdown",
   "metadata": {},
   "source": [
    "## Logistic Regression with Regularization and SMOTE/Undersampling"
   ]
  },
  {
   "cell_type": "markdown",
   "metadata": {},
   "source": [
    "*I hadn't included any regularization in my logistic regression model and wanted to see how it did.*"
   ]
  },
  {
   "cell_type": "code",
   "execution_count": 39,
   "metadata": {},
   "outputs": [
    {
     "name": "stdout",
     "output_type": "stream",
     "text": [
      "LRCV(SMOTE/UNDER) Training Results:\n",
      "0.7432045779685265\n",
      "0.44420600858369097\n",
      "\n",
      "LRCV(SMOTE/UNDER) Testing Results:\n",
      "0.8264984227129337\n",
      "0.25742574257425743\n"
     ]
    }
   ],
   "source": [
    "logreg_cv = LogisticRegressionCV(Cs=10, cv=5, penalty=\"l1\", solver=\"liblinear\", random_state=42)\n",
    "logreg_cv.fit(X_sm_und, y_sm_und)\n",
    "logreg_cv_pred = logreg_cv.predict(X_test_sc)\n",
    "\n",
    "print('LRCV(SMOTE/UNDER) Training Results:')\n",
    "print(logreg_cv.score(X_sm_und, y_sm_und))\n",
    "print(recall_score(y_sm_und, logreg_cv.predict(X_sm_und)))\n",
    "\n",
    "print('\\nLRCV(SMOTE/UNDER) Testing Results:')\n",
    "print(logreg_cv.score(X_test_sc, y_test))\n",
    "print(recall_score(y_test, logreg_cv.predict(X_test_sc)))"
   ]
  },
  {
   "cell_type": "code",
   "execution_count": 40,
   "metadata": {},
   "outputs": [
    {
     "data": {
      "text/html": [
       "<div>\n",
       "<style scoped>\n",
       "    .dataframe tbody tr th:only-of-type {\n",
       "        vertical-align: middle;\n",
       "    }\n",
       "\n",
       "    .dataframe tbody tr th {\n",
       "        vertical-align: top;\n",
       "    }\n",
       "\n",
       "    .dataframe thead th {\n",
       "        text-align: right;\n",
       "    }\n",
       "</style>\n",
       "<table border=\"1\" class=\"dataframe\">\n",
       "  <thead>\n",
       "    <tr style=\"text-align: right;\">\n",
       "      <th></th>\n",
       "      <th>Accuracy</th>\n",
       "      <th>Recall</th>\n",
       "      <th>Weighted F1 Score</th>\n",
       "    </tr>\n",
       "  </thead>\n",
       "  <tbody>\n",
       "    <tr>\n",
       "      <th>KNN(plain)</th>\n",
       "      <td>0.912461</td>\n",
       "      <td>0.128713</td>\n",
       "      <td>0.892880</td>\n",
       "    </tr>\n",
       "    <tr>\n",
       "      <th>LR(plain)</th>\n",
       "      <td>0.918770</td>\n",
       "      <td>0.000000</td>\n",
       "      <td>0.881385</td>\n",
       "    </tr>\n",
       "    <tr>\n",
       "      <th>RF(plain)</th>\n",
       "      <td>0.936120</td>\n",
       "      <td>0.227723</td>\n",
       "      <td>0.918252</td>\n",
       "    </tr>\n",
       "    <tr>\n",
       "      <th>ET(plain)</th>\n",
       "      <td>0.925868</td>\n",
       "      <td>0.247525</td>\n",
       "      <td>0.911837</td>\n",
       "    </tr>\n",
       "    <tr>\n",
       "      <th>KNN(oversample)</th>\n",
       "      <td>0.864353</td>\n",
       "      <td>0.336634</td>\n",
       "      <td>0.873969</td>\n",
       "    </tr>\n",
       "    <tr>\n",
       "      <th>LR(oversample)</th>\n",
       "      <td>0.896688</td>\n",
       "      <td>0.059406</td>\n",
       "      <td>0.876649</td>\n",
       "    </tr>\n",
       "    <tr>\n",
       "      <th>RF(oversample)</th>\n",
       "      <td>0.931388</td>\n",
       "      <td>0.247525</td>\n",
       "      <td>0.916041</td>\n",
       "    </tr>\n",
       "    <tr>\n",
       "      <th>ET(oversample)</th>\n",
       "      <td>0.923502</td>\n",
       "      <td>0.247525</td>\n",
       "      <td>0.910071</td>\n",
       "    </tr>\n",
       "    <tr>\n",
       "      <th>KNN(SMOTE/Under)</th>\n",
       "      <td>0.759464</td>\n",
       "      <td>0.326733</td>\n",
       "      <td>0.804861</td>\n",
       "    </tr>\n",
       "    <tr>\n",
       "      <th>LR(SMOTE/Under)</th>\n",
       "      <td>0.810726</td>\n",
       "      <td>0.287129</td>\n",
       "      <td>0.837153</td>\n",
       "    </tr>\n",
       "    <tr>\n",
       "      <th>RF(LR(SMOTE/Under))</th>\n",
       "      <td>0.898265</td>\n",
       "      <td>0.366337</td>\n",
       "      <td>0.898494</td>\n",
       "    </tr>\n",
       "    <tr>\n",
       "      <th>ET(LR(SMOTE/Under))</th>\n",
       "      <td>0.869874</td>\n",
       "      <td>0.396040</td>\n",
       "      <td>0.880072</td>\n",
       "    </tr>\n",
       "    <tr>\n",
       "      <th>LRCV(SMOTE/Under)</th>\n",
       "      <td>0.826498</td>\n",
       "      <td>0.257426</td>\n",
       "      <td>0.846142</td>\n",
       "    </tr>\n",
       "  </tbody>\n",
       "</table>\n",
       "</div>"
      ],
      "text/plain": [
       "                     Accuracy    Recall  Weighted F1 Score\n",
       "KNN(plain)           0.912461  0.128713           0.892880\n",
       "LR(plain)            0.918770  0.000000           0.881385\n",
       "RF(plain)            0.936120  0.227723           0.918252\n",
       "ET(plain)            0.925868  0.247525           0.911837\n",
       "KNN(oversample)      0.864353  0.336634           0.873969\n",
       "LR(oversample)       0.896688  0.059406           0.876649\n",
       "RF(oversample)       0.931388  0.247525           0.916041\n",
       "ET(oversample)       0.923502  0.247525           0.910071\n",
       "KNN(SMOTE/Under)     0.759464  0.326733           0.804861\n",
       "LR(SMOTE/Under)      0.810726  0.287129           0.837153\n",
       "RF(LR(SMOTE/Under))  0.898265  0.366337           0.898494\n",
       "ET(LR(SMOTE/Under))  0.869874  0.396040           0.880072\n",
       "LRCV(SMOTE/Under)    0.826498  0.257426           0.846142"
      ]
     },
     "execution_count": 40,
     "metadata": {},
     "output_type": "execute_result"
    }
   ],
   "source": [
    "# Adding results to the results table\n",
    "logregcv_et = pd.Series(data=[accuracy_score(y_test, logreg_cv_pred), recall_score(y_test, logreg_cv_pred),\n",
    "                              f1_score(y_test, logreg_cv_pred ,average='weighted')], index=binary_scores.columns, name = 'LRCV(SMOTE/Under)')\n",
    "\n",
    "binary_scores = binary_scores.append([logregcv_et])\n",
    "\n",
    "binary_scores"
   ]
  },
  {
   "cell_type": "markdown",
   "metadata": {},
   "source": [
    "**INTERPRETATION:** It didn't perform well so we won't be using it moving forward."
   ]
  },
  {
   "cell_type": "markdown",
   "metadata": {},
   "source": [
    "## Look at feature importance from best models"
   ]
  },
  {
   "cell_type": "code",
   "execution_count": 41,
   "metadata": {},
   "outputs": [
    {
     "data": {
      "text/html": [
       "<div>\n",
       "<style scoped>\n",
       "    .dataframe tbody tr th:only-of-type {\n",
       "        vertical-align: middle;\n",
       "    }\n",
       "\n",
       "    .dataframe tbody tr th {\n",
       "        vertical-align: top;\n",
       "    }\n",
       "\n",
       "    .dataframe thead th {\n",
       "        text-align: right;\n",
       "    }\n",
       "</style>\n",
       "<table border=\"1\" class=\"dataframe\">\n",
       "  <thead>\n",
       "    <tr style=\"text-align: right;\">\n",
       "      <th></th>\n",
       "      <th>Variable</th>\n",
       "      <th>Importance</th>\n",
       "    </tr>\n",
       "  </thead>\n",
       "  <tbody>\n",
       "    <tr>\n",
       "      <th>6</th>\n",
       "      <td>policy_length</td>\n",
       "      <td>0.090483</td>\n",
       "    </tr>\n",
       "    <tr>\n",
       "      <th>2</th>\n",
       "      <td>Length</td>\n",
       "      <td>0.053086</td>\n",
       "    </tr>\n",
       "    <tr>\n",
       "      <th>1</th>\n",
       "      <td>Year Built</td>\n",
       "      <td>0.051363</td>\n",
       "    </tr>\n",
       "    <tr>\n",
       "      <th>5</th>\n",
       "      <td>Age</td>\n",
       "      <td>0.051350</td>\n",
       "    </tr>\n",
       "    <tr>\n",
       "      <th>3</th>\n",
       "      <td>Hull Limit</td>\n",
       "      <td>0.051181</td>\n",
       "    </tr>\n",
       "    <tr>\n",
       "      <th>0</th>\n",
       "      <td>Years Exp.</td>\n",
       "      <td>0.048313</td>\n",
       "    </tr>\n",
       "    <tr>\n",
       "      <th>9</th>\n",
       "      <td>New/Renl/Endt/Canc/Flat_new</td>\n",
       "      <td>0.029541</td>\n",
       "    </tr>\n",
       "    <tr>\n",
       "      <th>24</th>\n",
       "      <td>Occupation_other</td>\n",
       "      <td>0.021487</td>\n",
       "    </tr>\n",
       "    <tr>\n",
       "      <th>12</th>\n",
       "      <td>Married yes/no_yes</td>\n",
       "      <td>0.020958</td>\n",
       "    </tr>\n",
       "    <tr>\n",
       "      <th>4</th>\n",
       "      <td># Engines</td>\n",
       "      <td>0.020137</td>\n",
       "    </tr>\n",
       "    <tr>\n",
       "      <th>10</th>\n",
       "      <td>New/Renl/Endt/Canc/Flat_renl</td>\n",
       "      <td>0.019878</td>\n",
       "    </tr>\n",
       "    <tr>\n",
       "      <th>99</th>\n",
       "      <td>Mooring County_other</td>\n",
       "      <td>0.019129</td>\n",
       "    </tr>\n",
       "    <tr>\n",
       "      <th>11</th>\n",
       "      <td>Married yes/no_not reported</td>\n",
       "      <td>0.018311</td>\n",
       "    </tr>\n",
       "    <tr>\n",
       "      <th>46</th>\n",
       "      <td>Builder_other</td>\n",
       "      <td>0.018093</td>\n",
       "    </tr>\n",
       "    <tr>\n",
       "      <th>23</th>\n",
       "      <td>Occupation_not reported</td>\n",
       "      <td>0.017187</td>\n",
       "    </tr>\n",
       "    <tr>\n",
       "      <th>59</th>\n",
       "      <td>Hull Type_motoryacht</td>\n",
       "      <td>0.016801</td>\n",
       "    </tr>\n",
       "    <tr>\n",
       "      <th>94</th>\n",
       "      <td>Mooring County_monroe</td>\n",
       "      <td>0.016793</td>\n",
       "    </tr>\n",
       "    <tr>\n",
       "      <th>29</th>\n",
       "      <td>Occupation_retired</td>\n",
       "      <td>0.015772</td>\n",
       "    </tr>\n",
       "    <tr>\n",
       "      <th>58</th>\n",
       "      <td>Hull Type_monohull sail</td>\n",
       "      <td>0.014589</td>\n",
       "    </tr>\n",
       "    <tr>\n",
       "      <th>7</th>\n",
       "      <td>New/Renl/Endt/Canc/Flat_endt</td>\n",
       "      <td>0.012659</td>\n",
       "    </tr>\n",
       "    <tr>\n",
       "      <th>61</th>\n",
       "      <td>Hull Type_multihull sail</td>\n",
       "      <td>0.012494</td>\n",
       "    </tr>\n",
       "    <tr>\n",
       "      <th>74</th>\n",
       "      <td>Mooring County_caribbean</td>\n",
       "      <td>0.012001</td>\n",
       "    </tr>\n",
       "    <tr>\n",
       "      <th>103</th>\n",
       "      <td>Mooring County_san diego</td>\n",
       "      <td>0.011137</td>\n",
       "    </tr>\n",
       "    <tr>\n",
       "      <th>93</th>\n",
       "      <td>Mooring County_miami-dade</td>\n",
       "      <td>0.011049</td>\n",
       "    </tr>\n",
       "    <tr>\n",
       "      <th>72</th>\n",
       "      <td>Mooring County_broward</td>\n",
       "      <td>0.011014</td>\n",
       "    </tr>\n",
       "    <tr>\n",
       "      <th>102</th>\n",
       "      <td>Mooring County_pinellas</td>\n",
       "      <td>0.010576</td>\n",
       "    </tr>\n",
       "    <tr>\n",
       "      <th>70</th>\n",
       "      <td>Mooring County_bcs</td>\n",
       "      <td>0.010108</td>\n",
       "    </tr>\n",
       "    <tr>\n",
       "      <th>63</th>\n",
       "      <td>Hull Type_sportfisher</td>\n",
       "      <td>0.009967</td>\n",
       "    </tr>\n",
       "    <tr>\n",
       "      <th>87</th>\n",
       "      <td>Mooring County_los angeles</td>\n",
       "      <td>0.008706</td>\n",
       "    </tr>\n",
       "    <tr>\n",
       "      <th>64</th>\n",
       "      <td>Hull Type_trawler</td>\n",
       "      <td>0.008520</td>\n",
       "    </tr>\n",
       "  </tbody>\n",
       "</table>\n",
       "</div>"
      ],
      "text/plain": [
       "                         Variable  Importance\n",
       "6                   policy_length    0.090483\n",
       "2                          Length    0.053086\n",
       "1                      Year Built    0.051363\n",
       "5                             Age    0.051350\n",
       "3                      Hull Limit    0.051181\n",
       "0                      Years Exp.    0.048313\n",
       "9     New/Renl/Endt/Canc/Flat_new    0.029541\n",
       "24               Occupation_other    0.021487\n",
       "12             Married yes/no_yes    0.020958\n",
       "4                       # Engines    0.020137\n",
       "10   New/Renl/Endt/Canc/Flat_renl    0.019878\n",
       "99           Mooring County_other    0.019129\n",
       "11    Married yes/no_not reported    0.018311\n",
       "46                  Builder_other    0.018093\n",
       "23        Occupation_not reported    0.017187\n",
       "59           Hull Type_motoryacht    0.016801\n",
       "94          Mooring County_monroe    0.016793\n",
       "29             Occupation_retired    0.015772\n",
       "58        Hull Type_monohull sail    0.014589\n",
       "7    New/Renl/Endt/Canc/Flat_endt    0.012659\n",
       "61       Hull Type_multihull sail    0.012494\n",
       "74       Mooring County_caribbean    0.012001\n",
       "103      Mooring County_san diego    0.011137\n",
       "93      Mooring County_miami-dade    0.011049\n",
       "72         Mooring County_broward    0.011014\n",
       "102       Mooring County_pinellas    0.010576\n",
       "70             Mooring County_bcs    0.010108\n",
       "63          Hull Type_sportfisher    0.009967\n",
       "87     Mooring County_los angeles    0.008706\n",
       "64              Hull Type_trawler    0.008520"
      ]
     },
     "execution_count": 41,
     "metadata": {},
     "output_type": "execute_result"
    }
   ],
   "source": [
    "# Ref: https://towardsdatascience.com/interpreting-random-forest-and-other-black-box-models-like-xgboost-80f9cc4a3c38\n",
    "\n",
    "knn_smote_under_feature_imp = pd.DataFrame({'Variable':X.columns,\n",
    "              'Importance':et.feature_importances_}).sort_values('Importance', ascending=False)\n",
    "\n",
    "knn_smote_under_feature_imp[:30]"
   ]
  },
  {
   "cell_type": "code",
   "execution_count": 42,
   "metadata": {},
   "outputs": [
    {
     "data": {
      "text/html": [
       "<div>\n",
       "<style scoped>\n",
       "    .dataframe tbody tr th:only-of-type {\n",
       "        vertical-align: middle;\n",
       "    }\n",
       "\n",
       "    .dataframe tbody tr th {\n",
       "        vertical-align: top;\n",
       "    }\n",
       "\n",
       "    .dataframe thead th {\n",
       "        text-align: right;\n",
       "    }\n",
       "</style>\n",
       "<table border=\"1\" class=\"dataframe\">\n",
       "  <thead>\n",
       "    <tr style=\"text-align: right;\">\n",
       "      <th></th>\n",
       "      <th>Variable</th>\n",
       "      <th>Importance</th>\n",
       "    </tr>\n",
       "  </thead>\n",
       "  <tbody>\n",
       "    <tr>\n",
       "      <th>6</th>\n",
       "      <td>policy_length</td>\n",
       "      <td>0.090483</td>\n",
       "    </tr>\n",
       "    <tr>\n",
       "      <th>2</th>\n",
       "      <td>Length</td>\n",
       "      <td>0.053086</td>\n",
       "    </tr>\n",
       "    <tr>\n",
       "      <th>1</th>\n",
       "      <td>Year Built</td>\n",
       "      <td>0.051363</td>\n",
       "    </tr>\n",
       "    <tr>\n",
       "      <th>5</th>\n",
       "      <td>Age</td>\n",
       "      <td>0.051350</td>\n",
       "    </tr>\n",
       "    <tr>\n",
       "      <th>3</th>\n",
       "      <td>Hull Limit</td>\n",
       "      <td>0.051181</td>\n",
       "    </tr>\n",
       "    <tr>\n",
       "      <th>0</th>\n",
       "      <td>Years Exp.</td>\n",
       "      <td>0.048313</td>\n",
       "    </tr>\n",
       "    <tr>\n",
       "      <th>9</th>\n",
       "      <td>New/Renl/Endt/Canc/Flat_new</td>\n",
       "      <td>0.029541</td>\n",
       "    </tr>\n",
       "    <tr>\n",
       "      <th>24</th>\n",
       "      <td>Occupation_other</td>\n",
       "      <td>0.021487</td>\n",
       "    </tr>\n",
       "    <tr>\n",
       "      <th>12</th>\n",
       "      <td>Married yes/no_yes</td>\n",
       "      <td>0.020958</td>\n",
       "    </tr>\n",
       "    <tr>\n",
       "      <th>4</th>\n",
       "      <td># Engines</td>\n",
       "      <td>0.020137</td>\n",
       "    </tr>\n",
       "    <tr>\n",
       "      <th>10</th>\n",
       "      <td>New/Renl/Endt/Canc/Flat_renl</td>\n",
       "      <td>0.019878</td>\n",
       "    </tr>\n",
       "    <tr>\n",
       "      <th>99</th>\n",
       "      <td>Mooring County_other</td>\n",
       "      <td>0.019129</td>\n",
       "    </tr>\n",
       "    <tr>\n",
       "      <th>11</th>\n",
       "      <td>Married yes/no_not reported</td>\n",
       "      <td>0.018311</td>\n",
       "    </tr>\n",
       "    <tr>\n",
       "      <th>46</th>\n",
       "      <td>Builder_other</td>\n",
       "      <td>0.018093</td>\n",
       "    </tr>\n",
       "    <tr>\n",
       "      <th>23</th>\n",
       "      <td>Occupation_not reported</td>\n",
       "      <td>0.017187</td>\n",
       "    </tr>\n",
       "    <tr>\n",
       "      <th>59</th>\n",
       "      <td>Hull Type_motoryacht</td>\n",
       "      <td>0.016801</td>\n",
       "    </tr>\n",
       "    <tr>\n",
       "      <th>94</th>\n",
       "      <td>Mooring County_monroe</td>\n",
       "      <td>0.016793</td>\n",
       "    </tr>\n",
       "    <tr>\n",
       "      <th>29</th>\n",
       "      <td>Occupation_retired</td>\n",
       "      <td>0.015772</td>\n",
       "    </tr>\n",
       "    <tr>\n",
       "      <th>58</th>\n",
       "      <td>Hull Type_monohull sail</td>\n",
       "      <td>0.014589</td>\n",
       "    </tr>\n",
       "    <tr>\n",
       "      <th>7</th>\n",
       "      <td>New/Renl/Endt/Canc/Flat_endt</td>\n",
       "      <td>0.012659</td>\n",
       "    </tr>\n",
       "    <tr>\n",
       "      <th>61</th>\n",
       "      <td>Hull Type_multihull sail</td>\n",
       "      <td>0.012494</td>\n",
       "    </tr>\n",
       "    <tr>\n",
       "      <th>74</th>\n",
       "      <td>Mooring County_caribbean</td>\n",
       "      <td>0.012001</td>\n",
       "    </tr>\n",
       "    <tr>\n",
       "      <th>103</th>\n",
       "      <td>Mooring County_san diego</td>\n",
       "      <td>0.011137</td>\n",
       "    </tr>\n",
       "    <tr>\n",
       "      <th>93</th>\n",
       "      <td>Mooring County_miami-dade</td>\n",
       "      <td>0.011049</td>\n",
       "    </tr>\n",
       "    <tr>\n",
       "      <th>72</th>\n",
       "      <td>Mooring County_broward</td>\n",
       "      <td>0.011014</td>\n",
       "    </tr>\n",
       "    <tr>\n",
       "      <th>102</th>\n",
       "      <td>Mooring County_pinellas</td>\n",
       "      <td>0.010576</td>\n",
       "    </tr>\n",
       "    <tr>\n",
       "      <th>70</th>\n",
       "      <td>Mooring County_bcs</td>\n",
       "      <td>0.010108</td>\n",
       "    </tr>\n",
       "    <tr>\n",
       "      <th>63</th>\n",
       "      <td>Hull Type_sportfisher</td>\n",
       "      <td>0.009967</td>\n",
       "    </tr>\n",
       "    <tr>\n",
       "      <th>87</th>\n",
       "      <td>Mooring County_los angeles</td>\n",
       "      <td>0.008706</td>\n",
       "    </tr>\n",
       "    <tr>\n",
       "      <th>64</th>\n",
       "      <td>Hull Type_trawler</td>\n",
       "      <td>0.008520</td>\n",
       "    </tr>\n",
       "  </tbody>\n",
       "</table>\n",
       "</div>"
      ],
      "text/plain": [
       "                         Variable  Importance\n",
       "6                   policy_length    0.090483\n",
       "2                          Length    0.053086\n",
       "1                      Year Built    0.051363\n",
       "5                             Age    0.051350\n",
       "3                      Hull Limit    0.051181\n",
       "0                      Years Exp.    0.048313\n",
       "9     New/Renl/Endt/Canc/Flat_new    0.029541\n",
       "24               Occupation_other    0.021487\n",
       "12             Married yes/no_yes    0.020958\n",
       "4                       # Engines    0.020137\n",
       "10   New/Renl/Endt/Canc/Flat_renl    0.019878\n",
       "99           Mooring County_other    0.019129\n",
       "11    Married yes/no_not reported    0.018311\n",
       "46                  Builder_other    0.018093\n",
       "23        Occupation_not reported    0.017187\n",
       "59           Hull Type_motoryacht    0.016801\n",
       "94          Mooring County_monroe    0.016793\n",
       "29             Occupation_retired    0.015772\n",
       "58        Hull Type_monohull sail    0.014589\n",
       "7    New/Renl/Endt/Canc/Flat_endt    0.012659\n",
       "61       Hull Type_multihull sail    0.012494\n",
       "74       Mooring County_caribbean    0.012001\n",
       "103      Mooring County_san diego    0.011137\n",
       "93      Mooring County_miami-dade    0.011049\n",
       "72         Mooring County_broward    0.011014\n",
       "102       Mooring County_pinellas    0.010576\n",
       "70             Mooring County_bcs    0.010108\n",
       "63          Hull Type_sportfisher    0.009967\n",
       "87     Mooring County_los angeles    0.008706\n",
       "64              Hull Type_trawler    0.008520"
      ]
     },
     "execution_count": 42,
     "metadata": {},
     "output_type": "execute_result"
    }
   ],
   "source": [
    "# Ref: https://towardsdatascience.com/interpreting-random-forest-and-other-black-box-models-like-xgboost-80f9cc4a3c38\n",
    "\n",
    "et_smote_under_feature_imp = pd.DataFrame({'Variable':X.columns,\n",
    "              'Importance':et.feature_importances_}).sort_values('Importance', ascending=False)\n",
    "\n",
    "et_smote_under_feature_imp[:30]\n",
    "\n"
   ]
  },
  {
   "cell_type": "code",
   "execution_count": 43,
   "metadata": {},
   "outputs": [
    {
     "data": {
      "text/html": [
       "<div>\n",
       "<style scoped>\n",
       "    .dataframe tbody tr th:only-of-type {\n",
       "        vertical-align: middle;\n",
       "    }\n",
       "\n",
       "    .dataframe tbody tr th {\n",
       "        vertical-align: top;\n",
       "    }\n",
       "\n",
       "    .dataframe thead th {\n",
       "        text-align: right;\n",
       "    }\n",
       "</style>\n",
       "<table border=\"1\" class=\"dataframe\">\n",
       "  <thead>\n",
       "    <tr style=\"text-align: right;\">\n",
       "      <th></th>\n",
       "      <th>Variable</th>\n",
       "      <th>Importance</th>\n",
       "    </tr>\n",
       "  </thead>\n",
       "  <tbody>\n",
       "    <tr>\n",
       "      <th>6</th>\n",
       "      <td>policy_length</td>\n",
       "      <td>0.125444</td>\n",
       "    </tr>\n",
       "    <tr>\n",
       "      <th>3</th>\n",
       "      <td>Hull Limit</td>\n",
       "      <td>0.080384</td>\n",
       "    </tr>\n",
       "    <tr>\n",
       "      <th>5</th>\n",
       "      <td>Age</td>\n",
       "      <td>0.075958</td>\n",
       "    </tr>\n",
       "    <tr>\n",
       "      <th>2</th>\n",
       "      <td>Length</td>\n",
       "      <td>0.074746</td>\n",
       "    </tr>\n",
       "    <tr>\n",
       "      <th>1</th>\n",
       "      <td>Year Built</td>\n",
       "      <td>0.073084</td>\n",
       "    </tr>\n",
       "    <tr>\n",
       "      <th>0</th>\n",
       "      <td>Years Exp.</td>\n",
       "      <td>0.061435</td>\n",
       "    </tr>\n",
       "    <tr>\n",
       "      <th>9</th>\n",
       "      <td>New/Renl/Endt/Canc/Flat_new</td>\n",
       "      <td>0.027220</td>\n",
       "    </tr>\n",
       "    <tr>\n",
       "      <th>4</th>\n",
       "      <td># Engines</td>\n",
       "      <td>0.019422</td>\n",
       "    </tr>\n",
       "    <tr>\n",
       "      <th>10</th>\n",
       "      <td>New/Renl/Endt/Canc/Flat_renl</td>\n",
       "      <td>0.017268</td>\n",
       "    </tr>\n",
       "    <tr>\n",
       "      <th>24</th>\n",
       "      <td>Occupation_other</td>\n",
       "      <td>0.016657</td>\n",
       "    </tr>\n",
       "    <tr>\n",
       "      <th>23</th>\n",
       "      <td>Occupation_not reported</td>\n",
       "      <td>0.015460</td>\n",
       "    </tr>\n",
       "    <tr>\n",
       "      <th>12</th>\n",
       "      <td>Married yes/no_yes</td>\n",
       "      <td>0.014417</td>\n",
       "    </tr>\n",
       "    <tr>\n",
       "      <th>11</th>\n",
       "      <td>Married yes/no_not reported</td>\n",
       "      <td>0.014011</td>\n",
       "    </tr>\n",
       "    <tr>\n",
       "      <th>61</th>\n",
       "      <td>Hull Type_multihull sail</td>\n",
       "      <td>0.013819</td>\n",
       "    </tr>\n",
       "    <tr>\n",
       "      <th>94</th>\n",
       "      <td>Mooring County_monroe</td>\n",
       "      <td>0.013520</td>\n",
       "    </tr>\n",
       "    <tr>\n",
       "      <th>58</th>\n",
       "      <td>Hull Type_monohull sail</td>\n",
       "      <td>0.013510</td>\n",
       "    </tr>\n",
       "    <tr>\n",
       "      <th>99</th>\n",
       "      <td>Mooring County_other</td>\n",
       "      <td>0.013006</td>\n",
       "    </tr>\n",
       "    <tr>\n",
       "      <th>46</th>\n",
       "      <td>Builder_other</td>\n",
       "      <td>0.012719</td>\n",
       "    </tr>\n",
       "    <tr>\n",
       "      <th>29</th>\n",
       "      <td>Occupation_retired</td>\n",
       "      <td>0.012124</td>\n",
       "    </tr>\n",
       "    <tr>\n",
       "      <th>59</th>\n",
       "      <td>Hull Type_motoryacht</td>\n",
       "      <td>0.011621</td>\n",
       "    </tr>\n",
       "    <tr>\n",
       "      <th>7</th>\n",
       "      <td>New/Renl/Endt/Canc/Flat_endt</td>\n",
       "      <td>0.010874</td>\n",
       "    </tr>\n",
       "    <tr>\n",
       "      <th>74</th>\n",
       "      <td>Mooring County_caribbean</td>\n",
       "      <td>0.009582</td>\n",
       "    </tr>\n",
       "    <tr>\n",
       "      <th>93</th>\n",
       "      <td>Mooring County_miami-dade</td>\n",
       "      <td>0.008814</td>\n",
       "    </tr>\n",
       "    <tr>\n",
       "      <th>102</th>\n",
       "      <td>Mooring County_pinellas</td>\n",
       "      <td>0.008394</td>\n",
       "    </tr>\n",
       "    <tr>\n",
       "      <th>63</th>\n",
       "      <td>Hull Type_sportfisher</td>\n",
       "      <td>0.008127</td>\n",
       "    </tr>\n",
       "    <tr>\n",
       "      <th>72</th>\n",
       "      <td>Mooring County_broward</td>\n",
       "      <td>0.008041</td>\n",
       "    </tr>\n",
       "    <tr>\n",
       "      <th>103</th>\n",
       "      <td>Mooring County_san diego</td>\n",
       "      <td>0.007485</td>\n",
       "    </tr>\n",
       "    <tr>\n",
       "      <th>64</th>\n",
       "      <td>Hull Type_trawler</td>\n",
       "      <td>0.007403</td>\n",
       "    </tr>\n",
       "    <tr>\n",
       "      <th>70</th>\n",
       "      <td>Mooring County_bcs</td>\n",
       "      <td>0.007156</td>\n",
       "    </tr>\n",
       "    <tr>\n",
       "      <th>87</th>\n",
       "      <td>Mooring County_los angeles</td>\n",
       "      <td>0.006537</td>\n",
       "    </tr>\n",
       "  </tbody>\n",
       "</table>\n",
       "</div>"
      ],
      "text/plain": [
       "                         Variable  Importance\n",
       "6                   policy_length    0.125444\n",
       "3                      Hull Limit    0.080384\n",
       "5                             Age    0.075958\n",
       "2                          Length    0.074746\n",
       "1                      Year Built    0.073084\n",
       "0                      Years Exp.    0.061435\n",
       "9     New/Renl/Endt/Canc/Flat_new    0.027220\n",
       "4                       # Engines    0.019422\n",
       "10   New/Renl/Endt/Canc/Flat_renl    0.017268\n",
       "24               Occupation_other    0.016657\n",
       "23        Occupation_not reported    0.015460\n",
       "12             Married yes/no_yes    0.014417\n",
       "11    Married yes/no_not reported    0.014011\n",
       "61       Hull Type_multihull sail    0.013819\n",
       "94          Mooring County_monroe    0.013520\n",
       "58        Hull Type_monohull sail    0.013510\n",
       "99           Mooring County_other    0.013006\n",
       "46                  Builder_other    0.012719\n",
       "29             Occupation_retired    0.012124\n",
       "59           Hull Type_motoryacht    0.011621\n",
       "7    New/Renl/Endt/Canc/Flat_endt    0.010874\n",
       "74       Mooring County_caribbean    0.009582\n",
       "93      Mooring County_miami-dade    0.008814\n",
       "102       Mooring County_pinellas    0.008394\n",
       "63          Hull Type_sportfisher    0.008127\n",
       "72         Mooring County_broward    0.008041\n",
       "103      Mooring County_san diego    0.007485\n",
       "64              Hull Type_trawler    0.007403\n",
       "70             Mooring County_bcs    0.007156\n",
       "87     Mooring County_los angeles    0.006537"
      ]
     },
     "execution_count": 43,
     "metadata": {},
     "output_type": "execute_result"
    }
   ],
   "source": [
    "# Compare to feature importance of random forest model\n",
    "\n",
    "rf_smote_under_feature_imp = pd.DataFrame({'Variable':X.columns,\n",
    "              'Importance':rf.feature_importances_}).sort_values('Importance', ascending=False)\n",
    "\n",
    "top_30 = rf_smote_under_feature_imp[:30]\n",
    "top_30"
   ]
  },
  {
   "cell_type": "markdown",
   "metadata": {},
   "source": [
    "**INTERPRETATION:** The top model features appear to be very similar beween models. Because I will likely be movinig forward with random forest as my main model, I decided to use that list for feature selection below."
   ]
  },
  {
   "cell_type": "code",
   "execution_count": 44,
   "metadata": {},
   "outputs": [],
   "source": [
    "# Get only top 30 important features to use in an updated model \n",
    "post_rf_model_features = [x for x in top_30['Variable']]"
   ]
  },
  {
   "cell_type": "markdown",
   "metadata": {},
   "source": [
    "## Redo models again using only top 30 features"
   ]
  },
  {
   "cell_type": "code",
   "execution_count": 45,
   "metadata": {},
   "outputs": [
    {
     "data": {
      "text/html": [
       "<div>\n",
       "<style scoped>\n",
       "    .dataframe tbody tr th:only-of-type {\n",
       "        vertical-align: middle;\n",
       "    }\n",
       "\n",
       "    .dataframe tbody tr th {\n",
       "        vertical-align: top;\n",
       "    }\n",
       "\n",
       "    .dataframe thead th {\n",
       "        text-align: right;\n",
       "    }\n",
       "</style>\n",
       "<table border=\"1\" class=\"dataframe\">\n",
       "  <thead>\n",
       "    <tr style=\"text-align: right;\">\n",
       "      <th></th>\n",
       "      <th>Accuracy</th>\n",
       "      <th>Recall</th>\n",
       "      <th>Weighted F1 Score</th>\n",
       "    </tr>\n",
       "  </thead>\n",
       "  <tbody>\n",
       "  </tbody>\n",
       "</table>\n",
       "</div>"
      ],
      "text/plain": [
       "Empty DataFrame\n",
       "Columns: [Accuracy, Recall, Weighted F1 Score]\n",
       "Index: []"
      ]
     },
     "execution_count": 45,
     "metadata": {},
     "output_type": "execute_result"
    }
   ],
   "source": [
    "# Create a second results table to compare scores before and after top 30 features were dropped\n",
    "binary_scores2 = pd.DataFrame(columns=['Accuracy', 'Recall','Weighted F1 Score'])\n",
    "binary_scores2"
   ]
  },
  {
   "cell_type": "code",
   "execution_count": 46,
   "metadata": {},
   "outputs": [],
   "source": [
    "X = combined[post_rf_model_features]\n",
    "y = combined['binary']\n",
    "X_train, X_test, y_train, y_test = train_test_split(X, y, test_size=.2, random_state=42, stratify=y)"
   ]
  },
  {
   "cell_type": "code",
   "execution_count": 47,
   "metadata": {},
   "outputs": [],
   "source": [
    "ss = StandardScaler()\n",
    "X_train_sc = ss.fit_transform(X_train)\n",
    "X_test_sc = ss.transform(X_test)"
   ]
  },
  {
   "cell_type": "code",
   "execution_count": 48,
   "metadata": {},
   "outputs": [],
   "source": [
    "over = SMOTE(sampling_strategy=0.1, random_state=42)\n",
    "under = RandomUnderSampler(sampling_strategy=0.5, random_state=42)\n",
    "steps = [('o', over), ('u', under)]\n",
    "pipeline = Pipeline(steps=steps)\n",
    "\n",
    "X_sm_und, y_sm_und = pipeline.fit_resample(X_train_sc,y_train)"
   ]
  },
  {
   "cell_type": "code",
   "execution_count": 49,
   "metadata": {},
   "outputs": [],
   "source": [
    "knn = KNeighborsClassifier()\n",
    "knn.fit(X_sm_und, y_sm_und)\n",
    "knn_pred = knn.predict(X_test_sc)\n",
    "\n",
    "lr = LogisticRegression(random_state=42)\n",
    "lr.fit(X_sm_und, y_sm_und)\n",
    "lr_pred = lr.predict(X_test_sc)\n",
    "\n",
    "rf = RandomForestClassifier(n_estimators=100,random_state=42)\n",
    "rf.fit(X_sm_und, y_sm_und)\n",
    "rf_pred = rf.predict(X_test_sc)\n",
    "\n",
    "et = ExtraTreesClassifier(n_estimators=100,random_state=42)\n",
    "et.fit(X_sm_und, y_sm_und)\n",
    "et_pred = et.predict(X_test_sc)\n",
    "\n",
    "logreg_cv = LogisticRegressionCV(Cs=10, cv=5, penalty=\"l1\", solver=\"liblinear\", random_state=42)\n",
    "logreg_cv.fit(X_sm_und, y_sm_und)\n",
    "logreg_cv_pred = logreg_cv.predict(X_test_sc)"
   ]
  },
  {
   "cell_type": "code",
   "execution_count": 50,
   "metadata": {},
   "outputs": [
    {
     "name": "stdout",
     "output_type": "stream",
     "text": [
      "New_Scores\n"
     ]
    },
    {
     "data": {
      "text/html": [
       "<div>\n",
       "<style scoped>\n",
       "    .dataframe tbody tr th:only-of-type {\n",
       "        vertical-align: middle;\n",
       "    }\n",
       "\n",
       "    .dataframe tbody tr th {\n",
       "        vertical-align: top;\n",
       "    }\n",
       "\n",
       "    .dataframe thead th {\n",
       "        text-align: right;\n",
       "    }\n",
       "</style>\n",
       "<table border=\"1\" class=\"dataframe\">\n",
       "  <thead>\n",
       "    <tr style=\"text-align: right;\">\n",
       "      <th></th>\n",
       "      <th>Accuracy</th>\n",
       "      <th>Recall</th>\n",
       "      <th>Weighted F1 Score</th>\n",
       "    </tr>\n",
       "  </thead>\n",
       "  <tbody>\n",
       "    <tr>\n",
       "      <th>KNN(SMOTE/Under)</th>\n",
       "      <td>0.767350</td>\n",
       "      <td>0.455446</td>\n",
       "      <td>0.812944</td>\n",
       "    </tr>\n",
       "    <tr>\n",
       "      <th>LR(SMOTE/Under)</th>\n",
       "      <td>0.876183</td>\n",
       "      <td>0.267327</td>\n",
       "      <td>0.878584</td>\n",
       "    </tr>\n",
       "    <tr>\n",
       "      <th>RF(SMOTE/Under))</th>\n",
       "      <td>0.887224</td>\n",
       "      <td>0.415842</td>\n",
       "      <td>0.892824</td>\n",
       "    </tr>\n",
       "    <tr>\n",
       "      <th>ET(SMOTE/Under))</th>\n",
       "      <td>0.860410</td>\n",
       "      <td>0.366337</td>\n",
       "      <td>0.872539</td>\n",
       "    </tr>\n",
       "    <tr>\n",
       "      <th>LOGREG(SMOTE/Under))</th>\n",
       "      <td>0.905363</td>\n",
       "      <td>0.108911</td>\n",
       "      <td>0.886555</td>\n",
       "    </tr>\n",
       "  </tbody>\n",
       "</table>\n",
       "</div>"
      ],
      "text/plain": [
       "                      Accuracy    Recall  Weighted F1 Score\n",
       "KNN(SMOTE/Under)      0.767350  0.455446           0.812944\n",
       "LR(SMOTE/Under)       0.876183  0.267327           0.878584\n",
       "RF(SMOTE/Under))      0.887224  0.415842           0.892824\n",
       "ET(SMOTE/Under))      0.860410  0.366337           0.872539\n",
       "LOGREG(SMOTE/Under))  0.905363  0.108911           0.886555"
      ]
     },
     "execution_count": 50,
     "metadata": {},
     "output_type": "execute_result"
    }
   ],
   "source": [
    "smote_knn = pd.Series(data=[accuracy_score(y_test, knn_pred), recall_score(y_test, knn_pred),\n",
    "                              f1_score(y_test, knn_pred ,average='weighted')], index=binary_scores2.columns, name = 'KNN(SMOTE/Under)')\n",
    "\n",
    "smote_lr = pd.Series(data=[accuracy_score(y_test, lr_pred), recall_score(y_test, lr_pred),\n",
    "                              f1_score(y_test, lr_pred ,average='weighted')], index=binary_scores2.columns, name = 'LR(SMOTE/Under)')\n",
    "\n",
    "smote_rf = pd.Series(data=[accuracy_score(y_test, rf_pred), recall_score(y_test, rf_pred),\n",
    "                              f1_score(y_test, rf_pred ,average='weighted')], index=binary_scores2.columns, name = 'RF(SMOTE/Under))')\n",
    "\n",
    "smote_et = pd.Series(data=[accuracy_score(y_test, et_pred), recall_score(y_test, et_pred),\n",
    "                              f1_score(y_test, et_pred ,average='weighted')], index=binary_scores2.columns, name = 'ET(SMOTE/Under))')\n",
    "\n",
    "smote_logreg_cv = pd.Series(data=[accuracy_score(y_test, logreg_cv_pred), recall_score(y_test, logreg_cv_pred),\n",
    "                              f1_score(y_test, logreg_cv_pred ,average='weighted')], index=binary_scores2.columns, name = 'LOGREG(SMOTE/Under))')\n",
    "\n",
    "binary_scores2 = binary_scores2.append([smote_knn, smote_lr, smote_rf, smote_et, smote_logreg_cv])\n",
    "\n",
    "print('New_Scores')\n",
    "binary_scores2"
   ]
  },
  {
   "cell_type": "code",
   "execution_count": 51,
   "metadata": {},
   "outputs": [
    {
     "name": "stdout",
     "output_type": "stream",
     "text": [
      "Old_Scores\n"
     ]
    },
    {
     "data": {
      "text/html": [
       "<div>\n",
       "<style scoped>\n",
       "    .dataframe tbody tr th:only-of-type {\n",
       "        vertical-align: middle;\n",
       "    }\n",
       "\n",
       "    .dataframe tbody tr th {\n",
       "        vertical-align: top;\n",
       "    }\n",
       "\n",
       "    .dataframe thead th {\n",
       "        text-align: right;\n",
       "    }\n",
       "</style>\n",
       "<table border=\"1\" class=\"dataframe\">\n",
       "  <thead>\n",
       "    <tr style=\"text-align: right;\">\n",
       "      <th></th>\n",
       "      <th>Accuracy</th>\n",
       "      <th>Recall</th>\n",
       "      <th>Weighted F1 Score</th>\n",
       "    </tr>\n",
       "  </thead>\n",
       "  <tbody>\n",
       "    <tr>\n",
       "      <th>KNN(SMOTE/Under)</th>\n",
       "      <td>0.759464</td>\n",
       "      <td>0.326733</td>\n",
       "      <td>0.804861</td>\n",
       "    </tr>\n",
       "    <tr>\n",
       "      <th>LR(SMOTE/Under)</th>\n",
       "      <td>0.810726</td>\n",
       "      <td>0.287129</td>\n",
       "      <td>0.837153</td>\n",
       "    </tr>\n",
       "    <tr>\n",
       "      <th>RF(LR(SMOTE/Under))</th>\n",
       "      <td>0.898265</td>\n",
       "      <td>0.366337</td>\n",
       "      <td>0.898494</td>\n",
       "    </tr>\n",
       "    <tr>\n",
       "      <th>ET(LR(SMOTE/Under))</th>\n",
       "      <td>0.869874</td>\n",
       "      <td>0.396040</td>\n",
       "      <td>0.880072</td>\n",
       "    </tr>\n",
       "    <tr>\n",
       "      <th>LRCV(SMOTE/Under)</th>\n",
       "      <td>0.826498</td>\n",
       "      <td>0.257426</td>\n",
       "      <td>0.846142</td>\n",
       "    </tr>\n",
       "  </tbody>\n",
       "</table>\n",
       "</div>"
      ],
      "text/plain": [
       "                     Accuracy    Recall  Weighted F1 Score\n",
       "KNN(SMOTE/Under)     0.759464  0.326733           0.804861\n",
       "LR(SMOTE/Under)      0.810726  0.287129           0.837153\n",
       "RF(LR(SMOTE/Under))  0.898265  0.366337           0.898494\n",
       "ET(LR(SMOTE/Under))  0.869874  0.396040           0.880072\n",
       "LRCV(SMOTE/Under)    0.826498  0.257426           0.846142"
      ]
     },
     "execution_count": 51,
     "metadata": {},
     "output_type": "execute_result"
    }
   ],
   "source": [
    "print('Old_Scores')\n",
    "binary_scores[-5:]"
   ]
  },
  {
   "cell_type": "markdown",
   "metadata": {},
   "source": [
    "**INTERPRETATION:** Scores improved after using only the top 30 most important features from the Random Forest model."
   ]
  },
  {
   "cell_type": "code",
   "execution_count": 52,
   "metadata": {},
   "outputs": [
    {
     "name": "stdout",
     "output_type": "stream",
     "text": [
      "KNN(SMOTE/UNDER) SECOND Training Results:\n",
      "0.801859799713877\n",
      "0.6695278969957081\n",
      "\n",
      "RF(SMOTE/UNDER) SECOND Testing Results:\n",
      "0.7673501577287066\n",
      "0.45544554455445546\n"
     ]
    }
   ],
   "source": [
    "print('KNN(SMOTE/UNDER) SECOND Training Results:')\n",
    "print(knn.score(X_sm_und, y_sm_und))\n",
    "print(recall_score(y_sm_und, knn.predict(X_sm_und)))\n",
    "\n",
    "print('\\nRF(SMOTE/UNDER) SECOND Testing Results:')\n",
    "print(knn.score(X_test_sc, y_test))\n",
    "print(recall_score(y_test, knn.predict(X_test_sc)))"
   ]
  },
  {
   "cell_type": "code",
   "execution_count": 53,
   "metadata": {},
   "outputs": [
    {
     "name": "stdout",
     "output_type": "stream",
     "text": [
      "LR(SMOTE/UNDER) SECOND Training Results:\n",
      "0.6888412017167382\n",
      "0.2532188841201717\n",
      "\n",
      "LR(SMOTE/UNDER) SECOND Testing Results:\n",
      "0.8761829652996845\n",
      "0.26732673267326734\n"
     ]
    }
   ],
   "source": [
    "print('LR(SMOTE/UNDER) SECOND Training Results:')\n",
    "print(lr.score(X_sm_und, y_sm_und))\n",
    "print(recall_score(y_sm_und, lr.predict(X_sm_und)))\n",
    "\n",
    "print('\\nLR(SMOTE/UNDER) SECOND Testing Results:')\n",
    "print(lr.score(X_test_sc, y_test))\n",
    "print(recall_score(y_test, lr.predict(X_test_sc)))"
   ]
  },
  {
   "cell_type": "code",
   "execution_count": 54,
   "metadata": {},
   "outputs": [
    {
     "name": "stdout",
     "output_type": "stream",
     "text": [
      "RF(SMOTE/UNDER) SECOND Training Results:\n",
      "1.0\n",
      "1.0\n",
      "\n",
      "RF(SMOTE/UNDER) SECOND Testing Results:\n",
      "0.887223974763407\n",
      "0.4158415841584158\n"
     ]
    }
   ],
   "source": [
    "print('RF(SMOTE/UNDER) SECOND Training Results:')\n",
    "print(rf.score(X_sm_und, y_sm_und))\n",
    "print(recall_score(y_sm_und, rf.predict(X_sm_und)))\n",
    "\n",
    "print('\\nRF(SMOTE/UNDER) SECOND Testing Results:')\n",
    "print(rf.score(X_test_sc, y_test))\n",
    "print(recall_score(y_test, rf.predict(X_test_sc)))"
   ]
  },
  {
   "cell_type": "code",
   "execution_count": 55,
   "metadata": {},
   "outputs": [
    {
     "name": "stdout",
     "output_type": "stream",
     "text": [
      "ET(SMOTE/UNDER) SECOND Training Results:\n",
      "1.0\n",
      "1.0\n",
      "\n",
      "ET(SMOTE/UNDER) SECOND Testing Results:\n",
      "0.860410094637224\n",
      "0.36633663366336633\n"
     ]
    }
   ],
   "source": [
    "print('ET(SMOTE/UNDER) SECOND Training Results:')\n",
    "print(et.score(X_sm_und, y_sm_und))\n",
    "print(recall_score(y_sm_und, et.predict(X_sm_und)))\n",
    "\n",
    "print('\\nET(SMOTE/UNDER) SECOND Testing Results:')\n",
    "print(et.score(X_test_sc, y_test))\n",
    "print(recall_score(y_test, et.predict(X_test_sc)))"
   ]
  },
  {
   "cell_type": "markdown",
   "metadata": {},
   "source": [
    "---\n",
    "## Gridsearch over KNN to fine tune model"
   ]
  },
  {
   "cell_type": "code",
   "execution_count": 56,
   "metadata": {},
   "outputs": [],
   "source": [
    "# Ref for gridsearching for recall score: https://stackoverflow.com/questions/49035011/get-precison-model-through-gridsearchcv-for-recall-optimization\n",
    "knn_params = {\n",
    "    'n_neighbors':range(2, 5),\n",
    "    'metric': ['euclidean', 'manhattan']\n",
    "}\n",
    "\n",
    "knn_gridsearch = GridSearchCV(KNeighborsClassifier(), knn_params, cv=5, \n",
    "                              verbose=1, scoring='recall')"
   ]
  },
  {
   "cell_type": "code",
   "execution_count": 57,
   "metadata": {},
   "outputs": [
    {
     "name": "stdout",
     "output_type": "stream",
     "text": [
      "Fitting 5 folds for each of 6 candidates, totalling 30 fits\n"
     ]
    },
    {
     "name": "stderr",
     "output_type": "stream",
     "text": [
      "[Parallel(n_jobs=1)]: Using backend SequentialBackend with 1 concurrent workers.\n",
      "[Parallel(n_jobs=1)]: Done  30 out of  30 | elapsed:    1.4s finished\n"
     ]
    }
   ],
   "source": [
    "knn_gridsearch.fit(X_sm_und, y_sm_und);"
   ]
  },
  {
   "cell_type": "code",
   "execution_count": 58,
   "metadata": {},
   "outputs": [
    {
     "name": "stdout",
     "output_type": "stream",
     "text": [
      "0.5324182109357126\n",
      "{'metric': 'euclidean', 'n_neighbors': 3}\n"
     ]
    }
   ],
   "source": [
    "print(knn_gridsearch.best_score_)\n",
    "print(knn_gridsearch.best_params_)"
   ]
  },
  {
   "cell_type": "code",
   "execution_count": 59,
   "metadata": {},
   "outputs": [
    {
     "name": "stdout",
     "output_type": "stream",
     "text": [
      "KNN Gridsearch Training Results:\n",
      "0.8512160228898427\n",
      "0.778969957081545\n",
      "\n",
      "KNN Gridsearch Testing Results:\n",
      "0.749211356466877\n",
      "0.4752475247524752\n"
     ]
    }
   ],
   "source": [
    "print('KNN Gridsearch Training Results:')\n",
    "print(accuracy_score(y_sm_und, knn_gridsearch.predict(X_sm_und)))\n",
    "print(knn_gridsearch.score(X_sm_und, y_sm_und))\n",
    "\n",
    "print('\\nKNN Gridsearch Testing Results:')\n",
    "print(accuracy_score(y_test, knn_gridsearch.predict(X_test_sc)))\n",
    "print(knn_gridsearch.score(X_test_sc, y_test))\n"
   ]
  },
  {
   "cell_type": "code",
   "execution_count": 60,
   "metadata": {},
   "outputs": [],
   "source": [
    "# Save the best model\n",
    "knn_model = knn_gridsearch"
   ]
  },
  {
   "cell_type": "markdown",
   "metadata": {},
   "source": [
    "## Gridsearch over RF to fine tune model"
   ]
  },
  {
   "cell_type": "code",
   "execution_count": 61,
   "metadata": {},
   "outputs": [
    {
     "name": "stdout",
     "output_type": "stream",
     "text": [
      "Fitting 5 folds for each of 18 candidates, totalling 90 fits\n"
     ]
    },
    {
     "name": "stderr",
     "output_type": "stream",
     "text": [
      "[Parallel(n_jobs=1)]: Using backend SequentialBackend with 1 concurrent workers.\n",
      "[Parallel(n_jobs=1)]: Done  90 out of  90 | elapsed:   14.8s finished\n"
     ]
    },
    {
     "name": "stdout",
     "output_type": "stream",
     "text": [
      "0.4358041638069092\n"
     ]
    },
    {
     "data": {
      "text/plain": [
       "{'max_depth': None, 'n_estimators': 100}"
      ]
     },
     "execution_count": 61,
     "metadata": {},
     "output_type": "execute_result"
    }
   ],
   "source": [
    "rf_params = {\n",
    "    'n_estimators': [50,75,100],\n",
    "    'max_depth': [None, 1, 2, 3, 4, 5],\n",
    "}\n",
    "rf_gs = GridSearchCV(RandomForestClassifier(), param_grid=rf_params, cv=5, \n",
    "                     verbose= 1, scoring= 'recall')\n",
    "rf_gs.fit(X_sm_und, y_sm_und)\n",
    "print(rf_gs.best_score_)\n",
    "rf_gs.best_params_"
   ]
  },
  {
   "cell_type": "code",
   "execution_count": 62,
   "metadata": {},
   "outputs": [
    {
     "name": "stdout",
     "output_type": "stream",
     "text": [
      "RF Gridsearch Training Results:\n",
      "1.0\n",
      "1.0\n",
      "\n",
      "RF Gridsearch Testing Results:\n",
      "0.889589905362776\n",
      "0.38613861386138615\n"
     ]
    }
   ],
   "source": [
    "print('RF Gridsearch Training Results:')\n",
    "print(accuracy_score(y_sm_und, rf_gs.predict(X_sm_und)))\n",
    "print(rf_gs.score(X_sm_und, y_sm_und))\n",
    "\n",
    "\n",
    "print('\\nRF Gridsearch Testing Results:')\n",
    "print(accuracy_score(y_test, rf_gs.predict(X_test_sc)))\n",
    "print(rf_gs.score(X_test_sc, y_test))\n"
   ]
  },
  {
   "cell_type": "markdown",
   "metadata": {},
   "source": [
    "## Gridsearch over ET to fine tune model"
   ]
  },
  {
   "cell_type": "code",
   "execution_count": 63,
   "metadata": {},
   "outputs": [
    {
     "name": "stdout",
     "output_type": "stream",
     "text": [
      "Fitting 5 folds for each of 18 candidates, totalling 90 fits\n"
     ]
    },
    {
     "name": "stderr",
     "output_type": "stream",
     "text": [
      "[Parallel(n_jobs=1)]: Using backend SequentialBackend with 1 concurrent workers.\n",
      "[Parallel(n_jobs=1)]: Done  90 out of  90 | elapsed:   22.3s finished\n"
     ]
    },
    {
     "name": "stdout",
     "output_type": "stream",
     "text": [
      "0.4594371997254633\n"
     ]
    },
    {
     "data": {
      "text/plain": [
       "{'max_depth': None, 'n_estimators': 100}"
      ]
     },
     "execution_count": 63,
     "metadata": {},
     "output_type": "execute_result"
    }
   ],
   "source": [
    "et_params = {\n",
    "    'n_estimators': [100, 150, 200],\n",
    "    'max_depth': [None, 1, 2, 3, 4, 5],\n",
    "}\n",
    "et_gs = GridSearchCV(ExtraTreesClassifier(), param_grid=et_params, cv=5, \n",
    "                     verbose= 1, scoring= 'recall')\n",
    "et_gs.fit(X_sm_und, y_sm_und)\n",
    "print(et_gs.best_score_)\n",
    "et_gs.best_params_"
   ]
  },
  {
   "cell_type": "code",
   "execution_count": 64,
   "metadata": {},
   "outputs": [
    {
     "name": "stdout",
     "output_type": "stream",
     "text": [
      "ET Gridsearch Training Results:\n",
      "1.0\n",
      "1.0\n",
      "\n",
      "ET Gridsearch Testing Results:\n",
      "0.8675078864353313\n",
      "0.39603960396039606\n"
     ]
    }
   ],
   "source": [
    "print('ET Gridsearch Training Results:')\n",
    "print(accuracy_score(y_sm_und, et_gs.predict(X_sm_und)))\n",
    "print(et_gs.score(X_sm_und, y_sm_und))\n",
    "\n",
    "\n",
    "print('\\nET Gridsearch Testing Results:')\n",
    "print(accuracy_score(y_test, et_gs.predict(X_test_sc)))\n",
    "print(et_gs.score(X_test_sc, y_test))\n"
   ]
  },
  {
   "cell_type": "markdown",
   "metadata": {},
   "source": [
    "**INTERPRETATION:** While KNN had the best scores, it is a less interpretable model than Random Forest with the second best scores.  It was important for the client to be able to see the featre importance. In other words, he wanted to know which values of a boat or owner are most influential when predicting the likelihood of a claim."
   ]
  },
  {
   "cell_type": "markdown",
   "metadata": {},
   "source": [
    "---\n",
    "## Fine tuning our model: Random Forest"
   ]
  },
  {
   "cell_type": "code",
   "execution_count": 65,
   "metadata": {},
   "outputs": [],
   "source": [
    "# Create a table to input results of best model once I start playing around with it again\n",
    "final_results_table = pd.DataFrame(columns=['Accuracy', 'Recall'])"
   ]
  },
  {
   "cell_type": "code",
   "execution_count": 66,
   "metadata": {},
   "outputs": [
    {
     "data": {
      "text/plain": [
       "{'max_depth': None, 'n_estimators': 100}"
      ]
     },
     "execution_count": 66,
     "metadata": {},
     "output_type": "execute_result"
    }
   ],
   "source": [
    "# Reminder of best params for RF\n",
    "rf_gs.best_params_"
   ]
  },
  {
   "cell_type": "code",
   "execution_count": 67,
   "metadata": {},
   "outputs": [],
   "source": [
    "best_model_rf = RandomForestClassifier(max_depth=None, n_estimators=75,random_state=42)\n",
    "best_model_rf.fit(X_sm_und, y_sm_und)\n",
    "bm_rf_pred = best_model_rf.predict(X_test_sc)"
   ]
  },
  {
   "cell_type": "code",
   "execution_count": 68,
   "metadata": {},
   "outputs": [
    {
     "data": {
      "text/html": [
       "<div>\n",
       "<style scoped>\n",
       "    .dataframe tbody tr th:only-of-type {\n",
       "        vertical-align: middle;\n",
       "    }\n",
       "\n",
       "    .dataframe tbody tr th {\n",
       "        vertical-align: top;\n",
       "    }\n",
       "\n",
       "    .dataframe thead th {\n",
       "        text-align: right;\n",
       "    }\n",
       "</style>\n",
       "<table border=\"1\" class=\"dataframe\">\n",
       "  <thead>\n",
       "    <tr style=\"text-align: right;\">\n",
       "      <th></th>\n",
       "      <th>Accuracy</th>\n",
       "      <th>Recall</th>\n",
       "    </tr>\n",
       "  </thead>\n",
       "  <tbody>\n",
       "    <tr>\n",
       "      <th>RF(Training)</th>\n",
       "      <td>1.000000</td>\n",
       "      <td>1.000000</td>\n",
       "    </tr>\n",
       "    <tr>\n",
       "      <th>RF(Testing)</th>\n",
       "      <td>0.880126</td>\n",
       "      <td>0.415842</td>\n",
       "    </tr>\n",
       "  </tbody>\n",
       "</table>\n",
       "</div>"
      ],
      "text/plain": [
       "              Accuracy    Recall\n",
       "RF(Training)  1.000000  1.000000\n",
       "RF(Testing)   0.880126  0.415842"
      ]
     },
     "execution_count": 68,
     "metadata": {},
     "output_type": "execute_result"
    }
   ],
   "source": [
    "rf_first_train = pd.Series(data=[best_model_rf.score(X_sm_und, y_sm_und), recall_score(y_sm_und, best_model_rf.predict(X_sm_und))],\n",
    "                                 index=final_results_table.columns, name = 'RF(Training)')\n",
    "                                 \n",
    "rf_first_test = pd.Series(data=[best_model_rf.score(X_test_sc, y_test), recall_score(y_test, best_model_rf.predict(X_test_sc))],\n",
    "                               index=final_results_table.columns, name = 'RF(Testing)')\n",
    "\n",
    "final_results_table = final_results_table.append([rf_first_train, rf_first_test])\n",
    "\n",
    "final_results_table"
   ]
  },
  {
   "cell_type": "markdown",
   "metadata": {},
   "source": [
    "**INTERPRETATION:** Model is overfit, I will try to play around with the feature selection below."
   ]
  },
  {
   "cell_type": "code",
   "execution_count": 69,
   "metadata": {},
   "outputs": [
    {
     "data": {
      "text/html": [
       "<div>\n",
       "<style scoped>\n",
       "    .dataframe tbody tr th:only-of-type {\n",
       "        vertical-align: middle;\n",
       "    }\n",
       "\n",
       "    .dataframe tbody tr th {\n",
       "        vertical-align: top;\n",
       "    }\n",
       "\n",
       "    .dataframe thead th {\n",
       "        text-align: right;\n",
       "    }\n",
       "</style>\n",
       "<table border=\"1\" class=\"dataframe\">\n",
       "  <thead>\n",
       "    <tr style=\"text-align: right;\">\n",
       "      <th></th>\n",
       "      <th>Variable</th>\n",
       "      <th>Importance</th>\n",
       "    </tr>\n",
       "  </thead>\n",
       "  <tbody>\n",
       "    <tr>\n",
       "      <th>0</th>\n",
       "      <td>policy_length</td>\n",
       "      <td>0.157260</td>\n",
       "    </tr>\n",
       "    <tr>\n",
       "      <th>1</th>\n",
       "      <td>Hull Limit</td>\n",
       "      <td>0.103695</td>\n",
       "    </tr>\n",
       "    <tr>\n",
       "      <th>2</th>\n",
       "      <td>Age</td>\n",
       "      <td>0.103462</td>\n",
       "    </tr>\n",
       "    <tr>\n",
       "      <th>3</th>\n",
       "      <td>Length</td>\n",
       "      <td>0.102866</td>\n",
       "    </tr>\n",
       "    <tr>\n",
       "      <th>4</th>\n",
       "      <td>Year Built</td>\n",
       "      <td>0.101853</td>\n",
       "    </tr>\n",
       "    <tr>\n",
       "      <th>5</th>\n",
       "      <td>Years Exp.</td>\n",
       "      <td>0.087033</td>\n",
       "    </tr>\n",
       "    <tr>\n",
       "      <th>6</th>\n",
       "      <td>New/Renl/Endt/Canc/Flat_new</td>\n",
       "      <td>0.026795</td>\n",
       "    </tr>\n",
       "    <tr>\n",
       "      <th>7</th>\n",
       "      <td># Engines</td>\n",
       "      <td>0.026460</td>\n",
       "    </tr>\n",
       "    <tr>\n",
       "      <th>9</th>\n",
       "      <td>Occupation_other</td>\n",
       "      <td>0.021376</td>\n",
       "    </tr>\n",
       "    <tr>\n",
       "      <th>10</th>\n",
       "      <td>Occupation_not reported</td>\n",
       "      <td>0.020300</td>\n",
       "    </tr>\n",
       "    <tr>\n",
       "      <th>17</th>\n",
       "      <td>Builder_other</td>\n",
       "      <td>0.019568</td>\n",
       "    </tr>\n",
       "    <tr>\n",
       "      <th>11</th>\n",
       "      <td>Married yes/no_yes</td>\n",
       "      <td>0.017915</td>\n",
       "    </tr>\n",
       "    <tr>\n",
       "      <th>16</th>\n",
       "      <td>Mooring County_other</td>\n",
       "      <td>0.017198</td>\n",
       "    </tr>\n",
       "    <tr>\n",
       "      <th>8</th>\n",
       "      <td>New/Renl/Endt/Canc/Flat_renl</td>\n",
       "      <td>0.016988</td>\n",
       "    </tr>\n",
       "    <tr>\n",
       "      <th>14</th>\n",
       "      <td>Mooring County_monroe</td>\n",
       "      <td>0.016637</td>\n",
       "    </tr>\n",
       "    <tr>\n",
       "      <th>12</th>\n",
       "      <td>Married yes/no_not reported</td>\n",
       "      <td>0.016478</td>\n",
       "    </tr>\n",
       "    <tr>\n",
       "      <th>13</th>\n",
       "      <td>Hull Type_multihull sail</td>\n",
       "      <td>0.015028</td>\n",
       "    </tr>\n",
       "    <tr>\n",
       "      <th>18</th>\n",
       "      <td>Occupation_retired</td>\n",
       "      <td>0.014061</td>\n",
       "    </tr>\n",
       "    <tr>\n",
       "      <th>19</th>\n",
       "      <td>Hull Type_motoryacht</td>\n",
       "      <td>0.013597</td>\n",
       "    </tr>\n",
       "    <tr>\n",
       "      <th>15</th>\n",
       "      <td>Hull Type_monohull sail</td>\n",
       "      <td>0.013127</td>\n",
       "    </tr>\n",
       "    <tr>\n",
       "      <th>21</th>\n",
       "      <td>Mooring County_caribbean</td>\n",
       "      <td>0.010667</td>\n",
       "    </tr>\n",
       "    <tr>\n",
       "      <th>28</th>\n",
       "      <td>Mooring County_bcs</td>\n",
       "      <td>0.009817</td>\n",
       "    </tr>\n",
       "    <tr>\n",
       "      <th>24</th>\n",
       "      <td>Hull Type_sportfisher</td>\n",
       "      <td>0.009650</td>\n",
       "    </tr>\n",
       "    <tr>\n",
       "      <th>20</th>\n",
       "      <td>New/Renl/Endt/Canc/Flat_endt</td>\n",
       "      <td>0.009388</td>\n",
       "    </tr>\n",
       "    <tr>\n",
       "      <th>25</th>\n",
       "      <td>Mooring County_broward</td>\n",
       "      <td>0.008923</td>\n",
       "    </tr>\n",
       "    <tr>\n",
       "      <th>22</th>\n",
       "      <td>Mooring County_miami-dade</td>\n",
       "      <td>0.008877</td>\n",
       "    </tr>\n",
       "    <tr>\n",
       "      <th>23</th>\n",
       "      <td>Mooring County_pinellas</td>\n",
       "      <td>0.008854</td>\n",
       "    </tr>\n",
       "    <tr>\n",
       "      <th>27</th>\n",
       "      <td>Hull Type_trawler</td>\n",
       "      <td>0.007602</td>\n",
       "    </tr>\n",
       "    <tr>\n",
       "      <th>26</th>\n",
       "      <td>Mooring County_san diego</td>\n",
       "      <td>0.007518</td>\n",
       "    </tr>\n",
       "    <tr>\n",
       "      <th>29</th>\n",
       "      <td>Mooring County_los angeles</td>\n",
       "      <td>0.007006</td>\n",
       "    </tr>\n",
       "  </tbody>\n",
       "</table>\n",
       "</div>"
      ],
      "text/plain": [
       "                        Variable  Importance\n",
       "0                  policy_length    0.157260\n",
       "1                     Hull Limit    0.103695\n",
       "2                            Age    0.103462\n",
       "3                         Length    0.102866\n",
       "4                     Year Built    0.101853\n",
       "5                     Years Exp.    0.087033\n",
       "6    New/Renl/Endt/Canc/Flat_new    0.026795\n",
       "7                      # Engines    0.026460\n",
       "9               Occupation_other    0.021376\n",
       "10       Occupation_not reported    0.020300\n",
       "17                 Builder_other    0.019568\n",
       "11            Married yes/no_yes    0.017915\n",
       "16          Mooring County_other    0.017198\n",
       "8   New/Renl/Endt/Canc/Flat_renl    0.016988\n",
       "14         Mooring County_monroe    0.016637\n",
       "12   Married yes/no_not reported    0.016478\n",
       "13      Hull Type_multihull sail    0.015028\n",
       "18            Occupation_retired    0.014061\n",
       "19          Hull Type_motoryacht    0.013597\n",
       "15       Hull Type_monohull sail    0.013127\n",
       "21      Mooring County_caribbean    0.010667\n",
       "28            Mooring County_bcs    0.009817\n",
       "24         Hull Type_sportfisher    0.009650\n",
       "20  New/Renl/Endt/Canc/Flat_endt    0.009388\n",
       "25        Mooring County_broward    0.008923\n",
       "22     Mooring County_miami-dade    0.008877\n",
       "23       Mooring County_pinellas    0.008854\n",
       "27             Hull Type_trawler    0.007602\n",
       "26      Mooring County_san diego    0.007518\n",
       "29    Mooring County_los angeles    0.007006"
      ]
     },
     "execution_count": 69,
     "metadata": {},
     "output_type": "execute_result"
    }
   ],
   "source": [
    "best_rf_feature_imp = pd.DataFrame({'Variable':X.columns,\n",
    "              'Importance':best_model_rf.feature_importances_}).sort_values('Importance', ascending=False)\n",
    "\n",
    "best_rf_feature_imp"
   ]
  },
  {
   "cell_type": "markdown",
   "metadata": {},
   "source": [
    "## Test best model with 'Policy Length' and 'New/Renl/Endt/Canc/Flat' removed"
   ]
  },
  {
   "cell_type": "markdown",
   "metadata": {},
   "source": [
    "**BELOW:** We decided to see how the model performed if we removed all features referring to how long a policy lasted and whether it was new, a renewal, or endorsement. We did this because we were more interested in predicting the likelihood of a claim for a new client, rather than clients at different stages of their relationship with the company."
   ]
  },
  {
   "cell_type": "code",
   "execution_count": 70,
   "metadata": {},
   "outputs": [
    {
     "data": {
      "text/plain": [
       "['New/Renl/Endt/Canc/Flat_endt',\n",
       " 'New/Renl/Endt/Canc/Flat_endt-canc',\n",
       " 'New/Renl/Endt/Canc/Flat_new',\n",
       " 'New/Renl/Endt/Canc/Flat_renl',\n",
       " 'policy_length',\n",
       " 'num_claims',\n",
       " 'binary']"
      ]
     },
     "execution_count": 70,
     "metadata": {},
     "output_type": "execute_result"
    }
   ],
   "source": [
    "# Create a list of all the columns to be removed\n",
    "removals = [col for col in combined if col.startswith('New/Renl/Endt/Canc/Flat')]\n",
    "removals.append('policy_length')\n",
    "removals.append('num_claims')\n",
    "removals.append('binary')\n",
    "removals"
   ]
  },
  {
   "cell_type": "code",
   "execution_count": 71,
   "metadata": {},
   "outputs": [],
   "source": [
    "# Drop all columns from the above list and instantiat/fit the same Random Forest model\n",
    "X = combined.drop(columns=removals)\n",
    "y = combined['binary']\n",
    "X_train, X_test, y_train, y_test = train_test_split(X, y, test_size=.2, random_state=42, stratify=y)\n",
    "\n",
    "ss = StandardScaler()\n",
    "X_train_sc = ss.fit_transform(X_train)\n",
    "X_test_sc = ss.transform(X_test)\n",
    "\n",
    "over = SMOTE(sampling_strategy=0.1,random_state=42)\n",
    "under = RandomUnderSampler(sampling_strategy=0.5,random_state=42)\n",
    "steps = [('o', over), ('u', under)]\n",
    "pipeline = Pipeline(steps=steps)\n",
    "\n",
    "X_sm_und, y_sm_und = pipeline.fit_resample(X_train_sc, y_train)\n",
    "\n",
    "rf = RandomForestClassifier(max_depth=None, n_estimators=75,random_state=42)\n",
    "rf.fit(X_sm_und, y_sm_und)\n",
    "rf_pred = rf.predict(X_test_sc)"
   ]
  },
  {
   "cell_type": "code",
   "execution_count": 72,
   "metadata": {},
   "outputs": [
    {
     "data": {
      "text/html": [
       "<div>\n",
       "<style scoped>\n",
       "    .dataframe tbody tr th:only-of-type {\n",
       "        vertical-align: middle;\n",
       "    }\n",
       "\n",
       "    .dataframe tbody tr th {\n",
       "        vertical-align: top;\n",
       "    }\n",
       "\n",
       "    .dataframe thead th {\n",
       "        text-align: right;\n",
       "    }\n",
       "</style>\n",
       "<table border=\"1\" class=\"dataframe\">\n",
       "  <thead>\n",
       "    <tr style=\"text-align: right;\">\n",
       "      <th></th>\n",
       "      <th>Accuracy</th>\n",
       "      <th>Recall</th>\n",
       "    </tr>\n",
       "  </thead>\n",
       "  <tbody>\n",
       "    <tr>\n",
       "      <th>RF(Training)</th>\n",
       "      <td>1.000000</td>\n",
       "      <td>1.000000</td>\n",
       "    </tr>\n",
       "    <tr>\n",
       "      <th>RF(Testing)</th>\n",
       "      <td>0.880126</td>\n",
       "      <td>0.415842</td>\n",
       "    </tr>\n",
       "    <tr>\n",
       "      <th>RF_Feature_Drop(Training)</th>\n",
       "      <td>0.962089</td>\n",
       "      <td>0.929185</td>\n",
       "    </tr>\n",
       "    <tr>\n",
       "      <th>RF_Feature_Drop(Testing)</th>\n",
       "      <td>0.866719</td>\n",
       "      <td>0.455446</td>\n",
       "    </tr>\n",
       "  </tbody>\n",
       "</table>\n",
       "</div>"
      ],
      "text/plain": [
       "                           Accuracy    Recall\n",
       "RF(Training)               1.000000  1.000000\n",
       "RF(Testing)                0.880126  0.415842\n",
       "RF_Feature_Drop(Training)  0.962089  0.929185\n",
       "RF_Feature_Drop(Testing)   0.866719  0.455446"
      ]
     },
     "execution_count": 72,
     "metadata": {},
     "output_type": "execute_result"
    }
   ],
   "source": [
    "# add the results to the new final results table\n",
    "\n",
    "rf_second_train = pd.Series(data=[rf.score(X_sm_und, y_sm_und), recall_score(y_sm_und, rf.predict(X_sm_und))],\n",
    "                                 index=final_results_table.columns, name = 'RF_Feature_Drop(Training)')\n",
    "                                 \n",
    "rf_second_test = pd.Series(data=[rf.score(X_test_sc, y_test), recall_score(y_test, rf.predict(X_test_sc))],\n",
    "                               index=final_results_table.columns, name = 'RF_Feature_Drop(Testing)')\n",
    "\n",
    "final_results_table = final_results_table.append([rf_second_train, rf_second_test])\n",
    "\n",
    "final_results_table"
   ]
  },
  {
   "cell_type": "markdown",
   "metadata": {},
   "source": [
    "**INTERPRETATION:** The model is slightly less overfiit now but has the same recall score. I'll take the same steps as before to fine tune the model further."
   ]
  },
  {
   "cell_type": "code",
   "execution_count": 73,
   "metadata": {},
   "outputs": [
    {
     "data": {
      "text/html": [
       "<div>\n",
       "<style scoped>\n",
       "    .dataframe tbody tr th:only-of-type {\n",
       "        vertical-align: middle;\n",
       "    }\n",
       "\n",
       "    .dataframe tbody tr th {\n",
       "        vertical-align: top;\n",
       "    }\n",
       "\n",
       "    .dataframe thead th {\n",
       "        text-align: right;\n",
       "    }\n",
       "</style>\n",
       "<table border=\"1\" class=\"dataframe\">\n",
       "  <thead>\n",
       "    <tr style=\"text-align: right;\">\n",
       "      <th></th>\n",
       "      <th>Variable</th>\n",
       "      <th>Importance</th>\n",
       "    </tr>\n",
       "  </thead>\n",
       "  <tbody>\n",
       "    <tr>\n",
       "      <th>3</th>\n",
       "      <td>Hull Limit</td>\n",
       "      <td>0.098868</td>\n",
       "    </tr>\n",
       "    <tr>\n",
       "      <th>2</th>\n",
       "      <td>Length</td>\n",
       "      <td>0.095312</td>\n",
       "    </tr>\n",
       "    <tr>\n",
       "      <th>5</th>\n",
       "      <td>Age</td>\n",
       "      <td>0.094624</td>\n",
       "    </tr>\n",
       "    <tr>\n",
       "      <th>1</th>\n",
       "      <td>Year Built</td>\n",
       "      <td>0.085651</td>\n",
       "    </tr>\n",
       "    <tr>\n",
       "      <th>0</th>\n",
       "      <td>Years Exp.</td>\n",
       "      <td>0.079403</td>\n",
       "    </tr>\n",
       "    <tr>\n",
       "      <th>...</th>\n",
       "      <td>...</td>\n",
       "      <td>...</td>\n",
       "    </tr>\n",
       "    <tr>\n",
       "      <th>17</th>\n",
       "      <td>Occupation_manager</td>\n",
       "      <td>0.000468</td>\n",
       "    </tr>\n",
       "    <tr>\n",
       "      <th>111</th>\n",
       "      <td>Mooring County_whatcom</td>\n",
       "      <td>0.000380</td>\n",
       "    </tr>\n",
       "    <tr>\n",
       "      <th>40</th>\n",
       "      <td>Builder_offshore</td>\n",
       "      <td>0.000296</td>\n",
       "    </tr>\n",
       "    <tr>\n",
       "      <th>84</th>\n",
       "      <td>Mooring County_marin</td>\n",
       "      <td>0.000195</td>\n",
       "    </tr>\n",
       "    <tr>\n",
       "      <th>27</th>\n",
       "      <td>Occupation_software developer</td>\n",
       "      <td>0.000132</td>\n",
       "    </tr>\n",
       "  </tbody>\n",
       "</table>\n",
       "<p>112 rows × 2 columns</p>\n",
       "</div>"
      ],
      "text/plain": [
       "                          Variable  Importance\n",
       "3                       Hull Limit    0.098868\n",
       "2                           Length    0.095312\n",
       "5                              Age    0.094624\n",
       "1                       Year Built    0.085651\n",
       "0                       Years Exp.    0.079403\n",
       "..                             ...         ...\n",
       "17              Occupation_manager    0.000468\n",
       "111         Mooring County_whatcom    0.000380\n",
       "40                Builder_offshore    0.000296\n",
       "84            Mooring County_marin    0.000195\n",
       "27   Occupation_software developer    0.000132\n",
       "\n",
       "[112 rows x 2 columns]"
      ]
     },
     "execution_count": 73,
     "metadata": {},
     "output_type": "execute_result"
    }
   ],
   "source": [
    "# Take a look at the most important features for this model\n",
    "rf_feature_imp = pd.DataFrame({'Variable':X.columns,\n",
    "              'Importance':rf.feature_importances_}).sort_values('Importance', ascending=False)\n",
    "\n",
    "rf_feature_imp"
   ]
  },
  {
   "cell_type": "code",
   "execution_count": 74,
   "metadata": {},
   "outputs": [
    {
     "data": {
      "text/html": [
       "<div>\n",
       "<style scoped>\n",
       "    .dataframe tbody tr th:only-of-type {\n",
       "        vertical-align: middle;\n",
       "    }\n",
       "\n",
       "    .dataframe tbody tr th {\n",
       "        vertical-align: top;\n",
       "    }\n",
       "\n",
       "    .dataframe thead th {\n",
       "        text-align: right;\n",
       "    }\n",
       "</style>\n",
       "<table border=\"1\" class=\"dataframe\">\n",
       "  <thead>\n",
       "    <tr style=\"text-align: right;\">\n",
       "      <th></th>\n",
       "      <th>Variable</th>\n",
       "      <th>Importance</th>\n",
       "    </tr>\n",
       "  </thead>\n",
       "  <tbody>\n",
       "    <tr>\n",
       "      <th>3</th>\n",
       "      <td>Hull Limit</td>\n",
       "      <td>0.098868</td>\n",
       "    </tr>\n",
       "    <tr>\n",
       "      <th>2</th>\n",
       "      <td>Length</td>\n",
       "      <td>0.095312</td>\n",
       "    </tr>\n",
       "    <tr>\n",
       "      <th>5</th>\n",
       "      <td>Age</td>\n",
       "      <td>0.094624</td>\n",
       "    </tr>\n",
       "    <tr>\n",
       "      <th>1</th>\n",
       "      <td>Year Built</td>\n",
       "      <td>0.085651</td>\n",
       "    </tr>\n",
       "    <tr>\n",
       "      <th>0</th>\n",
       "      <td>Years Exp.</td>\n",
       "      <td>0.079403</td>\n",
       "    </tr>\n",
       "    <tr>\n",
       "      <th>...</th>\n",
       "      <td>...</td>\n",
       "      <td>...</td>\n",
       "    </tr>\n",
       "    <tr>\n",
       "      <th>17</th>\n",
       "      <td>Occupation_manager</td>\n",
       "      <td>0.000468</td>\n",
       "    </tr>\n",
       "    <tr>\n",
       "      <th>111</th>\n",
       "      <td>Mooring County_whatcom</td>\n",
       "      <td>0.000380</td>\n",
       "    </tr>\n",
       "    <tr>\n",
       "      <th>40</th>\n",
       "      <td>Builder_offshore</td>\n",
       "      <td>0.000296</td>\n",
       "    </tr>\n",
       "    <tr>\n",
       "      <th>84</th>\n",
       "      <td>Mooring County_marin</td>\n",
       "      <td>0.000195</td>\n",
       "    </tr>\n",
       "    <tr>\n",
       "      <th>27</th>\n",
       "      <td>Occupation_software developer</td>\n",
       "      <td>0.000132</td>\n",
       "    </tr>\n",
       "  </tbody>\n",
       "</table>\n",
       "<p>112 rows × 2 columns</p>\n",
       "</div>"
      ],
      "text/plain": [
       "                          Variable  Importance\n",
       "3                       Hull Limit    0.098868\n",
       "2                           Length    0.095312\n",
       "5                              Age    0.094624\n",
       "1                       Year Built    0.085651\n",
       "0                       Years Exp.    0.079403\n",
       "..                             ...         ...\n",
       "17              Occupation_manager    0.000468\n",
       "111         Mooring County_whatcom    0.000380\n",
       "40                Builder_offshore    0.000296\n",
       "84            Mooring County_marin    0.000195\n",
       "27   Occupation_software developer    0.000132\n",
       "\n",
       "[112 rows x 2 columns]"
      ]
     },
     "execution_count": 74,
     "metadata": {},
     "output_type": "execute_result"
    }
   ],
   "source": [
    "rf_feature_imp"
   ]
  },
  {
   "cell_type": "markdown",
   "metadata": {},
   "source": [
    "## Try it after keeping only the top 30 features from above"
   ]
  },
  {
   "cell_type": "code",
   "execution_count": 75,
   "metadata": {},
   "outputs": [
    {
     "data": {
      "text/plain": [
       "['Hull Limit',\n",
       " 'Length',\n",
       " 'Age',\n",
       " 'Year Built',\n",
       " 'Years Exp.',\n",
       " '# Engines',\n",
       " 'Occupation_not reported',\n",
       " 'Mooring County_monroe',\n",
       " 'Mooring County_other',\n",
       " 'Occupation_other',\n",
       " 'Married yes/no_yes',\n",
       " 'Builder_other',\n",
       " 'Married yes/no_not reported',\n",
       " 'Hull Type_monohull sail',\n",
       " 'Hull Type_motoryacht',\n",
       " 'Mooring County_caribbean',\n",
       " 'Hull Type_multihull sail',\n",
       " 'Occupation_retired',\n",
       " 'Mooring County_miami-dade',\n",
       " 'Mooring County_pinellas',\n",
       " 'Mooring County_san diego',\n",
       " 'Mooring County_broward',\n",
       " 'Mooring County_bcs',\n",
       " 'Mooring County_orange',\n",
       " 'Builder_catana',\n",
       " 'Mooring County_los angeles',\n",
       " 'Hull Type_trawler',\n",
       " 'Mooring County_brevard',\n",
       " 'Hull Type_sportfisher',\n",
       " 'Mooring County_palm beach']"
      ]
     },
     "execution_count": 75,
     "metadata": {},
     "output_type": "execute_result"
    }
   ],
   "source": [
    "# Get the first 30 rows of the important features\n",
    "new_top_30 = rf_feature_imp[:30]\n",
    "\n",
    "# Make a list of the column names of the top 30\n",
    "new_top_30_features = [x for x in new_top_30['Variable']]\n",
    "\n",
    "new_top_30_features"
   ]
  },
  {
   "cell_type": "code",
   "execution_count": 76,
   "metadata": {},
   "outputs": [],
   "source": [
    "# Instantiate and fit the same Random Forest model only using the top 30 features\n",
    "X = combined[new_top_30_features]\n",
    "y = combined['binary']\n",
    "X_train, X_test, y_train, y_test = train_test_split(X, y, test_size=.2, random_state=42, stratify=y)\n",
    "\n",
    "ss = StandardScaler()\n",
    "X_train_sc = ss.fit_transform(X_train)\n",
    "X_test_sc = ss.transform(X_test)\n",
    "\n",
    "over = SMOTE(sampling_strategy=0.1,random_state=42)\n",
    "under = RandomUnderSampler(sampling_strategy=0.5,random_state=42)\n",
    "steps = [('o', over), ('u', under)]\n",
    "pipeline = Pipeline(steps=steps)\n",
    "\n",
    "X_sm_und, y_sm_und = pipeline.fit_resample(X_train_sc, y_train)\n",
    "\n",
    "rf = RandomForestClassifier(max_depth=None, n_estimators=75,random_state=42)\n",
    "rf.fit(X_sm_und, y_sm_und)\n",
    "rf_pred = rf.predict(X_test_sc)"
   ]
  },
  {
   "cell_type": "code",
   "execution_count": 77,
   "metadata": {},
   "outputs": [
    {
     "data": {
      "text/html": [
       "<div>\n",
       "<style scoped>\n",
       "    .dataframe tbody tr th:only-of-type {\n",
       "        vertical-align: middle;\n",
       "    }\n",
       "\n",
       "    .dataframe tbody tr th {\n",
       "        vertical-align: top;\n",
       "    }\n",
       "\n",
       "    .dataframe thead th {\n",
       "        text-align: right;\n",
       "    }\n",
       "</style>\n",
       "<table border=\"1\" class=\"dataframe\">\n",
       "  <thead>\n",
       "    <tr style=\"text-align: right;\">\n",
       "      <th></th>\n",
       "      <th>Accuracy</th>\n",
       "      <th>Recall</th>\n",
       "    </tr>\n",
       "  </thead>\n",
       "  <tbody>\n",
       "    <tr>\n",
       "      <th>RF(Training)</th>\n",
       "      <td>1.000000</td>\n",
       "      <td>1.000000</td>\n",
       "    </tr>\n",
       "    <tr>\n",
       "      <th>RF(Testing)</th>\n",
       "      <td>0.880126</td>\n",
       "      <td>0.415842</td>\n",
       "    </tr>\n",
       "    <tr>\n",
       "      <th>RF_Feature_Drop(Training)</th>\n",
       "      <td>0.962089</td>\n",
       "      <td>0.929185</td>\n",
       "    </tr>\n",
       "    <tr>\n",
       "      <th>RF_Feature_Drop(Testing)</th>\n",
       "      <td>0.866719</td>\n",
       "      <td>0.455446</td>\n",
       "    </tr>\n",
       "    <tr>\n",
       "      <th>RF_Top_30(Training)</th>\n",
       "      <td>0.959227</td>\n",
       "      <td>0.929185</td>\n",
       "    </tr>\n",
       "    <tr>\n",
       "      <th>RF_Top_30(Testing)</th>\n",
       "      <td>0.846215</td>\n",
       "      <td>0.455446</td>\n",
       "    </tr>\n",
       "  </tbody>\n",
       "</table>\n",
       "</div>"
      ],
      "text/plain": [
       "                           Accuracy    Recall\n",
       "RF(Training)               1.000000  1.000000\n",
       "RF(Testing)                0.880126  0.415842\n",
       "RF_Feature_Drop(Training)  0.962089  0.929185\n",
       "RF_Feature_Drop(Testing)   0.866719  0.455446\n",
       "RF_Top_30(Training)        0.959227  0.929185\n",
       "RF_Top_30(Testing)         0.846215  0.455446"
      ]
     },
     "execution_count": 77,
     "metadata": {},
     "output_type": "execute_result"
    }
   ],
   "source": [
    "# Add results to the final table\n",
    "rf_third_train = pd.Series(data=[rf.score(X_sm_und, y_sm_und), recall_score(y_sm_und, rf.predict(X_sm_und))],\n",
    "                                 index=final_results_table.columns, name = 'RF_Top_30(Training)')\n",
    "                                 \n",
    "rf_third_test = pd.Series(data=[rf.score(X_test_sc, y_test), recall_score(y_test, rf.predict(X_test_sc))],\n",
    "                               index=final_results_table.columns, name = 'RF_Top_30(Testing)')\n",
    "\n",
    "final_results_table = final_results_table.append([rf_third_train, rf_third_test])\n",
    "\n",
    "final_results_table"
   ]
  },
  {
   "cell_type": "markdown",
   "metadata": {},
   "source": [
    "**INTERPRETATION:** The recall score has improved on our model."
   ]
  },
  {
   "cell_type": "markdown",
   "metadata": {},
   "source": [
    "---\n",
    "## Try gridsearch again with top 30 features"
   ]
  },
  {
   "cell_type": "code",
   "execution_count": 78,
   "metadata": {},
   "outputs": [
    {
     "name": "stdout",
     "output_type": "stream",
     "text": [
      "Fitting 5 folds for each of 18 candidates, totalling 90 fits\n"
     ]
    },
    {
     "name": "stderr",
     "output_type": "stream",
     "text": [
      "[Parallel(n_jobs=1)]: Using backend SequentialBackend with 1 concurrent workers.\n",
      "[Parallel(n_jobs=1)]: Done  90 out of  90 | elapsed:   15.0s finished\n"
     ]
    },
    {
     "name": "stdout",
     "output_type": "stream",
     "text": [
      "0.45733241821093573\n"
     ]
    },
    {
     "data": {
      "text/plain": [
       "{'max_depth': None, 'n_estimators': 75}"
      ]
     },
     "execution_count": 78,
     "metadata": {},
     "output_type": "execute_result"
    }
   ],
   "source": [
    "rf_params = {\n",
    "    'n_estimators': [50,75,100],\n",
    "    'max_depth': [None, 1, 2, 3, 4, 5],\n",
    "}\n",
    "rf_gs = GridSearchCV(RandomForestClassifier(), param_grid=rf_params, cv=5, \n",
    "                     verbose= 1, scoring= 'recall')\n",
    "rf_gs.fit(X_sm_und, y_sm_und)\n",
    "print(rf_gs.best_score_)\n",
    "rf_gs.best_params_"
   ]
  },
  {
   "cell_type": "markdown",
   "metadata": {},
   "source": [
    "**INTERPRETATION:** We got the same best parameters ({'max_depth': None, 'n_estimators': 75}) so we don't need to run the model again."
   ]
  },
  {
   "cell_type": "code",
   "execution_count": 79,
   "metadata": {},
   "outputs": [
    {
     "data": {
      "text/html": [
       "<div>\n",
       "<style scoped>\n",
       "    .dataframe tbody tr th:only-of-type {\n",
       "        vertical-align: middle;\n",
       "    }\n",
       "\n",
       "    .dataframe tbody tr th {\n",
       "        vertical-align: top;\n",
       "    }\n",
       "\n",
       "    .dataframe thead th {\n",
       "        text-align: right;\n",
       "    }\n",
       "</style>\n",
       "<table border=\"1\" class=\"dataframe\">\n",
       "  <thead>\n",
       "    <tr style=\"text-align: right;\">\n",
       "      <th></th>\n",
       "      <th>Accuracy</th>\n",
       "      <th>Recall</th>\n",
       "    </tr>\n",
       "  </thead>\n",
       "  <tbody>\n",
       "    <tr>\n",
       "      <th>RF(Training)</th>\n",
       "      <td>1.000000</td>\n",
       "      <td>1.000000</td>\n",
       "    </tr>\n",
       "    <tr>\n",
       "      <th>RF(Testing)</th>\n",
       "      <td>0.880126</td>\n",
       "      <td>0.415842</td>\n",
       "    </tr>\n",
       "    <tr>\n",
       "      <th>RF_Feature_Drop(Training)</th>\n",
       "      <td>0.962089</td>\n",
       "      <td>0.929185</td>\n",
       "    </tr>\n",
       "    <tr>\n",
       "      <th>RF_Feature_Drop(Testing)</th>\n",
       "      <td>0.866719</td>\n",
       "      <td>0.455446</td>\n",
       "    </tr>\n",
       "    <tr>\n",
       "      <th>RF_Top_30(Training)</th>\n",
       "      <td>0.959227</td>\n",
       "      <td>0.929185</td>\n",
       "    </tr>\n",
       "    <tr>\n",
       "      <th>RF_Top_30(Testing)</th>\n",
       "      <td>0.846215</td>\n",
       "      <td>0.455446</td>\n",
       "    </tr>\n",
       "  </tbody>\n",
       "</table>\n",
       "</div>"
      ],
      "text/plain": [
       "                           Accuracy    Recall\n",
       "RF(Training)               1.000000  1.000000\n",
       "RF(Testing)                0.880126  0.415842\n",
       "RF_Feature_Drop(Training)  0.962089  0.929185\n",
       "RF_Feature_Drop(Testing)   0.866719  0.455446\n",
       "RF_Top_30(Training)        0.959227  0.929185\n",
       "RF_Top_30(Testing)         0.846215  0.455446"
      ]
     },
     "execution_count": 79,
     "metadata": {},
     "output_type": "execute_result"
    }
   ],
   "source": [
    "# Look at the final results again\n",
    "final_results_table"
   ]
  },
  {
   "cell_type": "markdown",
   "metadata": {},
   "source": [
    "---\n",
    "## Most important features of our final model"
   ]
  },
  {
   "cell_type": "code",
   "execution_count": 80,
   "metadata": {},
   "outputs": [
    {
     "data": {
      "text/html": [
       "<div>\n",
       "<style scoped>\n",
       "    .dataframe tbody tr th:only-of-type {\n",
       "        vertical-align: middle;\n",
       "    }\n",
       "\n",
       "    .dataframe tbody tr th {\n",
       "        vertical-align: top;\n",
       "    }\n",
       "\n",
       "    .dataframe thead th {\n",
       "        text-align: right;\n",
       "    }\n",
       "</style>\n",
       "<table border=\"1\" class=\"dataframe\">\n",
       "  <thead>\n",
       "    <tr style=\"text-align: right;\">\n",
       "      <th></th>\n",
       "      <th>Variable</th>\n",
       "      <th>Importance</th>\n",
       "    </tr>\n",
       "  </thead>\n",
       "  <tbody>\n",
       "    <tr>\n",
       "      <th>0</th>\n",
       "      <td>Hull Limit</td>\n",
       "      <td>0.144070</td>\n",
       "    </tr>\n",
       "    <tr>\n",
       "      <th>2</th>\n",
       "      <td>Age</td>\n",
       "      <td>0.129772</td>\n",
       "    </tr>\n",
       "    <tr>\n",
       "      <th>1</th>\n",
       "      <td>Length</td>\n",
       "      <td>0.129598</td>\n",
       "    </tr>\n",
       "    <tr>\n",
       "      <th>3</th>\n",
       "      <td>Year Built</td>\n",
       "      <td>0.118854</td>\n",
       "    </tr>\n",
       "    <tr>\n",
       "      <th>4</th>\n",
       "      <td>Years Exp.</td>\n",
       "      <td>0.104851</td>\n",
       "    </tr>\n",
       "    <tr>\n",
       "      <th>5</th>\n",
       "      <td># Engines</td>\n",
       "      <td>0.026904</td>\n",
       "    </tr>\n",
       "    <tr>\n",
       "      <th>9</th>\n",
       "      <td>Occupation_other</td>\n",
       "      <td>0.025782</td>\n",
       "    </tr>\n",
       "    <tr>\n",
       "      <th>11</th>\n",
       "      <td>Builder_other</td>\n",
       "      <td>0.023952</td>\n",
       "    </tr>\n",
       "    <tr>\n",
       "      <th>6</th>\n",
       "      <td>Occupation_not reported</td>\n",
       "      <td>0.023459</td>\n",
       "    </tr>\n",
       "    <tr>\n",
       "      <th>8</th>\n",
       "      <td>Mooring County_other</td>\n",
       "      <td>0.021486</td>\n",
       "    </tr>\n",
       "    <tr>\n",
       "      <th>7</th>\n",
       "      <td>Mooring County_monroe</td>\n",
       "      <td>0.020823</td>\n",
       "    </tr>\n",
       "    <tr>\n",
       "      <th>12</th>\n",
       "      <td>Married yes/no_not reported</td>\n",
       "      <td>0.019889</td>\n",
       "    </tr>\n",
       "    <tr>\n",
       "      <th>10</th>\n",
       "      <td>Married yes/no_yes</td>\n",
       "      <td>0.019313</td>\n",
       "    </tr>\n",
       "    <tr>\n",
       "      <th>14</th>\n",
       "      <td>Hull Type_motoryacht</td>\n",
       "      <td>0.016577</td>\n",
       "    </tr>\n",
       "    <tr>\n",
       "      <th>17</th>\n",
       "      <td>Occupation_retired</td>\n",
       "      <td>0.015236</td>\n",
       "    </tr>\n",
       "    <tr>\n",
       "      <th>16</th>\n",
       "      <td>Hull Type_multihull sail</td>\n",
       "      <td>0.014630</td>\n",
       "    </tr>\n",
       "    <tr>\n",
       "      <th>15</th>\n",
       "      <td>Mooring County_caribbean</td>\n",
       "      <td>0.014012</td>\n",
       "    </tr>\n",
       "    <tr>\n",
       "      <th>13</th>\n",
       "      <td>Hull Type_monohull sail</td>\n",
       "      <td>0.013536</td>\n",
       "    </tr>\n",
       "    <tr>\n",
       "      <th>19</th>\n",
       "      <td>Mooring County_pinellas</td>\n",
       "      <td>0.012092</td>\n",
       "    </tr>\n",
       "    <tr>\n",
       "      <th>22</th>\n",
       "      <td>Mooring County_bcs</td>\n",
       "      <td>0.012008</td>\n",
       "    </tr>\n",
       "    <tr>\n",
       "      <th>18</th>\n",
       "      <td>Mooring County_miami-dade</td>\n",
       "      <td>0.010889</td>\n",
       "    </tr>\n",
       "    <tr>\n",
       "      <th>20</th>\n",
       "      <td>Mooring County_san diego</td>\n",
       "      <td>0.010672</td>\n",
       "    </tr>\n",
       "    <tr>\n",
       "      <th>21</th>\n",
       "      <td>Mooring County_broward</td>\n",
       "      <td>0.010375</td>\n",
       "    </tr>\n",
       "    <tr>\n",
       "      <th>26</th>\n",
       "      <td>Hull Type_trawler</td>\n",
       "      <td>0.010212</td>\n",
       "    </tr>\n",
       "    <tr>\n",
       "      <th>28</th>\n",
       "      <td>Hull Type_sportfisher</td>\n",
       "      <td>0.010189</td>\n",
       "    </tr>\n",
       "    <tr>\n",
       "      <th>25</th>\n",
       "      <td>Mooring County_los angeles</td>\n",
       "      <td>0.009820</td>\n",
       "    </tr>\n",
       "    <tr>\n",
       "      <th>29</th>\n",
       "      <td>Mooring County_palm beach</td>\n",
       "      <td>0.009059</td>\n",
       "    </tr>\n",
       "    <tr>\n",
       "      <th>23</th>\n",
       "      <td>Mooring County_orange</td>\n",
       "      <td>0.008186</td>\n",
       "    </tr>\n",
       "    <tr>\n",
       "      <th>27</th>\n",
       "      <td>Mooring County_brevard</td>\n",
       "      <td>0.006933</td>\n",
       "    </tr>\n",
       "    <tr>\n",
       "      <th>24</th>\n",
       "      <td>Builder_catana</td>\n",
       "      <td>0.006819</td>\n",
       "    </tr>\n",
       "  </tbody>\n",
       "</table>\n",
       "</div>"
      ],
      "text/plain": [
       "                       Variable  Importance\n",
       "0                    Hull Limit    0.144070\n",
       "2                           Age    0.129772\n",
       "1                        Length    0.129598\n",
       "3                    Year Built    0.118854\n",
       "4                    Years Exp.    0.104851\n",
       "5                     # Engines    0.026904\n",
       "9              Occupation_other    0.025782\n",
       "11                Builder_other    0.023952\n",
       "6       Occupation_not reported    0.023459\n",
       "8          Mooring County_other    0.021486\n",
       "7         Mooring County_monroe    0.020823\n",
       "12  Married yes/no_not reported    0.019889\n",
       "10           Married yes/no_yes    0.019313\n",
       "14         Hull Type_motoryacht    0.016577\n",
       "17           Occupation_retired    0.015236\n",
       "16     Hull Type_multihull sail    0.014630\n",
       "15     Mooring County_caribbean    0.014012\n",
       "13      Hull Type_monohull sail    0.013536\n",
       "19      Mooring County_pinellas    0.012092\n",
       "22           Mooring County_bcs    0.012008\n",
       "18    Mooring County_miami-dade    0.010889\n",
       "20     Mooring County_san diego    0.010672\n",
       "21       Mooring County_broward    0.010375\n",
       "26            Hull Type_trawler    0.010212\n",
       "28        Hull Type_sportfisher    0.010189\n",
       "25   Mooring County_los angeles    0.009820\n",
       "29    Mooring County_palm beach    0.009059\n",
       "23        Mooring County_orange    0.008186\n",
       "27       Mooring County_brevard    0.006933\n",
       "24               Builder_catana    0.006819"
      ]
     },
     "execution_count": 80,
     "metadata": {},
     "output_type": "execute_result"
    }
   ],
   "source": [
    "final_rf_feature_imp = pd.DataFrame({'Variable':X.columns,\n",
    "              'Importance':rf.feature_importances_}).sort_values('Importance', ascending=False)\n",
    "\n",
    "final_rf_feature_imp"
   ]
  },
  {
   "cell_type": "code",
   "execution_count": 81,
   "metadata": {},
   "outputs": [
    {
     "data": {
      "image/png": "[encoded data removed]",
      "text/plain": [
       "<Figure size 1080x576 with 1 Axes>"
      ]
     },
     "metadata": {
      "needs_background": "light"
     },
     "output_type": "display_data"
    }
   ],
   "source": [
    "# View the feature importances\n",
    "\n",
    "final_rf_feature_imp.plot(x = 'Variable', kind = 'bar', figsize= (15, 8))\n",
    "\n",
    "plt.xticks(rotation= 70,fontsize = 12)\n",
    "plt.xlabel('Feature',fontsize=18)\n",
    "plt.ylabel('Importance', fontsize=18)\n",
    "plt.title('Most Important Features of RF Model', fontsize=24)\n",
    "plt.savefig('../images/feature_importance.png', dpi=300, bbox_inches='tight');"
   ]
  },
  {
   "cell_type": "markdown",
   "metadata": {},
   "source": [
    "**INTERPRETATION:** According to our model, there are 5 most important features for predicting a claim:<br>\n",
    "1. Hull Limit (price of the boat)\n",
    "2. Age (of the owner)\n",
    "3. Length  (of the boat)\n",
    "4. Year Built (the boat)\n",
    "5. Years Experience  (of the owner)"
   ]
  },
  {
   "cell_type": "markdown",
   "metadata": {},
   "source": [
    "---\n",
    "## Conclusion:"
   ]
  },
  {
   "cell_type": "markdown",
   "metadata": {},
   "source": [
    "In this notebook we..."
   ]
  },
  {
   "cell_type": "code",
   "execution_count": null,
   "metadata": {},
   "outputs": [],
   "source": []
  }
 ],
 "metadata": {
  "kernelspec": {
   "display_name": "Python 3",
   "language": "python",
   "name": "python3"
  },
  "language_info": {
   "codemirror_mode": {
    "name": "ipython",
    "version": 3
   },
   "file_extension": ".py",
   "mimetype": "text/x-python",
   "name": "python",
   "nbconvert_exporter": "python",
   "pygments_lexer": "ipython3",
   "version": "3.8.3"
  }
 },
 "nbformat": 4,
 "nbformat_minor": 4
}
