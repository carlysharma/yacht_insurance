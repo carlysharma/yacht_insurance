{
 "cells": [
  {
   "cell_type": "markdown",
   "metadata": {},
   "source": [
    "# Yacht Insurance Claims Data \n",
    "##### NOTEBOOK 3"
   ]
  },
  {
   "cell_type": "markdown",
   "metadata": {},
   "source": [
    "**Problem Statement:** What is the likelihood that a yacht insurance policy has at least 1 claim within five years?"
   ]
  },
  {
   "cell_type": "markdown",
   "metadata": {},
   "source": [
    "**Contents:**\n",
    "1. Multiclass Classifcation Models\n",
    "2. Basic Binary Classification Models: KNN, Logistic Regression, Random Forest, Extra Trees\n",
    "3. Random Oversampling\n",
    "4. SMOTE Oversampling and Random Undersampling\n",
    "5. Logistic Regression with Regularization\n",
    "6. Fine Tuning Random Forest Model\n",
    "7. Results"
   ]
  },
  {
   "cell_type": "markdown",
   "metadata": {},
   "source": [
    "___\n",
    "## Import libraries and read in data"
   ]
  },
  {
   "cell_type": "code",
   "execution_count": 1,
   "metadata": {},
   "outputs": [],
   "source": [
    "import pandas as pd\n",
    "import seaborn as sns\n",
    "import numpy as np\n",
    "import matplotlib.pyplot as plt\n",
    "from sklearn.neighbors import KNeighborsClassifier\n",
    "from sklearn.model_selection import train_test_split, cross_val_score,GridSearchCV, RepeatedStratifiedKFold\n",
    "from sklearn.preprocessing import StandardScaler\n",
    "from sklearn.metrics import accuracy_score, classification_report, confusion_matrix, recall_score, f1_score \n",
    "from sklearn.ensemble import RandomForestClassifier, ExtraTreesClassifier\n",
    "from sklearn.tree import DecisionTreeClassifier\n",
    "from sklearn.pipeline import Pipeline\n",
    "from imblearn.over_sampling import SMOTE, RandomOverSampler\n",
    "from imblearn.under_sampling import RandomUnderSampler\n",
    "from imblearn.pipeline import Pipeline\n",
    "from collections import Counter\n",
    "from sklearn.linear_model import LogisticRegression, ElasticNetCV, LogisticRegressionCV\n",
    "from sklearn.inspection import permutation_importance\n",
    "from matplotlib import pyplot"
   ]
  },
  {
   "cell_type": "code",
   "execution_count": 2,
   "metadata": {},
   "outputs": [],
   "source": [
    "np.random.seed(42)"
   ]
  },
  {
   "cell_type": "code",
   "execution_count": 3,
   "metadata": {},
   "outputs": [
    {
     "data": {
      "text/html": [
       "<div>\n",
       "<style scoped>\n",
       "    .dataframe tbody tr th:only-of-type {\n",
       "        vertical-align: middle;\n",
       "    }\n",
       "\n",
       "    .dataframe tbody tr th {\n",
       "        vertical-align: top;\n",
       "    }\n",
       "\n",
       "    .dataframe thead th {\n",
       "        text-align: right;\n",
       "    }\n",
       "</style>\n",
       "<table border=\"1\" class=\"dataframe\">\n",
       "  <thead>\n",
       "    <tr style=\"text-align: right;\">\n",
       "      <th></th>\n",
       "      <th>Years Exp.</th>\n",
       "      <th>Year Built</th>\n",
       "      <th>Length</th>\n",
       "      <th>Hull Limit</th>\n",
       "      <th># Engines</th>\n",
       "      <th>num_claims</th>\n",
       "      <th>Age</th>\n",
       "      <th>policy_length</th>\n",
       "      <th>New/Renl/Endt/Canc/Flat_endt</th>\n",
       "      <th>New/Renl/Endt/Canc/Flat_endt-canc</th>\n",
       "      <th>...</th>\n",
       "      <th>Mooring County_sarasota</th>\n",
       "      <th>Mooring County_sinaloa</th>\n",
       "      <th>Mooring County_skagit</th>\n",
       "      <th>Mooring County_sonora</th>\n",
       "      <th>Mooring County_south pacific</th>\n",
       "      <th>Mooring County_st. johns</th>\n",
       "      <th>Mooring County_st. lucie</th>\n",
       "      <th>Mooring County_ventura</th>\n",
       "      <th>Mooring County_volusia</th>\n",
       "      <th>Mooring County_whatcom</th>\n",
       "    </tr>\n",
       "  </thead>\n",
       "  <tbody>\n",
       "    <tr>\n",
       "      <th>0</th>\n",
       "      <td>2.0</td>\n",
       "      <td>1997.0</td>\n",
       "      <td>63.0</td>\n",
       "      <td>500000.0</td>\n",
       "      <td>2.0</td>\n",
       "      <td>0.0</td>\n",
       "      <td>73</td>\n",
       "      <td>1759.0</td>\n",
       "      <td>0</td>\n",
       "      <td>0</td>\n",
       "      <td>...</td>\n",
       "      <td>0</td>\n",
       "      <td>0</td>\n",
       "      <td>0</td>\n",
       "      <td>0</td>\n",
       "      <td>0</td>\n",
       "      <td>0</td>\n",
       "      <td>0</td>\n",
       "      <td>0</td>\n",
       "      <td>0</td>\n",
       "      <td>0</td>\n",
       "    </tr>\n",
       "    <tr>\n",
       "      <th>1</th>\n",
       "      <td>22.0</td>\n",
       "      <td>2006.0</td>\n",
       "      <td>61.0</td>\n",
       "      <td>1275000.0</td>\n",
       "      <td>2.0</td>\n",
       "      <td>0.0</td>\n",
       "      <td>69</td>\n",
       "      <td>1772.0</td>\n",
       "      <td>0</td>\n",
       "      <td>0</td>\n",
       "      <td>...</td>\n",
       "      <td>0</td>\n",
       "      <td>0</td>\n",
       "      <td>0</td>\n",
       "      <td>0</td>\n",
       "      <td>0</td>\n",
       "      <td>0</td>\n",
       "      <td>0</td>\n",
       "      <td>0</td>\n",
       "      <td>0</td>\n",
       "      <td>0</td>\n",
       "    </tr>\n",
       "    <tr>\n",
       "      <th>2</th>\n",
       "      <td>30.0</td>\n",
       "      <td>2001.0</td>\n",
       "      <td>48.0</td>\n",
       "      <td>400000.0</td>\n",
       "      <td>2.0</td>\n",
       "      <td>0.0</td>\n",
       "      <td>78</td>\n",
       "      <td>1760.0</td>\n",
       "      <td>0</td>\n",
       "      <td>0</td>\n",
       "      <td>...</td>\n",
       "      <td>0</td>\n",
       "      <td>0</td>\n",
       "      <td>0</td>\n",
       "      <td>0</td>\n",
       "      <td>0</td>\n",
       "      <td>0</td>\n",
       "      <td>0</td>\n",
       "      <td>0</td>\n",
       "      <td>0</td>\n",
       "      <td>0</td>\n",
       "    </tr>\n",
       "    <tr>\n",
       "      <th>3</th>\n",
       "      <td>20.0</td>\n",
       "      <td>1973.0</td>\n",
       "      <td>32.0</td>\n",
       "      <td>35000.0</td>\n",
       "      <td>0.0</td>\n",
       "      <td>0.0</td>\n",
       "      <td>44</td>\n",
       "      <td>1760.0</td>\n",
       "      <td>0</td>\n",
       "      <td>0</td>\n",
       "      <td>...</td>\n",
       "      <td>0</td>\n",
       "      <td>0</td>\n",
       "      <td>0</td>\n",
       "      <td>0</td>\n",
       "      <td>0</td>\n",
       "      <td>0</td>\n",
       "      <td>0</td>\n",
       "      <td>0</td>\n",
       "      <td>0</td>\n",
       "      <td>0</td>\n",
       "    </tr>\n",
       "    <tr>\n",
       "      <th>4</th>\n",
       "      <td>30.0</td>\n",
       "      <td>1989.0</td>\n",
       "      <td>43.0</td>\n",
       "      <td>200000.0</td>\n",
       "      <td>1.0</td>\n",
       "      <td>0.0</td>\n",
       "      <td>70</td>\n",
       "      <td>1757.0</td>\n",
       "      <td>0</td>\n",
       "      <td>0</td>\n",
       "      <td>...</td>\n",
       "      <td>0</td>\n",
       "      <td>0</td>\n",
       "      <td>0</td>\n",
       "      <td>0</td>\n",
       "      <td>0</td>\n",
       "      <td>0</td>\n",
       "      <td>0</td>\n",
       "      <td>0</td>\n",
       "      <td>0</td>\n",
       "      <td>0</td>\n",
       "    </tr>\n",
       "  </tbody>\n",
       "</table>\n",
       "<p>5 rows × 118 columns</p>\n",
       "</div>"
      ],
      "text/plain": [
       "   Years Exp.  Year Built  Length  Hull Limit  # Engines  num_claims  Age  \\\n",
       "0         2.0      1997.0    63.0    500000.0        2.0         0.0   73   \n",
       "1        22.0      2006.0    61.0   1275000.0        2.0         0.0   69   \n",
       "2        30.0      2001.0    48.0    400000.0        2.0         0.0   78   \n",
       "3        20.0      1973.0    32.0     35000.0        0.0         0.0   44   \n",
       "4        30.0      1989.0    43.0    200000.0        1.0         0.0   70   \n",
       "\n",
       "   policy_length  New/Renl/Endt/Canc/Flat_endt  \\\n",
       "0         1759.0                             0   \n",
       "1         1772.0                             0   \n",
       "2         1760.0                             0   \n",
       "3         1760.0                             0   \n",
       "4         1757.0                             0   \n",
       "\n",
       "   New/Renl/Endt/Canc/Flat_endt-canc  ...  Mooring County_sarasota  \\\n",
       "0                                  0  ...                        0   \n",
       "1                                  0  ...                        0   \n",
       "2                                  0  ...                        0   \n",
       "3                                  0  ...                        0   \n",
       "4                                  0  ...                        0   \n",
       "\n",
       "   Mooring County_sinaloa  Mooring County_skagit  Mooring County_sonora  \\\n",
       "0                       0                      0                      0   \n",
       "1                       0                      0                      0   \n",
       "2                       0                      0                      0   \n",
       "3                       0                      0                      0   \n",
       "4                       0                      0                      0   \n",
       "\n",
       "   Mooring County_south pacific  Mooring County_st. johns  \\\n",
       "0                             0                         0   \n",
       "1                             0                         0   \n",
       "2                             0                         0   \n",
       "3                             0                         0   \n",
       "4                             0                         0   \n",
       "\n",
       "   Mooring County_st. lucie  Mooring County_ventura  Mooring County_volusia  \\\n",
       "0                         0                       0                       0   \n",
       "1                         0                       0                       0   \n",
       "2                         0                       0                       0   \n",
       "3                         0                       0                       0   \n",
       "4                         0                       0                       0   \n",
       "\n",
       "   Mooring County_whatcom  \n",
       "0                       0  \n",
       "1                       0  \n",
       "2                       0  \n",
       "3                       0  \n",
       "4                       0  \n",
       "\n",
       "[5 rows x 118 columns]"
      ]
     },
     "execution_count": 3,
     "metadata": {},
     "output_type": "execute_result"
    }
   ],
   "source": [
    "combined = pd.read_csv('../datasets/combined2.csv')\n",
    "\n",
    "combined.head()"
   ]
  },
  {
   "cell_type": "markdown",
   "metadata": {},
   "source": [
    "---"
   ]
  },
  {
   "cell_type": "markdown",
   "metadata": {},
   "source": [
    "# MODELING: Multiclass Classification"
   ]
  },
  {
   "cell_type": "markdown",
   "metadata": {},
   "source": [
    "**BELOW:** Initially we wanted to see if we could do a multiclass classification model to predict whether a boat might have 0, 1, 2, or 3 claims. Unfortunately, with so few examples for our models to train on for 2 or 3 claims, we decided to move forward with just binary (having 0 or at least 1 claim)."
   ]
  },
  {
   "cell_type": "markdown",
   "metadata": {},
   "source": [
    "#### Establish a baseline\n",
    "\n",
    "0 claims = 92%<br>\n",
    "1 claim = 6.6%<br>\n",
    "2 claims = 1%<br>\n",
    "3 claims = 0.2%<br>"
   ]
  },
  {
   "cell_type": "code",
   "execution_count": 4,
   "metadata": {},
   "outputs": [
    {
     "data": {
      "text/plain": [
       "0.0    5836\n",
       "1.0     421\n",
       "2.0      68\n",
       "3.0      15\n",
       "Name: num_claims, dtype: int64"
      ]
     },
     "execution_count": 4,
     "metadata": {},
     "output_type": "execute_result"
    }
   ],
   "source": [
    "combined['num_claims'].value_counts()"
   ]
  },
  {
   "cell_type": "code",
   "execution_count": 5,
   "metadata": {},
   "outputs": [
    {
     "data": {
      "text/plain": [
       "0.0    0.920505\n",
       "1.0    0.066404\n",
       "2.0    0.010726\n",
       "3.0    0.002366\n",
       "Name: num_claims, dtype: float64"
      ]
     },
     "execution_count": 5,
     "metadata": {},
     "output_type": "execute_result"
    }
   ],
   "source": [
    "combined['num_claims'].value_counts(normalize=True)"
   ]
  },
  {
   "cell_type": "code",
   "execution_count": 6,
   "metadata": {},
   "outputs": [
    {
     "data": {
      "text/plain": [
       "0       0\n",
       "1       0\n",
       "2       0\n",
       "3       0\n",
       "4       0\n",
       "       ..\n",
       "6335    0\n",
       "6336    0\n",
       "6337    0\n",
       "6338    0\n",
       "6339    0\n",
       "Name: num_claims, Length: 6340, dtype: int64"
      ]
     },
     "execution_count": 6,
     "metadata": {},
     "output_type": "execute_result"
    }
   ],
   "source": [
    "combined['num_claims'].astype(int)"
   ]
  },
  {
   "cell_type": "markdown",
   "metadata": {},
   "source": [
    "### Train/Test split"
   ]
  },
  {
   "cell_type": "code",
   "execution_count": 7,
   "metadata": {},
   "outputs": [],
   "source": [
    "X = combined.drop(columns=['num_claims'])\n",
    "y = combined['num_claims']\n",
    "X_train, X_test, y_train, y_test = train_test_split(X, y, test_size=.2, random_state=42, stratify=y)"
   ]
  },
  {
   "cell_type": "markdown",
   "metadata": {},
   "source": [
    "## 4 MODELS: KNN, Logistic Regression, Random Forest, Extra Trees\n",
    "---"
   ]
  },
  {
   "cell_type": "markdown",
   "metadata": {},
   "source": [
    "### StandardScaler"
   ]
  },
  {
   "cell_type": "code",
   "execution_count": 8,
   "metadata": {},
   "outputs": [],
   "source": [
    "ss = StandardScaler()\n",
    "X_train_sc = ss.fit_transform(X_train)\n",
    "X_test_sc = ss.transform(X_test)"
   ]
  },
  {
   "cell_type": "markdown",
   "metadata": {},
   "source": [
    "### Instantiate and fit 4 models"
   ]
  },
  {
   "cell_type": "code",
   "execution_count": 9,
   "metadata": {},
   "outputs": [],
   "source": [
    "knn = KNeighborsClassifier()\n",
    "knn.fit(X_train_sc, y_train)\n",
    "knn_pred = knn.predict(X_test_sc)\n",
    "\n",
    "lr = LogisticRegression(max_iter=500,random_state=42)\n",
    "lr.fit(X_train_sc, y_train)\n",
    "lr_pred = lr.predict(X_test_sc)\n",
    "\n",
    "rf = RandomForestClassifier(n_estimators=100,random_state=42)\n",
    "rf.fit(X_train_sc, y_train)\n",
    "rf_pred = rf.predict(X_test_sc)\n",
    "\n",
    "et = ExtraTreesClassifier(n_estimators=100,random_state=42)\n",
    "et.fit(X_train_sc, y_train)\n",
    "et_pred = et.predict(X_test_sc)"
   ]
  },
  {
   "cell_type": "markdown",
   "metadata": {},
   "source": [
    "### Get model results"
   ]
  },
  {
   "cell_type": "code",
   "execution_count": 10,
   "metadata": {},
   "outputs": [
    {
     "name": "stdout",
     "output_type": "stream",
     "text": [
      "              precision    recall  f1-score   support\n",
      "\n",
      "         0.0      0.928     0.988     0.957      1167\n",
      "         1.0      0.294     0.060     0.099        84\n",
      "         2.0      0.500     0.214     0.300        14\n",
      "         3.0      1.000     0.667     0.800         3\n",
      "\n",
      "    accuracy                          0.917      1268\n",
      "   macro avg      0.680     0.482     0.539      1268\n",
      "weighted avg      0.881     0.917     0.892      1268\n",
      "\n"
     ]
    }
   ],
   "source": [
    "print(classification_report(y_test, knn_pred, digits=3))"
   ]
  },
  {
   "cell_type": "code",
   "execution_count": 11,
   "metadata": {},
   "outputs": [
    {
     "name": "stdout",
     "output_type": "stream",
     "text": [
      "              precision    recall  f1-score   support\n",
      "\n",
      "         0.0      0.923     0.999     0.960      1167\n",
      "         1.0      0.000     0.000     0.000        84\n",
      "         2.0      0.000     0.000     0.000        14\n",
      "         3.0      1.000     1.000     1.000         3\n",
      "\n",
      "    accuracy                          0.922      1268\n",
      "   macro avg      0.481     0.500     0.490      1268\n",
      "weighted avg      0.852     0.922     0.886      1268\n",
      "\n"
     ]
    }
   ],
   "source": [
    "print(classification_report(y_test, lr_pred, digits=3))"
   ]
  },
  {
   "cell_type": "code",
   "execution_count": 12,
   "metadata": {},
   "outputs": [
    {
     "name": "stdout",
     "output_type": "stream",
     "text": [
      "              precision    recall  f1-score   support\n",
      "\n",
      "         0.0      0.940     0.997     0.968      1167\n",
      "         1.0      0.769     0.119     0.206        84\n",
      "         2.0      1.000     1.000     1.000        14\n",
      "         3.0      1.000     1.000     1.000         3\n",
      "\n",
      "    accuracy                          0.939      1268\n",
      "   macro avg      0.927     0.779     0.794      1268\n",
      "weighted avg      0.930     0.939     0.918      1268\n",
      "\n"
     ]
    }
   ],
   "source": [
    "print(classification_report(y_test, rf_pred, digits=3))"
   ]
  },
  {
   "cell_type": "code",
   "execution_count": 13,
   "metadata": {},
   "outputs": [
    {
     "name": "stdout",
     "output_type": "stream",
     "text": [
      "              precision    recall  f1-score   support\n",
      "\n",
      "         0.0      0.941     0.987     0.964      1167\n",
      "         1.0      0.440     0.131     0.202        84\n",
      "         2.0      0.875     1.000     0.933        14\n",
      "         3.0      1.000     1.000     1.000         3\n",
      "\n",
      "    accuracy                          0.931      1268\n",
      "   macro avg      0.814     0.780     0.775      1268\n",
      "weighted avg      0.907     0.931     0.913      1268\n",
      "\n"
     ]
    }
   ],
   "source": [
    "print(classification_report(y_test, et_pred, digits=3))"
   ]
  },
  {
   "cell_type": "markdown",
   "metadata": {},
   "source": [
    "**INTERPRETATION:** Looking at these scores we can tell that the model is overfitting to 2 and 3 claims. The models are very good at identifying these minority classes but that's because "
   ]
  },
  {
   "cell_type": "markdown",
   "metadata": {},
   "source": [
    "---\n",
    "# MODELING: Binary Classification"
   ]
  },
  {
   "cell_type": "markdown",
   "metadata": {},
   "source": [
    "#### Establish a baseline\n",
    "\n",
    "0 claims = 92%<br>\n",
    "At least 1 claim = 7.9%<br>"
   ]
  },
  {
   "cell_type": "code",
   "execution_count": 14,
   "metadata": {},
   "outputs": [
    {
     "data": {
      "text/plain": [
       "0    0.920505\n",
       "1    0.079495\n",
       "Name: binary, dtype: float64"
      ]
     },
     "execution_count": 14,
     "metadata": {},
     "output_type": "execute_result"
    }
   ],
   "source": [
    "# Create a column for binary classification\n",
    "combined['binary'] = [1 if x > 0 else 0 for x in combined['num_claims']]\n",
    "combined['binary'].value_counts(normalize=True)"
   ]
  },
  {
   "cell_type": "code",
   "execution_count": 15,
   "metadata": {},
   "outputs": [
    {
     "data": {
      "text/plain": [
       "0    5836\n",
       "1     504\n",
       "Name: binary, dtype: int64"
      ]
     },
     "execution_count": 15,
     "metadata": {},
     "output_type": "execute_result"
    }
   ],
   "source": [
    "combined['binary'].value_counts()"
   ]
  },
  {
   "cell_type": "markdown",
   "metadata": {},
   "source": [
    "**BELOW:** We decided the most important metric to track would be recall. This is because we are interested in predicting claims, the minority class. We concluded we would rather wrongly predict a boat would have a claim and it not than wrongly predict a boat would not have a claim and it have one. In addition, we are tracking accuracy to keep an eye on the model's bias/variance, and f1 score (a combination of precision and recall)."
   ]
  },
  {
   "cell_type": "code",
   "execution_count": 16,
   "metadata": {},
   "outputs": [
    {
     "data": {
      "text/html": [
       "<div>\n",
       "<style scoped>\n",
       "    .dataframe tbody tr th:only-of-type {\n",
       "        vertical-align: middle;\n",
       "    }\n",
       "\n",
       "    .dataframe tbody tr th {\n",
       "        vertical-align: top;\n",
       "    }\n",
       "\n",
       "    .dataframe thead th {\n",
       "        text-align: right;\n",
       "    }\n",
       "</style>\n",
       "<table border=\"1\" class=\"dataframe\">\n",
       "  <thead>\n",
       "    <tr style=\"text-align: right;\">\n",
       "      <th></th>\n",
       "      <th>Accuracy</th>\n",
       "      <th>Recall</th>\n",
       "      <th>Weighted F1 Score</th>\n",
       "    </tr>\n",
       "  </thead>\n",
       "  <tbody>\n",
       "  </tbody>\n",
       "</table>\n",
       "</div>"
      ],
      "text/plain": [
       "Empty DataFrame\n",
       "Columns: [Accuracy, Recall, Weighted F1 Score]\n",
       "Index: []"
      ]
     },
     "execution_count": 16,
     "metadata": {},
     "output_type": "execute_result"
    }
   ],
   "source": [
    "# Create an empty df to input scores from models\n",
    "binary_scores = pd.DataFrame(columns=['Accuracy', 'Recall','Weighted F1 Score'])\n",
    "binary_scores"
   ]
  },
  {
   "cell_type": "markdown",
   "metadata": {},
   "source": [
    "### Prep the models for testing\n",
    "---"
   ]
  },
  {
   "cell_type": "markdown",
   "metadata": {},
   "source": [
    "### Train/test split"
   ]
  },
  {
   "cell_type": "code",
   "execution_count": 17,
   "metadata": {},
   "outputs": [],
   "source": [
    "X = combined.drop(columns=['num_claims','binary'])\n",
    "y = combined['binary']\n",
    "X_train, X_test, y_train, y_test = train_test_split(X, y, test_size=.2, random_state=42, stratify=y)"
   ]
  },
  {
   "cell_type": "markdown",
   "metadata": {},
   "source": [
    "### Scale the data"
   ]
  },
  {
   "cell_type": "code",
   "execution_count": 18,
   "metadata": {},
   "outputs": [],
   "source": [
    "ss = StandardScaler()\n",
    "X_train_sc = ss.fit_transform(X_train)\n",
    "X_test_sc = ss.transform(X_test)"
   ]
  },
  {
   "cell_type": "markdown",
   "metadata": {},
   "source": [
    "## 4 MODELS: KNN, Logistic Regression, Random Forest, Extra Trees\n",
    "---"
   ]
  },
  {
   "cell_type": "code",
   "execution_count": 19,
   "metadata": {},
   "outputs": [],
   "source": [
    "# Using the scaled data, instantiate, fit, and generate predictions for the 4 models\n",
    "\n",
    "knn = KNeighborsClassifier()\n",
    "knn.fit(X_train_sc, y_train)\n",
    "knn_pred = knn.predict(X_test_sc)\n",
    "\n",
    "lr = LogisticRegression(random_state=42)\n",
    "lr.fit(X_train_sc, y_train)\n",
    "lr_pred = lr.predict(X_test_sc)\n",
    "\n",
    "rf = RandomForestClassifier(n_estimators=100,random_state=42)\n",
    "rf.fit(X_train_sc, y_train)\n",
    "rf_pred = rf.predict(X_test_sc)\n",
    "\n",
    "et = ExtraTreesClassifier(n_estimators=100,random_state=42)\n",
    "et.fit(X_train_sc, y_train)\n",
    "et_pred = et.predict(X_test_sc)"
   ]
  },
  {
   "cell_type": "code",
   "execution_count": 20,
   "metadata": {},
   "outputs": [
    {
     "data": {
      "text/html": [
       "<div>\n",
       "<style scoped>\n",
       "    .dataframe tbody tr th:only-of-type {\n",
       "        vertical-align: middle;\n",
       "    }\n",
       "\n",
       "    .dataframe tbody tr th {\n",
       "        vertical-align: top;\n",
       "    }\n",
       "\n",
       "    .dataframe thead th {\n",
       "        text-align: right;\n",
       "    }\n",
       "</style>\n",
       "<table border=\"1\" class=\"dataframe\">\n",
       "  <thead>\n",
       "    <tr style=\"text-align: right;\">\n",
       "      <th></th>\n",
       "      <th>Accuracy</th>\n",
       "      <th>Recall</th>\n",
       "      <th>Weighted F1 Score</th>\n",
       "    </tr>\n",
       "  </thead>\n",
       "  <tbody>\n",
       "    <tr>\n",
       "      <th>KNN(plain)</th>\n",
       "      <td>0.912461</td>\n",
       "      <td>0.128713</td>\n",
       "      <td>0.892880</td>\n",
       "    </tr>\n",
       "    <tr>\n",
       "      <th>LR(plain)</th>\n",
       "      <td>0.918770</td>\n",
       "      <td>0.000000</td>\n",
       "      <td>0.881385</td>\n",
       "    </tr>\n",
       "    <tr>\n",
       "      <th>RF(plain)</th>\n",
       "      <td>0.935331</td>\n",
       "      <td>0.227723</td>\n",
       "      <td>0.917632</td>\n",
       "    </tr>\n",
       "    <tr>\n",
       "      <th>ET(plain)</th>\n",
       "      <td>0.926656</td>\n",
       "      <td>0.237624</td>\n",
       "      <td>0.911725</td>\n",
       "    </tr>\n",
       "  </tbody>\n",
       "</table>\n",
       "</div>"
      ],
      "text/plain": [
       "            Accuracy    Recall  Weighted F1 Score\n",
       "KNN(plain)  0.912461  0.128713           0.892880\n",
       "LR(plain)   0.918770  0.000000           0.881385\n",
       "RF(plain)   0.935331  0.227723           0.917632\n",
       "ET(plain)   0.926656  0.237624           0.911725"
      ]
     },
     "execution_count": 20,
     "metadata": {},
     "output_type": "execute_result"
    }
   ],
   "source": [
    "# Add the three scores we're tracking to the results data table\n",
    "\n",
    "regular_knn = pd.Series(data=[accuracy_score(y_test, knn_pred), recall_score(y_test, knn_pred),\n",
    "                              f1_score(y_test, knn_pred ,average='weighted')], index=binary_scores.columns, name = 'KNN(plain)')\n",
    "\n",
    "regular_lr = pd.Series(data=[accuracy_score(y_test, lr_pred), recall_score(y_test, lr_pred),\n",
    "                              f1_score(y_test, lr_pred ,average='weighted')], index=binary_scores.columns, name = 'LR(plain)')\n",
    "\n",
    "regular_rf = pd.Series(data=[accuracy_score(y_test, rf_pred), recall_score(y_test, rf_pred),\n",
    "                              f1_score(y_test, rf_pred ,average='weighted')], index=binary_scores.columns, name = 'RF(plain)')\n",
    "\n",
    "regular_et = pd.Series(data=[accuracy_score(y_test, et_pred), recall_score(y_test, et_pred),\n",
    "                              f1_score(y_test, et_pred ,average='weighted')], index=binary_scores.columns, name = 'ET(plain)')\n",
    "\n",
    "binary_scores = binary_scores.append([regular_knn, regular_lr, regular_rf, regular_et])\n",
    "\n",
    "binary_scores"
   ]
  },
  {
   "cell_type": "markdown",
   "metadata": {},
   "source": [
    "**INTERPRETATION:** While the accuracy score seems high this is misleading. Our majority class baseilne is 92% so essentially these models all predict the majority class but aren't great at predicting claims."
   ]
  },
  {
   "cell_type": "markdown",
   "metadata": {},
   "source": [
    "## WITH OVERSAMPLING"
   ]
  },
  {
   "cell_type": "markdown",
   "metadata": {},
   "source": [
    "**BELOW:** In order to combat the small proportion of minority class compared to majority class, we are testing out a few methods of over and undersampling. First, we will begin by oversampling the minority class only."
   ]
  },
  {
   "cell_type": "markdown",
   "metadata": {},
   "source": [
    "### Check the imbalance of the two classes"
   ]
  },
  {
   "cell_type": "code",
   "execution_count": 21,
   "metadata": {},
   "outputs": [
    {
     "data": {
      "text/plain": [
       "Counter({0: 4669, 1: 403})"
      ]
     },
     "execution_count": 21,
     "metadata": {},
     "output_type": "execute_result"
    }
   ],
   "source": [
    "counter = Counter(y_train)\n",
    "counter"
   ]
  },
  {
   "cell_type": "markdown",
   "metadata": {},
   "source": [
    "### Instantiate RandomOverSampler"
   ]
  },
  {
   "cell_type": "markdown",
   "metadata": {},
   "source": [
    "**BELOW:** The randomoversampler simply randomly chooses values from the training dataset to duplicate until you reach the chosen ratio. We chose to sample enough times to bring the minority class to 20% of the majority class."
   ]
  },
  {
   "cell_type": "code",
   "execution_count": 22,
   "metadata": {},
   "outputs": [],
   "source": [
    "# ref: https://beckernick.github.io/oversampling-modeling/\n",
    "\n",
    "over = RandomOverSampler(sampling_strategy=0.2, random_state=42)\n",
    "X_over, y_over = over.fit_resample(X_train_sc,y_train)"
   ]
  },
  {
   "cell_type": "code",
   "execution_count": 23,
   "metadata": {},
   "outputs": [
    {
     "data": {
      "text/plain": [
       "Counter({0: 4669, 1: 933})"
      ]
     },
     "execution_count": 23,
     "metadata": {},
     "output_type": "execute_result"
    }
   ],
   "source": [
    "over_counter = Counter(y_over)\n",
    "over_counter"
   ]
  },
  {
   "cell_type": "markdown",
   "metadata": {},
   "source": [
    "### Fit the models"
   ]
  },
  {
   "cell_type": "code",
   "execution_count": 24,
   "metadata": {},
   "outputs": [],
   "source": [
    "knn = KNeighborsClassifier()\n",
    "knn.fit(X_over, y_over)\n",
    "knn_pred = knn.predict(X_test_sc)\n",
    "\n",
    "lr = LogisticRegression(random_state=42)\n",
    "lr.fit(X_over, y_over)\n",
    "lr_pred = lr.predict(X_test_sc)\n",
    "\n",
    "rf = RandomForestClassifier(n_estimators=100,random_state=42)\n",
    "rf.fit(X_over, y_over)\n",
    "rf_pred = rf.predict(X_test_sc)\n",
    "\n",
    "et = ExtraTreesClassifier(n_estimators=100,random_state=42)\n",
    "et.fit(X_over, y_over)\n",
    "et_pred = et.predict(X_test_sc)"
   ]
  },
  {
   "cell_type": "markdown",
   "metadata": {},
   "source": [
    "### Add the results"
   ]
  },
  {
   "cell_type": "code",
   "execution_count": 25,
   "metadata": {},
   "outputs": [
    {
     "data": {
      "text/html": [
       "<div>\n",
       "<style scoped>\n",
       "    .dataframe tbody tr th:only-of-type {\n",
       "        vertical-align: middle;\n",
       "    }\n",
       "\n",
       "    .dataframe tbody tr th {\n",
       "        vertical-align: top;\n",
       "    }\n",
       "\n",
       "    .dataframe thead th {\n",
       "        text-align: right;\n",
       "    }\n",
       "</style>\n",
       "<table border=\"1\" class=\"dataframe\">\n",
       "  <thead>\n",
       "    <tr style=\"text-align: right;\">\n",
       "      <th></th>\n",
       "      <th>Accuracy</th>\n",
       "      <th>Recall</th>\n",
       "      <th>Weighted F1 Score</th>\n",
       "    </tr>\n",
       "  </thead>\n",
       "  <tbody>\n",
       "    <tr>\n",
       "      <th>KNN(plain)</th>\n",
       "      <td>0.912461</td>\n",
       "      <td>0.128713</td>\n",
       "      <td>0.892880</td>\n",
       "    </tr>\n",
       "    <tr>\n",
       "      <th>LR(plain)</th>\n",
       "      <td>0.918770</td>\n",
       "      <td>0.000000</td>\n",
       "      <td>0.881385</td>\n",
       "    </tr>\n",
       "    <tr>\n",
       "      <th>RF(plain)</th>\n",
       "      <td>0.935331</td>\n",
       "      <td>0.227723</td>\n",
       "      <td>0.917632</td>\n",
       "    </tr>\n",
       "    <tr>\n",
       "      <th>ET(plain)</th>\n",
       "      <td>0.926656</td>\n",
       "      <td>0.237624</td>\n",
       "      <td>0.911725</td>\n",
       "    </tr>\n",
       "    <tr>\n",
       "      <th>KNN(oversample)</th>\n",
       "      <td>0.863565</td>\n",
       "      <td>0.346535</td>\n",
       "      <td>0.873855</td>\n",
       "    </tr>\n",
       "    <tr>\n",
       "      <th>LR(oversample)</th>\n",
       "      <td>0.898265</td>\n",
       "      <td>0.059406</td>\n",
       "      <td>0.877554</td>\n",
       "    </tr>\n",
       "    <tr>\n",
       "      <th>RF(oversample)</th>\n",
       "      <td>0.930599</td>\n",
       "      <td>0.237624</td>\n",
       "      <td>0.914714</td>\n",
       "    </tr>\n",
       "    <tr>\n",
       "      <th>ET(oversample)</th>\n",
       "      <td>0.926656</td>\n",
       "      <td>0.247525</td>\n",
       "      <td>0.912430</td>\n",
       "    </tr>\n",
       "  </tbody>\n",
       "</table>\n",
       "</div>"
      ],
      "text/plain": [
       "                 Accuracy    Recall  Weighted F1 Score\n",
       "KNN(plain)       0.912461  0.128713           0.892880\n",
       "LR(plain)        0.918770  0.000000           0.881385\n",
       "RF(plain)        0.935331  0.227723           0.917632\n",
       "ET(plain)        0.926656  0.237624           0.911725\n",
       "KNN(oversample)  0.863565  0.346535           0.873855\n",
       "LR(oversample)   0.898265  0.059406           0.877554\n",
       "RF(oversample)   0.930599  0.237624           0.914714\n",
       "ET(oversample)   0.926656  0.247525           0.912430"
      ]
     },
     "execution_count": 25,
     "metadata": {},
     "output_type": "execute_result"
    }
   ],
   "source": [
    "over_knn = pd.Series(data=[accuracy_score(y_test, knn_pred), recall_score(y_test, knn_pred),\n",
    "                              f1_score(y_test, knn_pred ,average='weighted')], index=binary_scores.columns, name = 'KNN(oversample)')\n",
    "\n",
    "over_lr = pd.Series(data=[accuracy_score(y_test, lr_pred), recall_score(y_test, lr_pred),\n",
    "                              f1_score(y_test, lr_pred ,average='weighted')], index=binary_scores.columns, name = 'LR(oversample)')\n",
    "\n",
    "over_rf = pd.Series(data=[accuracy_score(y_test, rf_pred), recall_score(y_test, rf_pred),\n",
    "                              f1_score(y_test, rf_pred ,average='weighted')], index=binary_scores.columns, name = 'RF(oversample)')\n",
    "\n",
    "over_et = pd.Series(data=[accuracy_score(y_test, et_pred), recall_score(y_test, et_pred),\n",
    "                              f1_score(y_test, et_pred ,average='weighted')], index=binary_scores.columns, name = 'ET(oversample)')\n",
    "\n",
    "binary_scores = binary_scores.append([over_knn, over_lr, over_rf, over_et])\n",
    "\n",
    "binary_scores"
   ]
  },
  {
   "cell_type": "markdown",
   "metadata": {},
   "source": [
    "**INTERPRETATION:** This method seemed to improve the recall in our KNN, LR, and RF models, but we decided to test another method to increase them even more."
   ]
  },
  {
   "cell_type": "markdown",
   "metadata": {},
   "source": [
    "### WITH SMOTE OVERSAMPLING AND RANDOM UNDER SAMPLING"
   ]
  },
  {
   "cell_type": "markdown",
   "metadata": {},
   "source": [
    "**BELOW:** For this method we decided to both oversample and undersample. First, we oversampled the minority class again, but we used SMOTE. Instead of simply duplicating randomly from the minority class like above, SMOTE generates fake observations for the minority class by using k-nearest-neighbors to find similar observations and then slightly tweaks them. We decided to increase the ratio to 10% for the minority class through oversampling. Then we used RandomUnderSampler to undersample the majority class and bring the ratio to 2:1 between majority and minority classes."
   ]
  },
  {
   "cell_type": "markdown",
   "metadata": {},
   "source": [
    "### Set up a pipeline with SMOTE and undersampling"
   ]
  },
  {
   "cell_type": "code",
   "execution_count": 26,
   "metadata": {},
   "outputs": [],
   "source": [
    "# Set up the pipeline\n",
    "# ref: https://pypi.org/project/imbalanced-learn/\n",
    "# ref: https://machinelearningmastery.com/random-oversampling-and-undersampling-for-imbalanced-classification/\n",
    "\n",
    "over = SMOTE(sampling_strategy=0.1,random_state=42)\n",
    "under = RandomUnderSampler(sampling_strategy=0.5,random_state=42)\n",
    "steps = [('o', over), ('u', under)]\n",
    "pipeline = Pipeline(steps=steps)"
   ]
  },
  {
   "cell_type": "code",
   "execution_count": 27,
   "metadata": {},
   "outputs": [],
   "source": [
    "# fit the pipeline\n",
    "X_sm_und, y_sm_und = pipeline.fit_resample(X_train_sc, y_train)"
   ]
  },
  {
   "cell_type": "code",
   "execution_count": 28,
   "metadata": {},
   "outputs": [
    {
     "data": {
      "text/plain": [
       "Counter({0: 932, 1: 466})"
      ]
     },
     "execution_count": 28,
     "metadata": {},
     "output_type": "execute_result"
    }
   ],
   "source": [
    "# Find the ratio after over/undersampling\n",
    "counter_5 = Counter(y_sm_und)\n",
    "counter_5"
   ]
  },
  {
   "cell_type": "markdown",
   "metadata": {},
   "source": [
    "### Fit the models"
   ]
  },
  {
   "cell_type": "code",
   "execution_count": 29,
   "metadata": {},
   "outputs": [],
   "source": [
    "knn = KNeighborsClassifier()\n",
    "knn.fit(X_sm_und, y_sm_und)\n",
    "knn_pred = knn.predict(X_test_sc)\n",
    "\n",
    "lr = LogisticRegression(random_state=42)\n",
    "lr.fit(X_sm_und, y_sm_und)\n",
    "lr_pred = lr.predict(X_test_sc)\n",
    "\n",
    "rf = RandomForestClassifier(n_estimators=100,random_state=42)\n",
    "rf.fit(X_sm_und, y_sm_und)\n",
    "rf_pred = rf.predict(X_test_sc)\n",
    "\n",
    "et = ExtraTreesClassifier(n_estimators=100,random_state=42)\n",
    "et.fit(X_sm_und, y_sm_und)\n",
    "et_pred = et.predict(X_test_sc)"
   ]
  },
  {
   "cell_type": "markdown",
   "metadata": {},
   "source": [
    "### Add the results"
   ]
  },
  {
   "cell_type": "code",
   "execution_count": 30,
   "metadata": {},
   "outputs": [
    {
     "data": {
      "text/html": [
       "<div>\n",
       "<style scoped>\n",
       "    .dataframe tbody tr th:only-of-type {\n",
       "        vertical-align: middle;\n",
       "    }\n",
       "\n",
       "    .dataframe tbody tr th {\n",
       "        vertical-align: top;\n",
       "    }\n",
       "\n",
       "    .dataframe thead th {\n",
       "        text-align: right;\n",
       "    }\n",
       "</style>\n",
       "<table border=\"1\" class=\"dataframe\">\n",
       "  <thead>\n",
       "    <tr style=\"text-align: right;\">\n",
       "      <th></th>\n",
       "      <th>Accuracy</th>\n",
       "      <th>Recall</th>\n",
       "      <th>Weighted F1 Score</th>\n",
       "    </tr>\n",
       "  </thead>\n",
       "  <tbody>\n",
       "    <tr>\n",
       "      <th>KNN(plain)</th>\n",
       "      <td>0.912461</td>\n",
       "      <td>0.128713</td>\n",
       "      <td>0.892880</td>\n",
       "    </tr>\n",
       "    <tr>\n",
       "      <th>LR(plain)</th>\n",
       "      <td>0.918770</td>\n",
       "      <td>0.000000</td>\n",
       "      <td>0.881385</td>\n",
       "    </tr>\n",
       "    <tr>\n",
       "      <th>RF(plain)</th>\n",
       "      <td>0.935331</td>\n",
       "      <td>0.227723</td>\n",
       "      <td>0.917632</td>\n",
       "    </tr>\n",
       "    <tr>\n",
       "      <th>ET(plain)</th>\n",
       "      <td>0.926656</td>\n",
       "      <td>0.237624</td>\n",
       "      <td>0.911725</td>\n",
       "    </tr>\n",
       "    <tr>\n",
       "      <th>KNN(oversample)</th>\n",
       "      <td>0.863565</td>\n",
       "      <td>0.346535</td>\n",
       "      <td>0.873855</td>\n",
       "    </tr>\n",
       "    <tr>\n",
       "      <th>LR(oversample)</th>\n",
       "      <td>0.898265</td>\n",
       "      <td>0.059406</td>\n",
       "      <td>0.877554</td>\n",
       "    </tr>\n",
       "    <tr>\n",
       "      <th>RF(oversample)</th>\n",
       "      <td>0.930599</td>\n",
       "      <td>0.237624</td>\n",
       "      <td>0.914714</td>\n",
       "    </tr>\n",
       "    <tr>\n",
       "      <th>ET(oversample)</th>\n",
       "      <td>0.926656</td>\n",
       "      <td>0.247525</td>\n",
       "      <td>0.912430</td>\n",
       "    </tr>\n",
       "    <tr>\n",
       "      <th>KNN(SMOTE/Under)</th>\n",
       "      <td>0.761041</td>\n",
       "      <td>0.336634</td>\n",
       "      <td>0.806140</td>\n",
       "    </tr>\n",
       "    <tr>\n",
       "      <th>LR(SMOTE/Under)</th>\n",
       "      <td>0.808360</td>\n",
       "      <td>0.287129</td>\n",
       "      <td>0.835631</td>\n",
       "    </tr>\n",
       "    <tr>\n",
       "      <th>RF(LR(SMOTE/Under))</th>\n",
       "      <td>0.898265</td>\n",
       "      <td>0.386139</td>\n",
       "      <td>0.899384</td>\n",
       "    </tr>\n",
       "    <tr>\n",
       "      <th>ET(LR(SMOTE/Under))</th>\n",
       "      <td>0.867508</td>\n",
       "      <td>0.396040</td>\n",
       "      <td>0.878464</td>\n",
       "    </tr>\n",
       "  </tbody>\n",
       "</table>\n",
       "</div>"
      ],
      "text/plain": [
       "                     Accuracy    Recall  Weighted F1 Score\n",
       "KNN(plain)           0.912461  0.128713           0.892880\n",
       "LR(plain)            0.918770  0.000000           0.881385\n",
       "RF(plain)            0.935331  0.227723           0.917632\n",
       "ET(plain)            0.926656  0.237624           0.911725\n",
       "KNN(oversample)      0.863565  0.346535           0.873855\n",
       "LR(oversample)       0.898265  0.059406           0.877554\n",
       "RF(oversample)       0.930599  0.237624           0.914714\n",
       "ET(oversample)       0.926656  0.247525           0.912430\n",
       "KNN(SMOTE/Under)     0.761041  0.336634           0.806140\n",
       "LR(SMOTE/Under)      0.808360  0.287129           0.835631\n",
       "RF(LR(SMOTE/Under))  0.898265  0.386139           0.899384\n",
       "ET(LR(SMOTE/Under))  0.867508  0.396040           0.878464"
      ]
     },
     "execution_count": 30,
     "metadata": {},
     "output_type": "execute_result"
    }
   ],
   "source": [
    "smote_knn = pd.Series(data=[accuracy_score(y_test, knn_pred), recall_score(y_test, knn_pred),\n",
    "                              f1_score(y_test, knn_pred ,average='weighted')], index=binary_scores.columns, name = 'KNN(SMOTE/Under)')\n",
    "\n",
    "smote_lr = pd.Series(data=[accuracy_score(y_test, lr_pred), recall_score(y_test, lr_pred),\n",
    "                              f1_score(y_test, lr_pred ,average='weighted')], index=binary_scores.columns, name = 'LR(SMOTE/Under)')\n",
    "\n",
    "smote_rf = pd.Series(data=[accuracy_score(y_test, rf_pred), recall_score(y_test, rf_pred),\n",
    "                              f1_score(y_test, rf_pred ,average='weighted')], index=binary_scores.columns, name = 'RF(LR(SMOTE/Under))')\n",
    "\n",
    "smote_et = pd.Series(data=[accuracy_score(y_test, et_pred), recall_score(y_test, et_pred),\n",
    "                              f1_score(y_test, et_pred ,average='weighted')], index=binary_scores.columns, name = 'ET(LR(SMOTE/Under))')\n",
    "\n",
    "binary_scores = binary_scores.append([smote_knn, smote_lr, smote_rf, smote_et])\n",
    "\n",
    "binary_scores"
   ]
  },
  {
   "cell_type": "markdown",
   "metadata": {},
   "source": [
    "**INTERPRETATION:** It looks like my best models use a combination of oversampling using SMOTE and Random Under Sampling.<br>\n",
    "Specifically, Extra Trees and Random Forest performed best (highest recall score).<br>\n",
    "*Reminder Baseline:<br> \n",
    "0 claims = 92%<br>\n",
    "At least 1 claim = 7.9%<br>*"
   ]
  },
  {
   "cell_type": "markdown",
   "metadata": {},
   "source": [
    "---"
   ]
  },
  {
   "cell_type": "markdown",
   "metadata": {},
   "source": [
    "## Look at training/testing scores of models"
   ]
  },
  {
   "cell_type": "code",
   "execution_count": 31,
   "metadata": {},
   "outputs": [
    {
     "name": "stdout",
     "output_type": "stream",
     "text": [
      "KNN(SMOTE/UNDER) Training Results:\n",
      "0.8075822603719599\n",
      "0.6759656652360515\n",
      "\n",
      "RF(SMOTE/UNDER) Testing Results:\n",
      "0.7610410094637224\n",
      "0.33663366336633666\n"
     ]
    }
   ],
   "source": [
    "print('KNN(SMOTE/UNDER) Training Results:')\n",
    "print(knn.score(X_sm_und, y_sm_und))\n",
    "print(recall_score(y_sm_und, knn.predict(X_sm_und)))\n",
    "\n",
    "print('\\nRF(SMOTE/UNDER) Testing Results:')\n",
    "print(knn.score(X_test_sc, y_test))\n",
    "print(recall_score(y_test, knn.predict(X_test_sc)))"
   ]
  },
  {
   "cell_type": "code",
   "execution_count": 32,
   "metadata": {},
   "outputs": [
    {
     "name": "stdout",
     "output_type": "stream",
     "text": [
      "LR(SMOTE/UNDER) Training Results:\n",
      "0.7446351931330472\n",
      "0.4721030042918455\n",
      "\n",
      "LR(SMOTE/UNDER) Testing Results:\n",
      "0.8083596214511041\n",
      "0.2871287128712871\n"
     ]
    }
   ],
   "source": [
    "print('LR(SMOTE/UNDER) Training Results:')\n",
    "print(lr.score(X_sm_und, y_sm_und))\n",
    "print(recall_score(y_sm_und, lr.predict(X_sm_und)))\n",
    "\n",
    "print('\\nLR(SMOTE/UNDER) Testing Results:')\n",
    "print(lr.score(X_test_sc, y_test))\n",
    "print(recall_score(y_test, lr.predict(X_test_sc)))"
   ]
  },
  {
   "cell_type": "code",
   "execution_count": 33,
   "metadata": {},
   "outputs": [
    {
     "name": "stdout",
     "output_type": "stream",
     "text": [
      "RF(SMOTE/UNDER) Training Results:\n",
      "1.0\n",
      "1.0\n",
      "\n",
      "RF(SMOTE/UNDER) Testing Results:\n",
      "0.8982649842271293\n",
      "0.38613861386138615\n"
     ]
    }
   ],
   "source": [
    "print('RF(SMOTE/UNDER) Training Results:')\n",
    "print(rf.score(X_sm_und, y_sm_und))\n",
    "print(recall_score(y_sm_und, rf.predict(X_sm_und)))\n",
    "\n",
    "print('\\nRF(SMOTE/UNDER) Testing Results:')\n",
    "print(rf.score(X_test_sc, y_test))\n",
    "print(recall_score(y_test, rf.predict(X_test_sc)))"
   ]
  },
  {
   "cell_type": "code",
   "execution_count": 34,
   "metadata": {},
   "outputs": [
    {
     "name": "stdout",
     "output_type": "stream",
     "text": [
      "ET(SMOTE/UNDER) FIRST Training Results:\n",
      "1.0\n",
      "1.0\n",
      "\n",
      "ET(SMOTE/UNDER) FIRST Testing Results:\n",
      "0.8675078864353313\n",
      "0.39603960396039606\n"
     ]
    }
   ],
   "source": [
    "et1_training_score = et.score(X_sm_und, y_sm_und)\n",
    "et1_recall_training_score = recall_score(y_sm_und, et.predict(X_sm_und))\n",
    "\n",
    "et1_testing_score = et.score(X_test_sc, y_test)\n",
    "et1_recall_testing_score = recall_score(y_test, et.predict(X_test_sc)) \n",
    "\n",
    "print('ET(SMOTE/UNDER) FIRST Training Results:')\n",
    "print(et1_training_score)\n",
    "print(et1_recall_training_score)\n",
    "\n",
    "print('\\nET(SMOTE/UNDER) FIRST Testing Results:')\n",
    "print(et1_testing_score)\n",
    "print(et1_recall_testing_score)"
   ]
  },
  {
   "cell_type": "code",
   "execution_count": 35,
   "metadata": {},
   "outputs": [
    {
     "data": {
      "text/plain": [
       "array([0, 0, 0, 0, 0, 0, 0, 0, 0, 0, 0, 0, 0, 0, 0, 0, 1, 0, 0, 0, 0, 0,\n",
       "       0, 0, 1, 0, 0, 0, 0, 0, 0, 0, 1, 0, 0, 0, 0, 0, 0, 0, 0, 0, 0, 0,\n",
       "       0, 0, 0, 0, 0, 0])"
      ]
     },
     "execution_count": 35,
     "metadata": {},
     "output_type": "execute_result"
    }
   ],
   "source": [
    "et.predict(X_test_sc)[:50]"
   ]
  },
  {
   "cell_type": "code",
   "execution_count": 36,
   "metadata": {},
   "outputs": [
    {
     "data": {
      "text/plain": [
       "array([0, 0, 0, 0, 0, 0, 0, 0, 0, 0, 0, 0, 0, 0, 0, 0, 1, 0, 0, 0, 0, 0,\n",
       "       0, 0, 1, 0, 0, 0, 0, 0, 0, 0, 1, 0, 0, 0, 0, 0, 0, 0, 0, 0, 0, 0,\n",
       "       0, 0, 0, 0, 0, 0])"
      ]
     },
     "execution_count": 36,
     "metadata": {},
     "output_type": "execute_result"
    }
   ],
   "source": [
    "et.predict(X_test_sc)[:50]"
   ]
  },
  {
   "cell_type": "code",
   "execution_count": 37,
   "metadata": {},
   "outputs": [
    {
     "data": {
      "text/plain": [
       "array([[0.71, 0.29],\n",
       "       [0.65, 0.35],\n",
       "       [0.95, 0.05],\n",
       "       [1.  , 0.  ],\n",
       "       [0.94, 0.06],\n",
       "       [0.71, 0.29],\n",
       "       [1.  , 0.  ],\n",
       "       [0.8 , 0.2 ],\n",
       "       [0.84, 0.16],\n",
       "       [0.98, 0.02],\n",
       "       [0.98, 0.02],\n",
       "       [0.9 , 0.1 ],\n",
       "       [0.71, 0.29],\n",
       "       [0.84, 0.16],\n",
       "       [0.75, 0.25],\n",
       "       [0.91, 0.09],\n",
       "       [0.41, 0.59],\n",
       "       [0.71, 0.29],\n",
       "       [0.93, 0.07],\n",
       "       [0.81, 0.19],\n",
       "       [0.86, 0.14],\n",
       "       [0.82, 0.18],\n",
       "       [0.69, 0.31],\n",
       "       [0.95, 0.05],\n",
       "       [0.09, 0.91],\n",
       "       [0.88, 0.12],\n",
       "       [0.96, 0.04],\n",
       "       [0.74, 0.26],\n",
       "       [0.67, 0.33],\n",
       "       [0.92, 0.08],\n",
       "       [0.87, 0.13],\n",
       "       [1.  , 0.  ],\n",
       "       [0.  , 1.  ],\n",
       "       [0.71, 0.29],\n",
       "       [0.58, 0.42],\n",
       "       [0.85, 0.15],\n",
       "       [0.59, 0.41],\n",
       "       [0.58, 0.42],\n",
       "       [0.66, 0.34],\n",
       "       [0.65, 0.35],\n",
       "       [0.88, 0.12],\n",
       "       [0.75, 0.25],\n",
       "       [0.88, 0.12],\n",
       "       [0.82, 0.18],\n",
       "       [0.96, 0.04],\n",
       "       [0.9 , 0.1 ],\n",
       "       [0.94, 0.06],\n",
       "       [0.72, 0.28],\n",
       "       [0.89, 0.11],\n",
       "       [0.92, 0.08]])"
      ]
     },
     "execution_count": 37,
     "metadata": {},
     "output_type": "execute_result"
    }
   ],
   "source": [
    "et.predict_proba(X_test_sc)[:50]"
   ]
  },
  {
   "cell_type": "code",
   "execution_count": 38,
   "metadata": {},
   "outputs": [
    {
     "data": {
      "text/html": [
       "<div>\n",
       "<style scoped>\n",
       "    .dataframe tbody tr th:only-of-type {\n",
       "        vertical-align: middle;\n",
       "    }\n",
       "\n",
       "    .dataframe tbody tr th {\n",
       "        vertical-align: top;\n",
       "    }\n",
       "\n",
       "    .dataframe thead th {\n",
       "        text-align: right;\n",
       "    }\n",
       "</style>\n",
       "<table border=\"1\" class=\"dataframe\">\n",
       "  <thead>\n",
       "    <tr style=\"text-align: right;\">\n",
       "      <th></th>\n",
       "      <th>Accuracy</th>\n",
       "      <th>Recall</th>\n",
       "      <th>Weighted F1 Score</th>\n",
       "    </tr>\n",
       "  </thead>\n",
       "  <tbody>\n",
       "    <tr>\n",
       "      <th>KNN(plain)</th>\n",
       "      <td>0.912461</td>\n",
       "      <td>0.128713</td>\n",
       "      <td>0.892880</td>\n",
       "    </tr>\n",
       "    <tr>\n",
       "      <th>LR(plain)</th>\n",
       "      <td>0.918770</td>\n",
       "      <td>0.000000</td>\n",
       "      <td>0.881385</td>\n",
       "    </tr>\n",
       "    <tr>\n",
       "      <th>RF(plain)</th>\n",
       "      <td>0.935331</td>\n",
       "      <td>0.227723</td>\n",
       "      <td>0.917632</td>\n",
       "    </tr>\n",
       "    <tr>\n",
       "      <th>ET(plain)</th>\n",
       "      <td>0.926656</td>\n",
       "      <td>0.237624</td>\n",
       "      <td>0.911725</td>\n",
       "    </tr>\n",
       "    <tr>\n",
       "      <th>KNN(oversample)</th>\n",
       "      <td>0.863565</td>\n",
       "      <td>0.346535</td>\n",
       "      <td>0.873855</td>\n",
       "    </tr>\n",
       "    <tr>\n",
       "      <th>LR(oversample)</th>\n",
       "      <td>0.898265</td>\n",
       "      <td>0.059406</td>\n",
       "      <td>0.877554</td>\n",
       "    </tr>\n",
       "    <tr>\n",
       "      <th>RF(oversample)</th>\n",
       "      <td>0.930599</td>\n",
       "      <td>0.237624</td>\n",
       "      <td>0.914714</td>\n",
       "    </tr>\n",
       "    <tr>\n",
       "      <th>ET(oversample)</th>\n",
       "      <td>0.926656</td>\n",
       "      <td>0.247525</td>\n",
       "      <td>0.912430</td>\n",
       "    </tr>\n",
       "    <tr>\n",
       "      <th>KNN(SMOTE/Under)</th>\n",
       "      <td>0.761041</td>\n",
       "      <td>0.336634</td>\n",
       "      <td>0.806140</td>\n",
       "    </tr>\n",
       "    <tr>\n",
       "      <th>LR(SMOTE/Under)</th>\n",
       "      <td>0.808360</td>\n",
       "      <td>0.287129</td>\n",
       "      <td>0.835631</td>\n",
       "    </tr>\n",
       "    <tr>\n",
       "      <th>RF(LR(SMOTE/Under))</th>\n",
       "      <td>0.898265</td>\n",
       "      <td>0.386139</td>\n",
       "      <td>0.899384</td>\n",
       "    </tr>\n",
       "    <tr>\n",
       "      <th>ET(LR(SMOTE/Under))</th>\n",
       "      <td>0.867508</td>\n",
       "      <td>0.396040</td>\n",
       "      <td>0.878464</td>\n",
       "    </tr>\n",
       "  </tbody>\n",
       "</table>\n",
       "</div>"
      ],
      "text/plain": [
       "                     Accuracy    Recall  Weighted F1 Score\n",
       "KNN(plain)           0.912461  0.128713           0.892880\n",
       "LR(plain)            0.918770  0.000000           0.881385\n",
       "RF(plain)            0.935331  0.227723           0.917632\n",
       "ET(plain)            0.926656  0.237624           0.911725\n",
       "KNN(oversample)      0.863565  0.346535           0.873855\n",
       "LR(oversample)       0.898265  0.059406           0.877554\n",
       "RF(oversample)       0.930599  0.237624           0.914714\n",
       "ET(oversample)       0.926656  0.247525           0.912430\n",
       "KNN(SMOTE/Under)     0.761041  0.336634           0.806140\n",
       "LR(SMOTE/Under)      0.808360  0.287129           0.835631\n",
       "RF(LR(SMOTE/Under))  0.898265  0.386139           0.899384\n",
       "ET(LR(SMOTE/Under))  0.867508  0.396040           0.878464"
      ]
     },
     "execution_count": 38,
     "metadata": {},
     "output_type": "execute_result"
    }
   ],
   "source": [
    "binary_scores"
   ]
  },
  {
   "cell_type": "markdown",
   "metadata": {},
   "source": [
    "---\n",
    "## Logistic Regression with Regularization and SMOTE/Undersampling"
   ]
  },
  {
   "cell_type": "markdown",
   "metadata": {},
   "source": [
    "*I hadn't included any regularization in my logistic regression model and wanted to see how it did.*"
   ]
  },
  {
   "cell_type": "code",
   "execution_count": 39,
   "metadata": {},
   "outputs": [
    {
     "name": "stderr",
     "output_type": "stream",
     "text": [
      "/Users/carlychamberlain/opt/anaconda3/envs/dsi/lib/python3.8/site-packages/sklearn/svm/_base.py:976: ConvergenceWarning: Liblinear failed to converge, increase the number of iterations.\n",
      "  warnings.warn(\"Liblinear failed to converge, increase \"\n"
     ]
    },
    {
     "name": "stdout",
     "output_type": "stream",
     "text": [
      "LRCV(SMOTE/UNDER) Training Results:\n",
      "0.748211731044349\n",
      "0.4592274678111588\n",
      "\n",
      "LRCV(SMOTE/UNDER) Testing Results:\n",
      "0.8264984227129337\n",
      "0.26732673267326734\n"
     ]
    }
   ],
   "source": [
    "logreg_cv = LogisticRegressionCV(Cs=10, cv=5, penalty=\"l1\", solver=\"liblinear\", random_state=42)\n",
    "logreg_cv.fit(X_sm_und, y_sm_und)\n",
    "logreg_cv_pred = logreg_cv.predict(X_test_sc)\n",
    "\n",
    "print('LRCV(SMOTE/UNDER) Training Results:')\n",
    "print(logreg_cv.score(X_sm_und, y_sm_und))\n",
    "print(recall_score(y_sm_und, logreg_cv.predict(X_sm_und)))\n",
    "\n",
    "print('\\nLRCV(SMOTE/UNDER) Testing Results:')\n",
    "print(logreg_cv.score(X_test_sc, y_test))\n",
    "print(recall_score(y_test, logreg_cv.predict(X_test_sc)))"
   ]
  },
  {
   "cell_type": "code",
   "execution_count": 40,
   "metadata": {},
   "outputs": [
    {
     "data": {
      "text/html": [
       "<div>\n",
       "<style scoped>\n",
       "    .dataframe tbody tr th:only-of-type {\n",
       "        vertical-align: middle;\n",
       "    }\n",
       "\n",
       "    .dataframe tbody tr th {\n",
       "        vertical-align: top;\n",
       "    }\n",
       "\n",
       "    .dataframe thead th {\n",
       "        text-align: right;\n",
       "    }\n",
       "</style>\n",
       "<table border=\"1\" class=\"dataframe\">\n",
       "  <thead>\n",
       "    <tr style=\"text-align: right;\">\n",
       "      <th></th>\n",
       "      <th>Accuracy</th>\n",
       "      <th>Recall</th>\n",
       "      <th>Weighted F1 Score</th>\n",
       "    </tr>\n",
       "  </thead>\n",
       "  <tbody>\n",
       "    <tr>\n",
       "      <th>KNN(plain)</th>\n",
       "      <td>0.912461</td>\n",
       "      <td>0.128713</td>\n",
       "      <td>0.892880</td>\n",
       "    </tr>\n",
       "    <tr>\n",
       "      <th>LR(plain)</th>\n",
       "      <td>0.918770</td>\n",
       "      <td>0.000000</td>\n",
       "      <td>0.881385</td>\n",
       "    </tr>\n",
       "    <tr>\n",
       "      <th>RF(plain)</th>\n",
       "      <td>0.935331</td>\n",
       "      <td>0.227723</td>\n",
       "      <td>0.917632</td>\n",
       "    </tr>\n",
       "    <tr>\n",
       "      <th>ET(plain)</th>\n",
       "      <td>0.926656</td>\n",
       "      <td>0.237624</td>\n",
       "      <td>0.911725</td>\n",
       "    </tr>\n",
       "    <tr>\n",
       "      <th>KNN(oversample)</th>\n",
       "      <td>0.863565</td>\n",
       "      <td>0.346535</td>\n",
       "      <td>0.873855</td>\n",
       "    </tr>\n",
       "    <tr>\n",
       "      <th>LR(oversample)</th>\n",
       "      <td>0.898265</td>\n",
       "      <td>0.059406</td>\n",
       "      <td>0.877554</td>\n",
       "    </tr>\n",
       "    <tr>\n",
       "      <th>RF(oversample)</th>\n",
       "      <td>0.930599</td>\n",
       "      <td>0.237624</td>\n",
       "      <td>0.914714</td>\n",
       "    </tr>\n",
       "    <tr>\n",
       "      <th>ET(oversample)</th>\n",
       "      <td>0.926656</td>\n",
       "      <td>0.247525</td>\n",
       "      <td>0.912430</td>\n",
       "    </tr>\n",
       "    <tr>\n",
       "      <th>KNN(SMOTE/Under)</th>\n",
       "      <td>0.761041</td>\n",
       "      <td>0.336634</td>\n",
       "      <td>0.806140</td>\n",
       "    </tr>\n",
       "    <tr>\n",
       "      <th>LR(SMOTE/Under)</th>\n",
       "      <td>0.808360</td>\n",
       "      <td>0.287129</td>\n",
       "      <td>0.835631</td>\n",
       "    </tr>\n",
       "    <tr>\n",
       "      <th>RF(LR(SMOTE/Under))</th>\n",
       "      <td>0.898265</td>\n",
       "      <td>0.386139</td>\n",
       "      <td>0.899384</td>\n",
       "    </tr>\n",
       "    <tr>\n",
       "      <th>ET(LR(SMOTE/Under))</th>\n",
       "      <td>0.867508</td>\n",
       "      <td>0.396040</td>\n",
       "      <td>0.878464</td>\n",
       "    </tr>\n",
       "    <tr>\n",
       "      <th>LRCV(SMOTE/Under)</th>\n",
       "      <td>0.826498</td>\n",
       "      <td>0.267327</td>\n",
       "      <td>0.846533</td>\n",
       "    </tr>\n",
       "  </tbody>\n",
       "</table>\n",
       "</div>"
      ],
      "text/plain": [
       "                     Accuracy    Recall  Weighted F1 Score\n",
       "KNN(plain)           0.912461  0.128713           0.892880\n",
       "LR(plain)            0.918770  0.000000           0.881385\n",
       "RF(plain)            0.935331  0.227723           0.917632\n",
       "ET(plain)            0.926656  0.237624           0.911725\n",
       "KNN(oversample)      0.863565  0.346535           0.873855\n",
       "LR(oversample)       0.898265  0.059406           0.877554\n",
       "RF(oversample)       0.930599  0.237624           0.914714\n",
       "ET(oversample)       0.926656  0.247525           0.912430\n",
       "KNN(SMOTE/Under)     0.761041  0.336634           0.806140\n",
       "LR(SMOTE/Under)      0.808360  0.287129           0.835631\n",
       "RF(LR(SMOTE/Under))  0.898265  0.386139           0.899384\n",
       "ET(LR(SMOTE/Under))  0.867508  0.396040           0.878464\n",
       "LRCV(SMOTE/Under)    0.826498  0.267327           0.846533"
      ]
     },
     "execution_count": 40,
     "metadata": {},
     "output_type": "execute_result"
    }
   ],
   "source": [
    "# Adding results to the results table\n",
    "logregcv_et = pd.Series(data=[accuracy_score(y_test, logreg_cv_pred), recall_score(y_test, logreg_cv_pred),\n",
    "                              f1_score(y_test, logreg_cv_pred ,average='weighted')], index=binary_scores.columns, name = 'LRCV(SMOTE/Under)')\n",
    "\n",
    "binary_scores = binary_scores.append([logregcv_et])\n",
    "\n",
    "binary_scores"
   ]
  },
  {
   "cell_type": "markdown",
   "metadata": {},
   "source": [
    "**INTERPRETATION:** It didn't perform well so we won't be using it moving forward."
   ]
  },
  {
   "cell_type": "markdown",
   "metadata": {},
   "source": [
    "---\n",
    "## Look at feature importance from best models"
   ]
  },
  {
   "cell_type": "code",
   "execution_count": 41,
   "metadata": {},
   "outputs": [
    {
     "data": {
      "text/html": [
       "<div>\n",
       "<style scoped>\n",
       "    .dataframe tbody tr th:only-of-type {\n",
       "        vertical-align: middle;\n",
       "    }\n",
       "\n",
       "    .dataframe tbody tr th {\n",
       "        vertical-align: top;\n",
       "    }\n",
       "\n",
       "    .dataframe thead th {\n",
       "        text-align: right;\n",
       "    }\n",
       "</style>\n",
       "<table border=\"1\" class=\"dataframe\">\n",
       "  <thead>\n",
       "    <tr style=\"text-align: right;\">\n",
       "      <th></th>\n",
       "      <th>Variable</th>\n",
       "      <th>Importance</th>\n",
       "    </tr>\n",
       "  </thead>\n",
       "  <tbody>\n",
       "    <tr>\n",
       "      <th>6</th>\n",
       "      <td>policy_length</td>\n",
       "      <td>0.089657</td>\n",
       "    </tr>\n",
       "    <tr>\n",
       "      <th>2</th>\n",
       "      <td>Length</td>\n",
       "      <td>0.052217</td>\n",
       "    </tr>\n",
       "    <tr>\n",
       "      <th>3</th>\n",
       "      <td>Hull Limit</td>\n",
       "      <td>0.052039</td>\n",
       "    </tr>\n",
       "    <tr>\n",
       "      <th>5</th>\n",
       "      <td>Age</td>\n",
       "      <td>0.051557</td>\n",
       "    </tr>\n",
       "    <tr>\n",
       "      <th>1</th>\n",
       "      <td>Year Built</td>\n",
       "      <td>0.051189</td>\n",
       "    </tr>\n",
       "    <tr>\n",
       "      <th>0</th>\n",
       "      <td>Years Exp.</td>\n",
       "      <td>0.048723</td>\n",
       "    </tr>\n",
       "    <tr>\n",
       "      <th>9</th>\n",
       "      <td>New/Renl/Endt/Canc/Flat_new</td>\n",
       "      <td>0.029058</td>\n",
       "    </tr>\n",
       "    <tr>\n",
       "      <th>24</th>\n",
       "      <td>Occupation_other</td>\n",
       "      <td>0.020232</td>\n",
       "    </tr>\n",
       "    <tr>\n",
       "      <th>10</th>\n",
       "      <td>New/Renl/Endt/Canc/Flat_renl</td>\n",
       "      <td>0.019945</td>\n",
       "    </tr>\n",
       "    <tr>\n",
       "      <th>11</th>\n",
       "      <td>Married yes/no_not reported</td>\n",
       "      <td>0.019711</td>\n",
       "    </tr>\n",
       "    <tr>\n",
       "      <th>4</th>\n",
       "      <td># Engines</td>\n",
       "      <td>0.019585</td>\n",
       "    </tr>\n",
       "    <tr>\n",
       "      <th>99</th>\n",
       "      <td>Mooring County_other</td>\n",
       "      <td>0.019432</td>\n",
       "    </tr>\n",
       "    <tr>\n",
       "      <th>12</th>\n",
       "      <td>Married yes/no_yes</td>\n",
       "      <td>0.019260</td>\n",
       "    </tr>\n",
       "    <tr>\n",
       "      <th>23</th>\n",
       "      <td>Occupation_not reported</td>\n",
       "      <td>0.018451</td>\n",
       "    </tr>\n",
       "    <tr>\n",
       "      <th>46</th>\n",
       "      <td>Builder_other</td>\n",
       "      <td>0.017447</td>\n",
       "    </tr>\n",
       "    <tr>\n",
       "      <th>94</th>\n",
       "      <td>Mooring County_monroe</td>\n",
       "      <td>0.016797</td>\n",
       "    </tr>\n",
       "    <tr>\n",
       "      <th>29</th>\n",
       "      <td>Occupation_retired</td>\n",
       "      <td>0.016230</td>\n",
       "    </tr>\n",
       "    <tr>\n",
       "      <th>59</th>\n",
       "      <td>Hull Type_motoryacht</td>\n",
       "      <td>0.015552</td>\n",
       "    </tr>\n",
       "    <tr>\n",
       "      <th>58</th>\n",
       "      <td>Hull Type_monohull sail</td>\n",
       "      <td>0.014863</td>\n",
       "    </tr>\n",
       "    <tr>\n",
       "      <th>61</th>\n",
       "      <td>Hull Type_multihull sail</td>\n",
       "      <td>0.013441</td>\n",
       "    </tr>\n",
       "    <tr>\n",
       "      <th>7</th>\n",
       "      <td>New/Renl/Endt/Canc/Flat_endt</td>\n",
       "      <td>0.012577</td>\n",
       "    </tr>\n",
       "    <tr>\n",
       "      <th>74</th>\n",
       "      <td>Mooring County_caribbean</td>\n",
       "      <td>0.012217</td>\n",
       "    </tr>\n",
       "    <tr>\n",
       "      <th>103</th>\n",
       "      <td>Mooring County_san diego</td>\n",
       "      <td>0.011751</td>\n",
       "    </tr>\n",
       "    <tr>\n",
       "      <th>72</th>\n",
       "      <td>Mooring County_broward</td>\n",
       "      <td>0.010819</td>\n",
       "    </tr>\n",
       "    <tr>\n",
       "      <th>70</th>\n",
       "      <td>Mooring County_bcs</td>\n",
       "      <td>0.009925</td>\n",
       "    </tr>\n",
       "    <tr>\n",
       "      <th>93</th>\n",
       "      <td>Mooring County_miami-dade</td>\n",
       "      <td>0.009918</td>\n",
       "    </tr>\n",
       "    <tr>\n",
       "      <th>102</th>\n",
       "      <td>Mooring County_pinellas</td>\n",
       "      <td>0.009914</td>\n",
       "    </tr>\n",
       "    <tr>\n",
       "      <th>63</th>\n",
       "      <td>Hull Type_sportfisher</td>\n",
       "      <td>0.009753</td>\n",
       "    </tr>\n",
       "    <tr>\n",
       "      <th>87</th>\n",
       "      <td>Mooring County_los angeles</td>\n",
       "      <td>0.008780</td>\n",
       "    </tr>\n",
       "    <tr>\n",
       "      <th>64</th>\n",
       "      <td>Hull Type_trawler</td>\n",
       "      <td>0.008438</td>\n",
       "    </tr>\n",
       "  </tbody>\n",
       "</table>\n",
       "</div>"
      ],
      "text/plain": [
       "                         Variable  Importance\n",
       "6                   policy_length    0.089657\n",
       "2                          Length    0.052217\n",
       "3                      Hull Limit    0.052039\n",
       "5                             Age    0.051557\n",
       "1                      Year Built    0.051189\n",
       "0                      Years Exp.    0.048723\n",
       "9     New/Renl/Endt/Canc/Flat_new    0.029058\n",
       "24               Occupation_other    0.020232\n",
       "10   New/Renl/Endt/Canc/Flat_renl    0.019945\n",
       "11    Married yes/no_not reported    0.019711\n",
       "4                       # Engines    0.019585\n",
       "99           Mooring County_other    0.019432\n",
       "12             Married yes/no_yes    0.019260\n",
       "23        Occupation_not reported    0.018451\n",
       "46                  Builder_other    0.017447\n",
       "94          Mooring County_monroe    0.016797\n",
       "29             Occupation_retired    0.016230\n",
       "59           Hull Type_motoryacht    0.015552\n",
       "58        Hull Type_monohull sail    0.014863\n",
       "61       Hull Type_multihull sail    0.013441\n",
       "7    New/Renl/Endt/Canc/Flat_endt    0.012577\n",
       "74       Mooring County_caribbean    0.012217\n",
       "103      Mooring County_san diego    0.011751\n",
       "72         Mooring County_broward    0.010819\n",
       "70             Mooring County_bcs    0.009925\n",
       "93      Mooring County_miami-dade    0.009918\n",
       "102       Mooring County_pinellas    0.009914\n",
       "63          Hull Type_sportfisher    0.009753\n",
       "87     Mooring County_los angeles    0.008780\n",
       "64              Hull Type_trawler    0.008438"
      ]
     },
     "execution_count": 41,
     "metadata": {},
     "output_type": "execute_result"
    }
   ],
   "source": [
    "# Ref: https://towardsdatascience.com/interpreting-random-forest-and-other-black-box-models-like-xgboost-80f9cc4a3c38\n",
    "\n",
    "knn_smote_under_feature_imp = pd.DataFrame({'Variable':X.columns,\n",
    "              'Importance':et.feature_importances_}).sort_values('Importance', ascending=False)\n",
    "\n",
    "knn_smote_under_feature_imp[:30]"
   ]
  },
  {
   "cell_type": "code",
   "execution_count": 42,
   "metadata": {},
   "outputs": [
    {
     "data": {
      "text/html": [
       "<div>\n",
       "<style scoped>\n",
       "    .dataframe tbody tr th:only-of-type {\n",
       "        vertical-align: middle;\n",
       "    }\n",
       "\n",
       "    .dataframe tbody tr th {\n",
       "        vertical-align: top;\n",
       "    }\n",
       "\n",
       "    .dataframe thead th {\n",
       "        text-align: right;\n",
       "    }\n",
       "</style>\n",
       "<table border=\"1\" class=\"dataframe\">\n",
       "  <thead>\n",
       "    <tr style=\"text-align: right;\">\n",
       "      <th></th>\n",
       "      <th>Variable</th>\n",
       "      <th>Importance</th>\n",
       "    </tr>\n",
       "  </thead>\n",
       "  <tbody>\n",
       "    <tr>\n",
       "      <th>6</th>\n",
       "      <td>policy_length</td>\n",
       "      <td>0.089657</td>\n",
       "    </tr>\n",
       "    <tr>\n",
       "      <th>2</th>\n",
       "      <td>Length</td>\n",
       "      <td>0.052217</td>\n",
       "    </tr>\n",
       "    <tr>\n",
       "      <th>3</th>\n",
       "      <td>Hull Limit</td>\n",
       "      <td>0.052039</td>\n",
       "    </tr>\n",
       "    <tr>\n",
       "      <th>5</th>\n",
       "      <td>Age</td>\n",
       "      <td>0.051557</td>\n",
       "    </tr>\n",
       "    <tr>\n",
       "      <th>1</th>\n",
       "      <td>Year Built</td>\n",
       "      <td>0.051189</td>\n",
       "    </tr>\n",
       "    <tr>\n",
       "      <th>0</th>\n",
       "      <td>Years Exp.</td>\n",
       "      <td>0.048723</td>\n",
       "    </tr>\n",
       "    <tr>\n",
       "      <th>9</th>\n",
       "      <td>New/Renl/Endt/Canc/Flat_new</td>\n",
       "      <td>0.029058</td>\n",
       "    </tr>\n",
       "    <tr>\n",
       "      <th>24</th>\n",
       "      <td>Occupation_other</td>\n",
       "      <td>0.020232</td>\n",
       "    </tr>\n",
       "    <tr>\n",
       "      <th>10</th>\n",
       "      <td>New/Renl/Endt/Canc/Flat_renl</td>\n",
       "      <td>0.019945</td>\n",
       "    </tr>\n",
       "    <tr>\n",
       "      <th>11</th>\n",
       "      <td>Married yes/no_not reported</td>\n",
       "      <td>0.019711</td>\n",
       "    </tr>\n",
       "    <tr>\n",
       "      <th>4</th>\n",
       "      <td># Engines</td>\n",
       "      <td>0.019585</td>\n",
       "    </tr>\n",
       "    <tr>\n",
       "      <th>99</th>\n",
       "      <td>Mooring County_other</td>\n",
       "      <td>0.019432</td>\n",
       "    </tr>\n",
       "    <tr>\n",
       "      <th>12</th>\n",
       "      <td>Married yes/no_yes</td>\n",
       "      <td>0.019260</td>\n",
       "    </tr>\n",
       "    <tr>\n",
       "      <th>23</th>\n",
       "      <td>Occupation_not reported</td>\n",
       "      <td>0.018451</td>\n",
       "    </tr>\n",
       "    <tr>\n",
       "      <th>46</th>\n",
       "      <td>Builder_other</td>\n",
       "      <td>0.017447</td>\n",
       "    </tr>\n",
       "    <tr>\n",
       "      <th>94</th>\n",
       "      <td>Mooring County_monroe</td>\n",
       "      <td>0.016797</td>\n",
       "    </tr>\n",
       "    <tr>\n",
       "      <th>29</th>\n",
       "      <td>Occupation_retired</td>\n",
       "      <td>0.016230</td>\n",
       "    </tr>\n",
       "    <tr>\n",
       "      <th>59</th>\n",
       "      <td>Hull Type_motoryacht</td>\n",
       "      <td>0.015552</td>\n",
       "    </tr>\n",
       "    <tr>\n",
       "      <th>58</th>\n",
       "      <td>Hull Type_monohull sail</td>\n",
       "      <td>0.014863</td>\n",
       "    </tr>\n",
       "    <tr>\n",
       "      <th>61</th>\n",
       "      <td>Hull Type_multihull sail</td>\n",
       "      <td>0.013441</td>\n",
       "    </tr>\n",
       "    <tr>\n",
       "      <th>7</th>\n",
       "      <td>New/Renl/Endt/Canc/Flat_endt</td>\n",
       "      <td>0.012577</td>\n",
       "    </tr>\n",
       "    <tr>\n",
       "      <th>74</th>\n",
       "      <td>Mooring County_caribbean</td>\n",
       "      <td>0.012217</td>\n",
       "    </tr>\n",
       "    <tr>\n",
       "      <th>103</th>\n",
       "      <td>Mooring County_san diego</td>\n",
       "      <td>0.011751</td>\n",
       "    </tr>\n",
       "    <tr>\n",
       "      <th>72</th>\n",
       "      <td>Mooring County_broward</td>\n",
       "      <td>0.010819</td>\n",
       "    </tr>\n",
       "    <tr>\n",
       "      <th>70</th>\n",
       "      <td>Mooring County_bcs</td>\n",
       "      <td>0.009925</td>\n",
       "    </tr>\n",
       "    <tr>\n",
       "      <th>93</th>\n",
       "      <td>Mooring County_miami-dade</td>\n",
       "      <td>0.009918</td>\n",
       "    </tr>\n",
       "    <tr>\n",
       "      <th>102</th>\n",
       "      <td>Mooring County_pinellas</td>\n",
       "      <td>0.009914</td>\n",
       "    </tr>\n",
       "    <tr>\n",
       "      <th>63</th>\n",
       "      <td>Hull Type_sportfisher</td>\n",
       "      <td>0.009753</td>\n",
       "    </tr>\n",
       "    <tr>\n",
       "      <th>87</th>\n",
       "      <td>Mooring County_los angeles</td>\n",
       "      <td>0.008780</td>\n",
       "    </tr>\n",
       "    <tr>\n",
       "      <th>64</th>\n",
       "      <td>Hull Type_trawler</td>\n",
       "      <td>0.008438</td>\n",
       "    </tr>\n",
       "  </tbody>\n",
       "</table>\n",
       "</div>"
      ],
      "text/plain": [
       "                         Variable  Importance\n",
       "6                   policy_length    0.089657\n",
       "2                          Length    0.052217\n",
       "3                      Hull Limit    0.052039\n",
       "5                             Age    0.051557\n",
       "1                      Year Built    0.051189\n",
       "0                      Years Exp.    0.048723\n",
       "9     New/Renl/Endt/Canc/Flat_new    0.029058\n",
       "24               Occupation_other    0.020232\n",
       "10   New/Renl/Endt/Canc/Flat_renl    0.019945\n",
       "11    Married yes/no_not reported    0.019711\n",
       "4                       # Engines    0.019585\n",
       "99           Mooring County_other    0.019432\n",
       "12             Married yes/no_yes    0.019260\n",
       "23        Occupation_not reported    0.018451\n",
       "46                  Builder_other    0.017447\n",
       "94          Mooring County_monroe    0.016797\n",
       "29             Occupation_retired    0.016230\n",
       "59           Hull Type_motoryacht    0.015552\n",
       "58        Hull Type_monohull sail    0.014863\n",
       "61       Hull Type_multihull sail    0.013441\n",
       "7    New/Renl/Endt/Canc/Flat_endt    0.012577\n",
       "74       Mooring County_caribbean    0.012217\n",
       "103      Mooring County_san diego    0.011751\n",
       "72         Mooring County_broward    0.010819\n",
       "70             Mooring County_bcs    0.009925\n",
       "93      Mooring County_miami-dade    0.009918\n",
       "102       Mooring County_pinellas    0.009914\n",
       "63          Hull Type_sportfisher    0.009753\n",
       "87     Mooring County_los angeles    0.008780\n",
       "64              Hull Type_trawler    0.008438"
      ]
     },
     "execution_count": 42,
     "metadata": {},
     "output_type": "execute_result"
    }
   ],
   "source": [
    "# Ref: https://towardsdatascience.com/interpreting-random-forest-and-other-black-box-models-like-xgboost-80f9cc4a3c38\n",
    "\n",
    "et_smote_under_feature_imp = pd.DataFrame({'Variable':X.columns,\n",
    "              'Importance':et.feature_importances_}).sort_values('Importance', ascending=False)\n",
    "\n",
    "et_smote_under_feature_imp[:30]\n",
    "\n"
   ]
  },
  {
   "cell_type": "code",
   "execution_count": 43,
   "metadata": {},
   "outputs": [
    {
     "data": {
      "text/html": [
       "<div>\n",
       "<style scoped>\n",
       "    .dataframe tbody tr th:only-of-type {\n",
       "        vertical-align: middle;\n",
       "    }\n",
       "\n",
       "    .dataframe tbody tr th {\n",
       "        vertical-align: top;\n",
       "    }\n",
       "\n",
       "    .dataframe thead th {\n",
       "        text-align: right;\n",
       "    }\n",
       "</style>\n",
       "<table border=\"1\" class=\"dataframe\">\n",
       "  <thead>\n",
       "    <tr style=\"text-align: right;\">\n",
       "      <th></th>\n",
       "      <th>Variable</th>\n",
       "      <th>Importance</th>\n",
       "    </tr>\n",
       "  </thead>\n",
       "  <tbody>\n",
       "    <tr>\n",
       "      <th>6</th>\n",
       "      <td>policy_length</td>\n",
       "      <td>0.123412</td>\n",
       "    </tr>\n",
       "    <tr>\n",
       "      <th>2</th>\n",
       "      <td>Length</td>\n",
       "      <td>0.079057</td>\n",
       "    </tr>\n",
       "    <tr>\n",
       "      <th>5</th>\n",
       "      <td>Age</td>\n",
       "      <td>0.076059</td>\n",
       "    </tr>\n",
       "    <tr>\n",
       "      <th>3</th>\n",
       "      <td>Hull Limit</td>\n",
       "      <td>0.075208</td>\n",
       "    </tr>\n",
       "    <tr>\n",
       "      <th>1</th>\n",
       "      <td>Year Built</td>\n",
       "      <td>0.071525</td>\n",
       "    </tr>\n",
       "    <tr>\n",
       "      <th>0</th>\n",
       "      <td>Years Exp.</td>\n",
       "      <td>0.062769</td>\n",
       "    </tr>\n",
       "    <tr>\n",
       "      <th>9</th>\n",
       "      <td>New/Renl/Endt/Canc/Flat_new</td>\n",
       "      <td>0.026646</td>\n",
       "    </tr>\n",
       "    <tr>\n",
       "      <th>4</th>\n",
       "      <td># Engines</td>\n",
       "      <td>0.019023</td>\n",
       "    </tr>\n",
       "    <tr>\n",
       "      <th>10</th>\n",
       "      <td>New/Renl/Endt/Canc/Flat_renl</td>\n",
       "      <td>0.018628</td>\n",
       "    </tr>\n",
       "    <tr>\n",
       "      <th>23</th>\n",
       "      <td>Occupation_not reported</td>\n",
       "      <td>0.016068</td>\n",
       "    </tr>\n",
       "    <tr>\n",
       "      <th>24</th>\n",
       "      <td>Occupation_other</td>\n",
       "      <td>0.015860</td>\n",
       "    </tr>\n",
       "    <tr>\n",
       "      <th>11</th>\n",
       "      <td>Married yes/no_not reported</td>\n",
       "      <td>0.014971</td>\n",
       "    </tr>\n",
       "    <tr>\n",
       "      <th>99</th>\n",
       "      <td>Mooring County_other</td>\n",
       "      <td>0.014688</td>\n",
       "    </tr>\n",
       "    <tr>\n",
       "      <th>12</th>\n",
       "      <td>Married yes/no_yes</td>\n",
       "      <td>0.014385</td>\n",
       "    </tr>\n",
       "    <tr>\n",
       "      <th>94</th>\n",
       "      <td>Mooring County_monroe</td>\n",
       "      <td>0.014216</td>\n",
       "    </tr>\n",
       "    <tr>\n",
       "      <th>58</th>\n",
       "      <td>Hull Type_monohull sail</td>\n",
       "      <td>0.013741</td>\n",
       "    </tr>\n",
       "    <tr>\n",
       "      <th>61</th>\n",
       "      <td>Hull Type_multihull sail</td>\n",
       "      <td>0.013465</td>\n",
       "    </tr>\n",
       "    <tr>\n",
       "      <th>46</th>\n",
       "      <td>Builder_other</td>\n",
       "      <td>0.012398</td>\n",
       "    </tr>\n",
       "    <tr>\n",
       "      <th>7</th>\n",
       "      <td>New/Renl/Endt/Canc/Flat_endt</td>\n",
       "      <td>0.012212</td>\n",
       "    </tr>\n",
       "    <tr>\n",
       "      <th>29</th>\n",
       "      <td>Occupation_retired</td>\n",
       "      <td>0.012202</td>\n",
       "    </tr>\n",
       "    <tr>\n",
       "      <th>59</th>\n",
       "      <td>Hull Type_motoryacht</td>\n",
       "      <td>0.011180</td>\n",
       "    </tr>\n",
       "    <tr>\n",
       "      <th>93</th>\n",
       "      <td>Mooring County_miami-dade</td>\n",
       "      <td>0.008933</td>\n",
       "    </tr>\n",
       "    <tr>\n",
       "      <th>102</th>\n",
       "      <td>Mooring County_pinellas</td>\n",
       "      <td>0.008854</td>\n",
       "    </tr>\n",
       "    <tr>\n",
       "      <th>74</th>\n",
       "      <td>Mooring County_caribbean</td>\n",
       "      <td>0.008328</td>\n",
       "    </tr>\n",
       "    <tr>\n",
       "      <th>103</th>\n",
       "      <td>Mooring County_san diego</td>\n",
       "      <td>0.008285</td>\n",
       "    </tr>\n",
       "    <tr>\n",
       "      <th>63</th>\n",
       "      <td>Hull Type_sportfisher</td>\n",
       "      <td>0.007795</td>\n",
       "    </tr>\n",
       "    <tr>\n",
       "      <th>64</th>\n",
       "      <td>Hull Type_trawler</td>\n",
       "      <td>0.007792</td>\n",
       "    </tr>\n",
       "    <tr>\n",
       "      <th>72</th>\n",
       "      <td>Mooring County_broward</td>\n",
       "      <td>0.007587</td>\n",
       "    </tr>\n",
       "    <tr>\n",
       "      <th>70</th>\n",
       "      <td>Mooring County_bcs</td>\n",
       "      <td>0.007205</td>\n",
       "    </tr>\n",
       "    <tr>\n",
       "      <th>20</th>\n",
       "      <td>Occupation_executive</td>\n",
       "      <td>0.006873</td>\n",
       "    </tr>\n",
       "  </tbody>\n",
       "</table>\n",
       "</div>"
      ],
      "text/plain": [
       "                         Variable  Importance\n",
       "6                   policy_length    0.123412\n",
       "2                          Length    0.079057\n",
       "5                             Age    0.076059\n",
       "3                      Hull Limit    0.075208\n",
       "1                      Year Built    0.071525\n",
       "0                      Years Exp.    0.062769\n",
       "9     New/Renl/Endt/Canc/Flat_new    0.026646\n",
       "4                       # Engines    0.019023\n",
       "10   New/Renl/Endt/Canc/Flat_renl    0.018628\n",
       "23        Occupation_not reported    0.016068\n",
       "24               Occupation_other    0.015860\n",
       "11    Married yes/no_not reported    0.014971\n",
       "99           Mooring County_other    0.014688\n",
       "12             Married yes/no_yes    0.014385\n",
       "94          Mooring County_monroe    0.014216\n",
       "58        Hull Type_monohull sail    0.013741\n",
       "61       Hull Type_multihull sail    0.013465\n",
       "46                  Builder_other    0.012398\n",
       "7    New/Renl/Endt/Canc/Flat_endt    0.012212\n",
       "29             Occupation_retired    0.012202\n",
       "59           Hull Type_motoryacht    0.011180\n",
       "93      Mooring County_miami-dade    0.008933\n",
       "102       Mooring County_pinellas    0.008854\n",
       "74       Mooring County_caribbean    0.008328\n",
       "103      Mooring County_san diego    0.008285\n",
       "63          Hull Type_sportfisher    0.007795\n",
       "64              Hull Type_trawler    0.007792\n",
       "72         Mooring County_broward    0.007587\n",
       "70             Mooring County_bcs    0.007205\n",
       "20           Occupation_executive    0.006873"
      ]
     },
     "execution_count": 43,
     "metadata": {},
     "output_type": "execute_result"
    }
   ],
   "source": [
    "# Compare to feature importance of random forest model\n",
    "\n",
    "rf_smote_under_feature_imp = pd.DataFrame({'Variable':X.columns,\n",
    "              'Importance':rf.feature_importances_}).sort_values('Importance', ascending=False)\n",
    "\n",
    "top_30 = rf_smote_under_feature_imp[:30]\n",
    "top_30"
   ]
  },
  {
   "cell_type": "markdown",
   "metadata": {},
   "source": [
    "**INTERPRETATION:** The top model features appear to be very similar beween models. Because I will likely be movinig forward with random forest as my main model, I decided to use that list for feature selection below."
   ]
  },
  {
   "cell_type": "code",
   "execution_count": 44,
   "metadata": {},
   "outputs": [],
   "source": [
    "# Get only top 30 important features to use in an updated model \n",
    "post_rf_model_features = [x for x in top_30['Variable']]"
   ]
  },
  {
   "cell_type": "markdown",
   "metadata": {},
   "source": [
    "---\n",
    "## Redo models again using only top 30 features"
   ]
  },
  {
   "cell_type": "code",
   "execution_count": 45,
   "metadata": {},
   "outputs": [
    {
     "data": {
      "text/html": [
       "<div>\n",
       "<style scoped>\n",
       "    .dataframe tbody tr th:only-of-type {\n",
       "        vertical-align: middle;\n",
       "    }\n",
       "\n",
       "    .dataframe tbody tr th {\n",
       "        vertical-align: top;\n",
       "    }\n",
       "\n",
       "    .dataframe thead th {\n",
       "        text-align: right;\n",
       "    }\n",
       "</style>\n",
       "<table border=\"1\" class=\"dataframe\">\n",
       "  <thead>\n",
       "    <tr style=\"text-align: right;\">\n",
       "      <th></th>\n",
       "      <th>Accuracy</th>\n",
       "      <th>Recall</th>\n",
       "      <th>Weighted F1 Score</th>\n",
       "    </tr>\n",
       "  </thead>\n",
       "  <tbody>\n",
       "  </tbody>\n",
       "</table>\n",
       "</div>"
      ],
      "text/plain": [
       "Empty DataFrame\n",
       "Columns: [Accuracy, Recall, Weighted F1 Score]\n",
       "Index: []"
      ]
     },
     "execution_count": 45,
     "metadata": {},
     "output_type": "execute_result"
    }
   ],
   "source": [
    "# Create a second results table to compare scores before and after top 30 features were dropped\n",
    "binary_scores2 = pd.DataFrame(columns=['Accuracy', 'Recall','Weighted F1 Score'])\n",
    "binary_scores2"
   ]
  },
  {
   "cell_type": "code",
   "execution_count": 46,
   "metadata": {},
   "outputs": [],
   "source": [
    "X = combined[post_rf_model_features]\n",
    "y = combined['binary']\n",
    "X_train, X_test, y_train, y_test = train_test_split(X, y, test_size=.2, random_state=42, stratify=y)"
   ]
  },
  {
   "cell_type": "code",
   "execution_count": 47,
   "metadata": {},
   "outputs": [],
   "source": [
    "ss = StandardScaler()\n",
    "X_train_sc = ss.fit_transform(X_train)\n",
    "X_test_sc = ss.transform(X_test)"
   ]
  },
  {
   "cell_type": "code",
   "execution_count": 48,
   "metadata": {},
   "outputs": [],
   "source": [
    "over = SMOTE(sampling_strategy=0.1, random_state=42)\n",
    "under = RandomUnderSampler(sampling_strategy=0.5, random_state=42)\n",
    "steps = [('o', over), ('u', under)]\n",
    "pipeline = Pipeline(steps=steps)\n",
    "\n",
    "X_sm_und, y_sm_und = pipeline.fit_resample(X_train_sc,y_train)"
   ]
  },
  {
   "cell_type": "code",
   "execution_count": 49,
   "metadata": {},
   "outputs": [],
   "source": [
    "knn = KNeighborsClassifier()\n",
    "knn.fit(X_sm_und, y_sm_und)\n",
    "knn_pred = knn.predict(X_test_sc)\n",
    "\n",
    "lr = LogisticRegression(random_state=42)\n",
    "lr.fit(X_sm_und, y_sm_und)\n",
    "lr_pred = lr.predict(X_test_sc)\n",
    "\n",
    "rf = RandomForestClassifier(n_estimators=100,random_state=42)\n",
    "rf.fit(X_sm_und, y_sm_und)\n",
    "rf_pred = rf.predict(X_test_sc)\n",
    "\n",
    "et = ExtraTreesClassifier(n_estimators=100,random_state=42)\n",
    "et.fit(X_sm_und, y_sm_und)\n",
    "et_pred = et.predict(X_test_sc)\n",
    "\n",
    "logreg_cv = LogisticRegressionCV(Cs=10, cv=5, penalty=\"l1\", solver=\"liblinear\", random_state=42)\n",
    "logreg_cv.fit(X_sm_und, y_sm_und)\n",
    "logreg_cv_pred = logreg_cv.predict(X_test_sc)"
   ]
  },
  {
   "cell_type": "code",
   "execution_count": 50,
   "metadata": {},
   "outputs": [
    {
     "name": "stdout",
     "output_type": "stream",
     "text": [
      "New_Scores\n"
     ]
    },
    {
     "data": {
      "text/html": [
       "<div>\n",
       "<style scoped>\n",
       "    .dataframe tbody tr th:only-of-type {\n",
       "        vertical-align: middle;\n",
       "    }\n",
       "\n",
       "    .dataframe tbody tr th {\n",
       "        vertical-align: top;\n",
       "    }\n",
       "\n",
       "    .dataframe thead th {\n",
       "        text-align: right;\n",
       "    }\n",
       "</style>\n",
       "<table border=\"1\" class=\"dataframe\">\n",
       "  <thead>\n",
       "    <tr style=\"text-align: right;\">\n",
       "      <th></th>\n",
       "      <th>Accuracy</th>\n",
       "      <th>Recall</th>\n",
       "      <th>Weighted F1 Score</th>\n",
       "    </tr>\n",
       "  </thead>\n",
       "  <tbody>\n",
       "    <tr>\n",
       "      <th>KNN(SMOTE/Under)</th>\n",
       "      <td>0.772871</td>\n",
       "      <td>0.435644</td>\n",
       "      <td>0.816276</td>\n",
       "    </tr>\n",
       "    <tr>\n",
       "      <th>LR(SMOTE/Under)</th>\n",
       "      <td>0.869874</td>\n",
       "      <td>0.247525</td>\n",
       "      <td>0.873443</td>\n",
       "    </tr>\n",
       "    <tr>\n",
       "      <th>RF(SMOTE/Under))</th>\n",
       "      <td>0.892744</td>\n",
       "      <td>0.405941</td>\n",
       "      <td>0.896310</td>\n",
       "    </tr>\n",
       "    <tr>\n",
       "      <th>ET(SMOTE/Under))</th>\n",
       "      <td>0.865931</td>\n",
       "      <td>0.386139</td>\n",
       "      <td>0.877017</td>\n",
       "    </tr>\n",
       "    <tr>\n",
       "      <th>LOGREG(SMOTE/Under))</th>\n",
       "      <td>0.903785</td>\n",
       "      <td>0.108911</td>\n",
       "      <td>0.885575</td>\n",
       "    </tr>\n",
       "  </tbody>\n",
       "</table>\n",
       "</div>"
      ],
      "text/plain": [
       "                      Accuracy    Recall  Weighted F1 Score\n",
       "KNN(SMOTE/Under)      0.772871  0.435644           0.816276\n",
       "LR(SMOTE/Under)       0.869874  0.247525           0.873443\n",
       "RF(SMOTE/Under))      0.892744  0.405941           0.896310\n",
       "ET(SMOTE/Under))      0.865931  0.386139           0.877017\n",
       "LOGREG(SMOTE/Under))  0.903785  0.108911           0.885575"
      ]
     },
     "execution_count": 50,
     "metadata": {},
     "output_type": "execute_result"
    }
   ],
   "source": [
    "smote_knn = pd.Series(data=[accuracy_score(y_test, knn_pred), recall_score(y_test, knn_pred),\n",
    "                              f1_score(y_test, knn_pred ,average='weighted')], index=binary_scores2.columns, name = 'KNN(SMOTE/Under)')\n",
    "\n",
    "smote_lr = pd.Series(data=[accuracy_score(y_test, lr_pred), recall_score(y_test, lr_pred),\n",
    "                              f1_score(y_test, lr_pred ,average='weighted')], index=binary_scores2.columns, name = 'LR(SMOTE/Under)')\n",
    "\n",
    "smote_rf = pd.Series(data=[accuracy_score(y_test, rf_pred), recall_score(y_test, rf_pred),\n",
    "                              f1_score(y_test, rf_pred ,average='weighted')], index=binary_scores2.columns, name = 'RF(SMOTE/Under))')\n",
    "\n",
    "smote_et = pd.Series(data=[accuracy_score(y_test, et_pred), recall_score(y_test, et_pred),\n",
    "                              f1_score(y_test, et_pred ,average='weighted')], index=binary_scores2.columns, name = 'ET(SMOTE/Under))')\n",
    "\n",
    "smote_logreg_cv = pd.Series(data=[accuracy_score(y_test, logreg_cv_pred), recall_score(y_test, logreg_cv_pred),\n",
    "                              f1_score(y_test, logreg_cv_pred ,average='weighted')], index=binary_scores2.columns, name = 'LOGREG(SMOTE/Under))')\n",
    "\n",
    "binary_scores2 = binary_scores2.append([smote_knn, smote_lr, smote_rf, smote_et, smote_logreg_cv])\n",
    "\n",
    "print('New_Scores')\n",
    "binary_scores2"
   ]
  },
  {
   "cell_type": "code",
   "execution_count": 51,
   "metadata": {},
   "outputs": [
    {
     "name": "stdout",
     "output_type": "stream",
     "text": [
      "Old_Scores\n"
     ]
    },
    {
     "data": {
      "text/html": [
       "<div>\n",
       "<style scoped>\n",
       "    .dataframe tbody tr th:only-of-type {\n",
       "        vertical-align: middle;\n",
       "    }\n",
       "\n",
       "    .dataframe tbody tr th {\n",
       "        vertical-align: top;\n",
       "    }\n",
       "\n",
       "    .dataframe thead th {\n",
       "        text-align: right;\n",
       "    }\n",
       "</style>\n",
       "<table border=\"1\" class=\"dataframe\">\n",
       "  <thead>\n",
       "    <tr style=\"text-align: right;\">\n",
       "      <th></th>\n",
       "      <th>Accuracy</th>\n",
       "      <th>Recall</th>\n",
       "      <th>Weighted F1 Score</th>\n",
       "    </tr>\n",
       "  </thead>\n",
       "  <tbody>\n",
       "    <tr>\n",
       "      <th>KNN(SMOTE/Under)</th>\n",
       "      <td>0.761041</td>\n",
       "      <td>0.336634</td>\n",
       "      <td>0.806140</td>\n",
       "    </tr>\n",
       "    <tr>\n",
       "      <th>LR(SMOTE/Under)</th>\n",
       "      <td>0.808360</td>\n",
       "      <td>0.287129</td>\n",
       "      <td>0.835631</td>\n",
       "    </tr>\n",
       "    <tr>\n",
       "      <th>RF(LR(SMOTE/Under))</th>\n",
       "      <td>0.898265</td>\n",
       "      <td>0.386139</td>\n",
       "      <td>0.899384</td>\n",
       "    </tr>\n",
       "    <tr>\n",
       "      <th>ET(LR(SMOTE/Under))</th>\n",
       "      <td>0.867508</td>\n",
       "      <td>0.396040</td>\n",
       "      <td>0.878464</td>\n",
       "    </tr>\n",
       "    <tr>\n",
       "      <th>LRCV(SMOTE/Under)</th>\n",
       "      <td>0.826498</td>\n",
       "      <td>0.267327</td>\n",
       "      <td>0.846533</td>\n",
       "    </tr>\n",
       "  </tbody>\n",
       "</table>\n",
       "</div>"
      ],
      "text/plain": [
       "                     Accuracy    Recall  Weighted F1 Score\n",
       "KNN(SMOTE/Under)     0.761041  0.336634           0.806140\n",
       "LR(SMOTE/Under)      0.808360  0.287129           0.835631\n",
       "RF(LR(SMOTE/Under))  0.898265  0.386139           0.899384\n",
       "ET(LR(SMOTE/Under))  0.867508  0.396040           0.878464\n",
       "LRCV(SMOTE/Under)    0.826498  0.267327           0.846533"
      ]
     },
     "execution_count": 51,
     "metadata": {},
     "output_type": "execute_result"
    }
   ],
   "source": [
    "print('Old_Scores')\n",
    "binary_scores[-5:]"
   ]
  },
  {
   "cell_type": "markdown",
   "metadata": {},
   "source": [
    "**INTERPRETATION:** Scores improved after using only the top 30 most important features from the Random Forest model."
   ]
  },
  {
   "cell_type": "code",
   "execution_count": 52,
   "metadata": {},
   "outputs": [
    {
     "name": "stdout",
     "output_type": "stream",
     "text": [
      "KNN(SMOTE/UNDER) SECOND Training Results:\n",
      "0.801859799713877\n",
      "0.6781115879828327\n",
      "\n",
      "RF(SMOTE/UNDER) SECOND Testing Results:\n",
      "0.7728706624605678\n",
      "0.43564356435643564\n"
     ]
    }
   ],
   "source": [
    "print('KNN(SMOTE/UNDER) SECOND Training Results:')\n",
    "print(knn.score(X_sm_und, y_sm_und))\n",
    "print(recall_score(y_sm_und, knn.predict(X_sm_und)))\n",
    "\n",
    "print('\\nRF(SMOTE/UNDER) SECOND Testing Results:')\n",
    "print(knn.score(X_test_sc, y_test))\n",
    "print(recall_score(y_test, knn.predict(X_test_sc)))"
   ]
  },
  {
   "cell_type": "code",
   "execution_count": 53,
   "metadata": {},
   "outputs": [
    {
     "name": "stdout",
     "output_type": "stream",
     "text": [
      "LR(SMOTE/UNDER) SECOND Training Results:\n",
      "0.6831187410586552\n",
      "0.2532188841201717\n",
      "\n",
      "LR(SMOTE/UNDER) SECOND Testing Results:\n",
      "0.8698738170347003\n",
      "0.24752475247524752\n"
     ]
    }
   ],
   "source": [
    "print('LR(SMOTE/UNDER) SECOND Training Results:')\n",
    "print(lr.score(X_sm_und, y_sm_und))\n",
    "print(recall_score(y_sm_und, lr.predict(X_sm_und)))\n",
    "\n",
    "print('\\nLR(SMOTE/UNDER) SECOND Testing Results:')\n",
    "print(lr.score(X_test_sc, y_test))\n",
    "print(recall_score(y_test, lr.predict(X_test_sc)))"
   ]
  },
  {
   "cell_type": "code",
   "execution_count": 54,
   "metadata": {},
   "outputs": [
    {
     "name": "stdout",
     "output_type": "stream",
     "text": [
      "RF(SMOTE/UNDER) SECOND Training Results:\n",
      "1.0\n",
      "1.0\n",
      "\n",
      "RF(SMOTE/UNDER) SECOND Testing Results:\n",
      "0.8927444794952681\n",
      "0.40594059405940597\n"
     ]
    }
   ],
   "source": [
    "print('RF(SMOTE/UNDER) SECOND Training Results:')\n",
    "print(rf.score(X_sm_und, y_sm_und))\n",
    "print(recall_score(y_sm_und, rf.predict(X_sm_und)))\n",
    "\n",
    "print('\\nRF(SMOTE/UNDER) SECOND Testing Results:')\n",
    "print(rf.score(X_test_sc, y_test))\n",
    "print(recall_score(y_test, rf.predict(X_test_sc)))"
   ]
  },
  {
   "cell_type": "code",
   "execution_count": 55,
   "metadata": {},
   "outputs": [
    {
     "name": "stdout",
     "output_type": "stream",
     "text": [
      "ET(SMOTE/UNDER) SECOND Training Results:\n",
      "1.0\n",
      "1.0\n",
      "\n",
      "ET(SMOTE/UNDER) SECOND Testing Results:\n",
      "0.8659305993690851\n",
      "0.38613861386138615\n"
     ]
    }
   ],
   "source": [
    "print('ET(SMOTE/UNDER) SECOND Training Results:')\n",
    "print(et.score(X_sm_und, y_sm_und))\n",
    "print(recall_score(y_sm_und, et.predict(X_sm_und)))\n",
    "\n",
    "print('\\nET(SMOTE/UNDER) SECOND Testing Results:')\n",
    "print(et.score(X_test_sc, y_test))\n",
    "print(recall_score(y_test, et.predict(X_test_sc)))"
   ]
  },
  {
   "cell_type": "markdown",
   "metadata": {},
   "source": [
    "---\n",
    "## Gridsearch over KNN to fine tune model"
   ]
  },
  {
   "cell_type": "code",
   "execution_count": 56,
   "metadata": {},
   "outputs": [],
   "source": [
    "# Ref for gridsearching for recall score: https://stackoverflow.com/questions/49035011/get-precison-model-through-gridsearchcv-for-recall-optimization\n",
    "knn_params = {\n",
    "    'n_neighbors':range(2, 5),\n",
    "    'metric': ['euclidean', 'manhattan']\n",
    "}\n",
    "\n",
    "knn_gridsearch = GridSearchCV(KNeighborsClassifier(), knn_params, cv=5, \n",
    "                              verbose=1, scoring='recall')"
   ]
  },
  {
   "cell_type": "code",
   "execution_count": 57,
   "metadata": {},
   "outputs": [
    {
     "name": "stdout",
     "output_type": "stream",
     "text": [
      "Fitting 5 folds for each of 6 candidates, totalling 30 fits\n"
     ]
    },
    {
     "name": "stderr",
     "output_type": "stream",
     "text": [
      "[Parallel(n_jobs=1)]: Using backend SequentialBackend with 1 concurrent workers.\n",
      "[Parallel(n_jobs=1)]: Done  30 out of  30 | elapsed:    1.2s finished\n"
     ]
    }
   ],
   "source": [
    "knn_gridsearch.fit(X_sm_und, y_sm_und);"
   ]
  },
  {
   "cell_type": "code",
   "execution_count": 58,
   "metadata": {},
   "outputs": [
    {
     "name": "stdout",
     "output_type": "stream",
     "text": [
      "0.5537863189201555\n",
      "{'metric': 'euclidean', 'n_neighbors': 3}\n"
     ]
    }
   ],
   "source": [
    "print(knn_gridsearch.best_score_)\n",
    "print(knn_gridsearch.best_params_)"
   ]
  },
  {
   "cell_type": "code",
   "execution_count": 59,
   "metadata": {},
   "outputs": [
    {
     "name": "stdout",
     "output_type": "stream",
     "text": [
      "KNN Gridsearch Training Results:\n",
      "0.8512160228898427\n",
      "0.7811158798283262\n",
      "\n",
      "KNN Gridsearch Testing Results:\n",
      "0.7547318611987381\n",
      "0.45544554455445546\n"
     ]
    }
   ],
   "source": [
    "print('KNN Gridsearch Training Results:')\n",
    "print(accuracy_score(y_sm_und, knn_gridsearch.predict(X_sm_und)))\n",
    "print(knn_gridsearch.score(X_sm_und, y_sm_und))\n",
    "\n",
    "print('\\nKNN Gridsearch Testing Results:')\n",
    "print(accuracy_score(y_test, knn_gridsearch.predict(X_test_sc)))\n",
    "print(knn_gridsearch.score(X_test_sc, y_test))\n"
   ]
  },
  {
   "cell_type": "code",
   "execution_count": 60,
   "metadata": {},
   "outputs": [],
   "source": [
    "# Save the best model\n",
    "knn_model = knn_gridsearch"
   ]
  },
  {
   "cell_type": "markdown",
   "metadata": {},
   "source": [
    "## Gridsearch over RF to fine tune model"
   ]
  },
  {
   "cell_type": "code",
   "execution_count": 61,
   "metadata": {},
   "outputs": [
    {
     "name": "stdout",
     "output_type": "stream",
     "text": [
      "Fitting 5 folds for each of 18 candidates, totalling 90 fits\n"
     ]
    },
    {
     "name": "stderr",
     "output_type": "stream",
     "text": [
      "[Parallel(n_jobs=1)]: Using backend SequentialBackend with 1 concurrent workers.\n",
      "[Parallel(n_jobs=1)]: Done  90 out of  90 | elapsed:   16.7s finished\n"
     ]
    },
    {
     "name": "stdout",
     "output_type": "stream",
     "text": [
      "0.43159460077785405\n"
     ]
    },
    {
     "data": {
      "text/plain": [
       "{'max_depth': None, 'n_estimators': 75}"
      ]
     },
     "execution_count": 61,
     "metadata": {},
     "output_type": "execute_result"
    }
   ],
   "source": [
    "rf_params = {\n",
    "    'n_estimators': [50,75,100],\n",
    "    'max_depth': [None, 1, 2, 3, 4, 5],\n",
    "}\n",
    "rf_gs = GridSearchCV(RandomForestClassifier(), param_grid=rf_params, cv=5, \n",
    "                     verbose= 1, scoring= 'recall')\n",
    "rf_gs.fit(X_sm_und, y_sm_und)\n",
    "print(rf_gs.best_score_)\n",
    "rf_gs.best_params_"
   ]
  },
  {
   "cell_type": "code",
   "execution_count": 62,
   "metadata": {},
   "outputs": [
    {
     "name": "stdout",
     "output_type": "stream",
     "text": [
      "RF Gridsearch Training Results:\n",
      "1.0\n",
      "1.0\n",
      "\n",
      "RF Gridsearch Testing Results:\n",
      "0.8801261829652997\n",
      "0.46534653465346537\n"
     ]
    }
   ],
   "source": [
    "print('RF Gridsearch Training Results:')\n",
    "print(accuracy_score(y_sm_und, rf_gs.predict(X_sm_und)))\n",
    "print(rf_gs.score(X_sm_und, y_sm_und))\n",
    "\n",
    "\n",
    "print('\\nRF Gridsearch Testing Results:')\n",
    "print(accuracy_score(y_test, rf_gs.predict(X_test_sc)))\n",
    "print(rf_gs.score(X_test_sc, y_test))\n"
   ]
  },
  {
   "cell_type": "markdown",
   "metadata": {},
   "source": [
    "## Gridsearch over ET to fine tune model"
   ]
  },
  {
   "cell_type": "code",
   "execution_count": 63,
   "metadata": {},
   "outputs": [
    {
     "name": "stdout",
     "output_type": "stream",
     "text": [
      "Fitting 5 folds for each of 18 candidates, totalling 90 fits\n"
     ]
    },
    {
     "name": "stderr",
     "output_type": "stream",
     "text": [
      "[Parallel(n_jobs=1)]: Using backend SequentialBackend with 1 concurrent workers.\n",
      "[Parallel(n_jobs=1)]: Done  90 out of  90 | elapsed:   19.3s finished\n"
     ]
    },
    {
     "name": "stdout",
     "output_type": "stream",
     "text": [
      "0.46369251887439944\n"
     ]
    },
    {
     "data": {
      "text/plain": [
       "{'max_depth': None, 'n_estimators': 100}"
      ]
     },
     "execution_count": 63,
     "metadata": {},
     "output_type": "execute_result"
    }
   ],
   "source": [
    "et_params = {\n",
    "    'n_estimators': [100, 150, 200],\n",
    "    'max_depth': [None, 1, 2, 3, 4, 5],\n",
    "}\n",
    "et_gs = GridSearchCV(ExtraTreesClassifier(), param_grid=et_params, cv=5, \n",
    "                     verbose= 1, scoring= 'recall')\n",
    "et_gs.fit(X_sm_und, y_sm_und)\n",
    "print(et_gs.best_score_)\n",
    "et_gs.best_params_"
   ]
  },
  {
   "cell_type": "code",
   "execution_count": 64,
   "metadata": {},
   "outputs": [
    {
     "name": "stdout",
     "output_type": "stream",
     "text": [
      "ET Gridsearch Training Results:\n",
      "1.0\n",
      "1.0\n",
      "\n",
      "ET Gridsearch Testing Results:\n",
      "0.8596214511041009\n",
      "0.38613861386138615\n"
     ]
    }
   ],
   "source": [
    "print('ET Gridsearch Training Results:')\n",
    "print(accuracy_score(y_sm_und, et_gs.predict(X_sm_und)))\n",
    "print(et_gs.score(X_sm_und, y_sm_und))\n",
    "\n",
    "\n",
    "print('\\nET Gridsearch Testing Results:')\n",
    "print(accuracy_score(y_test, et_gs.predict(X_test_sc)))\n",
    "print(et_gs.score(X_test_sc, y_test))\n"
   ]
  },
  {
   "cell_type": "markdown",
   "metadata": {},
   "source": [
    "**INTERPRETATION:** After gridsearch it appears Random Forest had the best results."
   ]
  },
  {
   "cell_type": "markdown",
   "metadata": {},
   "source": [
    "---\n",
    "## Fine tuning our model: Random Forest"
   ]
  },
  {
   "cell_type": "code",
   "execution_count": 65,
   "metadata": {},
   "outputs": [],
   "source": [
    "# Create a table to input results of best model once I start playing around with it again\n",
    "final_results_table = pd.DataFrame(columns=['Accuracy', 'Recall'])"
   ]
  },
  {
   "cell_type": "code",
   "execution_count": 66,
   "metadata": {},
   "outputs": [
    {
     "data": {
      "text/plain": [
       "{'max_depth': None, 'n_estimators': 75}"
      ]
     },
     "execution_count": 66,
     "metadata": {},
     "output_type": "execute_result"
    }
   ],
   "source": [
    "# Reminder of best params for RF\n",
    "rf_gs.best_params_"
   ]
  },
  {
   "cell_type": "code",
   "execution_count": 67,
   "metadata": {},
   "outputs": [],
   "source": [
    "best_model_rf = RandomForestClassifier(max_depth=None, n_estimators=75,random_state=42)\n",
    "best_model_rf.fit(X_sm_und, y_sm_und)\n",
    "bm_rf_pred = best_model_rf.predict(X_test_sc)"
   ]
  },
  {
   "cell_type": "code",
   "execution_count": 68,
   "metadata": {},
   "outputs": [
    {
     "data": {
      "text/html": [
       "<div>\n",
       "<style scoped>\n",
       "    .dataframe tbody tr th:only-of-type {\n",
       "        vertical-align: middle;\n",
       "    }\n",
       "\n",
       "    .dataframe tbody tr th {\n",
       "        vertical-align: top;\n",
       "    }\n",
       "\n",
       "    .dataframe thead th {\n",
       "        text-align: right;\n",
       "    }\n",
       "</style>\n",
       "<table border=\"1\" class=\"dataframe\">\n",
       "  <thead>\n",
       "    <tr style=\"text-align: right;\">\n",
       "      <th></th>\n",
       "      <th>Accuracy</th>\n",
       "      <th>Recall</th>\n",
       "    </tr>\n",
       "  </thead>\n",
       "  <tbody>\n",
       "    <tr>\n",
       "      <th>RF(Training)</th>\n",
       "      <td>1.000000</td>\n",
       "      <td>1.000000</td>\n",
       "    </tr>\n",
       "    <tr>\n",
       "      <th>RF(Testing)</th>\n",
       "      <td>0.881703</td>\n",
       "      <td>0.415842</td>\n",
       "    </tr>\n",
       "  </tbody>\n",
       "</table>\n",
       "</div>"
      ],
      "text/plain": [
       "              Accuracy    Recall\n",
       "RF(Training)  1.000000  1.000000\n",
       "RF(Testing)   0.881703  0.415842"
      ]
     },
     "execution_count": 68,
     "metadata": {},
     "output_type": "execute_result"
    }
   ],
   "source": [
    "rf_first_train = pd.Series(data=[best_model_rf.score(X_sm_und, y_sm_und), recall_score(y_sm_und, best_model_rf.predict(X_sm_und))],\n",
    "                                 index=final_results_table.columns, name = 'RF(Training)')\n",
    "                                 \n",
    "rf_first_test = pd.Series(data=[best_model_rf.score(X_test_sc, y_test), recall_score(y_test, best_model_rf.predict(X_test_sc))],\n",
    "                               index=final_results_table.columns, name = 'RF(Testing)')\n",
    "\n",
    "final_results_table = final_results_table.append([rf_first_train, rf_first_test])\n",
    "\n",
    "final_results_table"
   ]
  },
  {
   "cell_type": "markdown",
   "metadata": {},
   "source": [
    "**INTERPRETATION:** Model is overfit, I will try to play around with the feature selection below."
   ]
  },
  {
   "cell_type": "code",
   "execution_count": 69,
   "metadata": {},
   "outputs": [
    {
     "data": {
      "text/html": [
       "<div>\n",
       "<style scoped>\n",
       "    .dataframe tbody tr th:only-of-type {\n",
       "        vertical-align: middle;\n",
       "    }\n",
       "\n",
       "    .dataframe tbody tr th {\n",
       "        vertical-align: top;\n",
       "    }\n",
       "\n",
       "    .dataframe thead th {\n",
       "        text-align: right;\n",
       "    }\n",
       "</style>\n",
       "<table border=\"1\" class=\"dataframe\">\n",
       "  <thead>\n",
       "    <tr style=\"text-align: right;\">\n",
       "      <th></th>\n",
       "      <th>Variable</th>\n",
       "      <th>Importance</th>\n",
       "    </tr>\n",
       "  </thead>\n",
       "  <tbody>\n",
       "    <tr>\n",
       "      <th>0</th>\n",
       "      <td>policy_length</td>\n",
       "      <td>0.159966</td>\n",
       "    </tr>\n",
       "    <tr>\n",
       "      <th>3</th>\n",
       "      <td>Hull Limit</td>\n",
       "      <td>0.107715</td>\n",
       "    </tr>\n",
       "    <tr>\n",
       "      <th>2</th>\n",
       "      <td>Age</td>\n",
       "      <td>0.106075</td>\n",
       "    </tr>\n",
       "    <tr>\n",
       "      <th>1</th>\n",
       "      <td>Length</td>\n",
       "      <td>0.105141</td>\n",
       "    </tr>\n",
       "    <tr>\n",
       "      <th>4</th>\n",
       "      <td>Year Built</td>\n",
       "      <td>0.097210</td>\n",
       "    </tr>\n",
       "    <tr>\n",
       "      <th>5</th>\n",
       "      <td>Years Exp.</td>\n",
       "      <td>0.088632</td>\n",
       "    </tr>\n",
       "    <tr>\n",
       "      <th>6</th>\n",
       "      <td>New/Renl/Endt/Canc/Flat_new</td>\n",
       "      <td>0.026645</td>\n",
       "    </tr>\n",
       "    <tr>\n",
       "      <th>7</th>\n",
       "      <td># Engines</td>\n",
       "      <td>0.024464</td>\n",
       "    </tr>\n",
       "    <tr>\n",
       "      <th>10</th>\n",
       "      <td>Occupation_other</td>\n",
       "      <td>0.019318</td>\n",
       "    </tr>\n",
       "    <tr>\n",
       "      <th>17</th>\n",
       "      <td>Builder_other</td>\n",
       "      <td>0.019115</td>\n",
       "    </tr>\n",
       "    <tr>\n",
       "      <th>9</th>\n",
       "      <td>Occupation_not reported</td>\n",
       "      <td>0.019008</td>\n",
       "    </tr>\n",
       "    <tr>\n",
       "      <th>13</th>\n",
       "      <td>Married yes/no_yes</td>\n",
       "      <td>0.017244</td>\n",
       "    </tr>\n",
       "    <tr>\n",
       "      <th>8</th>\n",
       "      <td>New/Renl/Endt/Canc/Flat_renl</td>\n",
       "      <td>0.017171</td>\n",
       "    </tr>\n",
       "    <tr>\n",
       "      <th>12</th>\n",
       "      <td>Mooring County_other</td>\n",
       "      <td>0.015787</td>\n",
       "    </tr>\n",
       "    <tr>\n",
       "      <th>11</th>\n",
       "      <td>Married yes/no_not reported</td>\n",
       "      <td>0.015432</td>\n",
       "    </tr>\n",
       "    <tr>\n",
       "      <th>16</th>\n",
       "      <td>Hull Type_multihull sail</td>\n",
       "      <td>0.015339</td>\n",
       "    </tr>\n",
       "    <tr>\n",
       "      <th>14</th>\n",
       "      <td>Mooring County_monroe</td>\n",
       "      <td>0.015105</td>\n",
       "    </tr>\n",
       "    <tr>\n",
       "      <th>19</th>\n",
       "      <td>Occupation_retired</td>\n",
       "      <td>0.014497</td>\n",
       "    </tr>\n",
       "    <tr>\n",
       "      <th>20</th>\n",
       "      <td>Hull Type_motoryacht</td>\n",
       "      <td>0.014113</td>\n",
       "    </tr>\n",
       "    <tr>\n",
       "      <th>15</th>\n",
       "      <td>Hull Type_monohull sail</td>\n",
       "      <td>0.012929</td>\n",
       "    </tr>\n",
       "    <tr>\n",
       "      <th>18</th>\n",
       "      <td>New/Renl/Endt/Canc/Flat_endt</td>\n",
       "      <td>0.011002</td>\n",
       "    </tr>\n",
       "    <tr>\n",
       "      <th>23</th>\n",
       "      <td>Mooring County_caribbean</td>\n",
       "      <td>0.010393</td>\n",
       "    </tr>\n",
       "    <tr>\n",
       "      <th>22</th>\n",
       "      <td>Mooring County_pinellas</td>\n",
       "      <td>0.009867</td>\n",
       "    </tr>\n",
       "    <tr>\n",
       "      <th>28</th>\n",
       "      <td>Mooring County_bcs</td>\n",
       "      <td>0.009717</td>\n",
       "    </tr>\n",
       "    <tr>\n",
       "      <th>25</th>\n",
       "      <td>Hull Type_sportfisher</td>\n",
       "      <td>0.009646</td>\n",
       "    </tr>\n",
       "    <tr>\n",
       "      <th>21</th>\n",
       "      <td>Mooring County_miami-dade</td>\n",
       "      <td>0.008488</td>\n",
       "    </tr>\n",
       "    <tr>\n",
       "      <th>24</th>\n",
       "      <td>Mooring County_san diego</td>\n",
       "      <td>0.008156</td>\n",
       "    </tr>\n",
       "    <tr>\n",
       "      <th>27</th>\n",
       "      <td>Mooring County_broward</td>\n",
       "      <td>0.007618</td>\n",
       "    </tr>\n",
       "    <tr>\n",
       "      <th>29</th>\n",
       "      <td>Occupation_executive</td>\n",
       "      <td>0.007599</td>\n",
       "    </tr>\n",
       "    <tr>\n",
       "      <th>26</th>\n",
       "      <td>Hull Type_trawler</td>\n",
       "      <td>0.006607</td>\n",
       "    </tr>\n",
       "  </tbody>\n",
       "</table>\n",
       "</div>"
      ],
      "text/plain": [
       "                        Variable  Importance\n",
       "0                  policy_length    0.159966\n",
       "3                     Hull Limit    0.107715\n",
       "2                            Age    0.106075\n",
       "1                         Length    0.105141\n",
       "4                     Year Built    0.097210\n",
       "5                     Years Exp.    0.088632\n",
       "6    New/Renl/Endt/Canc/Flat_new    0.026645\n",
       "7                      # Engines    0.024464\n",
       "10              Occupation_other    0.019318\n",
       "17                 Builder_other    0.019115\n",
       "9        Occupation_not reported    0.019008\n",
       "13            Married yes/no_yes    0.017244\n",
       "8   New/Renl/Endt/Canc/Flat_renl    0.017171\n",
       "12          Mooring County_other    0.015787\n",
       "11   Married yes/no_not reported    0.015432\n",
       "16      Hull Type_multihull sail    0.015339\n",
       "14         Mooring County_monroe    0.015105\n",
       "19            Occupation_retired    0.014497\n",
       "20          Hull Type_motoryacht    0.014113\n",
       "15       Hull Type_monohull sail    0.012929\n",
       "18  New/Renl/Endt/Canc/Flat_endt    0.011002\n",
       "23      Mooring County_caribbean    0.010393\n",
       "22       Mooring County_pinellas    0.009867\n",
       "28            Mooring County_bcs    0.009717\n",
       "25         Hull Type_sportfisher    0.009646\n",
       "21     Mooring County_miami-dade    0.008488\n",
       "24      Mooring County_san diego    0.008156\n",
       "27        Mooring County_broward    0.007618\n",
       "29          Occupation_executive    0.007599\n",
       "26             Hull Type_trawler    0.006607"
      ]
     },
     "execution_count": 69,
     "metadata": {},
     "output_type": "execute_result"
    }
   ],
   "source": [
    "best_rf_feature_imp = pd.DataFrame({'Variable':X.columns,\n",
    "              'Importance':best_model_rf.feature_importances_}).sort_values('Importance', ascending=False)\n",
    "\n",
    "best_rf_feature_imp"
   ]
  },
  {
   "cell_type": "markdown",
   "metadata": {},
   "source": [
    "## Test best model with 'Policy Length' and 'New/Renl/Endt/Canc/Flat' removed"
   ]
  },
  {
   "cell_type": "markdown",
   "metadata": {},
   "source": [
    "**BELOW:** We decided to see how the model performed if we removed all features referring to how long a policy lasted and whether it was new, a renewal, or endorsement. We did this because we were more interested in predicting the likelihood of a claim for a new client, rather than clients at different stages of their relationship with the company."
   ]
  },
  {
   "cell_type": "code",
   "execution_count": 70,
   "metadata": {},
   "outputs": [
    {
     "data": {
      "text/plain": [
       "['New/Renl/Endt/Canc/Flat_endt',\n",
       " 'New/Renl/Endt/Canc/Flat_endt-canc',\n",
       " 'New/Renl/Endt/Canc/Flat_new',\n",
       " 'New/Renl/Endt/Canc/Flat_renl',\n",
       " 'policy_length',\n",
       " 'num_claims',\n",
       " 'binary']"
      ]
     },
     "execution_count": 70,
     "metadata": {},
     "output_type": "execute_result"
    }
   ],
   "source": [
    "# Create a list of all the columns to be removed\n",
    "removals = [col for col in combined if col.startswith('New/Renl/Endt/Canc/Flat')]\n",
    "removals.append('policy_length')\n",
    "removals.append('num_claims')\n",
    "removals.append('binary')\n",
    "removals"
   ]
  },
  {
   "cell_type": "code",
   "execution_count": 71,
   "metadata": {},
   "outputs": [],
   "source": [
    "# Drop all columns from the above list and instantiat/fit the same Random Forest model\n",
    "X = combined.drop(columns=removals)\n",
    "y = combined['binary']\n",
    "X_train, X_test, y_train, y_test = train_test_split(X, y, test_size=.2, random_state=42, stratify=y)\n",
    "\n",
    "ss = StandardScaler()\n",
    "X_train_sc = ss.fit_transform(X_train)\n",
    "X_test_sc = ss.transform(X_test)\n",
    "\n",
    "over = SMOTE(sampling_strategy=0.1,random_state=42)\n",
    "under = RandomUnderSampler(sampling_strategy=0.5,random_state=42)\n",
    "steps = [('o', over), ('u', under)]\n",
    "pipeline = Pipeline(steps=steps)\n",
    "\n",
    "X_sm_und, y_sm_und = pipeline.fit_resample(X_train_sc, y_train)\n",
    "\n",
    "rf = RandomForestClassifier(max_depth=None, n_estimators=75,random_state=42)\n",
    "rf.fit(X_sm_und, y_sm_und)\n",
    "rf_pred = rf.predict(X_test_sc)"
   ]
  },
  {
   "cell_type": "code",
   "execution_count": 72,
   "metadata": {},
   "outputs": [
    {
     "data": {
      "text/html": [
       "<div>\n",
       "<style scoped>\n",
       "    .dataframe tbody tr th:only-of-type {\n",
       "        vertical-align: middle;\n",
       "    }\n",
       "\n",
       "    .dataframe tbody tr th {\n",
       "        vertical-align: top;\n",
       "    }\n",
       "\n",
       "    .dataframe thead th {\n",
       "        text-align: right;\n",
       "    }\n",
       "</style>\n",
       "<table border=\"1\" class=\"dataframe\">\n",
       "  <thead>\n",
       "    <tr style=\"text-align: right;\">\n",
       "      <th></th>\n",
       "      <th>Accuracy</th>\n",
       "      <th>Recall</th>\n",
       "    </tr>\n",
       "  </thead>\n",
       "  <tbody>\n",
       "    <tr>\n",
       "      <th>RF(Training)</th>\n",
       "      <td>1.000000</td>\n",
       "      <td>1.000000</td>\n",
       "    </tr>\n",
       "    <tr>\n",
       "      <th>RF(Testing)</th>\n",
       "      <td>0.881703</td>\n",
       "      <td>0.415842</td>\n",
       "    </tr>\n",
       "    <tr>\n",
       "      <th>RF_Feature_Drop(Training)</th>\n",
       "      <td>0.962089</td>\n",
       "      <td>0.929185</td>\n",
       "    </tr>\n",
       "    <tr>\n",
       "      <th>RF_Feature_Drop(Testing)</th>\n",
       "      <td>0.861199</td>\n",
       "      <td>0.455446</td>\n",
       "    </tr>\n",
       "  </tbody>\n",
       "</table>\n",
       "</div>"
      ],
      "text/plain": [
       "                           Accuracy    Recall\n",
       "RF(Training)               1.000000  1.000000\n",
       "RF(Testing)                0.881703  0.415842\n",
       "RF_Feature_Drop(Training)  0.962089  0.929185\n",
       "RF_Feature_Drop(Testing)   0.861199  0.455446"
      ]
     },
     "execution_count": 72,
     "metadata": {},
     "output_type": "execute_result"
    }
   ],
   "source": [
    "# add the results to the new final results table\n",
    "\n",
    "rf_second_train = pd.Series(data=[rf.score(X_sm_und, y_sm_und), recall_score(y_sm_und, rf.predict(X_sm_und))],\n",
    "                                 index=final_results_table.columns, name = 'RF_Feature_Drop(Training)')\n",
    "                                 \n",
    "rf_second_test = pd.Series(data=[rf.score(X_test_sc, y_test), recall_score(y_test, rf.predict(X_test_sc))],\n",
    "                               index=final_results_table.columns, name = 'RF_Feature_Drop(Testing)')\n",
    "\n",
    "final_results_table = final_results_table.append([rf_second_train, rf_second_test])\n",
    "\n",
    "final_results_table"
   ]
  },
  {
   "cell_type": "markdown",
   "metadata": {},
   "source": [
    "**INTERPRETATION:** The model is slightly less overfiit now but has the same recall score. I'll take the same steps as before to fine tune the model further."
   ]
  },
  {
   "cell_type": "code",
   "execution_count": 73,
   "metadata": {},
   "outputs": [
    {
     "data": {
      "text/html": [
       "<div>\n",
       "<style scoped>\n",
       "    .dataframe tbody tr th:only-of-type {\n",
       "        vertical-align: middle;\n",
       "    }\n",
       "\n",
       "    .dataframe tbody tr th {\n",
       "        vertical-align: top;\n",
       "    }\n",
       "\n",
       "    .dataframe thead th {\n",
       "        text-align: right;\n",
       "    }\n",
       "</style>\n",
       "<table border=\"1\" class=\"dataframe\">\n",
       "  <thead>\n",
       "    <tr style=\"text-align: right;\">\n",
       "      <th></th>\n",
       "      <th>Variable</th>\n",
       "      <th>Importance</th>\n",
       "    </tr>\n",
       "  </thead>\n",
       "  <tbody>\n",
       "    <tr>\n",
       "      <th>3</th>\n",
       "      <td>Hull Limit</td>\n",
       "      <td>0.097803</td>\n",
       "    </tr>\n",
       "    <tr>\n",
       "      <th>5</th>\n",
       "      <td>Age</td>\n",
       "      <td>0.095353</td>\n",
       "    </tr>\n",
       "    <tr>\n",
       "      <th>2</th>\n",
       "      <td>Length</td>\n",
       "      <td>0.092924</td>\n",
       "    </tr>\n",
       "    <tr>\n",
       "      <th>1</th>\n",
       "      <td>Year Built</td>\n",
       "      <td>0.090015</td>\n",
       "    </tr>\n",
       "    <tr>\n",
       "      <th>0</th>\n",
       "      <td>Years Exp.</td>\n",
       "      <td>0.077085</td>\n",
       "    </tr>\n",
       "    <tr>\n",
       "      <th>...</th>\n",
       "      <td>...</td>\n",
       "      <td>...</td>\n",
       "    </tr>\n",
       "    <tr>\n",
       "      <th>40</th>\n",
       "      <td>Builder_offshore</td>\n",
       "      <td>0.000317</td>\n",
       "    </tr>\n",
       "    <tr>\n",
       "      <th>48</th>\n",
       "      <td>Construction_carbon fiber</td>\n",
       "      <td>0.000231</td>\n",
       "    </tr>\n",
       "    <tr>\n",
       "      <th>84</th>\n",
       "      <td>Mooring County_marin</td>\n",
       "      <td>0.000226</td>\n",
       "    </tr>\n",
       "    <tr>\n",
       "      <th>111</th>\n",
       "      <td>Mooring County_whatcom</td>\n",
       "      <td>0.000210</td>\n",
       "    </tr>\n",
       "    <tr>\n",
       "      <th>27</th>\n",
       "      <td>Occupation_software developer</td>\n",
       "      <td>0.000099</td>\n",
       "    </tr>\n",
       "  </tbody>\n",
       "</table>\n",
       "<p>112 rows × 2 columns</p>\n",
       "</div>"
      ],
      "text/plain": [
       "                          Variable  Importance\n",
       "3                       Hull Limit    0.097803\n",
       "5                              Age    0.095353\n",
       "2                           Length    0.092924\n",
       "1                       Year Built    0.090015\n",
       "0                       Years Exp.    0.077085\n",
       "..                             ...         ...\n",
       "40                Builder_offshore    0.000317\n",
       "48       Construction_carbon fiber    0.000231\n",
       "84            Mooring County_marin    0.000226\n",
       "111         Mooring County_whatcom    0.000210\n",
       "27   Occupation_software developer    0.000099\n",
       "\n",
       "[112 rows x 2 columns]"
      ]
     },
     "execution_count": 73,
     "metadata": {},
     "output_type": "execute_result"
    }
   ],
   "source": [
    "# Take a look at the most important features for this model\n",
    "rf_feature_imp = pd.DataFrame({'Variable':X.columns,\n",
    "              'Importance':rf.feature_importances_}).sort_values('Importance', ascending=False)\n",
    "\n",
    "rf_feature_imp"
   ]
  },
  {
   "cell_type": "code",
   "execution_count": 74,
   "metadata": {},
   "outputs": [
    {
     "data": {
      "text/html": [
       "<div>\n",
       "<style scoped>\n",
       "    .dataframe tbody tr th:only-of-type {\n",
       "        vertical-align: middle;\n",
       "    }\n",
       "\n",
       "    .dataframe tbody tr th {\n",
       "        vertical-align: top;\n",
       "    }\n",
       "\n",
       "    .dataframe thead th {\n",
       "        text-align: right;\n",
       "    }\n",
       "</style>\n",
       "<table border=\"1\" class=\"dataframe\">\n",
       "  <thead>\n",
       "    <tr style=\"text-align: right;\">\n",
       "      <th></th>\n",
       "      <th>Variable</th>\n",
       "      <th>Importance</th>\n",
       "    </tr>\n",
       "  </thead>\n",
       "  <tbody>\n",
       "    <tr>\n",
       "      <th>3</th>\n",
       "      <td>Hull Limit</td>\n",
       "      <td>0.097803</td>\n",
       "    </tr>\n",
       "    <tr>\n",
       "      <th>5</th>\n",
       "      <td>Age</td>\n",
       "      <td>0.095353</td>\n",
       "    </tr>\n",
       "    <tr>\n",
       "      <th>2</th>\n",
       "      <td>Length</td>\n",
       "      <td>0.092924</td>\n",
       "    </tr>\n",
       "    <tr>\n",
       "      <th>1</th>\n",
       "      <td>Year Built</td>\n",
       "      <td>0.090015</td>\n",
       "    </tr>\n",
       "    <tr>\n",
       "      <th>0</th>\n",
       "      <td>Years Exp.</td>\n",
       "      <td>0.077085</td>\n",
       "    </tr>\n",
       "    <tr>\n",
       "      <th>...</th>\n",
       "      <td>...</td>\n",
       "      <td>...</td>\n",
       "    </tr>\n",
       "    <tr>\n",
       "      <th>40</th>\n",
       "      <td>Builder_offshore</td>\n",
       "      <td>0.000317</td>\n",
       "    </tr>\n",
       "    <tr>\n",
       "      <th>48</th>\n",
       "      <td>Construction_carbon fiber</td>\n",
       "      <td>0.000231</td>\n",
       "    </tr>\n",
       "    <tr>\n",
       "      <th>84</th>\n",
       "      <td>Mooring County_marin</td>\n",
       "      <td>0.000226</td>\n",
       "    </tr>\n",
       "    <tr>\n",
       "      <th>111</th>\n",
       "      <td>Mooring County_whatcom</td>\n",
       "      <td>0.000210</td>\n",
       "    </tr>\n",
       "    <tr>\n",
       "      <th>27</th>\n",
       "      <td>Occupation_software developer</td>\n",
       "      <td>0.000099</td>\n",
       "    </tr>\n",
       "  </tbody>\n",
       "</table>\n",
       "<p>112 rows × 2 columns</p>\n",
       "</div>"
      ],
      "text/plain": [
       "                          Variable  Importance\n",
       "3                       Hull Limit    0.097803\n",
       "5                              Age    0.095353\n",
       "2                           Length    0.092924\n",
       "1                       Year Built    0.090015\n",
       "0                       Years Exp.    0.077085\n",
       "..                             ...         ...\n",
       "40                Builder_offshore    0.000317\n",
       "48       Construction_carbon fiber    0.000231\n",
       "84            Mooring County_marin    0.000226\n",
       "111         Mooring County_whatcom    0.000210\n",
       "27   Occupation_software developer    0.000099\n",
       "\n",
       "[112 rows x 2 columns]"
      ]
     },
     "execution_count": 74,
     "metadata": {},
     "output_type": "execute_result"
    }
   ],
   "source": [
    "rf_feature_imp"
   ]
  },
  {
   "cell_type": "markdown",
   "metadata": {},
   "source": [
    "---\n",
    "## Try it after keeping only the top 30 features from above"
   ]
  },
  {
   "cell_type": "code",
   "execution_count": 75,
   "metadata": {},
   "outputs": [
    {
     "data": {
      "text/plain": [
       "['Hull Limit',\n",
       " 'Age',\n",
       " 'Length',\n",
       " 'Year Built',\n",
       " 'Years Exp.',\n",
       " '# Engines',\n",
       " 'Mooring County_monroe',\n",
       " 'Occupation_other',\n",
       " 'Occupation_not reported',\n",
       " 'Mooring County_other',\n",
       " 'Married yes/no_yes',\n",
       " 'Married yes/no_not reported',\n",
       " 'Hull Type_monohull sail',\n",
       " 'Builder_other',\n",
       " 'Hull Type_motoryacht',\n",
       " 'Occupation_retired',\n",
       " 'Mooring County_caribbean',\n",
       " 'Hull Type_multihull sail',\n",
       " 'Mooring County_pinellas',\n",
       " 'Mooring County_miami-dade',\n",
       " 'Mooring County_san diego',\n",
       " 'Mooring County_bcs',\n",
       " 'Mooring County_broward',\n",
       " 'Hull Type_trawler',\n",
       " 'Hull Type_sportfisher',\n",
       " 'Mooring County_los angeles',\n",
       " 'Builder_catana',\n",
       " 'Mooring County_palm beach',\n",
       " 'Mooring County_brevard',\n",
       " 'Construction_fiberglass']"
      ]
     },
     "execution_count": 75,
     "metadata": {},
     "output_type": "execute_result"
    }
   ],
   "source": [
    "# Get the first 30 rows of the important features\n",
    "new_top_30 = rf_feature_imp[:30]\n",
    "\n",
    "# Make a list of the column names of the top 30\n",
    "new_top_30_features = [x for x in new_top_30['Variable']]\n",
    "\n",
    "new_top_30_features"
   ]
  },
  {
   "cell_type": "code",
   "execution_count": 76,
   "metadata": {},
   "outputs": [],
   "source": [
    "# Instantiate and fit the same Random Forest model only using the top 30 features\n",
    "X = combined[new_top_30_features]\n",
    "y = combined['binary']\n",
    "X_train, X_test, y_train, y_test = train_test_split(X, y, test_size=.2, random_state=42, stratify=y)\n",
    "\n",
    "ss = StandardScaler()\n",
    "X_train_sc = ss.fit_transform(X_train)\n",
    "X_test_sc = ss.transform(X_test)\n",
    "\n",
    "over = SMOTE(sampling_strategy=0.1,random_state=42)\n",
    "under = RandomUnderSampler(sampling_strategy=0.5,random_state=42)\n",
    "steps = [('o', over), ('u', under)]\n",
    "pipeline = Pipeline(steps=steps)\n",
    "\n",
    "X_sm_und, y_sm_und = pipeline.fit_resample(X_train_sc, y_train)\n",
    "\n",
    "rf = RandomForestClassifier(max_depth=None, n_estimators=75,random_state=42)\n",
    "rf.fit(X_sm_und, y_sm_und)\n",
    "rf_pred = rf.predict(X_test_sc)"
   ]
  },
  {
   "cell_type": "code",
   "execution_count": 77,
   "metadata": {},
   "outputs": [
    {
     "data": {
      "text/html": [
       "<div>\n",
       "<style scoped>\n",
       "    .dataframe tbody tr th:only-of-type {\n",
       "        vertical-align: middle;\n",
       "    }\n",
       "\n",
       "    .dataframe tbody tr th {\n",
       "        vertical-align: top;\n",
       "    }\n",
       "\n",
       "    .dataframe thead th {\n",
       "        text-align: right;\n",
       "    }\n",
       "</style>\n",
       "<table border=\"1\" class=\"dataframe\">\n",
       "  <thead>\n",
       "    <tr style=\"text-align: right;\">\n",
       "      <th></th>\n",
       "      <th>Accuracy</th>\n",
       "      <th>Recall</th>\n",
       "    </tr>\n",
       "  </thead>\n",
       "  <tbody>\n",
       "    <tr>\n",
       "      <th>RF(Training)</th>\n",
       "      <td>1.000000</td>\n",
       "      <td>1.000000</td>\n",
       "    </tr>\n",
       "    <tr>\n",
       "      <th>RF(Testing)</th>\n",
       "      <td>0.881703</td>\n",
       "      <td>0.415842</td>\n",
       "    </tr>\n",
       "    <tr>\n",
       "      <th>RF_Feature_Drop(Training)</th>\n",
       "      <td>0.962089</td>\n",
       "      <td>0.929185</td>\n",
       "    </tr>\n",
       "    <tr>\n",
       "      <th>RF_Feature_Drop(Testing)</th>\n",
       "      <td>0.861199</td>\n",
       "      <td>0.455446</td>\n",
       "    </tr>\n",
       "    <tr>\n",
       "      <th>RF_Top_30(Training)</th>\n",
       "      <td>0.959943</td>\n",
       "      <td>0.929185</td>\n",
       "    </tr>\n",
       "    <tr>\n",
       "      <th>RF_Top_30(Testing)</th>\n",
       "      <td>0.853312</td>\n",
       "      <td>0.445545</td>\n",
       "    </tr>\n",
       "  </tbody>\n",
       "</table>\n",
       "</div>"
      ],
      "text/plain": [
       "                           Accuracy    Recall\n",
       "RF(Training)               1.000000  1.000000\n",
       "RF(Testing)                0.881703  0.415842\n",
       "RF_Feature_Drop(Training)  0.962089  0.929185\n",
       "RF_Feature_Drop(Testing)   0.861199  0.455446\n",
       "RF_Top_30(Training)        0.959943  0.929185\n",
       "RF_Top_30(Testing)         0.853312  0.445545"
      ]
     },
     "execution_count": 77,
     "metadata": {},
     "output_type": "execute_result"
    }
   ],
   "source": [
    "# Add results to the final table\n",
    "rf_third_train = pd.Series(data=[rf.score(X_sm_und, y_sm_und), recall_score(y_sm_und, rf.predict(X_sm_und))],\n",
    "                                 index=final_results_table.columns, name = 'RF_Top_30(Training)')\n",
    "                                 \n",
    "rf_third_test = pd.Series(data=[rf.score(X_test_sc, y_test), recall_score(y_test, rf.predict(X_test_sc))],\n",
    "                               index=final_results_table.columns, name = 'RF_Top_30(Testing)')\n",
    "\n",
    "final_results_table = final_results_table.append([rf_third_train, rf_third_test])\n",
    "\n",
    "final_results_table"
   ]
  },
  {
   "cell_type": "markdown",
   "metadata": {},
   "source": [
    "**INTERPRETATION:** The recall score has improved on our model."
   ]
  },
  {
   "cell_type": "markdown",
   "metadata": {},
   "source": [
    "---\n",
    "## Try gridsearch again with top 30 features"
   ]
  },
  {
   "cell_type": "code",
   "execution_count": 78,
   "metadata": {},
   "outputs": [
    {
     "name": "stdout",
     "output_type": "stream",
     "text": [
      "Fitting 5 folds for each of 18 candidates, totalling 90 fits\n"
     ]
    },
    {
     "name": "stderr",
     "output_type": "stream",
     "text": [
      "[Parallel(n_jobs=1)]: Using backend SequentialBackend with 1 concurrent workers.\n",
      "[Parallel(n_jobs=1)]: Done  90 out of  90 | elapsed:   12.9s finished\n"
     ]
    },
    {
     "name": "stdout",
     "output_type": "stream",
     "text": [
      "0.4723404255319149\n"
     ]
    },
    {
     "data": {
      "text/plain": [
       "{'max_depth': None, 'n_estimators': 100}"
      ]
     },
     "execution_count": 78,
     "metadata": {},
     "output_type": "execute_result"
    }
   ],
   "source": [
    "rf_params = {\n",
    "    'n_estimators': [50,75,100],\n",
    "    'max_depth': [None, 1, 2, 3, 4, 5],\n",
    "}\n",
    "rf_gs = GridSearchCV(RandomForestClassifier(), param_grid=rf_params, cv=5, \n",
    "                     verbose= 1, scoring= 'recall')\n",
    "rf_gs.fit(X_sm_und, y_sm_und)\n",
    "print(rf_gs.best_score_)\n",
    "rf_gs.best_params_"
   ]
  },
  {
   "cell_type": "markdown",
   "metadata": {},
   "source": [
    "**INTERPRETATION:** We got the same best parameters ({'max_depth': None, 'n_estimators': 75}) so we don't need to run the model again."
   ]
  },
  {
   "cell_type": "code",
   "execution_count": 79,
   "metadata": {},
   "outputs": [
    {
     "data": {
      "text/html": [
       "<div>\n",
       "<style scoped>\n",
       "    .dataframe tbody tr th:only-of-type {\n",
       "        vertical-align: middle;\n",
       "    }\n",
       "\n",
       "    .dataframe tbody tr th {\n",
       "        vertical-align: top;\n",
       "    }\n",
       "\n",
       "    .dataframe thead th {\n",
       "        text-align: right;\n",
       "    }\n",
       "</style>\n",
       "<table border=\"1\" class=\"dataframe\">\n",
       "  <thead>\n",
       "    <tr style=\"text-align: right;\">\n",
       "      <th></th>\n",
       "      <th>Accuracy</th>\n",
       "      <th>Recall</th>\n",
       "    </tr>\n",
       "  </thead>\n",
       "  <tbody>\n",
       "    <tr>\n",
       "      <th>RF(Training)</th>\n",
       "      <td>1.000000</td>\n",
       "      <td>1.000000</td>\n",
       "    </tr>\n",
       "    <tr>\n",
       "      <th>RF(Testing)</th>\n",
       "      <td>0.881703</td>\n",
       "      <td>0.415842</td>\n",
       "    </tr>\n",
       "    <tr>\n",
       "      <th>RF_Feature_Drop(Training)</th>\n",
       "      <td>0.962089</td>\n",
       "      <td>0.929185</td>\n",
       "    </tr>\n",
       "    <tr>\n",
       "      <th>RF_Feature_Drop(Testing)</th>\n",
       "      <td>0.861199</td>\n",
       "      <td>0.455446</td>\n",
       "    </tr>\n",
       "    <tr>\n",
       "      <th>RF_Top_30(Training)</th>\n",
       "      <td>0.959943</td>\n",
       "      <td>0.929185</td>\n",
       "    </tr>\n",
       "    <tr>\n",
       "      <th>RF_Top_30(Testing)</th>\n",
       "      <td>0.853312</td>\n",
       "      <td>0.445545</td>\n",
       "    </tr>\n",
       "  </tbody>\n",
       "</table>\n",
       "</div>"
      ],
      "text/plain": [
       "                           Accuracy    Recall\n",
       "RF(Training)               1.000000  1.000000\n",
       "RF(Testing)                0.881703  0.415842\n",
       "RF_Feature_Drop(Training)  0.962089  0.929185\n",
       "RF_Feature_Drop(Testing)   0.861199  0.455446\n",
       "RF_Top_30(Training)        0.959943  0.929185\n",
       "RF_Top_30(Testing)         0.853312  0.445545"
      ]
     },
     "execution_count": 79,
     "metadata": {},
     "output_type": "execute_result"
    }
   ],
   "source": [
    "# Look at the final results again\n",
    "final_results_table"
   ]
  },
  {
   "cell_type": "markdown",
   "metadata": {},
   "source": [
    "---\n",
    "## Most important features of our final model"
   ]
  },
  {
   "cell_type": "code",
   "execution_count": 80,
   "metadata": {},
   "outputs": [
    {
     "data": {
      "text/html": [
       "<div>\n",
       "<style scoped>\n",
       "    .dataframe tbody tr th:only-of-type {\n",
       "        vertical-align: middle;\n",
       "    }\n",
       "\n",
       "    .dataframe tbody tr th {\n",
       "        vertical-align: top;\n",
       "    }\n",
       "\n",
       "    .dataframe thead th {\n",
       "        text-align: right;\n",
       "    }\n",
       "</style>\n",
       "<table border=\"1\" class=\"dataframe\">\n",
       "  <thead>\n",
       "    <tr style=\"text-align: right;\">\n",
       "      <th></th>\n",
       "      <th>Variable</th>\n",
       "      <th>Importance</th>\n",
       "    </tr>\n",
       "  </thead>\n",
       "  <tbody>\n",
       "    <tr>\n",
       "      <th>0</th>\n",
       "      <td>Hull Limit</td>\n",
       "      <td>0.138572</td>\n",
       "    </tr>\n",
       "    <tr>\n",
       "      <th>1</th>\n",
       "      <td>Age</td>\n",
       "      <td>0.130630</td>\n",
       "    </tr>\n",
       "    <tr>\n",
       "      <th>2</th>\n",
       "      <td>Length</td>\n",
       "      <td>0.124799</td>\n",
       "    </tr>\n",
       "    <tr>\n",
       "      <th>3</th>\n",
       "      <td>Year Built</td>\n",
       "      <td>0.122378</td>\n",
       "    </tr>\n",
       "    <tr>\n",
       "      <th>4</th>\n",
       "      <td>Years Exp.</td>\n",
       "      <td>0.108896</td>\n",
       "    </tr>\n",
       "    <tr>\n",
       "      <th>7</th>\n",
       "      <td>Occupation_other</td>\n",
       "      <td>0.027095</td>\n",
       "    </tr>\n",
       "    <tr>\n",
       "      <th>5</th>\n",
       "      <td># Engines</td>\n",
       "      <td>0.025152</td>\n",
       "    </tr>\n",
       "    <tr>\n",
       "      <th>13</th>\n",
       "      <td>Builder_other</td>\n",
       "      <td>0.023837</td>\n",
       "    </tr>\n",
       "    <tr>\n",
       "      <th>9</th>\n",
       "      <td>Mooring County_other</td>\n",
       "      <td>0.022522</td>\n",
       "    </tr>\n",
       "    <tr>\n",
       "      <th>8</th>\n",
       "      <td>Occupation_not reported</td>\n",
       "      <td>0.021685</td>\n",
       "    </tr>\n",
       "    <tr>\n",
       "      <th>6</th>\n",
       "      <td>Mooring County_monroe</td>\n",
       "      <td>0.021488</td>\n",
       "    </tr>\n",
       "    <tr>\n",
       "      <th>10</th>\n",
       "      <td>Married yes/no_yes</td>\n",
       "      <td>0.020594</td>\n",
       "    </tr>\n",
       "    <tr>\n",
       "      <th>11</th>\n",
       "      <td>Married yes/no_not reported</td>\n",
       "      <td>0.020247</td>\n",
       "    </tr>\n",
       "    <tr>\n",
       "      <th>14</th>\n",
       "      <td>Hull Type_motoryacht</td>\n",
       "      <td>0.016268</td>\n",
       "    </tr>\n",
       "    <tr>\n",
       "      <th>15</th>\n",
       "      <td>Occupation_retired</td>\n",
       "      <td>0.015609</td>\n",
       "    </tr>\n",
       "    <tr>\n",
       "      <th>16</th>\n",
       "      <td>Mooring County_caribbean</td>\n",
       "      <td>0.014429</td>\n",
       "    </tr>\n",
       "    <tr>\n",
       "      <th>17</th>\n",
       "      <td>Hull Type_multihull sail</td>\n",
       "      <td>0.014176</td>\n",
       "    </tr>\n",
       "    <tr>\n",
       "      <th>12</th>\n",
       "      <td>Hull Type_monohull sail</td>\n",
       "      <td>0.012792</td>\n",
       "    </tr>\n",
       "    <tr>\n",
       "      <th>20</th>\n",
       "      <td>Mooring County_san diego</td>\n",
       "      <td>0.011426</td>\n",
       "    </tr>\n",
       "    <tr>\n",
       "      <th>22</th>\n",
       "      <td>Mooring County_broward</td>\n",
       "      <td>0.011419</td>\n",
       "    </tr>\n",
       "    <tr>\n",
       "      <th>19</th>\n",
       "      <td>Mooring County_miami-dade</td>\n",
       "      <td>0.011122</td>\n",
       "    </tr>\n",
       "    <tr>\n",
       "      <th>18</th>\n",
       "      <td>Mooring County_pinellas</td>\n",
       "      <td>0.011043</td>\n",
       "    </tr>\n",
       "    <tr>\n",
       "      <th>21</th>\n",
       "      <td>Mooring County_bcs</td>\n",
       "      <td>0.010971</td>\n",
       "    </tr>\n",
       "    <tr>\n",
       "      <th>24</th>\n",
       "      <td>Hull Type_sportfisher</td>\n",
       "      <td>0.010935</td>\n",
       "    </tr>\n",
       "    <tr>\n",
       "      <th>23</th>\n",
       "      <td>Hull Type_trawler</td>\n",
       "      <td>0.010642</td>\n",
       "    </tr>\n",
       "    <tr>\n",
       "      <th>29</th>\n",
       "      <td>Construction_fiberglass</td>\n",
       "      <td>0.009975</td>\n",
       "    </tr>\n",
       "    <tr>\n",
       "      <th>25</th>\n",
       "      <td>Mooring County_los angeles</td>\n",
       "      <td>0.009388</td>\n",
       "    </tr>\n",
       "    <tr>\n",
       "      <th>27</th>\n",
       "      <td>Mooring County_palm beach</td>\n",
       "      <td>0.007871</td>\n",
       "    </tr>\n",
       "    <tr>\n",
       "      <th>26</th>\n",
       "      <td>Builder_catana</td>\n",
       "      <td>0.007173</td>\n",
       "    </tr>\n",
       "    <tr>\n",
       "      <th>28</th>\n",
       "      <td>Mooring County_brevard</td>\n",
       "      <td>0.006867</td>\n",
       "    </tr>\n",
       "  </tbody>\n",
       "</table>\n",
       "</div>"
      ],
      "text/plain": [
       "                       Variable  Importance\n",
       "0                    Hull Limit    0.138572\n",
       "1                           Age    0.130630\n",
       "2                        Length    0.124799\n",
       "3                    Year Built    0.122378\n",
       "4                    Years Exp.    0.108896\n",
       "7              Occupation_other    0.027095\n",
       "5                     # Engines    0.025152\n",
       "13                Builder_other    0.023837\n",
       "9          Mooring County_other    0.022522\n",
       "8       Occupation_not reported    0.021685\n",
       "6         Mooring County_monroe    0.021488\n",
       "10           Married yes/no_yes    0.020594\n",
       "11  Married yes/no_not reported    0.020247\n",
       "14         Hull Type_motoryacht    0.016268\n",
       "15           Occupation_retired    0.015609\n",
       "16     Mooring County_caribbean    0.014429\n",
       "17     Hull Type_multihull sail    0.014176\n",
       "12      Hull Type_monohull sail    0.012792\n",
       "20     Mooring County_san diego    0.011426\n",
       "22       Mooring County_broward    0.011419\n",
       "19    Mooring County_miami-dade    0.011122\n",
       "18      Mooring County_pinellas    0.011043\n",
       "21           Mooring County_bcs    0.010971\n",
       "24        Hull Type_sportfisher    0.010935\n",
       "23            Hull Type_trawler    0.010642\n",
       "29      Construction_fiberglass    0.009975\n",
       "25   Mooring County_los angeles    0.009388\n",
       "27    Mooring County_palm beach    0.007871\n",
       "26               Builder_catana    0.007173\n",
       "28       Mooring County_brevard    0.006867"
      ]
     },
     "execution_count": 80,
     "metadata": {},
     "output_type": "execute_result"
    }
   ],
   "source": [
    "final_rf_feature_imp = pd.DataFrame({'Variable':X.columns,\n",
    "              'Importance':rf.feature_importances_}).sort_values('Importance', ascending=False)\n",
    "\n",
    "final_rf_feature_imp"
   ]
  },
  {
   "cell_type": "code",
   "execution_count": 81,
   "metadata": {},
   "outputs": [
    {
     "data": {
      "image/png": "[encoded data removed]",
      "text/plain": [
       "<Figure size 1080x576 with 1 Axes>"
      ]
     },
     "metadata": {
      "needs_background": "light"
     },
     "output_type": "display_data"
    }
   ],
   "source": [
    "# View the feature importances\n",
    "\n",
    "final_rf_feature_imp.plot(x = 'Variable', kind = 'bar', figsize= (15, 8))\n",
    "\n",
    "plt.xticks(rotation= 70,fontsize = 12)\n",
    "plt.xlabel('Feature',fontsize=18)\n",
    "plt.ylabel('Importance', fontsize=18)\n",
    "plt.title('Most Important Features of RF Model', fontsize=24)\n",
    "plt.savefig('../images/feature_importance.png', dpi=300, bbox_inches='tight');"
   ]
  },
  {
   "cell_type": "markdown",
   "metadata": {},
   "source": [
    "**INTERPRETATION:** According to our model, there are 5 most important features for predicting a claim:<br>\n",
    "1. Hull Limit (price of the boat)\n",
    "2. Age (of the owner)\n",
    "3. Length  (of the boat)\n",
    "4. Year Built (the boat)\n",
    "5. Years Experience  (of the owner)"
   ]
  },
  {
   "cell_type": "markdown",
   "metadata": {},
   "source": [
    "---\n",
    "## Conclusion:"
   ]
  },
  {
   "cell_type": "markdown",
   "metadata": {},
   "source": [
    "In this notebook we ran multiple models and continued to play around with them until we improved our results. Ultimately our best recall score was 45% which means out of all the policies that will actually have a claim, our model will predict 45% of them."
   ]
  }
 ],
 "metadata": {
  "kernelspec": {
   "display_name": "Python 3",
   "language": "python",
   "name": "python3"
  },
  "language_info": {
   "codemirror_mode": {
    "name": "ipython",
    "version": 3
   },
   "file_extension": ".py",
   "mimetype": "text/x-python",
   "name": "python",
   "nbconvert_exporter": "python",
   "pygments_lexer": "ipython3",
   "version": "3.8.3"
  }
 },
 "nbformat": 4,
 "nbformat_minor": 4
}
