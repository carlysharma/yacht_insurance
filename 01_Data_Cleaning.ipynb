{
 "cells": [
  {
   "cell_type": "markdown",
   "metadata": {},
   "source": [
    "# Yacht Insurance Claims Data\n",
    "##### NOTEBOOK 1"
   ]
  },
  {
   "cell_type": "markdown",
   "metadata": {},
   "source": [
    "**Problem Statement:** What is the likelihood that a yacht insurance policy has at least 1 claim within five years?"
   ]
  },
  {
   "cell_type": "markdown",
   "metadata": {},
   "source": [
    "**Contents:**\n",
    "1. General data cleaning for both datasets.\n",
    "2. Data cleaning for the master dataset.\n",
    "3. Data cleaning for the claims dataset.\n",
    "4. Merging of the two datasets.\n",
    "\n",
    "<br>**Important to note:** *While cleaning we had to be very careful to keep as much data as possible, especially from theh claims dataset. Before any cleaning our target variable, a policy with at least one claim, was onlly 6.5% of our dataset. Therefore, we were already working with limited data with no way to acquire more.*"
   ]
  },
  {
   "cell_type": "markdown",
   "metadata": {},
   "source": [
    "___\n",
    "## Import libraries and read in data"
   ]
  },
  {
   "cell_type": "code",
   "execution_count": 1,
   "metadata": {},
   "outputs": [],
   "source": [
    "import pandas as pd\n",
    "import numpy as np\n",
    "from datetime import datetime"
   ]
  },
  {
   "cell_type": "code",
   "execution_count": 2,
   "metadata": {},
   "outputs": [],
   "source": [
    "# Read in file with only claims\n",
    "claims = pd.read_excel('../datasets/Claims_report.xlsx')\n",
    "\n",
    "# Read in file with all the policies from 2016 - 2020\n",
    "master = pd.read_csv('../datasets/NYP Bordereau Report - Total.xlsx - Bordereau Report.csv')"
   ]
  },
  {
   "cell_type": "code",
   "execution_count": 3,
   "metadata": {},
   "outputs": [
    {
     "data": {
      "text/html": [
       "<div>\n",
       "<style scoped>\n",
       "    .dataframe tbody tr th:only-of-type {\n",
       "        vertical-align: middle;\n",
       "    }\n",
       "\n",
       "    .dataframe tbody tr th {\n",
       "        vertical-align: top;\n",
       "    }\n",
       "\n",
       "    .dataframe thead th {\n",
       "        text-align: right;\n",
       "    }\n",
       "</style>\n",
       "<table border=\"1\" class=\"dataframe\">\n",
       "  <thead>\n",
       "    <tr style=\"text-align: right;\">\n",
       "      <th></th>\n",
       "      <th>Claim No.</th>\n",
       "      <th>Status</th>\n",
       "      <th>Insured name</th>\n",
       "      <th>Policy No.</th>\n",
       "      <th>Policy Eff-Date</th>\n",
       "      <th>Date of Ocurrence</th>\n",
       "      <th>Year</th>\n",
       "      <th>Length</th>\n",
       "      <th>Hull Value</th>\n",
       "      <th>Horsepower</th>\n",
       "      <th>...</th>\n",
       "      <th>Mooring State</th>\n",
       "      <th>Mooring County</th>\n",
       "      <th>Construction</th>\n",
       "      <th>Navigation Limits</th>\n",
       "      <th>Loss</th>\n",
       "      <th>Expense</th>\n",
       "      <th>Loss.1</th>\n",
       "      <th>Expense.1</th>\n",
       "      <th>To Date</th>\n",
       "      <th>Total Incurred</th>\n",
       "    </tr>\n",
       "  </thead>\n",
       "  <tbody>\n",
       "    <tr>\n",
       "      <th>0</th>\n",
       "      <td>1.54715.MA.107</td>\n",
       "      <td>Open</td>\n",
       "      <td>Brent Cox</td>\n",
       "      <td>NYPCAF001878-2</td>\n",
       "      <td>2020-04-04</td>\n",
       "      <td>2020-11-03</td>\n",
       "      <td>1995.0</td>\n",
       "      <td>54.0</td>\n",
       "      <td>580000.0</td>\n",
       "      <td>1640.0</td>\n",
       "      <td>...</td>\n",
       "      <td>AL</td>\n",
       "      <td>BALDWIN</td>\n",
       "      <td>Fiberglass</td>\n",
       "      <td>(D) U.S. Atlantic and Gulf - 1</td>\n",
       "      <td>1000.00</td>\n",
       "      <td>500.0</td>\n",
       "      <td>0.00</td>\n",
       "      <td>0.00</td>\n",
       "      <td>0.0</td>\n",
       "      <td>1500.00</td>\n",
       "    </tr>\n",
       "    <tr>\n",
       "      <th>1</th>\n",
       "      <td>1.54181.107.MA</td>\n",
       "      <td>Closed</td>\n",
       "      <td>Brent Cox</td>\n",
       "      <td>NYPCAF001878-2</td>\n",
       "      <td>2020-04-04</td>\n",
       "      <td>2020-10-15</td>\n",
       "      <td>1995.0</td>\n",
       "      <td>54.0</td>\n",
       "      <td>580000.0</td>\n",
       "      <td>1640.0</td>\n",
       "      <td>...</td>\n",
       "      <td>AL</td>\n",
       "      <td>BALDWIN</td>\n",
       "      <td>Fiberglass</td>\n",
       "      <td>(D) U.S. Atlantic and Gulf - 1</td>\n",
       "      <td>618.84</td>\n",
       "      <td>500.0</td>\n",
       "      <td>0.00</td>\n",
       "      <td>0.00</td>\n",
       "      <td>0.0</td>\n",
       "      <td>1118.84</td>\n",
       "    </tr>\n",
       "    <tr>\n",
       "      <th>2</th>\n",
       "      <td>1.55475</td>\n",
       "      <td>Open</td>\n",
       "      <td>KEN &amp; HEATHER DEVRIES</td>\n",
       "      <td>NYPCAF001239-3</td>\n",
       "      <td>2020-06-17</td>\n",
       "      <td>2020-10-01</td>\n",
       "      <td>1985.0</td>\n",
       "      <td>44.0</td>\n",
       "      <td>125000.0</td>\n",
       "      <td>60.0</td>\n",
       "      <td>...</td>\n",
       "      <td>NAYARIT</td>\n",
       "      <td>MEXICO</td>\n",
       "      <td>Fiberglass</td>\n",
       "      <td>(A) Pacific - 2</td>\n",
       "      <td>NaN</td>\n",
       "      <td>NaN</td>\n",
       "      <td>NaN</td>\n",
       "      <td>NaN</td>\n",
       "      <td>NaN</td>\n",
       "      <td>NaN</td>\n",
       "    </tr>\n",
       "    <tr>\n",
       "      <th>3</th>\n",
       "      <td>1.52983.107MA</td>\n",
       "      <td>Open</td>\n",
       "      <td>STEPHEN &amp; BETH LEATHERS</td>\n",
       "      <td>NYPCAH001805-2</td>\n",
       "      <td>2020-03-05</td>\n",
       "      <td>2020-09-16</td>\n",
       "      <td>2004.0</td>\n",
       "      <td>42.0</td>\n",
       "      <td>300000.0</td>\n",
       "      <td>60.0</td>\n",
       "      <td>...</td>\n",
       "      <td>FL</td>\n",
       "      <td>ESCAMBIA</td>\n",
       "      <td>Fiberglass</td>\n",
       "      <td>(D) U.S. Atlantic and Gulf - 1</td>\n",
       "      <td>0.00</td>\n",
       "      <td>14000.0</td>\n",
       "      <td>310960.00</td>\n",
       "      <td>0.00</td>\n",
       "      <td>0.0</td>\n",
       "      <td>324960.00</td>\n",
       "    </tr>\n",
       "    <tr>\n",
       "      <th>4</th>\n",
       "      <td>1.53180.107.MA</td>\n",
       "      <td>Open</td>\n",
       "      <td>Ed Gassman</td>\n",
       "      <td>NYPCAF002704</td>\n",
       "      <td>2019-11-05</td>\n",
       "      <td>2020-08-22</td>\n",
       "      <td>2001.0</td>\n",
       "      <td>45.0</td>\n",
       "      <td>200000.0</td>\n",
       "      <td>900.0</td>\n",
       "      <td>...</td>\n",
       "      <td>FL</td>\n",
       "      <td>BROWARD</td>\n",
       "      <td>Fiberglass</td>\n",
       "      <td>(D) U.S. Atlantic and Gulf - 3</td>\n",
       "      <td>0.00</td>\n",
       "      <td>0.0</td>\n",
       "      <td>25481.25</td>\n",
       "      <td>25481.25</td>\n",
       "      <td>0.0</td>\n",
       "      <td>50962.50</td>\n",
       "    </tr>\n",
       "  </tbody>\n",
       "</table>\n",
       "<p>5 rows × 25 columns</p>\n",
       "</div>"
      ],
      "text/plain": [
       "        Claim No.  Status             Insured name      Policy No.  \\\n",
       "0  1.54715.MA.107    Open                Brent Cox  NYPCAF001878-2   \n",
       "1  1.54181.107.MA  Closed                Brent Cox  NYPCAF001878-2   \n",
       "2         1.55475    Open    KEN & HEATHER DEVRIES  NYPCAF001239-3   \n",
       "3   1.52983.107MA    Open  STEPHEN & BETH LEATHERS  NYPCAH001805-2   \n",
       "4  1.53180.107.MA    Open               Ed Gassman    NYPCAF002704   \n",
       "\n",
       "  Policy Eff-Date Date of Ocurrence    Year  Length  Hull Value  Horsepower  \\\n",
       "0      2020-04-04        2020-11-03  1995.0    54.0    580000.0      1640.0   \n",
       "1      2020-04-04        2020-10-15  1995.0    54.0    580000.0      1640.0   \n",
       "2      2020-06-17        2020-10-01  1985.0    44.0    125000.0        60.0   \n",
       "3      2020-03-05        2020-09-16  2004.0    42.0    300000.0        60.0   \n",
       "4      2019-11-05        2020-08-22  2001.0    45.0    200000.0       900.0   \n",
       "\n",
       "   ... Mooring State Mooring County Construction  \\\n",
       "0  ...            AL        BALDWIN   Fiberglass   \n",
       "1  ...            AL        BALDWIN   Fiberglass   \n",
       "2  ...       NAYARIT         MEXICO   Fiberglass   \n",
       "3  ...            FL       ESCAMBIA   Fiberglass   \n",
       "4  ...            FL        BROWARD   Fiberglass   \n",
       "\n",
       "                Navigation Limits     Loss  Expense     Loss.1 Expense.1  \\\n",
       "0  (D) U.S. Atlantic and Gulf - 1  1000.00    500.0       0.00      0.00   \n",
       "1  (D) U.S. Atlantic and Gulf - 1   618.84    500.0       0.00      0.00   \n",
       "2                 (A) Pacific - 2      NaN      NaN        NaN       NaN   \n",
       "3  (D) U.S. Atlantic and Gulf - 1     0.00  14000.0  310960.00      0.00   \n",
       "4  (D) U.S. Atlantic and Gulf - 3     0.00      0.0   25481.25  25481.25   \n",
       "\n",
       "  To Date  Total Incurred  \n",
       "0     0.0         1500.00  \n",
       "1     0.0         1118.84  \n",
       "2     NaN             NaN  \n",
       "3     0.0       324960.00  \n",
       "4     0.0        50962.50  \n",
       "\n",
       "[5 rows x 25 columns]"
      ]
     },
     "execution_count": 3,
     "metadata": {},
     "output_type": "execute_result"
    }
   ],
   "source": [
    "claims.head()"
   ]
  },
  {
   "cell_type": "code",
   "execution_count": 4,
   "metadata": {},
   "outputs": [
    {
     "data": {
      "text/html": [
       "<div>\n",
       "<style scoped>\n",
       "    .dataframe tbody tr th:only-of-type {\n",
       "        vertical-align: middle;\n",
       "    }\n",
       "\n",
       "    .dataframe tbody tr th {\n",
       "        vertical-align: top;\n",
       "    }\n",
       "\n",
       "    .dataframe thead th {\n",
       "        text-align: right;\n",
       "    }\n",
       "</style>\n",
       "<table border=\"1\" class=\"dataframe\">\n",
       "  <thead>\n",
       "    <tr style=\"text-align: right;\">\n",
       "      <th></th>\n",
       "      <th>Policy Number</th>\n",
       "      <th>New/Renl/Endt/Canc/Flat</th>\n",
       "      <th>Insurance Broker</th>\n",
       "      <th>First Name</th>\n",
       "      <th>Last Name</th>\n",
       "      <th>Loss Paye</th>\n",
       "      <th>Date of Birth</th>\n",
       "      <th>Married yes/no</th>\n",
       "      <th>Years Exp.</th>\n",
       "      <th>Occupation</th>\n",
       "      <th>...</th>\n",
       "      <th>Hull Type</th>\n",
       "      <th>Hull Limit</th>\n",
       "      <th>Power Type</th>\n",
       "      <th># Engines</th>\n",
       "      <th>Mooring State</th>\n",
       "      <th>Mooring County</th>\n",
       "      <th>Mooring ZIP code</th>\n",
       "      <th>Credits</th>\n",
       "      <th>Debits</th>\n",
       "      <th>Windstorm Deductible</th>\n",
       "    </tr>\n",
       "  </thead>\n",
       "  <tbody>\n",
       "    <tr>\n",
       "      <th>0</th>\n",
       "      <td>NYPCAF000314</td>\n",
       "      <td>New</td>\n",
       "      <td>Novamar Insurance</td>\n",
       "      <td>Richard</td>\n",
       "      <td>Spindler</td>\n",
       "      <td>Named Insured</td>\n",
       "      <td>05/09/1948</td>\n",
       "      <td>No</td>\n",
       "      <td>2.0</td>\n",
       "      <td>PUBLISHER</td>\n",
       "      <td>...</td>\n",
       "      <td>Multihull Sail</td>\n",
       "      <td>$ 500,000.00</td>\n",
       "      <td>Inboard</td>\n",
       "      <td>2.0</td>\n",
       "      <td>Nayarit</td>\n",
       "      <td>Mexico</td>\n",
       "      <td>NaN</td>\n",
       "      <td>0%</td>\n",
       "      <td>35%</td>\n",
       "      <td>5%</td>\n",
       "    </tr>\n",
       "    <tr>\n",
       "      <th>1</th>\n",
       "      <td>NYPCAF000315</td>\n",
       "      <td>New</td>\n",
       "      <td>Novamar Insurance</td>\n",
       "      <td>Hoc</td>\n",
       "      <td>Tran</td>\n",
       "      <td>United Bank</td>\n",
       "      <td>10/08/1952</td>\n",
       "      <td>NaN</td>\n",
       "      <td>22.0</td>\n",
       "      <td>OWNS SCRAP METAL BUSINESS</td>\n",
       "      <td>...</td>\n",
       "      <td>Sportfisher</td>\n",
       "      <td>$ 1,275,000.00</td>\n",
       "      <td>Inboard</td>\n",
       "      <td>2.0</td>\n",
       "      <td>CA</td>\n",
       "      <td>Los Angeles</td>\n",
       "      <td>90803</td>\n",
       "      <td>0%</td>\n",
       "      <td>20%</td>\n",
       "      <td>2%</td>\n",
       "    </tr>\n",
       "    <tr>\n",
       "      <th>2</th>\n",
       "      <td>NYPCAF000316</td>\n",
       "      <td>Flat</td>\n",
       "      <td>Novamar Insurance</td>\n",
       "      <td>KARL</td>\n",
       "      <td>KRUG</td>\n",
       "      <td>NaN</td>\n",
       "      <td>06/25/1956</td>\n",
       "      <td>Yes</td>\n",
       "      <td>24.0</td>\n",
       "      <td>CEO</td>\n",
       "      <td>...</td>\n",
       "      <td>Trawler</td>\n",
       "      <td>$ 663,000.00</td>\n",
       "      <td>Inboard</td>\n",
       "      <td>2.0</td>\n",
       "      <td>WASHINGTON</td>\n",
       "      <td>King</td>\n",
       "      <td>98109</td>\n",
       "      <td>0%</td>\n",
       "      <td>0%</td>\n",
       "      <td>2%</td>\n",
       "    </tr>\n",
       "    <tr>\n",
       "      <th>3</th>\n",
       "      <td>NYPCAF000316</td>\n",
       "      <td>Flat</td>\n",
       "      <td>Novamar Insurance</td>\n",
       "      <td>KARL</td>\n",
       "      <td>KRUG</td>\n",
       "      <td>NaN</td>\n",
       "      <td>06/25/1956</td>\n",
       "      <td>Yes</td>\n",
       "      <td>24.0</td>\n",
       "      <td>CEO</td>\n",
       "      <td>...</td>\n",
       "      <td>Trawler</td>\n",
       "      <td>$ 663,000.00</td>\n",
       "      <td>Inboard</td>\n",
       "      <td>2.0</td>\n",
       "      <td>WASHINGTON</td>\n",
       "      <td>King</td>\n",
       "      <td>98109</td>\n",
       "      <td>0%</td>\n",
       "      <td>0%</td>\n",
       "      <td>2%</td>\n",
       "    </tr>\n",
       "    <tr>\n",
       "      <th>4</th>\n",
       "      <td>NYPCAF000318</td>\n",
       "      <td>New</td>\n",
       "      <td>Novamar Insurance</td>\n",
       "      <td>JERRY</td>\n",
       "      <td>BORISY</td>\n",
       "      <td>NAMED INSURED</td>\n",
       "      <td>09/30/1943</td>\n",
       "      <td>Yes</td>\n",
       "      <td>30.0</td>\n",
       "      <td>-</td>\n",
       "      <td>...</td>\n",
       "      <td>Motoryacht</td>\n",
       "      <td>$ 400,000.00</td>\n",
       "      <td>Inboard</td>\n",
       "      <td>2.0</td>\n",
       "      <td>CA</td>\n",
       "      <td>LOS ANGELES</td>\n",
       "      <td>90803</td>\n",
       "      <td>6%</td>\n",
       "      <td>0%</td>\n",
       "      <td>1%</td>\n",
       "    </tr>\n",
       "  </tbody>\n",
       "</table>\n",
       "<p>5 rows × 45 columns</p>\n",
       "</div>"
      ],
      "text/plain": [
       "  Policy Number New/Renl/Endt/Canc/Flat   Insurance Broker First Name  \\\n",
       "0  NYPCAF000314                     New  Novamar Insurance    Richard   \n",
       "1  NYPCAF000315                     New  Novamar Insurance        Hoc   \n",
       "2  NYPCAF000316                    Flat  Novamar Insurance       KARL   \n",
       "3  NYPCAF000316                    Flat  Novamar Insurance       KARL   \n",
       "4  NYPCAF000318                     New  Novamar Insurance      JERRY   \n",
       "\n",
       "  Last Name      Loss Paye Date of Birth Married yes/no  Years Exp.  \\\n",
       "0  Spindler  Named Insured    05/09/1948             No         2.0   \n",
       "1      Tran    United Bank    10/08/1952            NaN        22.0   \n",
       "2      KRUG            NaN    06/25/1956            Yes        24.0   \n",
       "3      KRUG            NaN    06/25/1956            Yes        24.0   \n",
       "4    BORISY  NAMED INSURED    09/30/1943            Yes        30.0   \n",
       "\n",
       "                  Occupation  ...       Hull Type        Hull Limit  \\\n",
       "0                  PUBLISHER  ...  Multihull Sail     $ 500,000.00    \n",
       "1  OWNS SCRAP METAL BUSINESS  ...     Sportfisher   $ 1,275,000.00    \n",
       "2                        CEO  ...         Trawler     $ 663,000.00    \n",
       "3                        CEO  ...         Trawler     $ 663,000.00    \n",
       "4                          -  ...      Motoryacht     $ 400,000.00    \n",
       "\n",
       "  Power Type # Engines Mooring State Mooring County Mooring ZIP code Credits  \\\n",
       "0    Inboard       2.0       Nayarit         Mexico              NaN      0%   \n",
       "1    Inboard       2.0            CA    Los Angeles            90803      0%   \n",
       "2    Inboard       2.0    WASHINGTON           King            98109      0%   \n",
       "3    Inboard       2.0    WASHINGTON           King            98109      0%   \n",
       "4    Inboard       2.0            CA    LOS ANGELES            90803      6%   \n",
       "\n",
       "  Debits Windstorm Deductible  \n",
       "0    35%                   5%  \n",
       "1    20%                   2%  \n",
       "2     0%                   2%  \n",
       "3     0%                   2%  \n",
       "4     0%                   1%  \n",
       "\n",
       "[5 rows x 45 columns]"
      ]
     },
     "execution_count": 4,
     "metadata": {},
     "output_type": "execute_result"
    }
   ],
   "source": [
    "master.head()"
   ]
  },
  {
   "cell_type": "code",
   "execution_count": 5,
   "metadata": {},
   "outputs": [
    {
     "name": "stdout",
     "output_type": "stream",
     "text": [
      "Claims Shape: (410, 25)\n",
      "Master Shape: (7952, 45)\n"
     ]
    }
   ],
   "source": [
    "# View the dimensions of each dataset\n",
    "\n",
    "print('Claims Shape:', claims.shape)\n",
    "print('Master Shape:', master.shape)"
   ]
  },
  {
   "cell_type": "markdown",
   "metadata": {},
   "source": [
    "---\n",
    "## High level cleaning for both datasets"
   ]
  },
  {
   "cell_type": "markdown",
   "metadata": {},
   "source": [
    "**BELOW:** In insurance there is a term, \"flat\". This represents either a new policy or an endorsement on a current policy that was cancelled before it even began. For our purposes we won't be counting them as policies and will drop them immediately."
   ]
  },
  {
   "cell_type": "code",
   "execution_count": 6,
   "metadata": {},
   "outputs": [
    {
     "data": {
      "text/plain": [
       "(6320, 45)"
      ]
     },
     "execution_count": 6,
     "metadata": {},
     "output_type": "execute_result"
    }
   ],
   "source": [
    "master.drop(master.loc[(master['New/Renl/Endt/Canc/Flat'] == 'Flat') | \n",
    "                       (master['New/Renl/Endt/Canc/Flat'] == 'Endt-Flat')].index, inplace= True)\n",
    "master.shape"
   ]
  },
  {
   "cell_type": "markdown",
   "metadata": {},
   "source": [
    "**BELOW:** Before any cleaning or exploratory data analysis, of all the policies held from 2016 - 2020, roughly 6.5% had claims."
   ]
  },
  {
   "cell_type": "code",
   "execution_count": 7,
   "metadata": {},
   "outputs": [
    {
     "data": {
      "text/plain": [
       "0.06487341772151899"
      ]
     },
     "execution_count": 7,
     "metadata": {},
     "output_type": "execute_result"
    }
   ],
   "source": [
    "# Find percentage of policies have claims \n",
    "claims.shape[0]  / master.shape[0]"
   ]
  },
  {
   "cell_type": "code",
   "execution_count": 8,
   "metadata": {},
   "outputs": [],
   "source": [
    "# Lowercase the text in the datasets in case the same words were input with different upper/lowercasing\n",
    "# Ref: https://stackoverflow.com/questions/39512002/convert-whole-dataframe-from-lower-case-to-upper-case-with-pandas\n",
    "master = master.applymap(lambda s:s.lower() if type(s) == str else s)\n",
    "claims = claims.applymap(lambda s:s.lower() if type(s) == str else s)"
   ]
  },
  {
   "cell_type": "code",
   "execution_count": 9,
   "metadata": {},
   "outputs": [],
   "source": [
    "# Drop any rows that don't have a policy number in both dataframes (this is crucial for us to work with the data)\n",
    "\n",
    "claims.dropna(subset = ['Policy No.'],inplace=True)\n",
    "master.dropna(subset = ['Policy Number'], inplace= True)"
   ]
  },
  {
   "cell_type": "markdown",
   "metadata": {},
   "source": [
    "---"
   ]
  },
  {
   "cell_type": "markdown",
   "metadata": {},
   "source": [
    "## Cleaning for the Master dataset"
   ]
  },
  {
   "cell_type": "code",
   "execution_count": 10,
   "metadata": {},
   "outputs": [
    {
     "data": {
      "text/plain": [
       "Policy Number                   0\n",
       "New/Renl/Endt/Canc/Flat         0\n",
       "Insurance Broker                0\n",
       "First Name                      0\n",
       "Last Name                       0\n",
       "Loss Paye                    4456\n",
       "Date of Birth                   0\n",
       "Married yes/no               1964\n",
       "Years Exp.                      0\n",
       "Occupation                    822\n",
       "Mailing State                   0\n",
       "Policy Eff-Date                 0\n",
       "Endo Eff-Date                5032\n",
       "Policy/Endo Canc Eff-Date    5620\n",
       "Hull Prem                       0\n",
       "Primary Lia Prem                0\n",
       "Excess Lia Prem                 0\n",
       "Primary Crew Prem               0\n",
       "Excess Crew Prem                0\n",
       "Pol Fee                         0\n",
       "Total Prem Incl Fee             0\n",
       "Total Prem Less Fee             0\n",
       "Collected Premium            5032\n",
       "Collected Fee                5032\n",
       "Date Paid                    5032\n",
       "Collected Total              5032\n",
       "Unpaid Premium               5032\n",
       "Unpaid Fee                   5032\n",
       "Unpaid Total                 5032\n",
       "Net Prem Due RFIB               0\n",
       "Vessel Name                    20\n",
       "Builder                         4\n",
       "Year Built                      0\n",
       "Construction                   68\n",
       "Length                          2\n",
       "Hull Type                       0\n",
       "Hull Limit                      0\n",
       "Power Type                      0\n",
       "# Engines                       0\n",
       "Mooring State                 118\n",
       "Mooring County                 28\n",
       "Mooring ZIP code             1451\n",
       "Credits                         0\n",
       "Debits                          0\n",
       "Windstorm Deductible            0\n",
       "dtype: int64"
      ]
     },
     "execution_count": 10,
     "metadata": {},
     "output_type": "execute_result"
    }
   ],
   "source": [
    "# Check for all the null values\n",
    "master.isna().sum()"
   ]
  },
  {
   "cell_type": "markdown",
   "metadata": {},
   "source": [
    "### Drop columns we don't need OR have too many nulls"
   ]
  },
  {
   "cell_type": "markdown",
   "metadata": {},
   "source": [
    "**BELOW:** Columns with the words fee or prem refer to how much the client was charged for a premium. These were dropped because we're interested in features of a boat and person that would lead to the likelihood of having a claim. Additionally, columns that list names of people, insurance broker, or the boat were dropped."
   ]
  },
  {
   "cell_type": "code",
   "execution_count": 11,
   "metadata": {},
   "outputs": [],
   "source": [
    "master.drop(columns = ['Loss Paye','First Name', 'Last Name', 'Hull Prem', 'Primary Lia Prem', 'Excess Lia Prem', 'Primary Crew Prem',\n",
    "       'Excess Crew Prem', 'Pol Fee', 'Total Prem Incl Fee','Insurance Broker',\n",
    "       'Total Prem Less Fee', 'Collected Premium', 'Collected Fee',\n",
    "       'Date Paid', 'Collected Total', 'Unpaid Premium', 'Unpaid Fee',\n",
    "       'Unpaid Total', 'Net Prem Due RFIB', 'Vessel Name', 'Credits', 'Debits', 'Windstorm Deductible'], inplace = True)"
   ]
  },
  {
   "cell_type": "code",
   "execution_count": 12,
   "metadata": {},
   "outputs": [
    {
     "data": {
      "text/plain": [
       "Policy Number                   0\n",
       "New/Renl/Endt/Canc/Flat         0\n",
       "Date of Birth                   0\n",
       "Married yes/no               1964\n",
       "Years Exp.                      0\n",
       "Occupation                    822\n",
       "Mailing State                   0\n",
       "Policy Eff-Date                 0\n",
       "Endo Eff-Date                5032\n",
       "Policy/Endo Canc Eff-Date    5620\n",
       "Builder                         4\n",
       "Year Built                      0\n",
       "Construction                   68\n",
       "Length                          2\n",
       "Hull Type                       0\n",
       "Hull Limit                      0\n",
       "Power Type                      0\n",
       "# Engines                       0\n",
       "Mooring State                 118\n",
       "Mooring County                 28\n",
       "Mooring ZIP code             1451\n",
       "dtype: int64"
      ]
     },
     "execution_count": 12,
     "metadata": {},
     "output_type": "execute_result"
    }
   ],
   "source": [
    "master.isna().sum()"
   ]
  },
  {
   "cell_type": "markdown",
   "metadata": {},
   "source": [
    "### Fill null Married and Occupation columns"
   ]
  },
  {
   "cell_type": "markdown",
   "metadata": {},
   "source": [
    "**BELOW:** There were a lot of nulls for each column but we thought they were relevant. Without being able to impute or guess a value to fill them in with, we decided to simply fill them in with 'not reported'."
   ]
  },
  {
   "cell_type": "code",
   "execution_count": 13,
   "metadata": {},
   "outputs": [],
   "source": [
    "# Fill both the occupation and married column NAs with 'not reported' for now\n",
    "master.fillna({'Married yes/no':'not reported', 'Occupation':'not reported'}, inplace=True)"
   ]
  },
  {
   "cell_type": "code",
   "execution_count": 14,
   "metadata": {},
   "outputs": [
    {
     "data": {
      "text/plain": [
       "yes             4106\n",
       "not reported    1964\n",
       "no               249\n",
       "Name: Married yes/no, dtype: int64"
      ]
     },
     "execution_count": 14,
     "metadata": {},
     "output_type": "execute_result"
    }
   ],
   "source": [
    "master['Married yes/no'].value_counts()"
   ]
  },
  {
   "cell_type": "markdown",
   "metadata": {},
   "source": [
    "### Clean Occupation column further"
   ]
  },
  {
   "cell_type": "markdown",
   "metadata": {},
   "source": [
    "**BELOW:** As we explored the occupation column further we noticed sometimes a '-' was used in place of a null value. We also replaced this with 'not reported'. Additionally, some values were recorded differently (this was a problem throughout the dataset). For instance, the value self-employed was also recorded as self employed. We changed all values to self employed."
   ]
  },
  {
   "cell_type": "code",
   "execution_count": 15,
   "metadata": {},
   "outputs": [
    {
     "data": {
      "text/plain": [
       "retired           1402\n",
       "not reported       822\n",
       "-                  439\n",
       "business owner     298\n",
       "engineer           108\n",
       "physician           80\n",
       "attorney            62\n",
       "ceo                 60\n",
       "real estate         59\n",
       "executive           58\n",
       "Name: Occupation, dtype: int64"
      ]
     },
     "execution_count": 15,
     "metadata": {},
     "output_type": "execute_result"
    }
   ],
   "source": [
    "# Check the first 10 top occupations\n",
    "master['Occupation'].value_counts()[:10]"
   ]
  },
  {
   "cell_type": "code",
   "execution_count": 16,
   "metadata": {},
   "outputs": [
    {
     "data": {
      "text/plain": [
       "retired                 1402\n",
       "not reported            1273\n",
       "business owner           298\n",
       "engineer                 108\n",
       "self employed             84\n",
       "physician                 80\n",
       "attorney                  62\n",
       "ceo                       60\n",
       "real estate               59\n",
       "executive                 58\n",
       "contractor                54\n",
       "sales                     52\n",
       "consultant                51\n",
       "investor                  43\n",
       "pilot                     40\n",
       "cpa                       33\n",
       "manager                   27\n",
       "software developer        24\n",
       "real estate investor      24\n",
       "architect                 23\n",
       "Name: Occupation, dtype: int64"
      ]
     },
     "execution_count": 16,
     "metadata": {},
     "output_type": "execute_result"
    }
   ],
   "source": [
    "# Change '.' and '-' to 'not reported'\n",
    "master.loc[(master['Occupation'] == '-') | (master['Occupation'] == '.'),'Occupation']='not reported'\n",
    "\n",
    "# Change 'self-employed' to 'self employed'\n",
    "master.loc[(master['Occupation'] ==  'self-employed'), 'Occupation']= 'self employed'\n",
    "master['Occupation'].value_counts()[:20]"
   ]
  },
  {
   "cell_type": "markdown",
   "metadata": {},
   "source": [
    "**BELOW:** We noticed there were a lot of occupations and decided to only keep the top 20. Otherwise they would be called 'other'."
   ]
  },
  {
   "cell_type": "code",
   "execution_count": 17,
   "metadata": {},
   "outputs": [
    {
     "data": {
      "text/plain": [
       "['retired', 'not reported', 'business owner', 'engineer', 'self employed']"
      ]
     },
     "execution_count": 17,
     "metadata": {},
     "output_type": "execute_result"
    }
   ],
   "source": [
    "# Create a list of the top 20 most common occupations\n",
    "top_20_occ = master['Occupation'].value_counts()[:20].index.to_list()\n",
    "top_20_occ[:5]"
   ]
  },
  {
   "cell_type": "code",
   "execution_count": 18,
   "metadata": {},
   "outputs": [
    {
     "data": {
      "text/plain": [
       "other                   2464\n",
       "retired                 1402\n",
       "not reported            1273\n",
       "business owner           298\n",
       "engineer                 108\n",
       "self employed             84\n",
       "physician                 80\n",
       "attorney                  62\n",
       "ceo                       60\n",
       "real estate               59\n",
       "executive                 58\n",
       "contractor                54\n",
       "sales                     52\n",
       "consultant                51\n",
       "investor                  43\n",
       "pilot                     40\n",
       "cpa                       33\n",
       "manager                   27\n",
       "software developer        24\n",
       "real estate investor      24\n",
       "architect                 23\n",
       "Name: Occupation, dtype: int64"
      ]
     },
     "execution_count": 18,
     "metadata": {},
     "output_type": "execute_result"
    }
   ],
   "source": [
    "# Replace all occupations with 'other' if they aren't in the top 20 most common\n",
    "master['Occupation'] = master['Occupation'].apply(lambda x: 'other' if x not in top_20_occ else x)\n",
    "master['Occupation'].value_counts()"
   ]
  },
  {
   "cell_type": "markdown",
   "metadata": {},
   "source": [
    "### Clean Builder column"
   ]
  },
  {
   "cell_type": "markdown",
   "metadata": {},
   "source": [
    "**BELOW:** Similar to occupation, we only took the top 20 builders of a boat and changed the remaining to 'other'."
   ]
  },
  {
   "cell_type": "code",
   "execution_count": 19,
   "metadata": {},
   "outputs": [
    {
     "data": {
      "text/plain": [
       "other                4562\n",
       "beneteau              298\n",
       "sea ray               171\n",
       "island packet         144\n",
       "lagoon                138\n",
       "hatteras              137\n",
       "catalina              118\n",
       "viking                 95\n",
       "jeanneau               69\n",
       "bertram                67\n",
       "hunter                 60\n",
       "tiara                  54\n",
       "cabo                   53\n",
       "robertson & caine      51\n",
       "riviera                50\n",
       "tayana                 45\n",
       "ocean alexander        44\n",
       "intrepid               43\n",
       "offshore               43\n",
       "catana                 39\n",
       "carver                 38\n",
       "Name: Builder, dtype: int64"
      ]
     },
     "execution_count": 19,
     "metadata": {},
     "output_type": "execute_result"
    }
   ],
   "source": [
    "# Create a list of the top 20 most common builders\n",
    "top_20_build = master['Builder'].value_counts()[:20].index.to_list()\n",
    "\n",
    "# Replace all the other types with 'other'\n",
    "master['Builder'] = master['Builder'].apply(lambda x: 'other' if x not in top_20_build else x)\n",
    "master['Builder'].value_counts()"
   ]
  },
  {
   "cell_type": "code",
   "execution_count": 20,
   "metadata": {},
   "outputs": [
    {
     "data": {
      "text/plain": [
       "Policy Number                 object\n",
       "New/Renl/Endt/Canc/Flat       object\n",
       "Date of Birth                 object\n",
       "Married yes/no                object\n",
       "Years Exp.                   float64\n",
       "Occupation                    object\n",
       "Mailing State                 object\n",
       "Policy Eff-Date               object\n",
       "Endo Eff-Date                 object\n",
       "Policy/Endo Canc Eff-Date     object\n",
       "Builder                       object\n",
       "Year Built                   float64\n",
       "Construction                  object\n",
       "Length                       float64\n",
       "Hull Type                     object\n",
       "Hull Limit                    object\n",
       "Power Type                    object\n",
       "# Engines                    float64\n",
       "Mooring State                 object\n",
       "Mooring County                object\n",
       "Mooring ZIP code              object\n",
       "dtype: object"
      ]
     },
     "execution_count": 20,
     "metadata": {},
     "output_type": "execute_result"
    }
   ],
   "source": [
    "# Taking a look at the data types for each column\n",
    "master.dtypes"
   ]
  },
  {
   "cell_type": "markdown",
   "metadata": {},
   "source": [
    "### Clean Date of Birth column"
   ]
  },
  {
   "cell_type": "markdown",
   "metadata": {},
   "source": [
    "**BELOW:** There was an error converting DOB to datetime object because some of the birth dates were incorrect (born in year 9000). We decided to explore it further and see if we could catch all the incorrect birthdays. After creating a list of 'wrong birthdays' we shared the document with the client and he sent updated birthdays. Then we turned it into a date/time object."
   ]
  },
  {
   "cell_type": "code",
   "execution_count": 21,
   "metadata": {},
   "outputs": [
    {
     "data": {
      "text/plain": [
       "['9605',\n",
       " '9605',\n",
       " '9407',\n",
       " '9407',\n",
       " '2036',\n",
       " '2036',\n",
       " '2020',\n",
       " '2020',\n",
       " '2020',\n",
       " '2020',\n",
       " '2020',\n",
       " '2020',\n",
       " '2020',\n",
       " '2020',\n",
       " '2020',\n",
       " '2020',\n",
       " '2020',\n",
       " '2020',\n",
       " '2020',\n",
       " '2020',\n",
       " '2020',\n",
       " '2020',\n",
       " '2020',\n",
       " '2020',\n",
       " '1997',\n",
       " '1997',\n",
       " '1997',\n",
       " '1997',\n",
       " '1994',\n",
       " '1994']"
      ]
     },
     "execution_count": 21,
     "metadata": {},
     "output_type": "execute_result"
    }
   ],
   "source": [
    "# Create a list of all the DOB years to see where there may be issues\n",
    "year_list = []\n",
    "for n in master['Date of Birth']:\n",
    "    year_list.append(str(n)[6:10])\n",
    "    \n",
    "# Sort in descending order and show the top 30\n",
    "sorted(year_list, reverse=True)[:30]"
   ]
  },
  {
   "cell_type": "code",
   "execution_count": 22,
   "metadata": {},
   "outputs": [
    {
     "data": {
      "text/plain": [
       "5030    9605\n",
       "3261    9605\n",
       "5734    9407\n",
       "4115    9407\n",
       "3406    2036\n",
       "        ... \n",
       "495     1932\n",
       "4351    1931\n",
       "2620    1931\n",
       "5895    1931\n",
       "2251    1928\n",
       "Name: DOB_year, Length: 6319, dtype: object"
      ]
     },
     "execution_count": 22,
     "metadata": {},
     "output_type": "execute_result"
    }
   ],
   "source": [
    "# Create DOB year column\n",
    "master['DOB_year'] = year_list\n",
    "\n",
    "# Check the biggest years to see if they make sense\n",
    "master['DOB_year'].sort_values(ascending=False)"
   ]
  },
  {
   "cell_type": "code",
   "execution_count": 23,
   "metadata": {},
   "outputs": [
    {
     "name": "stdout",
     "output_type": "stream",
     "text": [
      "24\n"
     ]
    }
   ],
   "source": [
    "# Turn DOB year back to numeric\n",
    "master['DOB_year'] = pd.to_numeric(master['DOB_year'])\n",
    "\n",
    "# How many incorrect birthdays?\n",
    "print(len(master[master['DOB_year'] >= 2020]))\n",
    "\n",
    "# Create a dataframe to share these errors with the client\n",
    "wrong_bdays = master[master['DOB_year'] >= 2020]\n",
    "\n",
    "# Export the dataframe to csv\n",
    "wrong_bdays.to_csv('../datasets/wrong_bdays.csv')"
   ]
  },
  {
   "cell_type": "code",
   "execution_count": 24,
   "metadata": {},
   "outputs": [],
   "source": [
    "# List of updated birthdays from client\n",
    "updated_bdays = {'NYPCAH001020-3':'7/25/1957','NYPCAH001020-3':'7/25/1957','NYPCAH001020-3':'7/25/1957',\n",
    "                 'NYPCAH001020-3':'7/25/1957','NYPCAH001020-3':'7/25/1957','NYPCAH001020-3':'7/25/1957',\n",
    "                 'NYPCAH001020-3':'7/25/1957','NYPCAH001020-2':'12/14/2020','NYPCAH001020-1':'7/25/1957',\n",
    "                 'NYPCAH001020':'7/25/1957','NYPCAF002412-1':'1/11/1947','NYPCAF002412':'1/11/1947',\n",
    "                 'NYPCAF002257-1':'2/16/1936','NYPCAF002257':'2/16/1936','NYPCAF002229-1':'2/21/1965',\n",
    "                 'NYPCAF002229':'2/21/1965','NYPCAF001453-1':'4/17/1950','NYPCAF001453':'4/17/1950',\n",
    "                 'NYPCAF000989-3':'9/16/1942','NYPCAF000989-2':'9/16/1942','NYPCAF000989-1':'9/16/1942',\n",
    "                 'NYPCAF000989':'9/16/1942'}\n",
    "\n",
    "# Lowercase to match my master df\n",
    "updated_bdays  = dict((k.lower(), v.lower()) for k,v in updated_bdays.items())"
   ]
  },
  {
   "cell_type": "code",
   "execution_count": 25,
   "metadata": {},
   "outputs": [],
   "source": [
    "# Create list of keys from dictionary\n",
    "bday_keys = updated_bdays.keys()\n",
    "\n",
    "# Create list of values from dictionary\n",
    "bday_values = updated_bdays.values()"
   ]
  },
  {
   "cell_type": "code",
   "execution_count": 26,
   "metadata": {},
   "outputs": [],
   "source": [
    "# Grab indices of all policies that need an updated bday\n",
    "bday_indices = master[master['Policy Number'].isin(bday_keys)].index.to_list()\n",
    "\n",
    "# Create a new dictionary with indices and new birthdays\n",
    "bday_ind_dict = dict(zip(bday_indices, bday_values))\n",
    "\n",
    "# Replace birthdays using dictionary\n",
    "for key, value in bday_ind_dict.items():\n",
    "    master.loc[key, 'Date of Birth'] = value"
   ]
  },
  {
   "cell_type": "code",
   "execution_count": 27,
   "metadata": {},
   "outputs": [],
   "source": [
    "# Update the DOB year column\n",
    "year_list = []\n",
    "for n in master['Date of Birth']:\n",
    "    year_list.append(str(n)[6:10])\n",
    "\n",
    "# Create DOB year column\n",
    "master['DOB_year'] = year_list\n",
    "\n",
    "# Turn into numeric column\n",
    "master['DOB_year'] = pd.to_numeric(master['DOB_year'])"
   ]
  },
  {
   "cell_type": "code",
   "execution_count": 28,
   "metadata": {},
   "outputs": [],
   "source": [
    "# Drop all rows where DOB year is greater than 2000\n",
    "master.drop(master.loc[master['DOB_year'] > 2000].index, inplace=True)\n",
    "\n",
    "# Turn Date of Birth into date/time object\n",
    "master['Date of Birth'] = pd.to_datetime(master['Date of Birth'])"
   ]
  },
  {
   "cell_type": "code",
   "execution_count": 29,
   "metadata": {},
   "outputs": [
    {
     "data": {
      "text/plain": [
       "Policy Number                        object\n",
       "New/Renl/Endt/Canc/Flat              object\n",
       "Date of Birth                datetime64[ns]\n",
       "Married yes/no                       object\n",
       "Years Exp.                          float64\n",
       "Occupation                           object\n",
       "Mailing State                        object\n",
       "Policy Eff-Date                      object\n",
       "Endo Eff-Date                        object\n",
       "Policy/Endo Canc Eff-Date            object\n",
       "Builder                              object\n",
       "Year Built                          float64\n",
       "Construction                         object\n",
       "Length                              float64\n",
       "Hull Type                            object\n",
       "Hull Limit                           object\n",
       "Power Type                           object\n",
       "# Engines                           float64\n",
       "Mooring State                        object\n",
       "Mooring County                       object\n",
       "Mooring ZIP code                     object\n",
       "DOB_year                              int64\n",
       "dtype: object"
      ]
     },
     "execution_count": 29,
     "metadata": {},
     "output_type": "execute_result"
    }
   ],
   "source": [
    "master.dtypes"
   ]
  },
  {
   "cell_type": "markdown",
   "metadata": {},
   "source": [
    "### Clean Mooring State, County, and ZIP code"
   ]
  },
  {
   "cell_type": "markdown",
   "metadata": {},
   "source": [
    "**BELOW:** We knew the location of the boat could be very predictive of whether or not a boat may have a claim. However, there were a lot of issues with these columns. County had the least number of nulls so we tried to keep that column and fill in as many as possible. Our steps:<br>\n",
    "- Some columns had values for zip code but not county. We used the zip to look up the county and fill in values.\n",
    "- For boats in Mexico, the county and state columns were switched. We switched all of them.\n",
    "- For any remaining columns, we used the state column for the county column.\n",
    "- We dropped any remaining rows without a value in county (there were only 2)."
   ]
  },
  {
   "cell_type": "code",
   "execution_count": 30,
   "metadata": {},
   "outputs": [
    {
     "data": {
      "text/html": [
       "<div>\n",
       "<style scoped>\n",
       "    .dataframe tbody tr th:only-of-type {\n",
       "        vertical-align: middle;\n",
       "    }\n",
       "\n",
       "    .dataframe tbody tr th {\n",
       "        vertical-align: top;\n",
       "    }\n",
       "\n",
       "    .dataframe thead th {\n",
       "        text-align: right;\n",
       "    }\n",
       "</style>\n",
       "<table border=\"1\" class=\"dataframe\">\n",
       "  <thead>\n",
       "    <tr style=\"text-align: right;\">\n",
       "      <th></th>\n",
       "      <th>Policy Number</th>\n",
       "      <th>Mooring County</th>\n",
       "      <th>Mooring State</th>\n",
       "      <th>Mooring ZIP code</th>\n",
       "    </tr>\n",
       "  </thead>\n",
       "  <tbody>\n",
       "    <tr>\n",
       "      <th>25</th>\n",
       "      <td>nypcaf000338</td>\n",
       "      <td>NaN</td>\n",
       "      <td>bcs</td>\n",
       "      <td>23010</td>\n",
       "    </tr>\n",
       "    <tr>\n",
       "      <th>277</th>\n",
       "      <td>nypcaf000600</td>\n",
       "      <td>NaN</td>\n",
       "      <td>ca</td>\n",
       "      <td>94965</td>\n",
       "    </tr>\n",
       "    <tr>\n",
       "      <th>377</th>\n",
       "      <td>nypcaf000698</td>\n",
       "      <td>NaN</td>\n",
       "      <td>NaN</td>\n",
       "      <td>NaN</td>\n",
       "    </tr>\n",
       "    <tr>\n",
       "      <th>395</th>\n",
       "      <td>nypcaf000715</td>\n",
       "      <td>NaN</td>\n",
       "      <td>NaN</td>\n",
       "      <td>NaN</td>\n",
       "    </tr>\n",
       "    <tr>\n",
       "      <th>512</th>\n",
       "      <td>nypcaf000832</td>\n",
       "      <td>NaN</td>\n",
       "      <td>hi</td>\n",
       "      <td>96815</td>\n",
       "    </tr>\n",
       "    <tr>\n",
       "      <th>597</th>\n",
       "      <td>nypcaf000915</td>\n",
       "      <td>NaN</td>\n",
       "      <td>va</td>\n",
       "      <td>NaN</td>\n",
       "    </tr>\n",
       "    <tr>\n",
       "      <th>703</th>\n",
       "      <td>nypcaf001016</td>\n",
       "      <td>NaN</td>\n",
       "      <td>ga</td>\n",
       "      <td>31558</td>\n",
       "    </tr>\n",
       "    <tr>\n",
       "      <th>731</th>\n",
       "      <td>nypcaf001044</td>\n",
       "      <td>NaN</td>\n",
       "      <td>bc sur</td>\n",
       "      <td>23010</td>\n",
       "    </tr>\n",
       "    <tr>\n",
       "      <th>732</th>\n",
       "      <td>nypcaf001044</td>\n",
       "      <td>NaN</td>\n",
       "      <td>bc sur</td>\n",
       "      <td>23010</td>\n",
       "    </tr>\n",
       "    <tr>\n",
       "      <th>851</th>\n",
       "      <td>nypcaf001159</td>\n",
       "      <td>NaN</td>\n",
       "      <td>grenada</td>\n",
       "      <td>NaN</td>\n",
       "    </tr>\n",
       "    <tr>\n",
       "      <th>868</th>\n",
       "      <td>nypcaf001175</td>\n",
       "      <td>NaN</td>\n",
       "      <td>b.c.</td>\n",
       "      <td>von1g1</td>\n",
       "    </tr>\n",
       "    <tr>\n",
       "      <th>1313</th>\n",
       "      <td>nypcaf000579-1</td>\n",
       "      <td>NaN</td>\n",
       "      <td>ca</td>\n",
       "      <td>94063</td>\n",
       "    </tr>\n",
       "    <tr>\n",
       "      <th>1339</th>\n",
       "      <td>nypcaf000628-1</td>\n",
       "      <td>NaN</td>\n",
       "      <td>hi</td>\n",
       "      <td>96712</td>\n",
       "    </tr>\n",
       "    <tr>\n",
       "      <th>1366</th>\n",
       "      <td>nypcaf001467</td>\n",
       "      <td>NaN</td>\n",
       "      <td>bc</td>\n",
       "      <td>vgg3e7</td>\n",
       "    </tr>\n",
       "    <tr>\n",
       "      <th>1409</th>\n",
       "      <td>nypcaf001496</td>\n",
       "      <td>NaN</td>\n",
       "      <td>mx</td>\n",
       "      <td>NaN</td>\n",
       "    </tr>\n",
       "    <tr>\n",
       "      <th>1413</th>\n",
       "      <td>nypcaf001500</td>\n",
       "      <td>NaN</td>\n",
       "      <td>fl</td>\n",
       "      <td>33149</td>\n",
       "    </tr>\n",
       "    <tr>\n",
       "      <th>1521</th>\n",
       "      <td>nypcaf001563</td>\n",
       "      <td>NaN</td>\n",
       "      <td>tx</td>\n",
       "      <td>79373</td>\n",
       "    </tr>\n",
       "    <tr>\n",
       "      <th>1781</th>\n",
       "      <td>nypcaf001724</td>\n",
       "      <td>NaN</td>\n",
       "      <td>bc</td>\n",
       "      <td>22860</td>\n",
       "    </tr>\n",
       "    <tr>\n",
       "      <th>1867</th>\n",
       "      <td>nypcaf001767</td>\n",
       "      <td>NaN</td>\n",
       "      <td>fl</td>\n",
       "      <td>33050</td>\n",
       "    </tr>\n",
       "    <tr>\n",
       "      <th>2952</th>\n",
       "      <td>nypcaf002148</td>\n",
       "      <td>NaN</td>\n",
       "      <td>NaN</td>\n",
       "      <td>v6h3s4</td>\n",
       "    </tr>\n",
       "    <tr>\n",
       "      <th>3085</th>\n",
       "      <td>nypcaf002178</td>\n",
       "      <td>NaN</td>\n",
       "      <td>texas</td>\n",
       "      <td>NaN</td>\n",
       "    </tr>\n",
       "    <tr>\n",
       "      <th>4408</th>\n",
       "      <td>nypcaf001982-1</td>\n",
       "      <td>NaN</td>\n",
       "      <td>tobago</td>\n",
       "      <td>NaN</td>\n",
       "    </tr>\n",
       "    <tr>\n",
       "      <th>4428</th>\n",
       "      <td>nypcaf002021-1</td>\n",
       "      <td>NaN</td>\n",
       "      <td>sonora</td>\n",
       "      <td>NaN</td>\n",
       "    </tr>\n",
       "    <tr>\n",
       "      <th>5947</th>\n",
       "      <td>nypcaf002021-2</td>\n",
       "      <td>NaN</td>\n",
       "      <td>sonora</td>\n",
       "      <td>NaN</td>\n",
       "    </tr>\n",
       "    <tr>\n",
       "      <th>6105</th>\n",
       "      <td>nypcaf000915</td>\n",
       "      <td>NaN</td>\n",
       "      <td>va</td>\n",
       "      <td>NaN</td>\n",
       "    </tr>\n",
       "    <tr>\n",
       "      <th>6124</th>\n",
       "      <td>nypcaf001159</td>\n",
       "      <td>NaN</td>\n",
       "      <td>grenada</td>\n",
       "      <td>NaN</td>\n",
       "    </tr>\n",
       "    <tr>\n",
       "      <th>6281</th>\n",
       "      <td>nypcaf000628-1</td>\n",
       "      <td>NaN</td>\n",
       "      <td>hi</td>\n",
       "      <td>96712</td>\n",
       "    </tr>\n",
       "    <tr>\n",
       "      <th>7629</th>\n",
       "      <td>nypcaf000915</td>\n",
       "      <td>NaN</td>\n",
       "      <td>va</td>\n",
       "      <td>NaN</td>\n",
       "    </tr>\n",
       "  </tbody>\n",
       "</table>\n",
       "</div>"
      ],
      "text/plain": [
       "       Policy Number Mooring County Mooring State Mooring ZIP code\n",
       "25      nypcaf000338            NaN           bcs            23010\n",
       "277     nypcaf000600            NaN            ca            94965\n",
       "377     nypcaf000698            NaN           NaN              NaN\n",
       "395     nypcaf000715            NaN           NaN              NaN\n",
       "512     nypcaf000832            NaN            hi            96815\n",
       "597     nypcaf000915            NaN            va              NaN\n",
       "703     nypcaf001016            NaN            ga            31558\n",
       "731     nypcaf001044            NaN        bc sur            23010\n",
       "732     nypcaf001044            NaN        bc sur            23010\n",
       "851     nypcaf001159            NaN       grenada              NaN\n",
       "868     nypcaf001175            NaN          b.c.           von1g1\n",
       "1313  nypcaf000579-1            NaN            ca            94063\n",
       "1339  nypcaf000628-1            NaN            hi            96712\n",
       "1366    nypcaf001467            NaN            bc           vgg3e7\n",
       "1409    nypcaf001496            NaN            mx              NaN\n",
       "1413    nypcaf001500            NaN            fl            33149\n",
       "1521    nypcaf001563            NaN            tx            79373\n",
       "1781    nypcaf001724            NaN            bc            22860\n",
       "1867    nypcaf001767            NaN            fl            33050\n",
       "2952    nypcaf002148            NaN           NaN           v6h3s4\n",
       "3085    nypcaf002178            NaN         texas              NaN\n",
       "4408  nypcaf001982-1            NaN        tobago              NaN\n",
       "4428  nypcaf002021-1            NaN       sonora               NaN\n",
       "5947  nypcaf002021-2            NaN       sonora               NaN\n",
       "6105    nypcaf000915            NaN            va              NaN\n",
       "6124    nypcaf001159            NaN       grenada              NaN\n",
       "6281  nypcaf000628-1            NaN            hi            96712\n",
       "7629    nypcaf000915            NaN            va              NaN"
      ]
     },
     "execution_count": 30,
     "metadata": {},
     "output_type": "execute_result"
    }
   ],
   "source": [
    "# Check relationship between the 3 mooring locations and nulls\n",
    "master.loc[master['Mooring County'].isna(), ['Policy Number','Mooring County','Mooring State', 'Mooring ZIP code']]"
   ]
  },
  {
   "cell_type": "markdown",
   "metadata": {},
   "source": [
    "**For any column that had a zip code but no county, we looked them up manually and created a dictionary.**"
   ]
  },
  {
   "cell_type": "code",
   "execution_count": 31,
   "metadata": {},
   "outputs": [],
   "source": [
    "# Create dictionary by looking up zipcodes manually\n",
    "mooring_county_dict = {25: 'la paz', 277: 'marin', 512: 'honolulu', 703: 'camden', 731: 'la paz',\n",
    "                       732: 'la paz', 868: 'bowen island', 1313: 'san mateo', 1339: 'honolulu',\n",
    "                       1413: 'miami dade',1521: 'tahoka', 1781: 'ensenada', 1867: 'monroe', \n",
    "                       2952: 'vancouver', 6281: 'honolulu'}\n",
    "\n",
    "# Replace counties using dictionary\n",
    "for key, value in mooring_county_dict.items():\n",
    "    master.loc[key, 'Mooring County'] = value"
   ]
  },
  {
   "cell_type": "code",
   "execution_count": 32,
   "metadata": {},
   "outputs": [
    {
     "data": {
      "text/plain": [
       "'marin'"
      ]
     },
     "execution_count": 32,
     "metadata": {},
     "output_type": "execute_result"
    }
   ],
   "source": [
    "# Check that it worked\n",
    "master['Mooring County'][277]"
   ]
  },
  {
   "cell_type": "code",
   "execution_count": 33,
   "metadata": {},
   "outputs": [
    {
     "data": {
      "text/html": [
       "<div>\n",
       "<style scoped>\n",
       "    .dataframe tbody tr th:only-of-type {\n",
       "        vertical-align: middle;\n",
       "    }\n",
       "\n",
       "    .dataframe tbody tr th {\n",
       "        vertical-align: top;\n",
       "    }\n",
       "\n",
       "    .dataframe thead th {\n",
       "        text-align: right;\n",
       "    }\n",
       "</style>\n",
       "<table border=\"1\" class=\"dataframe\">\n",
       "  <thead>\n",
       "    <tr style=\"text-align: right;\">\n",
       "      <th></th>\n",
       "      <th>Policy Number</th>\n",
       "      <th>Mooring County</th>\n",
       "      <th>Mooring State</th>\n",
       "      <th>Mooring ZIP code</th>\n",
       "    </tr>\n",
       "  </thead>\n",
       "  <tbody>\n",
       "    <tr>\n",
       "      <th>377</th>\n",
       "      <td>nypcaf000698</td>\n",
       "      <td>NaN</td>\n",
       "      <td>NaN</td>\n",
       "      <td>NaN</td>\n",
       "    </tr>\n",
       "    <tr>\n",
       "      <th>395</th>\n",
       "      <td>nypcaf000715</td>\n",
       "      <td>NaN</td>\n",
       "      <td>NaN</td>\n",
       "      <td>NaN</td>\n",
       "    </tr>\n",
       "    <tr>\n",
       "      <th>597</th>\n",
       "      <td>nypcaf000915</td>\n",
       "      <td>NaN</td>\n",
       "      <td>va</td>\n",
       "      <td>NaN</td>\n",
       "    </tr>\n",
       "    <tr>\n",
       "      <th>851</th>\n",
       "      <td>nypcaf001159</td>\n",
       "      <td>NaN</td>\n",
       "      <td>grenada</td>\n",
       "      <td>NaN</td>\n",
       "    </tr>\n",
       "    <tr>\n",
       "      <th>1366</th>\n",
       "      <td>nypcaf001467</td>\n",
       "      <td>NaN</td>\n",
       "      <td>bc</td>\n",
       "      <td>vgg3e7</td>\n",
       "    </tr>\n",
       "    <tr>\n",
       "      <th>1409</th>\n",
       "      <td>nypcaf001496</td>\n",
       "      <td>NaN</td>\n",
       "      <td>mx</td>\n",
       "      <td>NaN</td>\n",
       "    </tr>\n",
       "    <tr>\n",
       "      <th>3085</th>\n",
       "      <td>nypcaf002178</td>\n",
       "      <td>NaN</td>\n",
       "      <td>texas</td>\n",
       "      <td>NaN</td>\n",
       "    </tr>\n",
       "    <tr>\n",
       "      <th>4408</th>\n",
       "      <td>nypcaf001982-1</td>\n",
       "      <td>NaN</td>\n",
       "      <td>tobago</td>\n",
       "      <td>NaN</td>\n",
       "    </tr>\n",
       "    <tr>\n",
       "      <th>4428</th>\n",
       "      <td>nypcaf002021-1</td>\n",
       "      <td>NaN</td>\n",
       "      <td>sonora</td>\n",
       "      <td>NaN</td>\n",
       "    </tr>\n",
       "    <tr>\n",
       "      <th>5947</th>\n",
       "      <td>nypcaf002021-2</td>\n",
       "      <td>NaN</td>\n",
       "      <td>sonora</td>\n",
       "      <td>NaN</td>\n",
       "    </tr>\n",
       "    <tr>\n",
       "      <th>6105</th>\n",
       "      <td>nypcaf000915</td>\n",
       "      <td>NaN</td>\n",
       "      <td>va</td>\n",
       "      <td>NaN</td>\n",
       "    </tr>\n",
       "    <tr>\n",
       "      <th>6124</th>\n",
       "      <td>nypcaf001159</td>\n",
       "      <td>NaN</td>\n",
       "      <td>grenada</td>\n",
       "      <td>NaN</td>\n",
       "    </tr>\n",
       "    <tr>\n",
       "      <th>7629</th>\n",
       "      <td>nypcaf000915</td>\n",
       "      <td>NaN</td>\n",
       "      <td>va</td>\n",
       "      <td>NaN</td>\n",
       "    </tr>\n",
       "  </tbody>\n",
       "</table>\n",
       "</div>"
      ],
      "text/plain": [
       "       Policy Number Mooring County Mooring State Mooring ZIP code\n",
       "377     nypcaf000698            NaN           NaN              NaN\n",
       "395     nypcaf000715            NaN           NaN              NaN\n",
       "597     nypcaf000915            NaN            va              NaN\n",
       "851     nypcaf001159            NaN       grenada              NaN\n",
       "1366    nypcaf001467            NaN            bc           vgg3e7\n",
       "1409    nypcaf001496            NaN            mx              NaN\n",
       "3085    nypcaf002178            NaN         texas              NaN\n",
       "4408  nypcaf001982-1            NaN        tobago              NaN\n",
       "4428  nypcaf002021-1            NaN       sonora               NaN\n",
       "5947  nypcaf002021-2            NaN       sonora               NaN\n",
       "6105    nypcaf000915            NaN            va              NaN\n",
       "6124    nypcaf001159            NaN       grenada              NaN\n",
       "7629    nypcaf000915            NaN            va              NaN"
      ]
     },
     "execution_count": 33,
     "metadata": {},
     "output_type": "execute_result"
    }
   ],
   "source": [
    "# How many are left\n",
    "master.loc[master['Mooring County'].isna(), ['Policy Number','Mooring County','Mooring State', 'Mooring ZIP code']]"
   ]
  },
  {
   "cell_type": "markdown",
   "metadata": {},
   "source": [
    "**Looks like policies from Mexico have their county/state switched.**"
   ]
  },
  {
   "cell_type": "code",
   "execution_count": 34,
   "metadata": {},
   "outputs": [
    {
     "data": {
      "text/html": [
       "<div>\n",
       "<style scoped>\n",
       "    .dataframe tbody tr th:only-of-type {\n",
       "        vertical-align: middle;\n",
       "    }\n",
       "\n",
       "    .dataframe tbody tr th {\n",
       "        vertical-align: top;\n",
       "    }\n",
       "\n",
       "    .dataframe thead th {\n",
       "        text-align: right;\n",
       "    }\n",
       "</style>\n",
       "<table border=\"1\" class=\"dataframe\">\n",
       "  <thead>\n",
       "    <tr style=\"text-align: right;\">\n",
       "      <th></th>\n",
       "      <th>Mooring State</th>\n",
       "      <th>Mooring County</th>\n",
       "    </tr>\n",
       "  </thead>\n",
       "  <tbody>\n",
       "    <tr>\n",
       "      <th>0</th>\n",
       "      <td>nayarit</td>\n",
       "      <td>mexico</td>\n",
       "    </tr>\n",
       "    <tr>\n",
       "      <th>12</th>\n",
       "      <td>bcs</td>\n",
       "      <td>mexico</td>\n",
       "    </tr>\n",
       "    <tr>\n",
       "      <th>15</th>\n",
       "      <td>nayarit</td>\n",
       "      <td>mexico</td>\n",
       "    </tr>\n",
       "    <tr>\n",
       "      <th>16</th>\n",
       "      <td>sinaloa</td>\n",
       "      <td>mexico</td>\n",
       "    </tr>\n",
       "    <tr>\n",
       "      <th>23</th>\n",
       "      <td>nayarit</td>\n",
       "      <td>mexico</td>\n",
       "    </tr>\n",
       "    <tr>\n",
       "      <th>...</th>\n",
       "      <td>...</td>\n",
       "      <td>...</td>\n",
       "    </tr>\n",
       "    <tr>\n",
       "      <th>7602</th>\n",
       "      <td>bcs</td>\n",
       "      <td>mexico</td>\n",
       "    </tr>\n",
       "    <tr>\n",
       "      <th>7603</th>\n",
       "      <td>bcs</td>\n",
       "      <td>mexico</td>\n",
       "    </tr>\n",
       "    <tr>\n",
       "      <th>7610</th>\n",
       "      <td>bcs</td>\n",
       "      <td>mexico</td>\n",
       "    </tr>\n",
       "    <tr>\n",
       "      <th>7642</th>\n",
       "      <td>nayarit</td>\n",
       "      <td>mexico</td>\n",
       "    </tr>\n",
       "    <tr>\n",
       "      <th>7895</th>\n",
       "      <td>bcs</td>\n",
       "      <td>mexico</td>\n",
       "    </tr>\n",
       "  </tbody>\n",
       "</table>\n",
       "<p>994 rows × 2 columns</p>\n",
       "</div>"
      ],
      "text/plain": [
       "     Mooring State Mooring County\n",
       "0          nayarit         mexico\n",
       "12             bcs         mexico\n",
       "15         nayarit         mexico\n",
       "16         sinaloa         mexico\n",
       "23         nayarit         mexico\n",
       "...            ...            ...\n",
       "7602           bcs         mexico\n",
       "7603           bcs         mexico\n",
       "7610           bcs         mexico\n",
       "7642       nayarit         mexico\n",
       "7895           bcs         mexico\n",
       "\n",
       "[994 rows x 2 columns]"
      ]
     },
     "execution_count": 34,
     "metadata": {},
     "output_type": "execute_result"
    }
   ],
   "source": [
    "# Show me state and county for all rows where county = mexico \n",
    "master.loc[master['Mooring County'] == 'mexico', ['Mooring State', 'Mooring County']]"
   ]
  },
  {
   "cell_type": "code",
   "execution_count": 35,
   "metadata": {},
   "outputs": [
    {
     "data": {
      "text/html": [
       "<div>\n",
       "<style scoped>\n",
       "    .dataframe tbody tr th:only-of-type {\n",
       "        vertical-align: middle;\n",
       "    }\n",
       "\n",
       "    .dataframe tbody tr th {\n",
       "        vertical-align: top;\n",
       "    }\n",
       "\n",
       "    .dataframe thead th {\n",
       "        text-align: right;\n",
       "    }\n",
       "</style>\n",
       "<table border=\"1\" class=\"dataframe\">\n",
       "  <thead>\n",
       "    <tr style=\"text-align: right;\">\n",
       "      <th></th>\n",
       "      <th>Mooring State</th>\n",
       "      <th>Mooring County</th>\n",
       "    </tr>\n",
       "  </thead>\n",
       "  <tbody>\n",
       "    <tr>\n",
       "      <th>0</th>\n",
       "      <td>mexico</td>\n",
       "      <td>nayarit</td>\n",
       "    </tr>\n",
       "    <tr>\n",
       "      <th>12</th>\n",
       "      <td>mexico</td>\n",
       "      <td>bcs</td>\n",
       "    </tr>\n",
       "    <tr>\n",
       "      <th>15</th>\n",
       "      <td>mexico</td>\n",
       "      <td>nayarit</td>\n",
       "    </tr>\n",
       "    <tr>\n",
       "      <th>16</th>\n",
       "      <td>mexico</td>\n",
       "      <td>sinaloa</td>\n",
       "    </tr>\n",
       "    <tr>\n",
       "      <th>23</th>\n",
       "      <td>mexico</td>\n",
       "      <td>nayarit</td>\n",
       "    </tr>\n",
       "    <tr>\n",
       "      <th>...</th>\n",
       "      <td>...</td>\n",
       "      <td>...</td>\n",
       "    </tr>\n",
       "    <tr>\n",
       "      <th>7602</th>\n",
       "      <td>mexico</td>\n",
       "      <td>bcs</td>\n",
       "    </tr>\n",
       "    <tr>\n",
       "      <th>7603</th>\n",
       "      <td>mexico</td>\n",
       "      <td>bcs</td>\n",
       "    </tr>\n",
       "    <tr>\n",
       "      <th>7610</th>\n",
       "      <td>mexico</td>\n",
       "      <td>bcs</td>\n",
       "    </tr>\n",
       "    <tr>\n",
       "      <th>7642</th>\n",
       "      <td>mexico</td>\n",
       "      <td>nayarit</td>\n",
       "    </tr>\n",
       "    <tr>\n",
       "      <th>7895</th>\n",
       "      <td>mexico</td>\n",
       "      <td>bcs</td>\n",
       "    </tr>\n",
       "  </tbody>\n",
       "</table>\n",
       "<p>994 rows × 2 columns</p>\n",
       "</div>"
      ],
      "text/plain": [
       "     Mooring State Mooring County\n",
       "0           mexico        nayarit\n",
       "12          mexico            bcs\n",
       "15          mexico        nayarit\n",
       "16          mexico        sinaloa\n",
       "23          mexico        nayarit\n",
       "...            ...            ...\n",
       "7602        mexico            bcs\n",
       "7603        mexico            bcs\n",
       "7610        mexico            bcs\n",
       "7642        mexico        nayarit\n",
       "7895        mexico            bcs\n",
       "\n",
       "[994 rows x 2 columns]"
      ]
     },
     "execution_count": 35,
     "metadata": {},
     "output_type": "execute_result"
    }
   ],
   "source": [
    "# Switch values for county and mooring state if county = mexico\n",
    "# Ref: https://stackoverflow.com/questions/25792619/what-is-correct-syntax-to-swap-column-values-for-selected-rows-in-a-pandas-data\n",
    "master[['Mooring County','Mooring State']] = master[['Mooring State', 'Mooring County']].where(\n",
    "    master['Mooring County'] == 'mexico', master[['Mooring County','Mooring State']].values)\n",
    "\n",
    "# Check if these are now in Mooring State\n",
    "master.loc[(master['Mooring State'] == 'mexico'), ['Mooring State','Mooring County']]"
   ]
  },
  {
   "cell_type": "code",
   "execution_count": 36,
   "metadata": {},
   "outputs": [
    {
     "data": {
      "text/plain": [
       "fl                    1987\n",
       "ca                    1420\n",
       "mexico                 994\n",
       "wa                     236\n",
       "tx                     176\n",
       "                      ... \n",
       "south pacifc             1\n",
       "dominican republic       1\n",
       "rio dulce                1\n",
       "great abaco island       1\n",
       "fronteras                1\n",
       "Name: Mooring State, Length: 135, dtype: int64"
      ]
     },
     "execution_count": 36,
     "metadata": {},
     "output_type": "execute_result"
    }
   ],
   "source": [
    "master['Mooring State'].value_counts()"
   ]
  },
  {
   "cell_type": "code",
   "execution_count": 37,
   "metadata": {},
   "outputs": [
    {
     "data": {
      "text/plain": [
       "broward          394\n",
       "bcs              373\n",
       "los angeles      353\n",
       "orange           339\n",
       "san diego        334\n",
       "                ... \n",
       "hillsborough       1\n",
       "honolulu           1\n",
       "guererro           1\n",
       "hampton            1\n",
       "orange county      1\n",
       "Name: Mooring County, Length: 254, dtype: int64"
      ]
     },
     "execution_count": 37,
     "metadata": {},
     "output_type": "execute_result"
    }
   ],
   "source": [
    "master['Mooring County'].value_counts()"
   ]
  },
  {
   "cell_type": "code",
   "execution_count": 38,
   "metadata": {},
   "outputs": [
    {
     "data": {
      "text/plain": [
       "2"
      ]
     },
     "execution_count": 38,
     "metadata": {},
     "output_type": "execute_result"
    }
   ],
   "source": [
    "master['Mooring County'].fillna(master['Mooring State'],  inplace=True)\n",
    "master['Mooring County'].isna().sum()"
   ]
  },
  {
   "cell_type": "code",
   "execution_count": 39,
   "metadata": {},
   "outputs": [],
   "source": [
    "# Drop remaining rows where Mooring County is still null\n",
    "master.dropna(subset= ['Mooring County'], inplace=True)"
   ]
  },
  {
   "cell_type": "markdown",
   "metadata": {},
   "source": [
    "### Drop remaining rows in the 'master' dataframe with very few null values."
   ]
  },
  {
   "cell_type": "code",
   "execution_count": 40,
   "metadata": {},
   "outputs": [
    {
     "data": {
      "text/plain": [
       "Policy Number                   0\n",
       "New/Renl/Endt/Canc/Flat         0\n",
       "Date of Birth                   0\n",
       "Married yes/no                  0\n",
       "Years Exp.                      0\n",
       "Occupation                      0\n",
       "Mailing State                   0\n",
       "Policy Eff-Date                 0\n",
       "Endo Eff-Date                5023\n",
       "Policy/Endo Canc Eff-Date    5609\n",
       "Builder                         0\n",
       "Year Built                      0\n",
       "Construction                   68\n",
       "Length                          2\n",
       "Hull Type                       0\n",
       "Hull Limit                      0\n",
       "Power Type                      0\n",
       "# Engines                       0\n",
       "Mooring State                 110\n",
       "Mooring County                  0\n",
       "Mooring ZIP code             1445\n",
       "DOB_year                        0\n",
       "dtype: int64"
      ]
     },
     "execution_count": 40,
     "metadata": {},
     "output_type": "execute_result"
    }
   ],
   "source": [
    "master.isna().sum()"
   ]
  },
  {
   "cell_type": "code",
   "execution_count": 41,
   "metadata": {},
   "outputs": [],
   "source": [
    "master.dropna(subset= ['Length'], inplace = True)"
   ]
  },
  {
   "cell_type": "markdown",
   "metadata": {},
   "source": [
    "---"
   ]
  },
  {
   "cell_type": "markdown",
   "metadata": {},
   "source": [
    "## Cleaning for the Claims dataset"
   ]
  },
  {
   "cell_type": "code",
   "execution_count": 42,
   "metadata": {},
   "outputs": [
    {
     "data": {
      "text/html": [
       "<div>\n",
       "<style scoped>\n",
       "    .dataframe tbody tr th:only-of-type {\n",
       "        vertical-align: middle;\n",
       "    }\n",
       "\n",
       "    .dataframe tbody tr th {\n",
       "        vertical-align: top;\n",
       "    }\n",
       "\n",
       "    .dataframe thead th {\n",
       "        text-align: right;\n",
       "    }\n",
       "</style>\n",
       "<table border=\"1\" class=\"dataframe\">\n",
       "  <thead>\n",
       "    <tr style=\"text-align: right;\">\n",
       "      <th></th>\n",
       "      <th>Claim No.</th>\n",
       "      <th>Status</th>\n",
       "      <th>Insured name</th>\n",
       "      <th>Policy No.</th>\n",
       "      <th>Policy Eff-Date</th>\n",
       "      <th>Date of Ocurrence</th>\n",
       "      <th>Year</th>\n",
       "      <th>Length</th>\n",
       "      <th>Hull Value</th>\n",
       "      <th>Horsepower</th>\n",
       "      <th>...</th>\n",
       "      <th>Mooring State</th>\n",
       "      <th>Mooring County</th>\n",
       "      <th>Construction</th>\n",
       "      <th>Navigation Limits</th>\n",
       "      <th>Loss</th>\n",
       "      <th>Expense</th>\n",
       "      <th>Loss.1</th>\n",
       "      <th>Expense.1</th>\n",
       "      <th>To Date</th>\n",
       "      <th>Total Incurred</th>\n",
       "    </tr>\n",
       "  </thead>\n",
       "  <tbody>\n",
       "    <tr>\n",
       "      <th>0</th>\n",
       "      <td>1.54715.ma.107</td>\n",
       "      <td>open</td>\n",
       "      <td>brent cox</td>\n",
       "      <td>nypcaf001878-2</td>\n",
       "      <td>2020-04-04</td>\n",
       "      <td>2020-11-03</td>\n",
       "      <td>1995.0</td>\n",
       "      <td>54.0</td>\n",
       "      <td>580000.0</td>\n",
       "      <td>1640.0</td>\n",
       "      <td>...</td>\n",
       "      <td>al</td>\n",
       "      <td>baldwin</td>\n",
       "      <td>fiberglass</td>\n",
       "      <td>(d) u.s. atlantic and gulf - 1</td>\n",
       "      <td>1000.00</td>\n",
       "      <td>500.0</td>\n",
       "      <td>0.0</td>\n",
       "      <td>0.0</td>\n",
       "      <td>0.0</td>\n",
       "      <td>1500.00</td>\n",
       "    </tr>\n",
       "    <tr>\n",
       "      <th>1</th>\n",
       "      <td>1.54181.107.ma</td>\n",
       "      <td>closed</td>\n",
       "      <td>brent cox</td>\n",
       "      <td>nypcaf001878-2</td>\n",
       "      <td>2020-04-04</td>\n",
       "      <td>2020-10-15</td>\n",
       "      <td>1995.0</td>\n",
       "      <td>54.0</td>\n",
       "      <td>580000.0</td>\n",
       "      <td>1640.0</td>\n",
       "      <td>...</td>\n",
       "      <td>al</td>\n",
       "      <td>baldwin</td>\n",
       "      <td>fiberglass</td>\n",
       "      <td>(d) u.s. atlantic and gulf - 1</td>\n",
       "      <td>618.84</td>\n",
       "      <td>500.0</td>\n",
       "      <td>0.0</td>\n",
       "      <td>0.0</td>\n",
       "      <td>0.0</td>\n",
       "      <td>1118.84</td>\n",
       "    </tr>\n",
       "  </tbody>\n",
       "</table>\n",
       "<p>2 rows × 25 columns</p>\n",
       "</div>"
      ],
      "text/plain": [
       "        Claim No.  Status Insured name      Policy No. Policy Eff-Date  \\\n",
       "0  1.54715.ma.107    open    brent cox  nypcaf001878-2      2020-04-04   \n",
       "1  1.54181.107.ma  closed    brent cox  nypcaf001878-2      2020-04-04   \n",
       "\n",
       "  Date of Ocurrence    Year  Length  Hull Value  Horsepower  ...  \\\n",
       "0        2020-11-03  1995.0    54.0    580000.0      1640.0  ...   \n",
       "1        2020-10-15  1995.0    54.0    580000.0      1640.0  ...   \n",
       "\n",
       "  Mooring State Mooring County Construction               Navigation Limits  \\\n",
       "0            al        baldwin   fiberglass  (d) u.s. atlantic and gulf - 1   \n",
       "1            al        baldwin   fiberglass  (d) u.s. atlantic and gulf - 1   \n",
       "\n",
       "      Loss Expense Loss.1 Expense.1 To Date  Total Incurred  \n",
       "0  1000.00   500.0    0.0       0.0     0.0         1500.00  \n",
       "1   618.84   500.0    0.0       0.0     0.0         1118.84  \n",
       "\n",
       "[2 rows x 25 columns]"
      ]
     },
     "execution_count": 42,
     "metadata": {},
     "output_type": "execute_result"
    }
   ],
   "source": [
    "claims.head(2)"
   ]
  },
  {
   "cell_type": "markdown",
   "metadata": {},
   "source": [
    "**BELOW:** We decided to drop columns that would become redundant when merged with the master dataframe (like 'Policy Eff-Date'), unnecessary to our problem (like 'Total Incurred'), or would not have matching values from the master dataframe and therefore cause too many nulls in the merged dataset (like 'Navigation Limits')."
   ]
  },
  {
   "cell_type": "code",
   "execution_count": 43,
   "metadata": {},
   "outputs": [],
   "source": [
    "# Drop columns that won't be necessary for the model\n",
    "claims.drop(columns= ['Insured name', 'Policy Eff-Date', 'Power Type', 'Navigation Limits', 'Loss', 'Expense', \n",
    "                      'Loss.1', 'Expense.1', 'To Date', 'Total Incurred'], inplace = True)"
   ]
  },
  {
   "cell_type": "markdown",
   "metadata": {},
   "source": [
    "### Check which remaining columns are null and fill them in"
   ]
  },
  {
   "cell_type": "code",
   "execution_count": 44,
   "metadata": {},
   "outputs": [
    {
     "data": {
      "text/plain": [
       "Claim No.               0\n",
       "Status                  0\n",
       "Policy No.              0\n",
       "Date of Ocurrence       0\n",
       "Year                    0\n",
       "Length                  0\n",
       "Hull Value              0\n",
       "Horsepower              0\n",
       "Accident description    0\n",
       "Manufacturer            0\n",
       "Hull Type               0\n",
       "Fuel Type               0\n",
       "Mooring State           5\n",
       "Mooring County          1\n",
       "Construction            3\n",
       "dtype: int64"
      ]
     },
     "execution_count": 44,
     "metadata": {},
     "output_type": "execute_result"
    }
   ],
   "source": [
    "claims.isna().sum()"
   ]
  },
  {
   "cell_type": "markdown",
   "metadata": {},
   "source": [
    "### Fill in construction column"
   ]
  },
  {
   "cell_type": "code",
   "execution_count": 45,
   "metadata": {},
   "outputs": [
    {
     "data": {
      "text/html": [
       "<div>\n",
       "<style scoped>\n",
       "    .dataframe tbody tr th:only-of-type {\n",
       "        vertical-align: middle;\n",
       "    }\n",
       "\n",
       "    .dataframe tbody tr th {\n",
       "        vertical-align: top;\n",
       "    }\n",
       "\n",
       "    .dataframe thead th {\n",
       "        text-align: right;\n",
       "    }\n",
       "</style>\n",
       "<table border=\"1\" class=\"dataframe\">\n",
       "  <thead>\n",
       "    <tr style=\"text-align: right;\">\n",
       "      <th></th>\n",
       "      <th>Claim No.</th>\n",
       "      <th>Status</th>\n",
       "      <th>Policy No.</th>\n",
       "      <th>Date of Ocurrence</th>\n",
       "      <th>Year</th>\n",
       "      <th>Length</th>\n",
       "      <th>Hull Value</th>\n",
       "      <th>Horsepower</th>\n",
       "      <th>Accident description</th>\n",
       "      <th>Manufacturer</th>\n",
       "      <th>Hull Type</th>\n",
       "      <th>Fuel Type</th>\n",
       "      <th>Mooring State</th>\n",
       "      <th>Mooring County</th>\n",
       "      <th>Construction</th>\n",
       "    </tr>\n",
       "  </thead>\n",
       "  <tbody>\n",
       "    <tr>\n",
       "      <th>23</th>\n",
       "      <td>1.51611.107.ma</td>\n",
       "      <td>open</td>\n",
       "      <td>nypcaf001839-2</td>\n",
       "      <td>2020-05-19</td>\n",
       "      <td>2012.0</td>\n",
       "      <td>46.0</td>\n",
       "      <td>390000.0</td>\n",
       "      <td>108.0</td>\n",
       "      <td>lightning/electrical surge</td>\n",
       "      <td>robertson &amp; caine - leopard</td>\n",
       "      <td>multihull sail</td>\n",
       "      <td>diesel</td>\n",
       "      <td>bcn</td>\n",
       "      <td>mexico</td>\n",
       "      <td>NaN</td>\n",
       "    </tr>\n",
       "    <tr>\n",
       "      <th>104</th>\n",
       "      <td>1.45950.107.ma</td>\n",
       "      <td>closed</td>\n",
       "      <td>nypcaf001839</td>\n",
       "      <td>2019-07-23</td>\n",
       "      <td>2012.0</td>\n",
       "      <td>46.0</td>\n",
       "      <td>390000.0</td>\n",
       "      <td>108.0</td>\n",
       "      <td>lightning/electrical surge</td>\n",
       "      <td>robertson &amp; caine - leopard</td>\n",
       "      <td>multihull sail</td>\n",
       "      <td>diesel</td>\n",
       "      <td>fl</td>\n",
       "      <td>charlotte</td>\n",
       "      <td>NaN</td>\n",
       "    </tr>\n",
       "    <tr>\n",
       "      <th>176</th>\n",
       "      <td>1.42814.107.ma</td>\n",
       "      <td>closed</td>\n",
       "      <td>nypcaf001788</td>\n",
       "      <td>2018-11-25</td>\n",
       "      <td>2002.0</td>\n",
       "      <td>42.0</td>\n",
       "      <td>130000.0</td>\n",
       "      <td>56.0</td>\n",
       "      <td>theft / vandalism</td>\n",
       "      <td>beneteau</td>\n",
       "      <td>monohull sail</td>\n",
       "      <td>diesel</td>\n",
       "      <td>hi</td>\n",
       "      <td>honolulu</td>\n",
       "      <td>NaN</td>\n",
       "    </tr>\n",
       "  </tbody>\n",
       "</table>\n",
       "</div>"
      ],
      "text/plain": [
       "          Claim No.  Status      Policy No. Date of Ocurrence    Year  Length  \\\n",
       "23   1.51611.107.ma    open  nypcaf001839-2        2020-05-19  2012.0    46.0   \n",
       "104  1.45950.107.ma  closed    nypcaf001839        2019-07-23  2012.0    46.0   \n",
       "176  1.42814.107.ma  closed    nypcaf001788        2018-11-25  2002.0    42.0   \n",
       "\n",
       "     Hull Value  Horsepower        Accident description  \\\n",
       "23     390000.0       108.0  lightning/electrical surge   \n",
       "104    390000.0       108.0  lightning/electrical surge   \n",
       "176    130000.0        56.0           theft / vandalism   \n",
       "\n",
       "                    Manufacturer       Hull Type Fuel Type Mooring State  \\\n",
       "23   robertson & caine - leopard  multihull sail    diesel           bcn   \n",
       "104  robertson & caine - leopard  multihull sail    diesel            fl   \n",
       "176                     beneteau   monohull sail    diesel            hi   \n",
       "\n",
       "    Mooring County Construction  \n",
       "23          mexico          NaN  \n",
       "104      charlotte          NaN  \n",
       "176       honolulu          NaN  "
      ]
     },
     "execution_count": 45,
     "metadata": {},
     "output_type": "execute_result"
    }
   ],
   "source": [
    "claims[claims['Construction'].isna()]"
   ]
  },
  {
   "cell_type": "markdown",
   "metadata": {},
   "source": [
    "**BELOW:** Got the construction type for these boats with claims from the client."
   ]
  },
  {
   "cell_type": "code",
   "execution_count": 46,
   "metadata": {},
   "outputs": [],
   "source": [
    "# Update the main df with the correct construction types for boats with claims\n",
    "claims.loc[23, 'Construction'] = 'Fiberglass'\n",
    "claims.loc[104, 'Construction'] = 'Fiberglass'\n",
    "claims.loc[176, 'Construction'] = 'Fiberglass'"
   ]
  },
  {
   "cell_type": "markdown",
   "metadata": {},
   "source": [
    "### Fill in county column"
   ]
  },
  {
   "cell_type": "code",
   "execution_count": 47,
   "metadata": {},
   "outputs": [
    {
     "data": {
      "text/html": [
       "<div>\n",
       "<style scoped>\n",
       "    .dataframe tbody tr th:only-of-type {\n",
       "        vertical-align: middle;\n",
       "    }\n",
       "\n",
       "    .dataframe tbody tr th {\n",
       "        vertical-align: top;\n",
       "    }\n",
       "\n",
       "    .dataframe thead th {\n",
       "        text-align: right;\n",
       "    }\n",
       "</style>\n",
       "<table border=\"1\" class=\"dataframe\">\n",
       "  <thead>\n",
       "    <tr style=\"text-align: right;\">\n",
       "      <th></th>\n",
       "      <th>Mooring State</th>\n",
       "      <th>Mooring County</th>\n",
       "    </tr>\n",
       "  </thead>\n",
       "  <tbody>\n",
       "    <tr>\n",
       "      <th>158</th>\n",
       "      <td>NaN</td>\n",
       "      <td>med</td>\n",
       "    </tr>\n",
       "    <tr>\n",
       "      <th>213</th>\n",
       "      <td>NaN</td>\n",
       "      <td>med</td>\n",
       "    </tr>\n",
       "    <tr>\n",
       "      <th>262</th>\n",
       "      <td>NaN</td>\n",
       "      <td>panama</td>\n",
       "    </tr>\n",
       "    <tr>\n",
       "      <th>280</th>\n",
       "      <td>NaN</td>\n",
       "      <td>panama</td>\n",
       "    </tr>\n",
       "    <tr>\n",
       "      <th>370</th>\n",
       "      <td>NaN</td>\n",
       "      <td>NaN</td>\n",
       "    </tr>\n",
       "  </tbody>\n",
       "</table>\n",
       "</div>"
      ],
      "text/plain": [
       "    Mooring State Mooring County\n",
       "158           NaN            med\n",
       "213           NaN            med\n",
       "262           NaN         panama\n",
       "280           NaN         panama\n",
       "370           NaN            NaN"
      ]
     },
     "execution_count": 47,
     "metadata": {},
     "output_type": "execute_result"
    }
   ],
   "source": [
    "# Look at all the null states compared to their counties\n",
    "claims.loc[claims['Mooring State'].isna(), ['Mooring State', 'Mooring County']]"
   ]
  },
  {
   "cell_type": "code",
   "execution_count": 48,
   "metadata": {},
   "outputs": [
    {
     "data": {
      "text/html": [
       "<div>\n",
       "<style scoped>\n",
       "    .dataframe tbody tr th:only-of-type {\n",
       "        vertical-align: middle;\n",
       "    }\n",
       "\n",
       "    .dataframe tbody tr th {\n",
       "        vertical-align: top;\n",
       "    }\n",
       "\n",
       "    .dataframe thead th {\n",
       "        text-align: right;\n",
       "    }\n",
       "</style>\n",
       "<table border=\"1\" class=\"dataframe\">\n",
       "  <thead>\n",
       "    <tr style=\"text-align: right;\">\n",
       "      <th></th>\n",
       "      <th>Mooring State</th>\n",
       "      <th>Mooring County</th>\n",
       "    </tr>\n",
       "  </thead>\n",
       "  <tbody>\n",
       "    <tr>\n",
       "      <th>370</th>\n",
       "      <td>NaN</td>\n",
       "      <td>NaN</td>\n",
       "    </tr>\n",
       "  </tbody>\n",
       "</table>\n",
       "</div>"
      ],
      "text/plain": [
       "    Mooring State Mooring County\n",
       "370           NaN            NaN"
      ]
     },
     "execution_count": 48,
     "metadata": {},
     "output_type": "execute_result"
    }
   ],
   "source": [
    "# Fill null states with county values\n",
    "claims['Mooring State'].fillna(claims['Mooring County'],  inplace=True)\n",
    "claims.loc[claims['Mooring State'].isna(), ['Mooring State', 'Mooring County']]"
   ]
  },
  {
   "cell_type": "code",
   "execution_count": 49,
   "metadata": {},
   "outputs": [
    {
     "data": {
      "text/plain": [
       "Claim No.               0\n",
       "Status                  0\n",
       "Policy No.              0\n",
       "Date of Ocurrence       0\n",
       "Year                    0\n",
       "Length                  0\n",
       "Hull Value              0\n",
       "Horsepower              0\n",
       "Accident description    0\n",
       "Manufacturer            0\n",
       "Hull Type               0\n",
       "Fuel Type               0\n",
       "Mooring State           0\n",
       "Mooring County          0\n",
       "Construction            0\n",
       "dtype: int64"
      ]
     },
     "execution_count": 49,
     "metadata": {},
     "output_type": "execute_result"
    }
   ],
   "source": [
    "claims['Mooring State'].fillna('other', inplace=True)\n",
    "\n",
    "claims['Mooring County'].fillna('other', inplace=True)\n",
    "\n",
    "claims.isna().sum()"
   ]
  },
  {
   "cell_type": "markdown",
   "metadata": {},
   "source": [
    "### Create a column with number of claims per unique policy."
   ]
  },
  {
   "cell_type": "code",
   "execution_count": 50,
   "metadata": {},
   "outputs": [
    {
     "name": "stdout",
     "output_type": "stream",
     "text": [
      "31\n"
     ]
    },
    {
     "data": {
      "text/plain": [
       "nypcah001308-2    3\n",
       "nypcaf001167-1    3\n",
       "nypcaf002224      3\n",
       "nypcaf001715      3\n",
       "nypcaf000980      2\n",
       "nypcaf001330      2\n",
       "nypcaf001878-2    2\n",
       "nypcah001315      2\n",
       "nypcaf001777      2\n",
       "nypcaf000622      2\n",
       "nypcaf002064-1    2\n",
       "nypcaf000555      2\n",
       "nypcaf001531      2\n",
       "nypcaf000339      2\n",
       "nypcaf001288      2\n",
       "nypcah002283      2\n",
       "nypcaf002143-1    2\n",
       "nypcaf002689      2\n",
       "nypcaf001197      2\n",
       "nypcaf000625      2\n",
       "nypcaf000872      2\n",
       "nypcaf000676-1    2\n",
       "nypcaf000588      2\n",
       "nypcaf001180-1    2\n",
       "nypcaf000902      2\n",
       "nypcaf002323      2\n",
       "nypcaf002068      2\n",
       "nypcaf000651      2\n",
       "nypcaf001415      2\n",
       "nypcaf001430-1    2\n",
       "nypcaf000930      2\n",
       "Name: Policy No., dtype: int64"
      ]
     },
     "execution_count": 50,
     "metadata": {},
     "output_type": "execute_result"
    }
   ],
   "source": [
    "# Look at all policies with more than one claim\n",
    "\n",
    "repeat_pol_df = claims[claims.duplicated(subset= ['Policy No.'], keep=False)]\n",
    "print(len(repeat_pol_df['Policy No.'].value_counts()))\n",
    "repeat_pol_df['Policy No.'].value_counts()"
   ]
  },
  {
   "cell_type": "code",
   "execution_count": 51,
   "metadata": {},
   "outputs": [
    {
     "data": {
      "text/plain": [
       "2.0    54\n",
       "3.0    12\n",
       "Name: num_claims, dtype: int64"
      ]
     },
     "execution_count": 51,
     "metadata": {},
     "output_type": "execute_result"
    }
   ],
   "source": [
    "# Set the above series to a variable\n",
    "series = repeat_pol_df['Policy No.'].value_counts()\n",
    "\n",
    "# Turn the series into a dictionary\n",
    "repeat_claims_dict = series.to_dict() \n",
    "\n",
    "# Create number of claims column per policy number\n",
    "# Ref https://stackoverflow.com/questions/51881503/python-pandas-assign-a-dictionary-value-to-a-dataframe-column-based-on-dictionar\n",
    "claims['num_claims'] = claims['Policy No.'].apply(lambda x: repeat_claims_dict.get(x))\n",
    "\n",
    "claims['num_claims'].value_counts()"
   ]
  },
  {
   "cell_type": "code",
   "execution_count": 52,
   "metadata": {},
   "outputs": [
    {
     "data": {
      "text/plain": [
       "1.0    343\n",
       "2.0     54\n",
       "3.0     12\n",
       "Name: num_claims, dtype: int64"
      ]
     },
     "execution_count": 52,
     "metadata": {},
     "output_type": "execute_result"
    }
   ],
   "source": [
    "# Fill na columns with 1 for having only 1 claim\n",
    "claims['num_claims'] = claims['num_claims'].fillna(1)\n",
    "\n",
    "claims['num_claims'].value_counts()"
   ]
  },
  {
   "cell_type": "code",
   "execution_count": 53,
   "metadata": {},
   "outputs": [
    {
     "data": {
      "text/plain": [
       "Index(['Claim No.', 'Status', 'Policy No.', 'Date of Ocurrence', 'Year',\n",
       "       'Length', 'Hull Value', 'Horsepower', 'Accident description',\n",
       "       'Manufacturer', 'Hull Type', 'Fuel Type', 'Mooring State',\n",
       "       'Mooring County', 'Construction', 'num_claims'],\n",
       "      dtype='object')"
      ]
     },
     "execution_count": 53,
     "metadata": {},
     "output_type": "execute_result"
    }
   ],
   "source": [
    "claims.columns"
   ]
  },
  {
   "cell_type": "code",
   "execution_count": 54,
   "metadata": {},
   "outputs": [
    {
     "data": {
      "text/plain": [
       "Index(['Policy Number', 'New/Renl/Endt/Canc/Flat', 'Date of Birth',\n",
       "       'Married yes/no', 'Years Exp.', 'Occupation', 'Mailing State',\n",
       "       'Policy Eff-Date', 'Endo Eff-Date', 'Policy/Endo Canc Eff-Date',\n",
       "       'Builder', 'Year Built', 'Construction', 'Length', 'Hull Type',\n",
       "       'Hull Limit', 'Power Type', '# Engines', 'Mooring State',\n",
       "       'Mooring County', 'Mooring ZIP code', 'DOB_year'],\n",
       "      dtype='object')"
      ]
     },
     "execution_count": 54,
     "metadata": {},
     "output_type": "execute_result"
    }
   ],
   "source": [
    "master.columns"
   ]
  },
  {
   "cell_type": "code",
   "execution_count": 55,
   "metadata": {},
   "outputs": [],
   "source": [
    "# Now drop any columns that will be repeats from the master df\n",
    "claims.drop(columns= ['Length', 'Manufacturer', 'Mooring State', 'Mooring County', 'Construction', \n",
    "                      'Hull Value', 'Horsepower', 'Accident description','Manufacturer', 'Hull Type',\n",
    "                      'Fuel Type', 'Claim No.','Status', 'Date of Ocurrence', 'Year'], inplace = True)"
   ]
  },
  {
   "cell_type": "markdown",
   "metadata": {},
   "source": [
    "---"
   ]
  },
  {
   "cell_type": "markdown",
   "metadata": {},
   "source": [
    "## Merge dataframes"
   ]
  },
  {
   "cell_type": "code",
   "execution_count": 56,
   "metadata": {},
   "outputs": [],
   "source": [
    "# Rename column we will use to merge\n",
    "claims = claims.rename(columns={'Policy No.':'Policy Number'})"
   ]
  },
  {
   "cell_type": "code",
   "execution_count": 57,
   "metadata": {},
   "outputs": [
    {
     "data": {
      "text/html": [
       "<div>\n",
       "<style scoped>\n",
       "    .dataframe tbody tr th:only-of-type {\n",
       "        vertical-align: middle;\n",
       "    }\n",
       "\n",
       "    .dataframe tbody tr th {\n",
       "        vertical-align: top;\n",
       "    }\n",
       "\n",
       "    .dataframe thead th {\n",
       "        text-align: right;\n",
       "    }\n",
       "</style>\n",
       "<table border=\"1\" class=\"dataframe\">\n",
       "  <thead>\n",
       "    <tr style=\"text-align: right;\">\n",
       "      <th></th>\n",
       "      <th>Policy Number</th>\n",
       "      <th>New/Renl/Endt/Canc/Flat</th>\n",
       "      <th>Date of Birth</th>\n",
       "      <th>Married yes/no</th>\n",
       "      <th>Years Exp.</th>\n",
       "      <th>Occupation</th>\n",
       "      <th>Mailing State</th>\n",
       "      <th>Policy Eff-Date</th>\n",
       "      <th>Endo Eff-Date</th>\n",
       "      <th>Policy/Endo Canc Eff-Date</th>\n",
       "      <th>...</th>\n",
       "      <th>Length</th>\n",
       "      <th>Hull Type</th>\n",
       "      <th>Hull Limit</th>\n",
       "      <th>Power Type</th>\n",
       "      <th># Engines</th>\n",
       "      <th>Mooring State</th>\n",
       "      <th>Mooring County</th>\n",
       "      <th>Mooring ZIP code</th>\n",
       "      <th>DOB_year</th>\n",
       "      <th>num_claims</th>\n",
       "    </tr>\n",
       "  </thead>\n",
       "  <tbody>\n",
       "    <tr>\n",
       "      <th>0</th>\n",
       "      <td>nypcaf000314</td>\n",
       "      <td>new</td>\n",
       "      <td>1948-05-09</td>\n",
       "      <td>no</td>\n",
       "      <td>2.0</td>\n",
       "      <td>other</td>\n",
       "      <td>california</td>\n",
       "      <td>03/31/2016</td>\n",
       "      <td>NaN</td>\n",
       "      <td>NaN</td>\n",
       "      <td>...</td>\n",
       "      <td>63.0</td>\n",
       "      <td>multihull sail</td>\n",
       "      <td>$ 500,000.00</td>\n",
       "      <td>inboard</td>\n",
       "      <td>2.0</td>\n",
       "      <td>mexico</td>\n",
       "      <td>nayarit</td>\n",
       "      <td>NaN</td>\n",
       "      <td>1948</td>\n",
       "      <td>NaN</td>\n",
       "    </tr>\n",
       "    <tr>\n",
       "      <th>1</th>\n",
       "      <td>nypcaf000315</td>\n",
       "      <td>new</td>\n",
       "      <td>1952-10-08</td>\n",
       "      <td>not reported</td>\n",
       "      <td>22.0</td>\n",
       "      <td>other</td>\n",
       "      <td>california</td>\n",
       "      <td>03/18/2016</td>\n",
       "      <td>NaN</td>\n",
       "      <td>NaN</td>\n",
       "      <td>...</td>\n",
       "      <td>61.0</td>\n",
       "      <td>sportfisher</td>\n",
       "      <td>$ 1,275,000.00</td>\n",
       "      <td>inboard</td>\n",
       "      <td>2.0</td>\n",
       "      <td>ca</td>\n",
       "      <td>los angeles</td>\n",
       "      <td>90803</td>\n",
       "      <td>1952</td>\n",
       "      <td>NaN</td>\n",
       "    </tr>\n",
       "    <tr>\n",
       "      <th>2</th>\n",
       "      <td>nypcaf000318</td>\n",
       "      <td>new</td>\n",
       "      <td>1943-09-30</td>\n",
       "      <td>yes</td>\n",
       "      <td>30.0</td>\n",
       "      <td>not reported</td>\n",
       "      <td>california</td>\n",
       "      <td>03/30/2016</td>\n",
       "      <td>NaN</td>\n",
       "      <td>NaN</td>\n",
       "      <td>...</td>\n",
       "      <td>48.0</td>\n",
       "      <td>motoryacht</td>\n",
       "      <td>$ 400,000.00</td>\n",
       "      <td>inboard</td>\n",
       "      <td>2.0</td>\n",
       "      <td>ca</td>\n",
       "      <td>los angeles</td>\n",
       "      <td>90803</td>\n",
       "      <td>1943</td>\n",
       "      <td>NaN</td>\n",
       "    </tr>\n",
       "    <tr>\n",
       "      <th>3</th>\n",
       "      <td>nypcaf000319</td>\n",
       "      <td>new</td>\n",
       "      <td>1977-04-25</td>\n",
       "      <td>not reported</td>\n",
       "      <td>20.0</td>\n",
       "      <td>not reported</td>\n",
       "      <td>california</td>\n",
       "      <td>03/30/2016</td>\n",
       "      <td>NaN</td>\n",
       "      <td>NaN</td>\n",
       "      <td>...</td>\n",
       "      <td>32.0</td>\n",
       "      <td>motoryacht</td>\n",
       "      <td>$ 35,000.00</td>\n",
       "      <td>inboard</td>\n",
       "      <td>0.0</td>\n",
       "      <td>ca</td>\n",
       "      <td>los angeles</td>\n",
       "      <td>90802</td>\n",
       "      <td>1977</td>\n",
       "      <td>NaN</td>\n",
       "    </tr>\n",
       "    <tr>\n",
       "      <th>4</th>\n",
       "      <td>nypcaf000320</td>\n",
       "      <td>new</td>\n",
       "      <td>1951-06-28</td>\n",
       "      <td>no</td>\n",
       "      <td>30.0</td>\n",
       "      <td>not reported</td>\n",
       "      <td>california</td>\n",
       "      <td>04/02/2016</td>\n",
       "      <td>NaN</td>\n",
       "      <td>NaN</td>\n",
       "      <td>...</td>\n",
       "      <td>43.0</td>\n",
       "      <td>monohull sail</td>\n",
       "      <td>$ 200,000.00</td>\n",
       "      <td>inboard</td>\n",
       "      <td>1.0</td>\n",
       "      <td>ca</td>\n",
       "      <td>los angeles</td>\n",
       "      <td>90803</td>\n",
       "      <td>1951</td>\n",
       "      <td>NaN</td>\n",
       "    </tr>\n",
       "  </tbody>\n",
       "</table>\n",
       "<p>5 rows × 23 columns</p>\n",
       "</div>"
      ],
      "text/plain": [
       "  Policy Number New/Renl/Endt/Canc/Flat Date of Birth Married yes/no  \\\n",
       "0  nypcaf000314                     new    1948-05-09             no   \n",
       "1  nypcaf000315                     new    1952-10-08   not reported   \n",
       "2  nypcaf000318                     new    1943-09-30            yes   \n",
       "3  nypcaf000319                     new    1977-04-25   not reported   \n",
       "4  nypcaf000320                     new    1951-06-28             no   \n",
       "\n",
       "   Years Exp.    Occupation Mailing State Policy Eff-Date Endo Eff-Date  \\\n",
       "0         2.0         other    california      03/31/2016           NaN   \n",
       "1        22.0         other    california      03/18/2016           NaN   \n",
       "2        30.0  not reported    california      03/30/2016           NaN   \n",
       "3        20.0  not reported    california      03/30/2016           NaN   \n",
       "4        30.0  not reported    california      04/02/2016           NaN   \n",
       "\n",
       "  Policy/Endo Canc Eff-Date  ... Length       Hull Type        Hull Limit  \\\n",
       "0                       NaN  ...   63.0  multihull sail     $ 500,000.00    \n",
       "1                       NaN  ...   61.0     sportfisher   $ 1,275,000.00    \n",
       "2                       NaN  ...   48.0      motoryacht     $ 400,000.00    \n",
       "3                       NaN  ...   32.0      motoryacht      $ 35,000.00    \n",
       "4                       NaN  ...   43.0   monohull sail     $ 200,000.00    \n",
       "\n",
       "   Power Type # Engines Mooring State Mooring County  Mooring ZIP code  \\\n",
       "0     inboard       2.0        mexico        nayarit               NaN   \n",
       "1     inboard       2.0            ca    los angeles             90803   \n",
       "2     inboard       2.0            ca    los angeles             90803   \n",
       "3     inboard       0.0            ca    los angeles             90802   \n",
       "4     inboard       1.0            ca    los angeles             90803   \n",
       "\n",
       "  DOB_year num_claims  \n",
       "0     1948        NaN  \n",
       "1     1952        NaN  \n",
       "2     1943        NaN  \n",
       "3     1977        NaN  \n",
       "4     1951        NaN  \n",
       "\n",
       "[5 rows x 23 columns]"
      ]
     },
     "execution_count": 57,
     "metadata": {},
     "output_type": "execute_result"
    }
   ],
   "source": [
    "combined = pd.merge(master, claims, on='Policy Number', how='left')\n",
    "combined.head()"
   ]
  },
  {
   "cell_type": "markdown",
   "metadata": {},
   "source": [
    "## Save and export dataframe"
   ]
  },
  {
   "cell_type": "code",
   "execution_count": 58,
   "metadata": {},
   "outputs": [],
   "source": [
    "combined.to_csv('../datasets/combined.csv', index= False)"
   ]
  },
  {
   "cell_type": "markdown",
   "metadata": {},
   "source": [
    "---\n",
    "## Conclusion:"
   ]
  },
  {
   "cell_type": "markdown",
   "metadata": {},
   "source": [
    "In this notebook we cleaned both datasets separately with 3 main things in mind:<br>\n",
    "1. Keep as much data as possible, especially from the claims dataset.\n",
    "2. What columns are necessary to clean and retain for the eventual merge of the two datasets.\n",
    "3. What columns are most important for predicting whether or not a boat will have claims."
   ]
  },
  {
   "cell_type": "markdown",
   "metadata": {},
   "source": [
    "## Next Notebook:"
   ]
  },
  {
   "cell_type": "markdown",
   "metadata": {},
   "source": [
    "In the following notebook, *02_Model_Preprocessing*, we will get the now merged dataframe ready for modeling. We will do this through a combination of cleaning, feature engineering, and exploratory data analysis to understand whch features to keep or drop."
   ]
  }
 ],
 "metadata": {
  "kernelspec": {
   "display_name": "Python 3",
   "language": "python",
   "name": "python3"
  },
  "language_info": {
   "codemirror_mode": {
    "name": "ipython",
    "version": 3
   },
   "file_extension": ".py",
   "mimetype": "text/x-python",
   "name": "python",
   "nbconvert_exporter": "python",
   "pygments_lexer": "ipython3",
   "version": "3.8.3"
  }
 },
 "nbformat": 4,
 "nbformat_minor": 4
}
